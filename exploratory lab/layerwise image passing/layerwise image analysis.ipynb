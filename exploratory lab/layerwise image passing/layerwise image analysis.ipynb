{
 "cells": [
  {
   "cell_type": "code",
   "execution_count": 14,
   "id": "a9e515b6",
   "metadata": {},
   "outputs": [],
   "source": [
    "from PIL import Image\n",
    "from pathlib import Path\n",
    "\n",
    "import numpy as np\n",
    "import matplotlib.pyplot as plt\n",
    "\n",
    "import torch\n",
    "from torch.utils.data import Dataset, DataLoader\n",
    "from torch import nn, optim\n",
    "from torchvision.transforms import Compose, ToTensor\n",
    "\n",
    "plt.style.use(\"dark_background\")"
   ]
  },
  {
   "cell_type": "code",
   "execution_count": 2,
   "id": "30e1e9c6",
   "metadata": {},
   "outputs": [],
   "source": [
    "def rgb_to_hexint_image(rgb_image):\n",
    "    \"\"\"\n",
    "    Converts an RGB image (H, W, 3) to a 2D image (H, W) with integer hex values.\n",
    "    Example: [255, 0, 170] → 0xFF00AA → 16711850\n",
    "    \"\"\"\n",
    "    r = rgb_image[:, :, 0].astype(np.uint32)\n",
    "    g = rgb_image[:, :, 1].astype(np.uint32)\n",
    "    b = rgb_image[:, :, 2].astype(np.uint32)\n",
    "    hexint_image = (r << 16) + (g << 8) + b\n",
    "    return hexint_image\n",
    "\n",
    "\n",
    "def hexint_to_rgb_image(hexint_image):\n",
    "    \"\"\"\n",
    "    Converts a 2D image (H, W) with integer hex values back to an RGB image (H, W, 3).\n",
    "    Example: 16711850 → [255, 0, 170]\n",
    "    \"\"\"\n",
    "    r = (hexint_image >> 16) & 0xFF\n",
    "    g = (hexint_image >> 8) & 0xFF\n",
    "    b = hexint_image & 0xFF\n",
    "    rgb_image = np.stack([r, g, b], axis=-1).astype(np.uint8)\n",
    "    return rgb_image"
   ]
  },
  {
   "cell_type": "code",
   "execution_count": 3,
   "id": "9b5d5bf1",
   "metadata": {},
   "outputs": [],
   "source": [
    "\n",
    "current_dir = Path(\".\")\n",
    "\n",
    "zeros_files = list(current_dir.glob(\"data/0/*\"))\n",
    "ones_files = list(current_dir.glob(\"data/1/*\"))\n",
    "\n",
    "zeros_labels = torch.zeros((len(zeros_files), 1))\n",
    "ones_labels = torch.ones((len(ones_files), 1))\n",
    "\n",
    "x = zeros_files + ones_files\n",
    "y = torch.vstack([zeros_labels, ones_labels])"
   ]
  },
  {
   "cell_type": "code",
   "execution_count": 4,
   "id": "bdf8b8b6",
   "metadata": {},
   "outputs": [],
   "source": [
    "HEIGHT, WIDTH, CHANNELS = DIMENSION = (100, 100, 3)\n",
    "\n",
    "transform = Compose([\n",
    "    Image.open,\n",
    "    np.array,\n",
    "    rgb_to_hexint_image,\n",
    "    ToTensor(),\n",
    "    torch.flatten,\n",
    "    lambda t: t.float(),\n",
    "])"
   ]
  },
  {
   "cell_type": "code",
   "execution_count": 5,
   "id": "b8533d69",
   "metadata": {},
   "outputs": [],
   "source": [
    "def de_transform(t):\n",
    "    a = t.numpy().astype(np.uint64)\n",
    "    a = a.reshape(HEIGHT, WIDTH)\n",
    "    a = hexint_to_rgb_image(a)\n",
    "    img = Image.fromarray(a)\n",
    "    return img"
   ]
  },
  {
   "cell_type": "code",
   "execution_count": 6,
   "id": "e742e174",
   "metadata": {},
   "outputs": [],
   "source": [
    "class MyDataset(Dataset):\n",
    "    def __init__(self, x, y, transform):\n",
    "        self.x = x\n",
    "        self.y = y\n",
    "        self.length = len(x)\n",
    "        self.transform = transform\n",
    "    \n",
    "    def __getitem__(self, index):\n",
    "        return (\n",
    "            self.transform(self.x[index]),\n",
    "            self.y[index],\n",
    "        )\n",
    "    \n",
    "    def __len__(self):\n",
    "        return self.length"
   ]
  },
  {
   "cell_type": "code",
   "execution_count": 9,
   "id": "f6662d18",
   "metadata": {},
   "outputs": [],
   "source": [
    "class Model(nn.Module):\n",
    "    def __init__(self, input_size):\n",
    "        super().__init__()\n",
    "        \n",
    "        self.l1 = nn.Linear(input_size, input_size)\n",
    "        self.l2 = nn.Linear(input_size, 1)\n",
    "        self.sigmoid = nn.Sigmoid()\n",
    "    \n",
    "    def forward(self, x):\n",
    "        output = self.l1(x)\n",
    "        output = torch.abs(output)\n",
    "        output = self.l2(output)\n",
    "        output = self.sigmoid(output)\n",
    "        return output\n",
    "    \n",
    "    def layering(self, x):\n",
    "        with torch.no_grad():\n",
    "            output = self.l1(x)\n",
    "            output = torch.abs(output)\n",
    "            return output\n",
    "        \n",
    "    def predict(self, x):\n",
    "        self.eval()\n",
    "        with torch.no_grad():\n",
    "            return self.forward(x)"
   ]
  },
  {
   "cell_type": "code",
   "execution_count": 10,
   "id": "e08ba85e",
   "metadata": {},
   "outputs": [],
   "source": [
    "dataset = MyDataset(x, y, transform)\n",
    "dataloader = DataLoader(dataset, shuffle=False)"
   ]
  },
  {
   "cell_type": "code",
   "execution_count": 12,
   "id": "4813713b",
   "metadata": {},
   "outputs": [
    {
     "name": "stdout",
     "output_type": "stream",
     "text": [
      "Epoch [1/1], Loss: 10000.0000\n"
     ]
    }
   ],
   "source": [
    "input_size = dataset[0][0].shape[0]\n",
    "model = Model(input_size)\n",
    "\n",
    "criterion = nn.BCELoss()\n",
    "optimizer = optim.SGD(model.parameters(), lr=0.01)\n",
    "\n",
    "losses = []\n",
    "epochs = 1\n",
    "\n",
    "for epoch in range(1, epochs + 1):\n",
    "    model.train()\n",
    "    batch_loss = 0\n",
    "    for x_batch, y_batch in dataloader:\n",
    "        output = model.forward(x_batch)\n",
    "        loss = criterion(output, y_batch)\n",
    "        \n",
    "        optimizer.zero_grad()\n",
    "        loss.backward()\n",
    "        optimizer.step()\n",
    "        \n",
    "        batch_loss += loss.item()\n",
    "    \n",
    "    batch_loss /= dataloader.batch_size\n",
    "    losses.append(batch_loss)\n",
    "        \n",
    "    if epoch % 1 == 0:\n",
    "        print(f\"Epoch [{epoch}/{epochs}], Loss: {batch_loss:.4f}\")"
   ]
  },
  {
   "cell_type": "code",
   "execution_count": 13,
   "id": "2ef89524",
   "metadata": {},
   "outputs": [
    {
     "data": {
      "text/plain": [
       "[<matplotlib.lines.Line2D at 0x1c841d9b410>]"
      ]
     },
     "execution_count": 13,
     "metadata": {},
     "output_type": "execute_result"
    },
    {
     "data": {
      "image/png": "[encoded data removed]",
      "text/plain": [
       "<Figure size 640x480 with 1 Axes>"
      ]
     },
     "metadata": {},
     "output_type": "display_data"
    }
   ],
   "source": [
    "plt.plot(losses)"
   ]
  },
  {
   "cell_type": "code",
   "execution_count": null,
   "id": "86597798",
   "metadata": {},
   "outputs": [],
   "source": []
  },
  {
   "cell_type": "code",
   "execution_count": null,
   "id": "0add7a8c",
   "metadata": {},
   "outputs": [],
   "source": [
    "hexint_to_rgb_image"
   ]
  }
 ],
 "metadata": {
  "kernelspec": {
   "display_name": "venv",
   "language": "python",
   "name": "python3"
  },
  "language_info": {
   "codemirror_mode": {
    "name": "ipython",
    "version": 3
   },
   "file_extension": ".py",
   "mimetype": "text/x-python",
   "name": "python",
   "nbconvert_exporter": "python",
   "pygments_lexer": "ipython3",
   "version": "3.11.4"
  }
 },
 "nbformat": 4,
 "nbformat_minor": 5
}
