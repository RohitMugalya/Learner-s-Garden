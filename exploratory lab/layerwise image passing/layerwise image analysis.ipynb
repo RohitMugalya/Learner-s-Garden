{
 "cells": [
  {
   "cell_type": "code",
   "execution_count": 1,
   "id": "a9e515b6",
   "metadata": {},
   "outputs": [],
   "source": [
    "from PIL import Image\n",
    "from pathlib import Path\n",
    "\n",
    "import numpy as np\n",
    "import matplotlib.pyplot as plt\n",
    "\n",
    "import torch\n",
    "from torch.utils.data import Dataset, DataLoader\n",
    "from torch import nn, optim\n",
    "from torchvision.transforms import Compose, ToTensor"
   ]
  },
  {
   "cell_type": "code",
   "execution_count": 2,
   "id": "30e1e9c6",
   "metadata": {},
   "outputs": [],
   "source": [
    "def rgb_to_hexint_image(rgb_image):\n",
    "    \"\"\"\n",
    "    Converts an RGB image (H, W, 3) to a 2D image (H, W) with integer hex values.\n",
    "    Example: [255, 0, 170] → 0xFF00AA → 16711850\n",
    "    \"\"\"\n",
    "    r = rgb_image[:, :, 0].astype(np.uint32)\n",
    "    g = rgb_image[:, :, 1].astype(np.uint32)\n",
    "    b = rgb_image[:, :, 2].astype(np.uint32)\n",
    "    hexint_image = (r << 16) + (g << 8) + b\n",
    "    return hexint_image\n",
    "\n",
    "\n",
    "def hexint_to_rgb_image(hexint_image):\n",
    "    \"\"\"\n",
    "    Converts a 2D image (H, W) with integer hex values back to an RGB image (H, W, 3).\n",
    "    Example: 16711850 → [255, 0, 170]\n",
    "    \"\"\"\n",
    "    r = (hexint_image >> 16) & 0xFF\n",
    "    g = (hexint_image >> 8) & 0xFF\n",
    "    b = hexint_image & 0xFF\n",
    "    rgb_image = np.stack([r, g, b], axis=-1).astype(np.uint8)\n",
    "    return rgb_image"
   ]
  },
  {
   "cell_type": "code",
   "execution_count": 7,
   "id": "bdf8b8b6",
   "metadata": {},
   "outputs": [],
   "source": [
    "transform = Compose([\n",
    "    Image.open,\n",
    "    np.array,\n",
    "    rgb_to_hexint_image,\n",
    "    ToTensor(),\n",
    "    torch.flatten,\n",
    "])"
   ]
  },
  {
   "cell_type": "code",
   "execution_count": 17,
   "id": "9b5d5bf1",
   "metadata": {},
   "outputs": [],
   "source": [
    "current_dir = Path(\".\")\n",
    "\n",
    "zeros_files = list(current_dir.glob(\"data/0/*\"))\n",
    "ones_files = list(current_dir.glob(\"data/1/*\"))"
   ]
  },
  {
   "cell_type": "code",
   "execution_count": null,
   "id": "2aa1bcfd",
   "metadata": {},
   "outputs": [],
   "source": []
  }
 ],
 "metadata": {
  "kernelspec": {
   "display_name": "venv",
   "language": "python",
   "name": "python3"
  },
  "language_info": {
   "codemirror_mode": {
    "name": "ipython",
    "version": 3
   },
   "file_extension": ".py",
   "mimetype": "text/x-python",
   "name": "python",
   "nbconvert_exporter": "python",
   "pygments_lexer": "ipython3",
   "version": "3.11.4"
  }
 },
 "nbformat": 4,
 "nbformat_minor": 5
}
