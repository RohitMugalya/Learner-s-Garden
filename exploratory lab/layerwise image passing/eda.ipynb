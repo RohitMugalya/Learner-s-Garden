{
 "cells": [
  {
   "cell_type": "code",
   "execution_count": 2,
   "id": "cd39a10e",
   "metadata": {},
   "outputs": [],
   "source": [
    "import numpy as np\n",
    "import matplotlib.pyplot as plt\n",
    "\n",
    "from PIL import Image\n",
    "\n",
    "plt.style.use(\"dark_background\")"
   ]
  },
  {
   "cell_type": "code",
   "execution_count": 28,
   "id": "1cdd1276",
   "metadata": {},
   "outputs": [],
   "source": [
    "import numpy as np\n",
    "\n",
    "def rgb_to_hexint_image(rgb_image):\n",
    "    \"\"\"\n",
    "    Converts an RGB image (H, W, 3) to a 2D image (H, W) with integer hex values.\n",
    "    Example: [255, 0, 170] → 0xFF00AA → 16711850\n",
    "    \"\"\"\n",
    "    r = rgb_image[:, :, 0].astype(np.uint32)\n",
    "    g = rgb_image[:, :, 1].astype(np.uint32)\n",
    "    b = rgb_image[:, :, 2].astype(np.uint32)\n",
    "    hexint_image = (r << 16) + (g << 8) + b\n",
    "    return hexint_image\n",
    "\n",
    "\n",
    "def hexint_to_rgb_image(hexint_image):\n",
    "    \"\"\"\n",
    "    Converts a 2D image (H, W) with integer hex values back to an RGB image (H, W, 3).\n",
    "    Example: 16711850 → [255, 0, 170]\n",
    "    \"\"\"\n",
    "    r = (hexint_image >> 16) & 0xFF\n",
    "    g = (hexint_image >> 8) & 0xFF\n",
    "    b = hexint_image & 0xFF\n",
    "    rgb_image = np.stack([r, g, b], axis=-1).astype(np.uint8)\n",
    "    return rgb_image"
   ]
  },
  {
   "cell_type": "code",
   "execution_count": 25,
   "id": "25463e9d",
   "metadata": {},
   "outputs": [],
   "source": [
    "def vertical_filter(image):\n",
    "    img_arr = np.array(image, dtype=np.float32)\n",
    "    \n",
    "    height, width, channels = img_arr.shape\n",
    "    for h in range(height):\n",
    "        for w in range(width - 1):\n",
    "            for c in range(channels):\n",
    "                img_arr[h, w, c] = abs(img_arr[h, w, c] - img_arr[h, w + 1, c])\n",
    "    \n",
    "    return img_arr.astype(np.uint8)\n",
    "\n",
    "\n",
    "def horizontal_filter(image):\n",
    "    img_arr = np.array(image, dtype=np.float32)\n",
    "    \n",
    "    height, width, channels = img_arr.shape\n",
    "    for h in range(height - 1):\n",
    "        for w in range(width):\n",
    "            for c in range(channels):\n",
    "                img_arr[h, w, c] = abs(img_arr[h, w, c] - img_arr[h + 1, w, c])\n",
    "    \n",
    "    return img_arr.astype(np.uint8)\n",
    "\n",
    "\n",
    "def plot_filters(image, show=False, ret=False):\n",
    "    vf = vertical_filter(image)\n",
    "    hf = horizontal_filter(image)\n",
    "    \n",
    "    if show:\n",
    "        Image.fromarray(vf).show()\n",
    "        Image.fromarray(hf).show()\n",
    "    \n",
    "    fig, (ax1, ax2) = plt.subplots(1, 2)\n",
    "\n",
    "    ax1.imshow(vf)\n",
    "    ax2.imshow(hf)\n",
    "    ax1.set_title(\"Vertical Filter\")\n",
    "    ax2.set_title(\"Horizontal Filter\")\n",
    "\n",
    "    fig.set_size_inches(9, 4)\n",
    "    plt.tight_layout()\n",
    "    \n",
    "    if ret:\n",
    "        return vf, hf"
   ]
  },
  {
   "cell_type": "code",
   "execution_count": 36,
   "id": "ad866aeb",
   "metadata": {},
   "outputs": [
    {
     "data": {
      "image/jpeg": "[encoded data removed]",
      "image/png": "[encoded data removed]",
      "text/plain": [
       "<PIL.PngImagePlugin.PngImageFile image mode=RGB size=100x100>"
      ]
     },
     "execution_count": 36,
     "metadata": {},
     "output_type": "execute_result"
    }
   ],
   "source": [
    "img = Image.open(\"data/0/0.png\")\n",
    "img"
   ]
  },
  {
   "cell_type": "code",
   "execution_count": 38,
   "id": "ae58e9a1",
   "metadata": {},
   "outputs": [],
   "source": [
    "vf_arr = vertical_filter(img)\n",
    "hf_arr = horizontal_filter(vf_arr)\n",
    "\n",
    "Image.fromarray(vf_arr).show()"
   ]
  },
  {
   "cell_type": "code",
   "execution_count": 17,
   "id": "685da60d",
   "metadata": {},
   "outputs": [
    {
     "data": {
      "text/plain": [
       "np.int8(-127)"
      ]
     },
     "execution_count": 17,
     "metadata": {},
     "output_type": "execute_result"
    }
   ],
   "source": [
    "vf_arr.min()"
   ]
  },
  {
   "cell_type": "code",
   "execution_count": 33,
   "id": "f89208f8",
   "metadata": {},
   "outputs": [
    {
     "data": {
      "text/plain": [
       "np.True_"
      ]
     },
     "execution_count": 33,
     "metadata": {},
     "output_type": "execute_result"
    }
   ],
   "source": [
    "arr = np.random.randint(0, 256, size=(5, 5, 3))\n",
    "\n",
    "np.equal(\n",
    "    hexint_to_rgb_image(rgb_to_hexint_image(arr)),\n",
    "    arr\n",
    ").all()"
   ]
  },
  {
   "cell_type": "code",
   "execution_count": null,
   "id": "2973af21",
   "metadata": {},
   "outputs": [],
   "source": []
  }
 ],
 "metadata": {
  "kernelspec": {
   "display_name": "venv",
   "language": "python",
   "name": "python3"
  },
  "language_info": {
   "codemirror_mode": {
    "name": "ipython",
    "version": 3
   },
   "file_extension": ".py",
   "mimetype": "text/x-python",
   "name": "python",
   "nbconvert_exporter": "python",
   "pygments_lexer": "ipython3",
   "version": "3.11.4"
  }
 },
 "nbformat": 4,
 "nbformat_minor": 5
}
