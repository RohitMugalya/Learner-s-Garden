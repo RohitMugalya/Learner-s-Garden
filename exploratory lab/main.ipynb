{
 "cells": [
  {
   "cell_type": "code",
   "execution_count": 1,
   "id": "ba016ea4",
   "metadata": {},
   "outputs": [],
   "source": [
    "from itertools import product, pairwise\n",
    "from collections import Counter\n",
    "\n",
    "import numpy as np\n",
    "import matplotlib.pyplot as plt\n",
    "import pandas as pd\n",
    "\n",
    "from sympy.stats import Die, P, independent\n",
    "from sympy import Eq, Mod\n",
    "\n",
    "plt.style.use(\"dark_background\")"
   ]
  },
  {
   "cell_type": "code",
   "execution_count": 2,
   "id": "b95e2f8d",
   "metadata": {},
   "outputs": [],
   "source": [
    "red = Die('Red', 6)\n",
    "blue = Die('blue', 6)"
   ]
  },
  {
   "cell_type": "code",
   "execution_count": 31,
   "id": "49a32168",
   "metadata": {},
   "outputs": [
    {
     "data": {
      "text/latex": [
       "$\\displaystyle 1$"
      ],
      "text/plain": [
       "1"
      ]
     },
     "execution_count": 31,
     "metadata": {},
     "output_type": "execute_result"
    }
   ],
   "source": [
    "event = Eq(Mod(red, 2), 0)\n",
    "evidence = Eq(Mod(red, 2), 0)\n",
    "\n",
    "bayes = P(event & evidence) / P(evidence)\n",
    "\n",
    "bayes"
   ]
  },
  {
   "cell_type": "code",
   "execution_count": null,
   "id": "c40f63db",
   "metadata": {},
   "outputs": [],
   "source": []
  }
 ],
 "metadata": {
  "kernelspec": {
   "display_name": "venv",
   "language": "python",
   "name": "python3"
  },
  "language_info": {
   "codemirror_mode": {
    "name": "ipython",
    "version": 3
   },
   "file_extension": ".py",
   "mimetype": "text/x-python",
   "name": "python",
   "nbconvert_exporter": "python",
   "pygments_lexer": "ipython3",
   "version": "3.11.4"
  }
 },
 "nbformat": 4,
 "nbformat_minor": 5
}
