{
 "cells": [
  {
   "cell_type": "code",
   "execution_count": 1,
   "id": "ba016ea4",
   "metadata": {},
   "outputs": [],
   "source": [
    "from itertools import product, pairwise\n",
    "from collections import Counter\n",
    "\n",
    "import numpy as np\n",
    "import matplotlib.pyplot as plt\n",
    "import pandas as pd\n",
    "\n",
    "from sympy.stats import Die, P, independent\n",
    "from sympy import Eq, Mod\n",
    "\n",
    "plt.style.use(\"dark_background\")"
   ]
  },
  {
   "cell_type": "code",
   "execution_count": 2,
   "id": "b95e2f8d",
   "metadata": {},
   "outputs": [],
   "source": [
    "red = Die('Red', 6)\n",
    "blue = Die('blue', 6)"
   ]
  },
  {
   "cell_type": "code",
   "execution_count": 16,
   "id": "c40f63db",
   "metadata": {},
   "outputs": [
    {
     "data": {
      "text/latex": [
       "$\\displaystyle \\frac{11}{36}$"
      ],
      "text/plain": [
       "11/36"
      ]
     },
     "execution_count": 16,
     "metadata": {},
     "output_type": "execute_result"
    }
   ],
   "source": [
    "P(Eq(red, 1)) + P(~Eq(red, 1) & Eq(blue, 1))"
   ]
  },
  {
   "cell_type": "code",
   "execution_count": null,
   "id": "9edf7a87",
   "metadata": {},
   "outputs": [],
   "source": []
  }
 ],
 "metadata": {
  "kernelspec": {
   "display_name": "venv",
   "language": "python",
   "name": "python3"
  },
  "language_info": {
   "codemirror_mode": {
    "name": "ipython",
    "version": 3
   },
   "file_extension": ".py",
   "mimetype": "text/x-python",
   "name": "python",
   "nbconvert_exporter": "python",
   "pygments_lexer": "ipython3",
   "version": "3.11.4"
  }
 },
 "nbformat": 4,
 "nbformat_minor": 5
}
