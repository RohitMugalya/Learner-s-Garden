{
 "cells": [
  {
   "cell_type": "code",
   "execution_count": 34,
   "id": "260d8704",
   "metadata": {},
   "outputs": [],
   "source": [
    "import numpy as np\n",
    "import matplotlib.pyplot as plt\n",
    "import seaborn as sns\n",
    "\n",
    "import torch\n",
    "from torch import nn, optim\n",
    "from torch.utils.data import Dataset, DataLoader, TensorDataset\n",
    "\n",
    "from torchmetrics.classification import MultilabelAccuracy, BinaryAccuracy\n",
    "\n",
    "\n",
    "plt.style.use(\"dark_background\")"
   ]
  },
  {
   "cell_type": "code",
   "execution_count": 38,
   "id": "10ed63bf",
   "metadata": {},
   "outputs": [],
   "source": [
    "dimension = height, width = 10, 10\n",
    "red_label = [1, 0, 0]\n",
    "green_label = [0, 1, 0]\n",
    "blue_label = [0, 0, 1]\n",
    "\n",
    "black_channel = np.zeros(dimension)\n",
    "white_channel = np.ones(dimension) * 255"
   ]
  },
  {
   "cell_type": "code",
   "execution_count": 37,
   "id": "298a264f",
   "metadata": {},
   "outputs": [],
   "source": [
    "red_image = np.array([white_channel, black_channel, black_channel])\n",
    "green_image = np.array([black_channel, white_channel, black_channel])\n",
    "blue_image = np.array([black_channel, black_channel, white_channel])"
   ]
  },
  {
   "cell_type": "code",
   "execution_count": 39,
   "id": "5edca46a",
   "metadata": {},
   "outputs": [
    {
     "name": "stdout",
     "output_type": "stream",
     "text": [
      "torch.Size([900, 3, 10, 10]) torch.float32\n",
      "torch.Size([900, 3]) torch.float32\n"
     ]
    }
   ],
   "source": [
    "n_samples = 300\n",
    "red_images = [red_image] * n_samples\n",
    "green_images = [green_image] * n_samples\n",
    "blue_images = [blue_image] * n_samples\n",
    "\n",
    "red_labels = [red_label] * n_samples\n",
    "green_labels = [green_label] * n_samples\n",
    "blue_labels = [blue_label] * n_samples\n",
    "\n",
    "images = torch.tensor(\n",
    "    np.vstack([red_images, green_images, blue_images]) / 255.0,\n",
    "    dtype=torch.float,\n",
    ")\n",
    "labels = torch.tensor(\n",
    "    np.vstack([red_labels, green_labels, blue_labels]),\n",
    "    dtype=torch.float,\n",
    ")\n",
    "\n",
    "print(images.shape, images.dtype)\n",
    "print(labels.shape, labels.dtype)\n",
    "\n",
    "dataset = TensorDataset(images, labels)"
   ]
  },
  {
   "cell_type": "code",
   "execution_count": 40,
   "id": "adcce0c2",
   "metadata": {},
   "outputs": [],
   "source": [
    "class RGBClassifier(nn.Module):\n",
    "    def __init__(self, dimension, n_channels=3):\n",
    "        super().__init__()\n",
    "        height, width = dimension\n",
    "        self.n_channels = n_channels\n",
    "        self.dimension = dimension\n",
    "        self.height = height\n",
    "        self.width = width\n",
    "        \n",
    "        self.model = nn.Sequential(\n",
    "            nn.Flatten(),\n",
    "            nn.Linear(n_channels * height * width, 3),\n",
    "            nn.Sigmoid(),\n",
    "        )\n",
    "    \n",
    "    def forward(self, X):\n",
    "        return self.model(X)\n",
    "    \n",
    "    def predict(self, X):\n",
    "        with torch.no_grad():\n",
    "            return self.model(X).detach()"
   ]
  },
  {
   "cell_type": "code",
   "execution_count": 56,
   "id": "44bdd49b",
   "metadata": {},
   "outputs": [
    {
     "name": "stdout",
     "output_type": "stream",
     "text": [
      "Epochs 1/20: Loss = 0.684061\n",
      "Epochs 2/20: Loss = 0.447273\n",
      "Epochs 3/20: Loss = 0.205787\n",
      "Epochs 4/20: Loss = 0.079797\n",
      "Epochs 5/20: Loss = 0.030593\n",
      "Epochs 6/20: Loss = 0.012431\n",
      "Epochs 7/20: Loss = 0.005460\n",
      "Epochs 8/20: Loss = 0.002595\n",
      "Epochs 9/20: Loss = 0.001328\n",
      "Epochs 10/20: Loss = 0.000727\n",
      "Epochs 11/20: Loss = 0.000424\n",
      "Epochs 12/20: Loss = 0.000261\n",
      "Epochs 13/20: Loss = 0.000169\n",
      "Epochs 14/20: Loss = 0.000114\n",
      "Epochs 15/20: Loss = 0.000080\n",
      "Epochs 16/20: Loss = 0.000058\n",
      "Epochs 17/20: Loss = 0.000044\n",
      "Epochs 18/20: Loss = 0.000034\n",
      "Epochs 19/20: Loss = 0.000027\n",
      "Epochs 20/20: Loss = 0.000022\n"
     ]
    },
    {
     "data": {
      "text/plain": [
       "[<matplotlib.lines.Line2D at 0x291f0a9b810>]"
      ]
     },
     "execution_count": 56,
     "metadata": {},
     "output_type": "execute_result"
    },
    {
     "data": {
      "image/png": "[encoded data removed]",
      "text/plain": [
       "<Figure size 640x480 with 1 Axes>"
      ]
     },
     "metadata": {},
     "output_type": "display_data"
    }
   ],
   "source": [
    "rgb_classifier = RGBClassifier(dimension)\n",
    "\n",
    "lr = 0.1\n",
    "epochs = 20\n",
    "batch_size = len(dataset)\n",
    "\n",
    "criterion = nn.BCELoss()\n",
    "optimizer = optim.SGD(rgb_classifier.parameters(), lr=lr, momentum=0.9)\n",
    "\n",
    "losses = []\n",
    "dataloader = DataLoader(dataset, batch_size=batch_size)\n",
    "for epoch in range(1, epochs + 1):\n",
    "    total_loss = 0\n",
    "    for X, y in dataloader:\n",
    "        yhat = rgb_classifier(X)\n",
    "        loss = criterion(yhat, y)\n",
    "        optimizer.zero_grad()\n",
    "        loss.backward()\n",
    "        optimizer.step()\n",
    "        \n",
    "        total_loss += loss.item()\n",
    "    total_loss /= len(dataloader)\n",
    "    \n",
    "    losses.append(total_loss)\n",
    "    print(f\"Epochs {epoch}/{epochs}: Loss = {total_loss:,.6f}\")\n",
    "    \n",
    "\n",
    "plt.plot(losses)"
   ]
  },
  {
   "cell_type": "code",
   "execution_count": 57,
   "id": "f70cd1c4",
   "metadata": {},
   "outputs": [
    {
     "name": "stdout",
     "output_type": "stream",
     "text": [
      "The accuracy is 100.00%\n"
     ]
    }
   ],
   "source": [
    "bce_metric = MultilabelAccuracy(num_labels=3, threshold=0.5)\n",
    "y_pred = rgb_classifier.predict(images)\n",
    "accuracy = bce_metric(y_pred, labels)\n",
    "print(f\"The accuracy is {accuracy:.2%}\")"
   ]
  },
  {
   "cell_type": "code",
   "execution_count": 58,
   "id": "91c707aa",
   "metadata": {},
   "outputs": [
    {
     "name": "stdout",
     "output_type": "stream",
     "text": [
      "tensor(10.2015)\n",
      "tensor(-11.4232)\n",
      "tensor(-10.7631)\n"
     ]
    }
   ],
   "source": [
    "weights = rgb_classifier.state_dict()['model.1.weight']\n",
    "neuron1 = weights[0].reshape(3, 10, 10)\n",
    "neuron2 = weights[1].reshape(3, 10, 10)\n",
    "neuron3 = weights[2].reshape(3, 10, 10)\n",
    "\n",
    "print((images[0] * neuron1).sum())\n",
    "print((images[0] * neuron2).sum())\n",
    "print((images[0] * neuron3).sum())"
   ]
  },
  {
   "cell_type": "code",
   "execution_count": 59,
   "id": "54cb77ee",
   "metadata": {},
   "outputs": [
    {
     "data": {
      "text/plain": [
       "<matplotlib.image.AxesImage at 0x291f08ef890>"
      ]
     },
     "execution_count": 59,
     "metadata": {},
     "output_type": "execute_result"
    },
    {
     "data": {
      "image/png": "[encoded data removed]",
      "text/plain": [
       "<Figure size 640x480 with 3 Axes>"
      ]
     },
     "metadata": {},
     "output_type": "display_data"
    }
   ],
   "source": [
    "fig, (ax0, ax1, ax2) = plt.subplots(nrows=1, ncols=3)\n",
    "\n",
    "ax0.imshow(torch.relu(neuron1[0]))\n",
    "ax1.imshow(torch.relu(neuron1[1]))\n",
    "ax2.imshow(torch.relu(neuron1[2]))"
   ]
  },
  {
   "cell_type": "code",
   "execution_count": 60,
   "id": "5e38f23c",
   "metadata": {},
   "outputs": [
    {
     "data": {
      "text/plain": [
       "<matplotlib.image.AxesImage at 0x291f0cf2d50>"
      ]
     },
     "execution_count": 60,
     "metadata": {},
     "output_type": "execute_result"
    },
    {
     "data": {
      "image/png": "[encoded data removed]",
      "text/plain": [
       "<Figure size 640x480 with 3 Axes>"
      ]
     },
     "metadata": {},
     "output_type": "display_data"
    }
   ],
   "source": [
    "fig, (ax0, ax1, ax2) = plt.subplots(nrows=1, ncols=3)\n",
    "\n",
    "ax0.imshow(torch.relu(neuron2[0]))\n",
    "ax1.imshow(torch.relu(neuron2[1]))\n",
    "ax2.imshow(torch.relu(neuron2[2]))"
   ]
  },
  {
   "cell_type": "code",
   "execution_count": 61,
   "id": "c25f5db3",
   "metadata": {},
   "outputs": [
    {
     "data": {
      "text/plain": [
       "<matplotlib.image.AxesImage at 0x291f1dbf810>"
      ]
     },
     "execution_count": 61,
     "metadata": {},
     "output_type": "execute_result"
    },
    {
     "data": {
      "image/png": "[encoded data removed]",
      "text/plain": [
       "<Figure size 640x480 with 3 Axes>"
      ]
     },
     "metadata": {},
     "output_type": "display_data"
    }
   ],
   "source": [
    "fig, (ax0, ax1, ax2) = plt.subplots(nrows=1, ncols=3)\n",
    "\n",
    "ax0.imshow(torch.relu(neuron3[0]))\n",
    "ax1.imshow(torch.relu(neuron3[1]))\n",
    "ax2.imshow(torch.relu(neuron3[2]))"
   ]
  },
  {
   "cell_type": "code",
   "execution_count": 84,
   "id": "34647ff1",
   "metadata": {},
   "outputs": [
    {
     "data": {
      "text/plain": [
       "tensor([[2.8134e-01, 9.5948e-11, 6.1135e-01]])"
      ]
     },
     "execution_count": 84,
     "metadata": {},
     "output_type": "execute_result"
    }
   ],
   "source": [
    "rgb_classifier.predict(\n",
    "    torch.tensor([[white_channel, black_channel, white_channel]], dtype=torch.float) / 255.0\n",
    ")"
   ]
  },
  {
   "cell_type": "code",
   "execution_count": null,
   "id": "c3ae6095",
   "metadata": {},
   "outputs": [],
   "source": []
  }
 ],
 "metadata": {
  "kernelspec": {
   "display_name": "venv",
   "language": "python",
   "name": "python3"
  },
  "language_info": {
   "codemirror_mode": {
    "name": "ipython",
    "version": 3
   },
   "file_extension": ".py",
   "mimetype": "text/x-python",
   "name": "python",
   "nbconvert_exporter": "python",
   "pygments_lexer": "ipython3",
   "version": "3.11.4"
  }
 },
 "nbformat": 4,
 "nbformat_minor": 5
}
