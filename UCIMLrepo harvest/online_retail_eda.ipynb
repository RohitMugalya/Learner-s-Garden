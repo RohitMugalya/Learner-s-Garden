{
 "cells": [
  {
   "cell_type": "markdown",
   "id": "1e37a465",
   "metadata": {},
   "source": [
    "## Online Retail Dataset [(source link)](https://archive.ics.uci.edu/dataset/352/online+retail)"
   ]
  },
  {
   "cell_type": "code",
   "execution_count": 1,
   "id": "db7d95df",
   "metadata": {},
   "outputs": [
    {
     "name": "stdout",
     "output_type": "stream",
     "text": [
      "{'uci_id': 352, 'name': 'Online Retail', 'repository_url': 'https://archive.ics.uci.edu/dataset/352/online+retail', 'data_url': 'https://archive.ics.uci.edu/static/public/352/data.csv', 'abstract': 'This is a transactional data set which contains all the transactions occurring between 01/12/2010 and 09/12/2011 for a UK-based and registered non-store online retail.', 'area': 'Business', 'tasks': ['Classification', 'Clustering'], 'characteristics': ['Multivariate', 'Sequential', 'Time-Series'], 'num_instances': 541909, 'num_features': 6, 'feature_types': ['Integer', 'Real'], 'demographics': [], 'target_col': None, 'index_col': ['InvoiceNo', 'StockCode'], 'has_missing_values': 'no', 'missing_values_symbol': None, 'year_of_dataset_creation': 2015, 'last_updated': 'Mon Oct 21 2024', 'dataset_doi': '10.24432/C5BW33', 'creators': ['Daqing Chen'], 'intro_paper': {'ID': 361, 'type': 'NATIVE', 'title': 'Data mining for the online retail industry: A case study of RFM model-based customer segmentation using data mining', 'authors': 'Daqing Chen, Sai Laing Sain, Kun Guo', 'venue': 'Journal of Database Marketing and Customer Strategy Management, Vol. 19, No. 3', 'year': 2012, 'journal': None, 'DOI': '10.1057/dbm.2012.17', 'URL': 'https://www.semanticscholar.org/paper/e43a5a90fa33d419df42e485099f8f08badf2149', 'sha': None, 'corpus': None, 'arxiv': None, 'mag': None, 'acl': None, 'pmid': None, 'pmcid': None}, 'additional_info': {'summary': 'This is a transactional data set which contains all the transactions occurring between 01/12/2010 and 09/12/2011 for a UK-based and registered non-store online retail.The company mainly sells unique all-occasion gifts. Many customers of the company are wholesalers.', 'purpose': None, 'funded_by': None, 'instances_represent': None, 'recommended_data_splits': None, 'sensitive_data': None, 'preprocessing_description': None, 'variable_info': \"InvoiceNo: Invoice number. Nominal, a 6-digit integral number uniquely assigned to each transaction. If this code starts with letter 'c', it indicates a cancellation. \\nStockCode: Product (item) code. Nominal, a 5-digit integral number uniquely assigned to each distinct product.\\nDescription: Product (item) name. Nominal.\\nQuantity: The quantities of each product (item) per transaction. Numeric.\\t\\nInvoiceDate: Invoice Date and time. Numeric, the day and time when each transaction was generated.\\nUnitPrice: Unit price. Numeric, Product price per unit in sterling.\\nCustomerID: Customer number. Nominal, a 5-digit integral number uniquely assigned to each customer.\\nCountry: Country name. Nominal, the name of the country where each customer resides. \", 'citation': None}}\n",
      "          name     role         type demographic  \\\n",
      "0    InvoiceNo       ID  Categorical        None   \n",
      "1    StockCode       ID  Categorical        None   \n",
      "2  Description  Feature  Categorical        None   \n",
      "3     Quantity  Feature      Integer        None   \n",
      "4  InvoiceDate  Feature         Date        None   \n",
      "5    UnitPrice  Feature   Continuous        None   \n",
      "6   CustomerID  Feature  Categorical        None   \n",
      "7      Country  Feature  Categorical        None   \n",
      "\n",
      "                                         description     units missing_values  \n",
      "0  a 6-digit integral number uniquely assigned to...      None             no  \n",
      "1  a 5-digit integral number uniquely assigned to...      None             no  \n",
      "2                                       product name      None             no  \n",
      "3  the quantities of each product (item) per tran...      None             no  \n",
      "4  the day and time when each transaction was gen...      None             no  \n",
      "5                             product price per unit  sterling             no  \n",
      "6  a 5-digit integral number uniquely assigned to...      None             no  \n",
      "7  the name of the country where each customer re...      None             no  \n"
     ]
    }
   ],
   "source": [
    "from ucimlrepo import fetch_ucirepo \n",
    "  \n",
    "# fetch dataset \n",
    "online_retail = fetch_ucirepo(id=352) \n",
    "  \n",
    "# data (as pandas dataframes) \n",
    "X = online_retail.data.features \n",
    "y = online_retail.data.targets \n",
    "  \n",
    "# metadata \n",
    "print(online_retail.metadata) \n",
    "  \n",
    "# variable information \n",
    "print(online_retail.variables) \n"
   ]
  },
  {
   "cell_type": "code",
   "execution_count": 103,
   "id": "38289e2f",
   "metadata": {},
   "outputs": [],
   "source": [
    "import numpy as np\n",
    "import pandas as pd\n",
    "import matplotlib.pyplot as plt\n",
    "import seaborn as sns\n",
    "import plotly.express as px\n",
    "import plotly.io as pio\n",
    "\n",
    "plt.style.use(\"dark_background\")\n",
    "pio.templates.default = \"plotly_dark\"\n",
    "\n",
    "pd.options.display.float_format = \"{:,.2f}\".format"
   ]
  },
  {
   "cell_type": "code",
   "execution_count": 104,
   "id": "8b5d8334",
   "metadata": {},
   "outputs": [
    {
     "data": {
      "text/html": [
       "<div>\n",
       "<style scoped>\n",
       "    .dataframe tbody tr th:only-of-type {\n",
       "        vertical-align: middle;\n",
       "    }\n",
       "\n",
       "    .dataframe tbody tr th {\n",
       "        vertical-align: top;\n",
       "    }\n",
       "\n",
       "    .dataframe thead th {\n",
       "        text-align: right;\n",
       "    }\n",
       "</style>\n",
       "<table border=\"1\" class=\"dataframe\">\n",
       "  <thead>\n",
       "    <tr style=\"text-align: right;\">\n",
       "      <th></th>\n",
       "      <th>name</th>\n",
       "      <th>role</th>\n",
       "      <th>type</th>\n",
       "      <th>demographic</th>\n",
       "      <th>description</th>\n",
       "      <th>units</th>\n",
       "      <th>missing_values</th>\n",
       "    </tr>\n",
       "  </thead>\n",
       "  <tbody>\n",
       "    <tr>\n",
       "      <th>0</th>\n",
       "      <td>InvoiceNo</td>\n",
       "      <td>ID</td>\n",
       "      <td>Categorical</td>\n",
       "      <td>None</td>\n",
       "      <td>a 6-digit integral number uniquely assigned to...</td>\n",
       "      <td>None</td>\n",
       "      <td>no</td>\n",
       "    </tr>\n",
       "    <tr>\n",
       "      <th>1</th>\n",
       "      <td>StockCode</td>\n",
       "      <td>ID</td>\n",
       "      <td>Categorical</td>\n",
       "      <td>None</td>\n",
       "      <td>a 5-digit integral number uniquely assigned to...</td>\n",
       "      <td>None</td>\n",
       "      <td>no</td>\n",
       "    </tr>\n",
       "    <tr>\n",
       "      <th>2</th>\n",
       "      <td>Description</td>\n",
       "      <td>Feature</td>\n",
       "      <td>Categorical</td>\n",
       "      <td>None</td>\n",
       "      <td>product name</td>\n",
       "      <td>None</td>\n",
       "      <td>no</td>\n",
       "    </tr>\n",
       "    <tr>\n",
       "      <th>3</th>\n",
       "      <td>Quantity</td>\n",
       "      <td>Feature</td>\n",
       "      <td>Integer</td>\n",
       "      <td>None</td>\n",
       "      <td>the quantities of each product (item) per tran...</td>\n",
       "      <td>None</td>\n",
       "      <td>no</td>\n",
       "    </tr>\n",
       "    <tr>\n",
       "      <th>4</th>\n",
       "      <td>InvoiceDate</td>\n",
       "      <td>Feature</td>\n",
       "      <td>Date</td>\n",
       "      <td>None</td>\n",
       "      <td>the day and time when each transaction was gen...</td>\n",
       "      <td>None</td>\n",
       "      <td>no</td>\n",
       "    </tr>\n",
       "    <tr>\n",
       "      <th>5</th>\n",
       "      <td>UnitPrice</td>\n",
       "      <td>Feature</td>\n",
       "      <td>Continuous</td>\n",
       "      <td>None</td>\n",
       "      <td>product price per unit</td>\n",
       "      <td>sterling</td>\n",
       "      <td>no</td>\n",
       "    </tr>\n",
       "    <tr>\n",
       "      <th>6</th>\n",
       "      <td>CustomerID</td>\n",
       "      <td>Feature</td>\n",
       "      <td>Categorical</td>\n",
       "      <td>None</td>\n",
       "      <td>a 5-digit integral number uniquely assigned to...</td>\n",
       "      <td>None</td>\n",
       "      <td>no</td>\n",
       "    </tr>\n",
       "    <tr>\n",
       "      <th>7</th>\n",
       "      <td>Country</td>\n",
       "      <td>Feature</td>\n",
       "      <td>Categorical</td>\n",
       "      <td>None</td>\n",
       "      <td>the name of the country where each customer re...</td>\n",
       "      <td>None</td>\n",
       "      <td>no</td>\n",
       "    </tr>\n",
       "  </tbody>\n",
       "</table>\n",
       "</div>"
      ],
      "text/plain": [
       "          name     role         type demographic  \\\n",
       "0    InvoiceNo       ID  Categorical        None   \n",
       "1    StockCode       ID  Categorical        None   \n",
       "2  Description  Feature  Categorical        None   \n",
       "3     Quantity  Feature      Integer        None   \n",
       "4  InvoiceDate  Feature         Date        None   \n",
       "5    UnitPrice  Feature   Continuous        None   \n",
       "6   CustomerID  Feature  Categorical        None   \n",
       "7      Country  Feature  Categorical        None   \n",
       "\n",
       "                                         description     units missing_values  \n",
       "0  a 6-digit integral number uniquely assigned to...      None             no  \n",
       "1  a 5-digit integral number uniquely assigned to...      None             no  \n",
       "2                                       product name      None             no  \n",
       "3  the quantities of each product (item) per tran...      None             no  \n",
       "4  the day and time when each transaction was gen...      None             no  \n",
       "5                             product price per unit  sterling             no  \n",
       "6  a 5-digit integral number uniquely assigned to...      None             no  \n",
       "7  the name of the country where each customer re...      None             no  "
      ]
     },
     "execution_count": 104,
     "metadata": {},
     "output_type": "execute_result"
    }
   ],
   "source": [
    "online_retail.variables"
   ]
  },
  {
   "cell_type": "code",
   "execution_count": 105,
   "id": "435609cf",
   "metadata": {},
   "outputs": [],
   "source": [
    "\n",
    "customer_id = 'CustomerID'\n",
    "description = 'Description'\n",
    "invoice_date = 'InvoiceDate'\n",
    "quantity = 'Quantity'\n",
    "unit_price = 'UnitPrice'\n",
    "country = 'Country'\n",
    "\n",
    "total_price = 'TotalPrice'"
   ]
  },
  {
   "cell_type": "code",
   "execution_count": 170,
   "id": "7f734656",
   "metadata": {},
   "outputs": [
    {
     "name": "stderr",
     "output_type": "stream",
     "text": [
      "C:\\Users\\daith\\AppData\\Local\\Temp\\ipykernel_9800\\748978991.py:3: SettingWithCopyWarning:\n",
      "\n",
      "\n",
      "A value is trying to be set on a copy of a slice from a DataFrame.\n",
      "Try using .loc[row_indexer,col_indexer] = value instead\n",
      "\n",
      "See the caveats in the documentation: https://pandas.pydata.org/pandas-docs/stable/user_guide/indexing.html#returning-a-view-versus-a-copy\n",
      "\n",
      "C:\\Users\\daith\\AppData\\Local\\Temp\\ipykernel_9800\\748978991.py:4: SettingWithCopyWarning:\n",
      "\n",
      "\n",
      "A value is trying to be set on a copy of a slice from a DataFrame.\n",
      "Try using .loc[row_indexer,col_indexer] = value instead\n",
      "\n",
      "See the caveats in the documentation: https://pandas.pydata.org/pandas-docs/stable/user_guide/indexing.html#returning-a-view-versus-a-copy\n",
      "\n",
      "C:\\Users\\daith\\AppData\\Local\\Temp\\ipykernel_9800\\748978991.py:6: SettingWithCopyWarning:\n",
      "\n",
      "\n",
      "A value is trying to be set on a copy of a slice from a DataFrame.\n",
      "Try using .loc[row_indexer,col_indexer] = value instead\n",
      "\n",
      "See the caveats in the documentation: https://pandas.pydata.org/pandas-docs/stable/user_guide/indexing.html#returning-a-view-versus-a-copy\n",
      "\n"
     ]
    }
   ],
   "source": [
    "\n",
    "data = X.dropna()\n",
    "\n",
    "data[invoice_date] = pd.to_datetime(data[invoice_date]).dt.date\n",
    "data[invoice_date] = pd.to_datetime(data[invoice_date])\n",
    "\n",
    "data[total_price] = data[quantity] * data[unit_price]\n",
    "data = data[data[quantity] >= 0]"
   ]
  },
  {
   "cell_type": "code",
   "execution_count": 171,
   "id": "264239e9",
   "metadata": {},
   "outputs": [
    {
     "data": {
      "text/plain": [
       "(397924, 7)"
      ]
     },
     "execution_count": 171,
     "metadata": {},
     "output_type": "execute_result"
    }
   ],
   "source": [
    "data.shape"
   ]
  },
  {
   "cell_type": "code",
   "execution_count": 172,
   "id": "12d7163a",
   "metadata": {},
   "outputs": [
    {
     "name": "stdout",
     "output_type": "stream",
     "text": [
      "<class 'pandas.core.frame.DataFrame'>\n",
      "Index: 397924 entries, 0 to 541908\n",
      "Data columns (total 7 columns):\n",
      " #   Column       Non-Null Count   Dtype         \n",
      "---  ------       --------------   -----         \n",
      " 0   Description  397924 non-null  object        \n",
      " 1   Quantity     397924 non-null  int64         \n",
      " 2   InvoiceDate  397924 non-null  datetime64[ns]\n",
      " 3   UnitPrice    397924 non-null  float64       \n",
      " 4   CustomerID   397924 non-null  float64       \n",
      " 5   Country      397924 non-null  object        \n",
      " 6   TotalPrice   397924 non-null  float64       \n",
      "dtypes: datetime64[ns](1), float64(3), int64(1), object(2)\n",
      "memory usage: 24.3+ MB\n"
     ]
    }
   ],
   "source": [
    "data.info()"
   ]
  },
  {
   "cell_type": "code",
   "execution_count": 173,
   "id": "bf54ed36",
   "metadata": {},
   "outputs": [
    {
     "data": {
      "text/html": [
       "<div>\n",
       "<style scoped>\n",
       "    .dataframe tbody tr th:only-of-type {\n",
       "        vertical-align: middle;\n",
       "    }\n",
       "\n",
       "    .dataframe tbody tr th {\n",
       "        vertical-align: top;\n",
       "    }\n",
       "\n",
       "    .dataframe thead th {\n",
       "        text-align: right;\n",
       "    }\n",
       "</style>\n",
       "<table border=\"1\" class=\"dataframe\">\n",
       "  <thead>\n",
       "    <tr style=\"text-align: right;\">\n",
       "      <th></th>\n",
       "      <th>InvoiceDate</th>\n",
       "      <th>TotalPrice</th>\n",
       "      <th>TotalPriceRolling</th>\n",
       "    </tr>\n",
       "  </thead>\n",
       "  <tbody>\n",
       "    <tr>\n",
       "      <th>70</th>\n",
       "      <td>2011-03-03</td>\n",
       "      <td>32,855.05</td>\n",
       "      <td>22,096.83</td>\n",
       "    </tr>\n",
       "    <tr>\n",
       "      <th>141</th>\n",
       "      <td>2011-06-01</td>\n",
       "      <td>15,390.89</td>\n",
       "      <td>23,028.32</td>\n",
       "    </tr>\n",
       "    <tr>\n",
       "      <th>111</th>\n",
       "      <td>2011-04-20</td>\n",
       "      <td>25,718.95</td>\n",
       "      <td>23,334.17</td>\n",
       "    </tr>\n",
       "    <tr>\n",
       "      <th>237</th>\n",
       "      <td>2011-09-22</td>\n",
       "      <td>57,869.36</td>\n",
       "      <td>45,558.34</td>\n",
       "    </tr>\n",
       "    <tr>\n",
       "      <th>149</th>\n",
       "      <td>2011-06-10</td>\n",
       "      <td>58,245.12</td>\n",
       "      <td>28,391.88</td>\n",
       "    </tr>\n",
       "  </tbody>\n",
       "</table>\n",
       "</div>"
      ],
      "text/plain": [
       "    InvoiceDate  TotalPrice  TotalPriceRolling\n",
       "70   2011-03-03   32,855.05          22,096.83\n",
       "141  2011-06-01   15,390.89          23,028.32\n",
       "111  2011-04-20   25,718.95          23,334.17\n",
       "237  2011-09-22   57,869.36          45,558.34\n",
       "149  2011-06-10   58,245.12          28,391.88"
      ]
     },
     "execution_count": 173,
     "metadata": {},
     "output_type": "execute_result"
    }
   ],
   "source": [
    "retail_perday = data.groupby(invoice_date)[total_price].sum().reset_index()\n",
    "retail_perday[total_price + \"Rolling\"] = retail_perday.rolling(10)[total_price].mean()\n",
    "retail_perday.sample(5)"
   ]
  },
  {
   "cell_type": "code",
   "execution_count": 174,
   "id": "bca16401",
   "metadata": {},
   "outputs": [
    {
     "data": {
      "application/vnd.plotly.v1+json": {
       "config": {
        "plotlyServerURL": "https://plot.ly"
       },
       "data": [
        {
         "hovertemplate": "variable=TotalPrice<br>InvoiceDate=%{x}<br>value=%{y}<extra></extra>",
         "legendgroup": "TotalPrice",
         "line": {
          "color": "#636efa",
          "dash": "solid"
         },
         "marker": {
          "symbol": "circle"
         },
         "mode": "lines",
         "name": "TotalPrice",
         "orientation": "v",
         "showlegend": true,
         "type": "scatter",
         "x": [
          "2010-12-01T00:00:00.000000000",
          "2010-12-02T00:00:00.000000000",
          "2010-12-03T00:00:00.000000000",
          "2010-12-05T00:00:00.000000000",
          "2010-12-06T00:00:00.000000000",
          "2010-12-07T00:00:00.000000000",
          "2010-12-08T00:00:00.000000000",
          "2010-12-09T00:00:00.000000000",
          "2010-12-10T00:00:00.000000000",
          "2010-12-12T00:00:00.000000000",
          "2010-12-13T00:00:00.000000000",
          "2010-12-14T00:00:00.000000000",
          "2010-12-15T00:00:00.000000000",
          "2010-12-16T00:00:00.000000000",
          "2010-12-17T00:00:00.000000000",
          "2010-12-19T00:00:00.000000000",
          "2010-12-20T00:00:00.000000000",
          "2010-12-21T00:00:00.000000000",
          "2010-12-22T00:00:00.000000000",
          "2010-12-23T00:00:00.000000000",
          "2011-01-04T00:00:00.000000000",
          "2011-01-05T00:00:00.000000000",
          "2011-01-06T00:00:00.000000000",
          "2011-01-07T00:00:00.000000000",
          "2011-01-09T00:00:00.000000000",
          "2011-01-10T00:00:00.000000000",
          "2011-01-11T00:00:00.000000000",
          "2011-01-12T00:00:00.000000000",
          "2011-01-13T00:00:00.000000000",
          "2011-01-14T00:00:00.000000000",
          "2011-01-16T00:00:00.000000000",
          "2011-01-17T00:00:00.000000000",
          "2011-01-18T00:00:00.000000000",
          "2011-01-19T00:00:00.000000000",
          "2011-01-20T00:00:00.000000000",
          "2011-01-21T00:00:00.000000000",
          "2011-01-23T00:00:00.000000000",
          "2011-01-24T00:00:00.000000000",
          "2011-01-25T00:00:00.000000000",
          "2011-01-26T00:00:00.000000000",
          "2011-01-27T00:00:00.000000000",
          "2011-01-28T00:00:00.000000000",
          "2011-01-30T00:00:00.000000000",
          "2011-01-31T00:00:00.000000000",
          "2011-02-01T00:00:00.000000000",
          "2011-02-02T00:00:00.000000000",
          "2011-02-03T00:00:00.000000000",
          "2011-02-04T00:00:00.000000000",
          "2011-02-06T00:00:00.000000000",
          "2011-02-07T00:00:00.000000000",
          "2011-02-08T00:00:00.000000000",
          "2011-02-09T00:00:00.000000000",
          "2011-02-10T00:00:00.000000000",
          "2011-02-11T00:00:00.000000000",
          "2011-02-13T00:00:00.000000000",
          "2011-02-14T00:00:00.000000000",
          "2011-02-15T00:00:00.000000000",
          "2011-02-16T00:00:00.000000000",
          "2011-02-17T00:00:00.000000000",
          "2011-02-18T00:00:00.000000000",
          "2011-02-20T00:00:00.000000000",
          "2011-02-21T00:00:00.000000000",
          "2011-02-22T00:00:00.000000000",
          "2011-02-23T00:00:00.000000000",
          "2011-02-24T00:00:00.000000000",
          "2011-02-25T00:00:00.000000000",
          "2011-02-27T00:00:00.000000000",
          "2011-02-28T00:00:00.000000000",
          "2011-03-01T00:00:00.000000000",
          "2011-03-02T00:00:00.000000000",
          "2011-03-03T00:00:00.000000000",
          "2011-03-04T00:00:00.000000000",
          "2011-03-06T00:00:00.000000000",
          "2011-03-07T00:00:00.000000000",
          "2011-03-08T00:00:00.000000000",
          "2011-03-09T00:00:00.000000000",
          "2011-03-10T00:00:00.000000000",
          "2011-03-11T00:00:00.000000000",
          "2011-03-13T00:00:00.000000000",
          "2011-03-14T00:00:00.000000000",
          "2011-03-15T00:00:00.000000000",
          "2011-03-16T00:00:00.000000000",
          "2011-03-17T00:00:00.000000000",
          "2011-03-18T00:00:00.000000000",
          "2011-03-20T00:00:00.000000000",
          "2011-03-21T00:00:00.000000000",
          "2011-03-22T00:00:00.000000000",
          "2011-03-23T00:00:00.000000000",
          "2011-03-24T00:00:00.000000000",
          "2011-03-25T00:00:00.000000000",
          "2011-03-27T00:00:00.000000000",
          "2011-03-28T00:00:00.000000000",
          "2011-03-29T00:00:00.000000000",
          "2011-03-30T00:00:00.000000000",
          "2011-03-31T00:00:00.000000000",
          "2011-04-01T00:00:00.000000000",
          "2011-04-03T00:00:00.000000000",
          "2011-04-04T00:00:00.000000000",
          "2011-04-05T00:00:00.000000000",
          "2011-04-06T00:00:00.000000000",
          "2011-04-07T00:00:00.000000000",
          "2011-04-08T00:00:00.000000000",
          "2011-04-10T00:00:00.000000000",
          "2011-04-11T00:00:00.000000000",
          "2011-04-12T00:00:00.000000000",
          "2011-04-13T00:00:00.000000000",
          "2011-04-14T00:00:00.000000000",
          "2011-04-15T00:00:00.000000000",
          "2011-04-17T00:00:00.000000000",
          "2011-04-18T00:00:00.000000000",
          "2011-04-19T00:00:00.000000000",
          "2011-04-20T00:00:00.000000000",
          "2011-04-21T00:00:00.000000000",
          "2011-04-26T00:00:00.000000000",
          "2011-04-27T00:00:00.000000000",
          "2011-04-28T00:00:00.000000000",
          "2011-05-01T00:00:00.000000000",
          "2011-05-03T00:00:00.000000000",
          "2011-05-04T00:00:00.000000000",
          "2011-05-05T00:00:00.000000000",
          "2011-05-06T00:00:00.000000000",
          "2011-05-08T00:00:00.000000000",
          "2011-05-09T00:00:00.000000000",
          "2011-05-10T00:00:00.000000000",
          "2011-05-11T00:00:00.000000000",
          "2011-05-12T00:00:00.000000000",
          "2011-05-13T00:00:00.000000000",
          "2011-05-15T00:00:00.000000000",
          "2011-05-16T00:00:00.000000000",
          "2011-05-17T00:00:00.000000000",
          "2011-05-18T00:00:00.000000000",
          "2011-05-19T00:00:00.000000000",
          "2011-05-20T00:00:00.000000000",
          "2011-05-22T00:00:00.000000000",
          "2011-05-23T00:00:00.000000000",
          "2011-05-24T00:00:00.000000000",
          "2011-05-25T00:00:00.000000000",
          "2011-05-26T00:00:00.000000000",
          "2011-05-27T00:00:00.000000000",
          "2011-05-29T00:00:00.000000000",
          "2011-05-31T00:00:00.000000000",
          "2011-06-01T00:00:00.000000000",
          "2011-06-02T00:00:00.000000000",
          "2011-06-03T00:00:00.000000000",
          "2011-06-05T00:00:00.000000000",
          "2011-06-06T00:00:00.000000000",
          "2011-06-07T00:00:00.000000000",
          "2011-06-08T00:00:00.000000000",
          "2011-06-09T00:00:00.000000000",
          "2011-06-10T00:00:00.000000000",
          "2011-06-12T00:00:00.000000000",
          "2011-06-13T00:00:00.000000000",
          "2011-06-14T00:00:00.000000000",
          "2011-06-15T00:00:00.000000000",
          "2011-06-16T00:00:00.000000000",
          "2011-06-17T00:00:00.000000000",
          "2011-06-19T00:00:00.000000000",
          "2011-06-20T00:00:00.000000000",
          "2011-06-21T00:00:00.000000000",
          "2011-06-22T00:00:00.000000000",
          "2011-06-23T00:00:00.000000000",
          "2011-06-24T00:00:00.000000000",
          "2011-06-26T00:00:00.000000000",
          "2011-06-27T00:00:00.000000000",
          "2011-06-28T00:00:00.000000000",
          "2011-06-29T00:00:00.000000000",
          "2011-06-30T00:00:00.000000000",
          "2011-07-01T00:00:00.000000000",
          "2011-07-03T00:00:00.000000000",
          "2011-07-04T00:00:00.000000000",
          "2011-07-05T00:00:00.000000000",
          "2011-07-06T00:00:00.000000000",
          "2011-07-07T00:00:00.000000000",
          "2011-07-08T00:00:00.000000000",
          "2011-07-10T00:00:00.000000000",
          "2011-07-11T00:00:00.000000000",
          "2011-07-12T00:00:00.000000000",
          "2011-07-13T00:00:00.000000000",
          "2011-07-14T00:00:00.000000000",
          "2011-07-15T00:00:00.000000000",
          "2011-07-17T00:00:00.000000000",
          "2011-07-18T00:00:00.000000000",
          "2011-07-19T00:00:00.000000000",
          "2011-07-20T00:00:00.000000000",
          "2011-07-21T00:00:00.000000000",
          "2011-07-22T00:00:00.000000000",
          "2011-07-24T00:00:00.000000000",
          "2011-07-25T00:00:00.000000000",
          "2011-07-26T00:00:00.000000000",
          "2011-07-27T00:00:00.000000000",
          "2011-07-28T00:00:00.000000000",
          "2011-07-29T00:00:00.000000000",
          "2011-07-31T00:00:00.000000000",
          "2011-08-01T00:00:00.000000000",
          "2011-08-02T00:00:00.000000000",
          "2011-08-03T00:00:00.000000000",
          "2011-08-04T00:00:00.000000000",
          "2011-08-05T00:00:00.000000000",
          "2011-08-07T00:00:00.000000000",
          "2011-08-08T00:00:00.000000000",
          "2011-08-09T00:00:00.000000000",
          "2011-08-10T00:00:00.000000000",
          "2011-08-11T00:00:00.000000000",
          "2011-08-12T00:00:00.000000000",
          "2011-08-14T00:00:00.000000000",
          "2011-08-15T00:00:00.000000000",
          "2011-08-16T00:00:00.000000000",
          "2011-08-17T00:00:00.000000000",
          "2011-08-18T00:00:00.000000000",
          "2011-08-19T00:00:00.000000000",
          "2011-08-21T00:00:00.000000000",
          "2011-08-22T00:00:00.000000000",
          "2011-08-23T00:00:00.000000000",
          "2011-08-24T00:00:00.000000000",
          "2011-08-25T00:00:00.000000000",
          "2011-08-26T00:00:00.000000000",
          "2011-08-28T00:00:00.000000000",
          "2011-08-30T00:00:00.000000000",
          "2011-08-31T00:00:00.000000000",
          "2011-09-01T00:00:00.000000000",
          "2011-09-02T00:00:00.000000000",
          "2011-09-04T00:00:00.000000000",
          "2011-09-05T00:00:00.000000000",
          "2011-09-06T00:00:00.000000000",
          "2011-09-07T00:00:00.000000000",
          "2011-09-08T00:00:00.000000000",
          "2011-09-09T00:00:00.000000000",
          "2011-09-11T00:00:00.000000000",
          "2011-09-12T00:00:00.000000000",
          "2011-09-13T00:00:00.000000000",
          "2011-09-14T00:00:00.000000000",
          "2011-09-15T00:00:00.000000000",
          "2011-09-16T00:00:00.000000000",
          "2011-09-18T00:00:00.000000000",
          "2011-09-19T00:00:00.000000000",
          "2011-09-20T00:00:00.000000000",
          "2011-09-21T00:00:00.000000000",
          "2011-09-22T00:00:00.000000000",
          "2011-09-23T00:00:00.000000000",
          "2011-09-25T00:00:00.000000000",
          "2011-09-26T00:00:00.000000000",
          "2011-09-27T00:00:00.000000000",
          "2011-09-28T00:00:00.000000000",
          "2011-09-29T00:00:00.000000000",
          "2011-09-30T00:00:00.000000000",
          "2011-10-02T00:00:00.000000000",
          "2011-10-03T00:00:00.000000000",
          "2011-10-04T00:00:00.000000000",
          "2011-10-05T00:00:00.000000000",
          "2011-10-06T00:00:00.000000000",
          "2011-10-07T00:00:00.000000000",
          "2011-10-09T00:00:00.000000000",
          "2011-10-10T00:00:00.000000000",
          "2011-10-11T00:00:00.000000000",
          "2011-10-12T00:00:00.000000000",
          "2011-10-13T00:00:00.000000000",
          "2011-10-14T00:00:00.000000000",
          "2011-10-16T00:00:00.000000000",
          "2011-10-17T00:00:00.000000000",
          "2011-10-18T00:00:00.000000000",
          "2011-10-19T00:00:00.000000000",
          "2011-10-20T00:00:00.000000000",
          "2011-10-21T00:00:00.000000000",
          "2011-10-23T00:00:00.000000000",
          "2011-10-24T00:00:00.000000000",
          "2011-10-25T00:00:00.000000000",
          "2011-10-26T00:00:00.000000000",
          "2011-10-27T00:00:00.000000000",
          "2011-10-28T00:00:00.000000000",
          "2011-10-30T00:00:00.000000000",
          "2011-10-31T00:00:00.000000000",
          "2011-11-01T00:00:00.000000000",
          "2011-11-02T00:00:00.000000000",
          "2011-11-03T00:00:00.000000000",
          "2011-11-04T00:00:00.000000000",
          "2011-11-06T00:00:00.000000000",
          "2011-11-07T00:00:00.000000000",
          "2011-11-08T00:00:00.000000000",
          "2011-11-09T00:00:00.000000000",
          "2011-11-10T00:00:00.000000000",
          "2011-11-11T00:00:00.000000000",
          "2011-11-13T00:00:00.000000000",
          "2011-11-14T00:00:00.000000000",
          "2011-11-15T00:00:00.000000000",
          "2011-11-16T00:00:00.000000000",
          "2011-11-17T00:00:00.000000000",
          "2011-11-18T00:00:00.000000000",
          "2011-11-20T00:00:00.000000000",
          "2011-11-21T00:00:00.000000000",
          "2011-11-22T00:00:00.000000000",
          "2011-11-23T00:00:00.000000000",
          "2011-11-24T00:00:00.000000000",
          "2011-11-25T00:00:00.000000000",
          "2011-11-27T00:00:00.000000000",
          "2011-11-28T00:00:00.000000000",
          "2011-11-29T00:00:00.000000000",
          "2011-11-30T00:00:00.000000000",
          "2011-12-01T00:00:00.000000000",
          "2011-12-02T00:00:00.000000000",
          "2011-12-04T00:00:00.000000000",
          "2011-12-05T00:00:00.000000000",
          "2011-12-06T00:00:00.000000000",
          "2011-12-07T00:00:00.000000000",
          "2011-12-08T00:00:00.000000000",
          "2011-12-09T00:00:00.000000000"
         ],
         "xaxis": "x",
         "y": {
          "bdata": "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",
          "dtype": "f8"
         },
         "yaxis": "y"
        },
        {
         "hovertemplate": "variable=TotalPriceRolling<br>InvoiceDate=%{x}<br>value=%{y}<extra></extra>",
         "legendgroup": "TotalPriceRolling",
         "line": {
          "color": "#EF553B",
          "dash": "solid"
         },
         "marker": {
          "symbol": "circle"
         },
         "mode": "lines",
         "name": "TotalPriceRolling",
         "orientation": "v",
         "showlegend": true,
         "type": "scatter",
         "x": [
          "2010-12-01T00:00:00.000000000",
          "2010-12-02T00:00:00.000000000",
          "2010-12-03T00:00:00.000000000",
          "2010-12-05T00:00:00.000000000",
          "2010-12-06T00:00:00.000000000",
          "2010-12-07T00:00:00.000000000",
          "2010-12-08T00:00:00.000000000",
          "2010-12-09T00:00:00.000000000",
          "2010-12-10T00:00:00.000000000",
          "2010-12-12T00:00:00.000000000",
          "2010-12-13T00:00:00.000000000",
          "2010-12-14T00:00:00.000000000",
          "2010-12-15T00:00:00.000000000",
          "2010-12-16T00:00:00.000000000",
          "2010-12-17T00:00:00.000000000",
          "2010-12-19T00:00:00.000000000",
          "2010-12-20T00:00:00.000000000",
          "2010-12-21T00:00:00.000000000",
          "2010-12-22T00:00:00.000000000",
          "2010-12-23T00:00:00.000000000",
          "2011-01-04T00:00:00.000000000",
          "2011-01-05T00:00:00.000000000",
          "2011-01-06T00:00:00.000000000",
          "2011-01-07T00:00:00.000000000",
          "2011-01-09T00:00:00.000000000",
          "2011-01-10T00:00:00.000000000",
          "2011-01-11T00:00:00.000000000",
          "2011-01-12T00:00:00.000000000",
          "2011-01-13T00:00:00.000000000",
          "2011-01-14T00:00:00.000000000",
          "2011-01-16T00:00:00.000000000",
          "2011-01-17T00:00:00.000000000",
          "2011-01-18T00:00:00.000000000",
          "2011-01-19T00:00:00.000000000",
          "2011-01-20T00:00:00.000000000",
          "2011-01-21T00:00:00.000000000",
          "2011-01-23T00:00:00.000000000",
          "2011-01-24T00:00:00.000000000",
          "2011-01-25T00:00:00.000000000",
          "2011-01-26T00:00:00.000000000",
          "2011-01-27T00:00:00.000000000",
          "2011-01-28T00:00:00.000000000",
          "2011-01-30T00:00:00.000000000",
          "2011-01-31T00:00:00.000000000",
          "2011-02-01T00:00:00.000000000",
          "2011-02-02T00:00:00.000000000",
          "2011-02-03T00:00:00.000000000",
          "2011-02-04T00:00:00.000000000",
          "2011-02-06T00:00:00.000000000",
          "2011-02-07T00:00:00.000000000",
          "2011-02-08T00:00:00.000000000",
          "2011-02-09T00:00:00.000000000",
          "2011-02-10T00:00:00.000000000",
          "2011-02-11T00:00:00.000000000",
          "2011-02-13T00:00:00.000000000",
          "2011-02-14T00:00:00.000000000",
          "2011-02-15T00:00:00.000000000",
          "2011-02-16T00:00:00.000000000",
          "2011-02-17T00:00:00.000000000",
          "2011-02-18T00:00:00.000000000",
          "2011-02-20T00:00:00.000000000",
          "2011-02-21T00:00:00.000000000",
          "2011-02-22T00:00:00.000000000",
          "2011-02-23T00:00:00.000000000",
          "2011-02-24T00:00:00.000000000",
          "2011-02-25T00:00:00.000000000",
          "2011-02-27T00:00:00.000000000",
          "2011-02-28T00:00:00.000000000",
          "2011-03-01T00:00:00.000000000",
          "2011-03-02T00:00:00.000000000",
          "2011-03-03T00:00:00.000000000",
          "2011-03-04T00:00:00.000000000",
          "2011-03-06T00:00:00.000000000",
          "2011-03-07T00:00:00.000000000",
          "2011-03-08T00:00:00.000000000",
          "2011-03-09T00:00:00.000000000",
          "2011-03-10T00:00:00.000000000",
          "2011-03-11T00:00:00.000000000",
          "2011-03-13T00:00:00.000000000",
          "2011-03-14T00:00:00.000000000",
          "2011-03-15T00:00:00.000000000",
          "2011-03-16T00:00:00.000000000",
          "2011-03-17T00:00:00.000000000",
          "2011-03-18T00:00:00.000000000",
          "2011-03-20T00:00:00.000000000",
          "2011-03-21T00:00:00.000000000",
          "2011-03-22T00:00:00.000000000",
          "2011-03-23T00:00:00.000000000",
          "2011-03-24T00:00:00.000000000",
          "2011-03-25T00:00:00.000000000",
          "2011-03-27T00:00:00.000000000",
          "2011-03-28T00:00:00.000000000",
          "2011-03-29T00:00:00.000000000",
          "2011-03-30T00:00:00.000000000",
          "2011-03-31T00:00:00.000000000",
          "2011-04-01T00:00:00.000000000",
          "2011-04-03T00:00:00.000000000",
          "2011-04-04T00:00:00.000000000",
          "2011-04-05T00:00:00.000000000",
          "2011-04-06T00:00:00.000000000",
          "2011-04-07T00:00:00.000000000",
          "2011-04-08T00:00:00.000000000",
          "2011-04-10T00:00:00.000000000",
          "2011-04-11T00:00:00.000000000",
          "2011-04-12T00:00:00.000000000",
          "2011-04-13T00:00:00.000000000",
          "2011-04-14T00:00:00.000000000",
          "2011-04-15T00:00:00.000000000",
          "2011-04-17T00:00:00.000000000",
          "2011-04-18T00:00:00.000000000",
          "2011-04-19T00:00:00.000000000",
          "2011-04-20T00:00:00.000000000",
          "2011-04-21T00:00:00.000000000",
          "2011-04-26T00:00:00.000000000",
          "2011-04-27T00:00:00.000000000",
          "2011-04-28T00:00:00.000000000",
          "2011-05-01T00:00:00.000000000",
          "2011-05-03T00:00:00.000000000",
          "2011-05-04T00:00:00.000000000",
          "2011-05-05T00:00:00.000000000",
          "2011-05-06T00:00:00.000000000",
          "2011-05-08T00:00:00.000000000",
          "2011-05-09T00:00:00.000000000",
          "2011-05-10T00:00:00.000000000",
          "2011-05-11T00:00:00.000000000",
          "2011-05-12T00:00:00.000000000",
          "2011-05-13T00:00:00.000000000",
          "2011-05-15T00:00:00.000000000",
          "2011-05-16T00:00:00.000000000",
          "2011-05-17T00:00:00.000000000",
          "2011-05-18T00:00:00.000000000",
          "2011-05-19T00:00:00.000000000",
          "2011-05-20T00:00:00.000000000",
          "2011-05-22T00:00:00.000000000",
          "2011-05-23T00:00:00.000000000",
          "2011-05-24T00:00:00.000000000",
          "2011-05-25T00:00:00.000000000",
          "2011-05-26T00:00:00.000000000",
          "2011-05-27T00:00:00.000000000",
          "2011-05-29T00:00:00.000000000",
          "2011-05-31T00:00:00.000000000",
          "2011-06-01T00:00:00.000000000",
          "2011-06-02T00:00:00.000000000",
          "2011-06-03T00:00:00.000000000",
          "2011-06-05T00:00:00.000000000",
          "2011-06-06T00:00:00.000000000",
          "2011-06-07T00:00:00.000000000",
          "2011-06-08T00:00:00.000000000",
          "2011-06-09T00:00:00.000000000",
          "2011-06-10T00:00:00.000000000",
          "2011-06-12T00:00:00.000000000",
          "2011-06-13T00:00:00.000000000",
          "2011-06-14T00:00:00.000000000",
          "2011-06-15T00:00:00.000000000",
          "2011-06-16T00:00:00.000000000",
          "2011-06-17T00:00:00.000000000",
          "2011-06-19T00:00:00.000000000",
          "2011-06-20T00:00:00.000000000",
          "2011-06-21T00:00:00.000000000",
          "2011-06-22T00:00:00.000000000",
          "2011-06-23T00:00:00.000000000",
          "2011-06-24T00:00:00.000000000",
          "2011-06-26T00:00:00.000000000",
          "2011-06-27T00:00:00.000000000",
          "2011-06-28T00:00:00.000000000",
          "2011-06-29T00:00:00.000000000",
          "2011-06-30T00:00:00.000000000",
          "2011-07-01T00:00:00.000000000",
          "2011-07-03T00:00:00.000000000",
          "2011-07-04T00:00:00.000000000",
          "2011-07-05T00:00:00.000000000",
          "2011-07-06T00:00:00.000000000",
          "2011-07-07T00:00:00.000000000",
          "2011-07-08T00:00:00.000000000",
          "2011-07-10T00:00:00.000000000",
          "2011-07-11T00:00:00.000000000",
          "2011-07-12T00:00:00.000000000",
          "2011-07-13T00:00:00.000000000",
          "2011-07-14T00:00:00.000000000",
          "2011-07-15T00:00:00.000000000",
          "2011-07-17T00:00:00.000000000",
          "2011-07-18T00:00:00.000000000",
          "2011-07-19T00:00:00.000000000",
          "2011-07-20T00:00:00.000000000",
          "2011-07-21T00:00:00.000000000",
          "2011-07-22T00:00:00.000000000",
          "2011-07-24T00:00:00.000000000",
          "2011-07-25T00:00:00.000000000",
          "2011-07-26T00:00:00.000000000",
          "2011-07-27T00:00:00.000000000",
          "2011-07-28T00:00:00.000000000",
          "2011-07-29T00:00:00.000000000",
          "2011-07-31T00:00:00.000000000",
          "2011-08-01T00:00:00.000000000",
          "2011-08-02T00:00:00.000000000",
          "2011-08-03T00:00:00.000000000",
          "2011-08-04T00:00:00.000000000",
          "2011-08-05T00:00:00.000000000",
          "2011-08-07T00:00:00.000000000",
          "2011-08-08T00:00:00.000000000",
          "2011-08-09T00:00:00.000000000",
          "2011-08-10T00:00:00.000000000",
          "2011-08-11T00:00:00.000000000",
          "2011-08-12T00:00:00.000000000",
          "2011-08-14T00:00:00.000000000",
          "2011-08-15T00:00:00.000000000",
          "2011-08-16T00:00:00.000000000",
          "2011-08-17T00:00:00.000000000",
          "2011-08-18T00:00:00.000000000",
          "2011-08-19T00:00:00.000000000",
          "2011-08-21T00:00:00.000000000",
          "2011-08-22T00:00:00.000000000",
          "2011-08-23T00:00:00.000000000",
          "2011-08-24T00:00:00.000000000",
          "2011-08-25T00:00:00.000000000",
          "2011-08-26T00:00:00.000000000",
          "2011-08-28T00:00:00.000000000",
          "2011-08-30T00:00:00.000000000",
          "2011-08-31T00:00:00.000000000",
          "2011-09-01T00:00:00.000000000",
          "2011-09-02T00:00:00.000000000",
          "2011-09-04T00:00:00.000000000",
          "2011-09-05T00:00:00.000000000",
          "2011-09-06T00:00:00.000000000",
          "2011-09-07T00:00:00.000000000",
          "2011-09-08T00:00:00.000000000",
          "2011-09-09T00:00:00.000000000",
          "2011-09-11T00:00:00.000000000",
          "2011-09-12T00:00:00.000000000",
          "2011-09-13T00:00:00.000000000",
          "2011-09-14T00:00:00.000000000",
          "2011-09-15T00:00:00.000000000",
          "2011-09-16T00:00:00.000000000",
          "2011-09-18T00:00:00.000000000",
          "2011-09-19T00:00:00.000000000",
          "2011-09-20T00:00:00.000000000",
          "2011-09-21T00:00:00.000000000",
          "2011-09-22T00:00:00.000000000",
          "2011-09-23T00:00:00.000000000",
          "2011-09-25T00:00:00.000000000",
          "2011-09-26T00:00:00.000000000",
          "2011-09-27T00:00:00.000000000",
          "2011-09-28T00:00:00.000000000",
          "2011-09-29T00:00:00.000000000",
          "2011-09-30T00:00:00.000000000",
          "2011-10-02T00:00:00.000000000",
          "2011-10-03T00:00:00.000000000",
          "2011-10-04T00:00:00.000000000",
          "2011-10-05T00:00:00.000000000",
          "2011-10-06T00:00:00.000000000",
          "2011-10-07T00:00:00.000000000",
          "2011-10-09T00:00:00.000000000",
          "2011-10-10T00:00:00.000000000",
          "2011-10-11T00:00:00.000000000",
          "2011-10-12T00:00:00.000000000",
          "2011-10-13T00:00:00.000000000",
          "2011-10-14T00:00:00.000000000",
          "2011-10-16T00:00:00.000000000",
          "2011-10-17T00:00:00.000000000",
          "2011-10-18T00:00:00.000000000",
          "2011-10-19T00:00:00.000000000",
          "2011-10-20T00:00:00.000000000",
          "2011-10-21T00:00:00.000000000",
          "2011-10-23T00:00:00.000000000",
          "2011-10-24T00:00:00.000000000",
          "2011-10-25T00:00:00.000000000",
          "2011-10-26T00:00:00.000000000",
          "2011-10-27T00:00:00.000000000",
          "2011-10-28T00:00:00.000000000",
          "2011-10-30T00:00:00.000000000",
          "2011-10-31T00:00:00.000000000",
          "2011-11-01T00:00:00.000000000",
          "2011-11-02T00:00:00.000000000",
          "2011-11-03T00:00:00.000000000",
          "2011-11-04T00:00:00.000000000",
          "2011-11-06T00:00:00.000000000",
          "2011-11-07T00:00:00.000000000",
          "2011-11-08T00:00:00.000000000",
          "2011-11-09T00:00:00.000000000",
          "2011-11-10T00:00:00.000000000",
          "2011-11-11T00:00:00.000000000",
          "2011-11-13T00:00:00.000000000",
          "2011-11-14T00:00:00.000000000",
          "2011-11-15T00:00:00.000000000",
          "2011-11-16T00:00:00.000000000",
          "2011-11-17T00:00:00.000000000",
          "2011-11-18T00:00:00.000000000",
          "2011-11-20T00:00:00.000000000",
          "2011-11-21T00:00:00.000000000",
          "2011-11-22T00:00:00.000000000",
          "2011-11-23T00:00:00.000000000",
          "2011-11-24T00:00:00.000000000",
          "2011-11-25T00:00:00.000000000",
          "2011-11-27T00:00:00.000000000",
          "2011-11-28T00:00:00.000000000",
          "2011-11-29T00:00:00.000000000",
          "2011-11-30T00:00:00.000000000",
          "2011-12-01T00:00:00.000000000",
          "2011-12-02T00:00:00.000000000",
          "2011-12-04T00:00:00.000000000",
          "2011-12-05T00:00:00.000000000",
          "2011-12-06T00:00:00.000000000",
          "2011-12-07T00:00:00.000000000",
          "2011-12-08T00:00:00.000000000",
          "2011-12-09T00:00:00.000000000"
         ],
         "xaxis": "x",
         "y": {
          "bdata": "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",
          "dtype": "f8"
         },
         "yaxis": "y"
        }
       ],
       "layout": {
        "legend": {
         "title": {
          "text": "variable"
         },
         "tracegroupgap": 0
        },
        "margin": {
         "t": 60
        },
        "template": {
         "data": {
          "bar": [
           {
            "error_x": {
             "color": "#f2f5fa"
            },
            "error_y": {
             "color": "#f2f5fa"
            },
            "marker": {
             "line": {
              "color": "rgb(17,17,17)",
              "width": 0.5
             },
             "pattern": {
              "fillmode": "overlay",
              "size": 10,
              "solidity": 0.2
             }
            },
            "type": "bar"
           }
          ],
          "barpolar": [
           {
            "marker": {
             "line": {
              "color": "rgb(17,17,17)",
              "width": 0.5
             },
             "pattern": {
              "fillmode": "overlay",
              "size": 10,
              "solidity": 0.2
             }
            },
            "type": "barpolar"
           }
          ],
          "carpet": [
           {
            "aaxis": {
             "endlinecolor": "#A2B1C6",
             "gridcolor": "#506784",
             "linecolor": "#506784",
             "minorgridcolor": "#506784",
             "startlinecolor": "#A2B1C6"
            },
            "baxis": {
             "endlinecolor": "#A2B1C6",
             "gridcolor": "#506784",
             "linecolor": "#506784",
             "minorgridcolor": "#506784",
             "startlinecolor": "#A2B1C6"
            },
            "type": "carpet"
           }
          ],
          "choropleth": [
           {
            "colorbar": {
             "outlinewidth": 0,
             "ticks": ""
            },
            "type": "choropleth"
           }
          ],
          "contour": [
           {
            "colorbar": {
             "outlinewidth": 0,
             "ticks": ""
            },
            "colorscale": [
             [
              0,
              "#0d0887"
             ],
             [
              0.1111111111111111,
              "#46039f"
             ],
             [
              0.2222222222222222,
              "#7201a8"
             ],
             [
              0.3333333333333333,
              "#9c179e"
             ],
             [
              0.4444444444444444,
              "#bd3786"
             ],
             [
              0.5555555555555556,
              "#d8576b"
             ],
             [
              0.6666666666666666,
              "#ed7953"
             ],
             [
              0.7777777777777778,
              "#fb9f3a"
             ],
             [
              0.8888888888888888,
              "#fdca26"
             ],
             [
              1,
              "#f0f921"
             ]
            ],
            "type": "contour"
           }
          ],
          "contourcarpet": [
           {
            "colorbar": {
             "outlinewidth": 0,
             "ticks": ""
            },
            "type": "contourcarpet"
           }
          ],
          "heatmap": [
           {
            "colorbar": {
             "outlinewidth": 0,
             "ticks": ""
            },
            "colorscale": [
             [
              0,
              "#0d0887"
             ],
             [
              0.1111111111111111,
              "#46039f"
             ],
             [
              0.2222222222222222,
              "#7201a8"
             ],
             [
              0.3333333333333333,
              "#9c179e"
             ],
             [
              0.4444444444444444,
              "#bd3786"
             ],
             [
              0.5555555555555556,
              "#d8576b"
             ],
             [
              0.6666666666666666,
              "#ed7953"
             ],
             [
              0.7777777777777778,
              "#fb9f3a"
             ],
             [
              0.8888888888888888,
              "#fdca26"
             ],
             [
              1,
              "#f0f921"
             ]
            ],
            "type": "heatmap"
           }
          ],
          "histogram": [
           {
            "marker": {
             "pattern": {
              "fillmode": "overlay",
              "size": 10,
              "solidity": 0.2
             }
            },
            "type": "histogram"
           }
          ],
          "histogram2d": [
           {
            "colorbar": {
             "outlinewidth": 0,
             "ticks": ""
            },
            "colorscale": [
             [
              0,
              "#0d0887"
             ],
             [
              0.1111111111111111,
              "#46039f"
             ],
             [
              0.2222222222222222,
              "#7201a8"
             ],
             [
              0.3333333333333333,
              "#9c179e"
             ],
             [
              0.4444444444444444,
              "#bd3786"
             ],
             [
              0.5555555555555556,
              "#d8576b"
             ],
             [
              0.6666666666666666,
              "#ed7953"
             ],
             [
              0.7777777777777778,
              "#fb9f3a"
             ],
             [
              0.8888888888888888,
              "#fdca26"
             ],
             [
              1,
              "#f0f921"
             ]
            ],
            "type": "histogram2d"
           }
          ],
          "histogram2dcontour": [
           {
            "colorbar": {
             "outlinewidth": 0,
             "ticks": ""
            },
            "colorscale": [
             [
              0,
              "#0d0887"
             ],
             [
              0.1111111111111111,
              "#46039f"
             ],
             [
              0.2222222222222222,
              "#7201a8"
             ],
             [
              0.3333333333333333,
              "#9c179e"
             ],
             [
              0.4444444444444444,
              "#bd3786"
             ],
             [
              0.5555555555555556,
              "#d8576b"
             ],
             [
              0.6666666666666666,
              "#ed7953"
             ],
             [
              0.7777777777777778,
              "#fb9f3a"
             ],
             [
              0.8888888888888888,
              "#fdca26"
             ],
             [
              1,
              "#f0f921"
             ]
            ],
            "type": "histogram2dcontour"
           }
          ],
          "mesh3d": [
           {
            "colorbar": {
             "outlinewidth": 0,
             "ticks": ""
            },
            "type": "mesh3d"
           }
          ],
          "parcoords": [
           {
            "line": {
             "colorbar": {
              "outlinewidth": 0,
              "ticks": ""
             }
            },
            "type": "parcoords"
           }
          ],
          "pie": [
           {
            "automargin": true,
            "type": "pie"
           }
          ],
          "scatter": [
           {
            "marker": {
             "line": {
              "color": "#283442"
             }
            },
            "type": "scatter"
           }
          ],
          "scatter3d": [
           {
            "line": {
             "colorbar": {
              "outlinewidth": 0,
              "ticks": ""
             }
            },
            "marker": {
             "colorbar": {
              "outlinewidth": 0,
              "ticks": ""
             }
            },
            "type": "scatter3d"
           }
          ],
          "scattercarpet": [
           {
            "marker": {
             "colorbar": {
              "outlinewidth": 0,
              "ticks": ""
             }
            },
            "type": "scattercarpet"
           }
          ],
          "scattergeo": [
           {
            "marker": {
             "colorbar": {
              "outlinewidth": 0,
              "ticks": ""
             }
            },
            "type": "scattergeo"
           }
          ],
          "scattergl": [
           {
            "marker": {
             "line": {
              "color": "#283442"
             }
            },
            "type": "scattergl"
           }
          ],
          "scattermap": [
           {
            "marker": {
             "colorbar": {
              "outlinewidth": 0,
              "ticks": ""
             }
            },
            "type": "scattermap"
           }
          ],
          "scattermapbox": [
           {
            "marker": {
             "colorbar": {
              "outlinewidth": 0,
              "ticks": ""
             }
            },
            "type": "scattermapbox"
           }
          ],
          "scatterpolar": [
           {
            "marker": {
             "colorbar": {
              "outlinewidth": 0,
              "ticks": ""
             }
            },
            "type": "scatterpolar"
           }
          ],
          "scatterpolargl": [
           {
            "marker": {
             "colorbar": {
              "outlinewidth": 0,
              "ticks": ""
             }
            },
            "type": "scatterpolargl"
           }
          ],
          "scatterternary": [
           {
            "marker": {
             "colorbar": {
              "outlinewidth": 0,
              "ticks": ""
             }
            },
            "type": "scatterternary"
           }
          ],
          "surface": [
           {
            "colorbar": {
             "outlinewidth": 0,
             "ticks": ""
            },
            "colorscale": [
             [
              0,
              "#0d0887"
             ],
             [
              0.1111111111111111,
              "#46039f"
             ],
             [
              0.2222222222222222,
              "#7201a8"
             ],
             [
              0.3333333333333333,
              "#9c179e"
             ],
             [
              0.4444444444444444,
              "#bd3786"
             ],
             [
              0.5555555555555556,
              "#d8576b"
             ],
             [
              0.6666666666666666,
              "#ed7953"
             ],
             [
              0.7777777777777778,
              "#fb9f3a"
             ],
             [
              0.8888888888888888,
              "#fdca26"
             ],
             [
              1,
              "#f0f921"
             ]
            ],
            "type": "surface"
           }
          ],
          "table": [
           {
            "cells": {
             "fill": {
              "color": "#506784"
             },
             "line": {
              "color": "rgb(17,17,17)"
             }
            },
            "header": {
             "fill": {
              "color": "#2a3f5f"
             },
             "line": {
              "color": "rgb(17,17,17)"
             }
            },
            "type": "table"
           }
          ]
         },
         "layout": {
          "annotationdefaults": {
           "arrowcolor": "#f2f5fa",
           "arrowhead": 0,
           "arrowwidth": 1
          },
          "autotypenumbers": "strict",
          "coloraxis": {
           "colorbar": {
            "outlinewidth": 0,
            "ticks": ""
           }
          },
          "colorscale": {
           "diverging": [
            [
             0,
             "#8e0152"
            ],
            [
             0.1,
             "#c51b7d"
            ],
            [
             0.2,
             "#de77ae"
            ],
            [
             0.3,
             "#f1b6da"
            ],
            [
             0.4,
             "#fde0ef"
            ],
            [
             0.5,
             "#f7f7f7"
            ],
            [
             0.6,
             "#e6f5d0"
            ],
            [
             0.7,
             "#b8e186"
            ],
            [
             0.8,
             "#7fbc41"
            ],
            [
             0.9,
             "#4d9221"
            ],
            [
             1,
             "#276419"
            ]
           ],
           "sequential": [
            [
             0,
             "#0d0887"
            ],
            [
             0.1111111111111111,
             "#46039f"
            ],
            [
             0.2222222222222222,
             "#7201a8"
            ],
            [
             0.3333333333333333,
             "#9c179e"
            ],
            [
             0.4444444444444444,
             "#bd3786"
            ],
            [
             0.5555555555555556,
             "#d8576b"
            ],
            [
             0.6666666666666666,
             "#ed7953"
            ],
            [
             0.7777777777777778,
             "#fb9f3a"
            ],
            [
             0.8888888888888888,
             "#fdca26"
            ],
            [
             1,
             "#f0f921"
            ]
           ],
           "sequentialminus": [
            [
             0,
             "#0d0887"
            ],
            [
             0.1111111111111111,
             "#46039f"
            ],
            [
             0.2222222222222222,
             "#7201a8"
            ],
            [
             0.3333333333333333,
             "#9c179e"
            ],
            [
             0.4444444444444444,
             "#bd3786"
            ],
            [
             0.5555555555555556,
             "#d8576b"
            ],
            [
             0.6666666666666666,
             "#ed7953"
            ],
            [
             0.7777777777777778,
             "#fb9f3a"
            ],
            [
             0.8888888888888888,
             "#fdca26"
            ],
            [
             1,
             "#f0f921"
            ]
           ]
          },
          "colorway": [
           "#636efa",
           "#EF553B",
           "#00cc96",
           "#ab63fa",
           "#FFA15A",
           "#19d3f3",
           "#FF6692",
           "#B6E880",
           "#FF97FF",
           "#FECB52"
          ],
          "font": {
           "color": "#f2f5fa"
          },
          "geo": {
           "bgcolor": "rgb(17,17,17)",
           "lakecolor": "rgb(17,17,17)",
           "landcolor": "rgb(17,17,17)",
           "showlakes": true,
           "showland": true,
           "subunitcolor": "#506784"
          },
          "hoverlabel": {
           "align": "left"
          },
          "hovermode": "closest",
          "mapbox": {
           "style": "dark"
          },
          "paper_bgcolor": "rgb(17,17,17)",
          "plot_bgcolor": "rgb(17,17,17)",
          "polar": {
           "angularaxis": {
            "gridcolor": "#506784",
            "linecolor": "#506784",
            "ticks": ""
           },
           "bgcolor": "rgb(17,17,17)",
           "radialaxis": {
            "gridcolor": "#506784",
            "linecolor": "#506784",
            "ticks": ""
           }
          },
          "scene": {
           "xaxis": {
            "backgroundcolor": "rgb(17,17,17)",
            "gridcolor": "#506784",
            "gridwidth": 2,
            "linecolor": "#506784",
            "showbackground": true,
            "ticks": "",
            "zerolinecolor": "#C8D4E3"
           },
           "yaxis": {
            "backgroundcolor": "rgb(17,17,17)",
            "gridcolor": "#506784",
            "gridwidth": 2,
            "linecolor": "#506784",
            "showbackground": true,
            "ticks": "",
            "zerolinecolor": "#C8D4E3"
           },
           "zaxis": {
            "backgroundcolor": "rgb(17,17,17)",
            "gridcolor": "#506784",
            "gridwidth": 2,
            "linecolor": "#506784",
            "showbackground": true,
            "ticks": "",
            "zerolinecolor": "#C8D4E3"
           }
          },
          "shapedefaults": {
           "line": {
            "color": "#f2f5fa"
           }
          },
          "sliderdefaults": {
           "bgcolor": "#C8D4E3",
           "bordercolor": "rgb(17,17,17)",
           "borderwidth": 1,
           "tickwidth": 0
          },
          "ternary": {
           "aaxis": {
            "gridcolor": "#506784",
            "linecolor": "#506784",
            "ticks": ""
           },
           "baxis": {
            "gridcolor": "#506784",
            "linecolor": "#506784",
            "ticks": ""
           },
           "bgcolor": "rgb(17,17,17)",
           "caxis": {
            "gridcolor": "#506784",
            "linecolor": "#506784",
            "ticks": ""
           }
          },
          "title": {
           "x": 0.05
          },
          "updatemenudefaults": {
           "bgcolor": "#506784",
           "borderwidth": 0
          },
          "xaxis": {
           "automargin": true,
           "gridcolor": "#283442",
           "linecolor": "#506784",
           "ticks": "",
           "title": {
            "standoff": 15
           },
           "zerolinecolor": "#283442",
           "zerolinewidth": 2
          },
          "yaxis": {
           "automargin": true,
           "gridcolor": "#283442",
           "linecolor": "#506784",
           "ticks": "",
           "title": {
            "standoff": 15
           },
           "zerolinecolor": "#283442",
           "zerolinewidth": 2
          }
         }
        },
        "width": 2000,
        "xaxis": {
         "anchor": "y",
         "domain": [
          0,
          1
         ],
         "title": {
          "text": "InvoiceDate"
         }
        },
        "yaxis": {
         "anchor": "x",
         "domain": [
          0,
          1
         ],
         "title": {
          "text": "value"
         }
        }
       }
      }
     },
     "metadata": {},
     "output_type": "display_data"
    }
   ],
   "source": [
    "px.line(\n",
    "    retail_perday,\n",
    "    x=invoice_date,\n",
    "    y=[total_price, total_price + \"Rolling\"],\n",
    "    width=2000,\n",
    ")"
   ]
  },
  {
   "cell_type": "code",
   "execution_count": 175,
   "id": "c3e6702d",
   "metadata": {},
   "outputs": [
    {
     "data": {
      "text/plain": [
       "count       305.00\n",
       "mean     29,217.73\n",
       "std      17,855.00\n",
       "min       3,457.11\n",
       "25%      18,021.48\n",
       "50%      25,489.66\n",
       "75%      36,751.25\n",
       "max     184,349.28\n",
       "Name: TotalPrice, dtype: float64"
      ]
     },
     "execution_count": 175,
     "metadata": {},
     "output_type": "execute_result"
    }
   ],
   "source": [
    "retail_perday[total_price].describe()"
   ]
  },
  {
   "cell_type": "code",
   "execution_count": 176,
   "id": "5787a0d4",
   "metadata": {},
   "outputs": [
    {
     "data": {
      "application/vnd.plotly.v1+json": {
       "config": {
        "plotlyServerURL": "https://plot.ly"
       },
       "data": [
        {
         "bingroup": "x",
         "hovertemplate": "TotalPrice=%{x}<br>count=%{y}<extra></extra>",
         "legendgroup": "",
         "marker": {
          "color": "tomato",
          "pattern": {
           "shape": ""
          }
         },
         "name": "",
         "nbinsx": 40,
         "orientation": "v",
         "showlegend": false,
         "type": "histogram",
         "x": {
          "bdata": "4XoUrg+l5kBcj8L1kBrnQArXo3BtXNdAZmZmZuYG30Bcj8L16HveQLgehetpROpA16NwPRoq40DNzMzM/KriQFyPwvVIbuBAexSuR3Hm0EBSuB6Fq/7aQDMzMzOTotxASOF6FO6Z3UD2KFyPwvDnQHE9Ctejk9NAcT0K12P5vEAK16NwfSnTQK5H4XrUJ89A7FG4HoUWs0AfhetR+BC2QBWuR+G6rsdAH4XrUegg3EBI4XoUBsfgQPYoXI9yPddAmpmZmRnRzkDXo3A9avnNQFyPwvWYbe1Aj8L1KHzA0EDhehSup6HNQD0K16OATeNAw/UoXA9KvEBmZmZmVjXQQClcj8JRYvVAuB6F67Ej1UAK16NwXcbNQD0K16PwtddAAAAAACBQxEDhehSuFzjRQDMzMzPTjddArkfherQU0UC4HoXrQaPVQAAAAABg3tBAAAAAAMDXuUDsUbgehWDSQAAAAAAgwtlAhetRuE6+0EAAAAAAAKrVQHE9CteTsNFAH4XrUTgCq0A9CtejwN3WQHE9CtcDrMtAcT0K12NIx0B7FK5HQbvLQArXo3DdKdJAexSuR6FRtkDD9Shc/3bWQM3MzMwUc+JASOF6FM7y1kD2KFyPskLRQOF6FK6HP8xAH4XrUVjMwkDD9ShcNwTgQIXrUbgeetxArkfhegTl0kBcj8L1OPjUQI/C9Shs8tFAAAAAAECbwkD2KFyPgoHNQOF6FK73E9dAw/UoXL8/0kCamZmZ4QrgQEjhehSe6tBAKVyPwrWGw0BSuB6Fa8/TQKRwPQqntdVA4XoUrnfe00BI4XoU7tvXQAAAAAAAaNRAhetRuB40sEAAAAAAUGbZQKRwPQo3LM1A16NwPSpP1UCPwvUoPEffQMP1KFyv2dZAMzMzMzOd00BmZmZmhlnPQPYoXI8SntJAMzMzM7MS1UCuR+F6JOvhQAAAAACwqdpAMzMzMzMEwkDXo3A9SonTQD0K16PQKOJAFa5H4drk3ECkcD0KJxbZQK5H4Xq0AthAAAAAAIAGu0B7FK5HcVbcQOF6FK7XFdxAXI/C9SjZyEB7FK5H8W7QQArXo3AtMNZACtejcP1cw0Bcj8L1CLbTQArXo3D9dddAFa5H4Rrp10BmZmZm1m7hQFg5tMhemdFAAAAAAMDayEC4HoXrMVjlQPYoXI9CadJAzczMzLwd2UBI4XoUHifbQNejcD0aFNVAzczMzEwK10D2KFyP0tLUQFyPwvWoPbtA16NwPZo73EAAAAAAAOPaQBSuR+EqpNhAzczMzKwQ3kCamZmZ2WzSQNejcD0aHtVAzczMzKwr3UDNzMzM7CPfQLgeheuxP+1A7FG4HnVH2UBmZmZmBujCQGZmZmZWb+FAFa5H4cKo5kBxPQrXWw7gQD0K16Ng0N5A16NwPWrk2EApXI/CxanXQMP1KFzfkt5AhetRuJ6z30BSuB6FO1/VQB+F61EY/99ArkfhetSq1EDNzMzMTOK8QJqZmZmpxNFAuB6F63EPzkBxPQrXI3LbQHsUrkchYc1A9ihcj+IJ2UAK16NwfdHPQB+F61GIjuBAH4XrUQh83UCPwvUozPPkQHE9CtejcOxAFa5H4RpcyECkcD0Kx0HTQKRwPQrPRuBAexSuR7EC5kB7FK5H8YzfQIXrUbjOnNJAUrgehYvq1UCF61G4LobZQNejcD2qYtNAFK5H4Zqs1EBxPQrXMwfWQBWuR+HaSs9ACtejcH2qu0CamZmZGTLKQOF6FK4X0d1APQrXo1CNyEB7FK5H4WHkQOxRuB6lzsdAcT0K12OQt0AVrkfhSkLeQD4K16MQYtlAhetRuB5s1kDXo3A9aj3bQDMzMzOTJdFAhetRuN5pt0C4HoXrAZzTQI/C9SgMh9FAZmZmZjb60kDXo3A9OkXfQGZmZmamKMdAZmZmZqaP0ECkcD0Kl4DVQPYoXI/iwOZASOF6FD5x2kAK16Nwra7dQPYoXI/ilMxAFa5H4Tor2kBxPQrX0znTQNNNYhBA49BArkfhetRR1kBxPQrXy3bqQKRwPQon1tBAexSuRylO4ECamZmZGVjTQDMzMzNDzdNAexSuR3H+2UBSuB6F80/uQJqZmZlZXNNAKVyPwvWYvUDhehSup0vTQOF6FK5HWdlAcT0K12Nl00AK16NwRY7qQBWuR+GKjNFAuB6F65FWtkBI4XoU/tbQQFK4HoXrZs9ArkfhejTQ50C4HoXrWWjqQClcj8Ll7tBAUrgehWtzzEBSuB6Fy+3cQKRwPQrH39VAH4XrUSDb4kD2KFyP0vfVQFyPwvXoi9dAcT0K14MaxUAVrkfh2kDBQClcj8I1D9RAzczMzEQ/4kAzMzMzQ5bdQLgehetBm9BAZmZmZlZu4UCuR+F69OXYQBWuR+Hac9VAMzMzMxOl1kCamZmZiY3YQArXo3D1VuFAmpmZmVlV20AAAAAASITnQM3MzMz8gtVAhetRuJqT8UCF61G4PrTWQArXo3DdwM5ApHA9CufB5kBcj8L1vED5QLgehevhzOJAUrgehatB7EBmZmZmRgnfQKrx0k0qo95A/Knx0nWk3ECkcD0Kl5bcQK5H4Xo8EuNAcT0K1yvX5UBI4XoULozjQJqZmZl5n8ZAZmZmZn5o7kBmZmZmRuTiQBSuR+HGF/JAmpmZmXl87UAK16NwdQToQOF6FK5nWchA16NwPQoJ5UA9CtejmKzmQOF6FK7XFNtAKVyPwuUh4EBSuB6FK1/fQArXo3C9ftVA4XoUrqfz5kDNzMzMzDbiQD0K16OwOuJAuB6F6wHR7UAfhetRKIDtQK5H4XqUGchAXI/C9Wgy40BmZmZmfrHhQNejcD1q0OBArkfheqRD60DXo3A9UjXiQMP1KFxn4eBA16NwPRIj4EBxPQrXM3PcQGZmZmbW6eJAUrgehQOg7UDhehSuZ2TrQBWuR+Gq9+RAw/UoXM8a3EBxPQrX47LiQClcj8IlBu5APQrXoxQ38UBxPQrXKxviQLgehevx79tAhetRuDaz7EAAAAAAIE7nQB+F61H4pudAmpmZmalJ60AAAAAA6PHhQBWuR+G6e91Aj8L1KKQi5kCuR+F6HEDoQBSuR+G+kvFAUrgehWPW4kDXo3A9qgzaQArXo3A95dBACtejcPVO6UApXI/CddrnQMP1KFwnQeRA4XoUrr++5UBI4XoUNtXlQArXo3D95dNAhetRuEZr7EB7FK5HAYjmQMP1KFyj7vBA7FG4Hu2q6EDXo3A96oAGQQ==",
          "dtype": "f8"
         },
         "xaxis": "x",
         "yaxis": "y"
        }
       ],
       "layout": {
        "barmode": "relative",
        "legend": {
         "tracegroupgap": 0
        },
        "margin": {
         "t": 60
        },
        "template": {
         "data": {
          "bar": [
           {
            "error_x": {
             "color": "#f2f5fa"
            },
            "error_y": {
             "color": "#f2f5fa"
            },
            "marker": {
             "line": {
              "color": "rgb(17,17,17)",
              "width": 0.5
             },
             "pattern": {
              "fillmode": "overlay",
              "size": 10,
              "solidity": 0.2
             }
            },
            "type": "bar"
           }
          ],
          "barpolar": [
           {
            "marker": {
             "line": {
              "color": "rgb(17,17,17)",
              "width": 0.5
             },
             "pattern": {
              "fillmode": "overlay",
              "size": 10,
              "solidity": 0.2
             }
            },
            "type": "barpolar"
           }
          ],
          "carpet": [
           {
            "aaxis": {
             "endlinecolor": "#A2B1C6",
             "gridcolor": "#506784",
             "linecolor": "#506784",
             "minorgridcolor": "#506784",
             "startlinecolor": "#A2B1C6"
            },
            "baxis": {
             "endlinecolor": "#A2B1C6",
             "gridcolor": "#506784",
             "linecolor": "#506784",
             "minorgridcolor": "#506784",
             "startlinecolor": "#A2B1C6"
            },
            "type": "carpet"
           }
          ],
          "choropleth": [
           {
            "colorbar": {
             "outlinewidth": 0,
             "ticks": ""
            },
            "type": "choropleth"
           }
          ],
          "contour": [
           {
            "colorbar": {
             "outlinewidth": 0,
             "ticks": ""
            },
            "colorscale": [
             [
              0,
              "#0d0887"
             ],
             [
              0.1111111111111111,
              "#46039f"
             ],
             [
              0.2222222222222222,
              "#7201a8"
             ],
             [
              0.3333333333333333,
              "#9c179e"
             ],
             [
              0.4444444444444444,
              "#bd3786"
             ],
             [
              0.5555555555555556,
              "#d8576b"
             ],
             [
              0.6666666666666666,
              "#ed7953"
             ],
             [
              0.7777777777777778,
              "#fb9f3a"
             ],
             [
              0.8888888888888888,
              "#fdca26"
             ],
             [
              1,
              "#f0f921"
             ]
            ],
            "type": "contour"
           }
          ],
          "contourcarpet": [
           {
            "colorbar": {
             "outlinewidth": 0,
             "ticks": ""
            },
            "type": "contourcarpet"
           }
          ],
          "heatmap": [
           {
            "colorbar": {
             "outlinewidth": 0,
             "ticks": ""
            },
            "colorscale": [
             [
              0,
              "#0d0887"
             ],
             [
              0.1111111111111111,
              "#46039f"
             ],
             [
              0.2222222222222222,
              "#7201a8"
             ],
             [
              0.3333333333333333,
              "#9c179e"
             ],
             [
              0.4444444444444444,
              "#bd3786"
             ],
             [
              0.5555555555555556,
              "#d8576b"
             ],
             [
              0.6666666666666666,
              "#ed7953"
             ],
             [
              0.7777777777777778,
              "#fb9f3a"
             ],
             [
              0.8888888888888888,
              "#fdca26"
             ],
             [
              1,
              "#f0f921"
             ]
            ],
            "type": "heatmap"
           }
          ],
          "histogram": [
           {
            "marker": {
             "pattern": {
              "fillmode": "overlay",
              "size": 10,
              "solidity": 0.2
             }
            },
            "type": "histogram"
           }
          ],
          "histogram2d": [
           {
            "colorbar": {
             "outlinewidth": 0,
             "ticks": ""
            },
            "colorscale": [
             [
              0,
              "#0d0887"
             ],
             [
              0.1111111111111111,
              "#46039f"
             ],
             [
              0.2222222222222222,
              "#7201a8"
             ],
             [
              0.3333333333333333,
              "#9c179e"
             ],
             [
              0.4444444444444444,
              "#bd3786"
             ],
             [
              0.5555555555555556,
              "#d8576b"
             ],
             [
              0.6666666666666666,
              "#ed7953"
             ],
             [
              0.7777777777777778,
              "#fb9f3a"
             ],
             [
              0.8888888888888888,
              "#fdca26"
             ],
             [
              1,
              "#f0f921"
             ]
            ],
            "type": "histogram2d"
           }
          ],
          "histogram2dcontour": [
           {
            "colorbar": {
             "outlinewidth": 0,
             "ticks": ""
            },
            "colorscale": [
             [
              0,
              "#0d0887"
             ],
             [
              0.1111111111111111,
              "#46039f"
             ],
             [
              0.2222222222222222,
              "#7201a8"
             ],
             [
              0.3333333333333333,
              "#9c179e"
             ],
             [
              0.4444444444444444,
              "#bd3786"
             ],
             [
              0.5555555555555556,
              "#d8576b"
             ],
             [
              0.6666666666666666,
              "#ed7953"
             ],
             [
              0.7777777777777778,
              "#fb9f3a"
             ],
             [
              0.8888888888888888,
              "#fdca26"
             ],
             [
              1,
              "#f0f921"
             ]
            ],
            "type": "histogram2dcontour"
           }
          ],
          "mesh3d": [
           {
            "colorbar": {
             "outlinewidth": 0,
             "ticks": ""
            },
            "type": "mesh3d"
           }
          ],
          "parcoords": [
           {
            "line": {
             "colorbar": {
              "outlinewidth": 0,
              "ticks": ""
             }
            },
            "type": "parcoords"
           }
          ],
          "pie": [
           {
            "automargin": true,
            "type": "pie"
           }
          ],
          "scatter": [
           {
            "marker": {
             "line": {
              "color": "#283442"
             }
            },
            "type": "scatter"
           }
          ],
          "scatter3d": [
           {
            "line": {
             "colorbar": {
              "outlinewidth": 0,
              "ticks": ""
             }
            },
            "marker": {
             "colorbar": {
              "outlinewidth": 0,
              "ticks": ""
             }
            },
            "type": "scatter3d"
           }
          ],
          "scattercarpet": [
           {
            "marker": {
             "colorbar": {
              "outlinewidth": 0,
              "ticks": ""
             }
            },
            "type": "scattercarpet"
           }
          ],
          "scattergeo": [
           {
            "marker": {
             "colorbar": {
              "outlinewidth": 0,
              "ticks": ""
             }
            },
            "type": "scattergeo"
           }
          ],
          "scattergl": [
           {
            "marker": {
             "line": {
              "color": "#283442"
             }
            },
            "type": "scattergl"
           }
          ],
          "scattermap": [
           {
            "marker": {
             "colorbar": {
              "outlinewidth": 0,
              "ticks": ""
             }
            },
            "type": "scattermap"
           }
          ],
          "scattermapbox": [
           {
            "marker": {
             "colorbar": {
              "outlinewidth": 0,
              "ticks": ""
             }
            },
            "type": "scattermapbox"
           }
          ],
          "scatterpolar": [
           {
            "marker": {
             "colorbar": {
              "outlinewidth": 0,
              "ticks": ""
             }
            },
            "type": "scatterpolar"
           }
          ],
          "scatterpolargl": [
           {
            "marker": {
             "colorbar": {
              "outlinewidth": 0,
              "ticks": ""
             }
            },
            "type": "scatterpolargl"
           }
          ],
          "scatterternary": [
           {
            "marker": {
             "colorbar": {
              "outlinewidth": 0,
              "ticks": ""
             }
            },
            "type": "scatterternary"
           }
          ],
          "surface": [
           {
            "colorbar": {
             "outlinewidth": 0,
             "ticks": ""
            },
            "colorscale": [
             [
              0,
              "#0d0887"
             ],
             [
              0.1111111111111111,
              "#46039f"
             ],
             [
              0.2222222222222222,
              "#7201a8"
             ],
             [
              0.3333333333333333,
              "#9c179e"
             ],
             [
              0.4444444444444444,
              "#bd3786"
             ],
             [
              0.5555555555555556,
              "#d8576b"
             ],
             [
              0.6666666666666666,
              "#ed7953"
             ],
             [
              0.7777777777777778,
              "#fb9f3a"
             ],
             [
              0.8888888888888888,
              "#fdca26"
             ],
             [
              1,
              "#f0f921"
             ]
            ],
            "type": "surface"
           }
          ],
          "table": [
           {
            "cells": {
             "fill": {
              "color": "#506784"
             },
             "line": {
              "color": "rgb(17,17,17)"
             }
            },
            "header": {
             "fill": {
              "color": "#2a3f5f"
             },
             "line": {
              "color": "rgb(17,17,17)"
             }
            },
            "type": "table"
           }
          ]
         },
         "layout": {
          "annotationdefaults": {
           "arrowcolor": "#f2f5fa",
           "arrowhead": 0,
           "arrowwidth": 1
          },
          "autotypenumbers": "strict",
          "coloraxis": {
           "colorbar": {
            "outlinewidth": 0,
            "ticks": ""
           }
          },
          "colorscale": {
           "diverging": [
            [
             0,
             "#8e0152"
            ],
            [
             0.1,
             "#c51b7d"
            ],
            [
             0.2,
             "#de77ae"
            ],
            [
             0.3,
             "#f1b6da"
            ],
            [
             0.4,
             "#fde0ef"
            ],
            [
             0.5,
             "#f7f7f7"
            ],
            [
             0.6,
             "#e6f5d0"
            ],
            [
             0.7,
             "#b8e186"
            ],
            [
             0.8,
             "#7fbc41"
            ],
            [
             0.9,
             "#4d9221"
            ],
            [
             1,
             "#276419"
            ]
           ],
           "sequential": [
            [
             0,
             "#0d0887"
            ],
            [
             0.1111111111111111,
             "#46039f"
            ],
            [
             0.2222222222222222,
             "#7201a8"
            ],
            [
             0.3333333333333333,
             "#9c179e"
            ],
            [
             0.4444444444444444,
             "#bd3786"
            ],
            [
             0.5555555555555556,
             "#d8576b"
            ],
            [
             0.6666666666666666,
             "#ed7953"
            ],
            [
             0.7777777777777778,
             "#fb9f3a"
            ],
            [
             0.8888888888888888,
             "#fdca26"
            ],
            [
             1,
             "#f0f921"
            ]
           ],
           "sequentialminus": [
            [
             0,
             "#0d0887"
            ],
            [
             0.1111111111111111,
             "#46039f"
            ],
            [
             0.2222222222222222,
             "#7201a8"
            ],
            [
             0.3333333333333333,
             "#9c179e"
            ],
            [
             0.4444444444444444,
             "#bd3786"
            ],
            [
             0.5555555555555556,
             "#d8576b"
            ],
            [
             0.6666666666666666,
             "#ed7953"
            ],
            [
             0.7777777777777778,
             "#fb9f3a"
            ],
            [
             0.8888888888888888,
             "#fdca26"
            ],
            [
             1,
             "#f0f921"
            ]
           ]
          },
          "colorway": [
           "#636efa",
           "#EF553B",
           "#00cc96",
           "#ab63fa",
           "#FFA15A",
           "#19d3f3",
           "#FF6692",
           "#B6E880",
           "#FF97FF",
           "#FECB52"
          ],
          "font": {
           "color": "#f2f5fa"
          },
          "geo": {
           "bgcolor": "rgb(17,17,17)",
           "lakecolor": "rgb(17,17,17)",
           "landcolor": "rgb(17,17,17)",
           "showlakes": true,
           "showland": true,
           "subunitcolor": "#506784"
          },
          "hoverlabel": {
           "align": "left"
          },
          "hovermode": "closest",
          "mapbox": {
           "style": "dark"
          },
          "paper_bgcolor": "rgb(17,17,17)",
          "plot_bgcolor": "rgb(17,17,17)",
          "polar": {
           "angularaxis": {
            "gridcolor": "#506784",
            "linecolor": "#506784",
            "ticks": ""
           },
           "bgcolor": "rgb(17,17,17)",
           "radialaxis": {
            "gridcolor": "#506784",
            "linecolor": "#506784",
            "ticks": ""
           }
          },
          "scene": {
           "xaxis": {
            "backgroundcolor": "rgb(17,17,17)",
            "gridcolor": "#506784",
            "gridwidth": 2,
            "linecolor": "#506784",
            "showbackground": true,
            "ticks": "",
            "zerolinecolor": "#C8D4E3"
           },
           "yaxis": {
            "backgroundcolor": "rgb(17,17,17)",
            "gridcolor": "#506784",
            "gridwidth": 2,
            "linecolor": "#506784",
            "showbackground": true,
            "ticks": "",
            "zerolinecolor": "#C8D4E3"
           },
           "zaxis": {
            "backgroundcolor": "rgb(17,17,17)",
            "gridcolor": "#506784",
            "gridwidth": 2,
            "linecolor": "#506784",
            "showbackground": true,
            "ticks": "",
            "zerolinecolor": "#C8D4E3"
           }
          },
          "shapedefaults": {
           "line": {
            "color": "#f2f5fa"
           }
          },
          "sliderdefaults": {
           "bgcolor": "#C8D4E3",
           "bordercolor": "rgb(17,17,17)",
           "borderwidth": 1,
           "tickwidth": 0
          },
          "ternary": {
           "aaxis": {
            "gridcolor": "#506784",
            "linecolor": "#506784",
            "ticks": ""
           },
           "baxis": {
            "gridcolor": "#506784",
            "linecolor": "#506784",
            "ticks": ""
           },
           "bgcolor": "rgb(17,17,17)",
           "caxis": {
            "gridcolor": "#506784",
            "linecolor": "#506784",
            "ticks": ""
           }
          },
          "title": {
           "x": 0.05
          },
          "updatemenudefaults": {
           "bgcolor": "#506784",
           "borderwidth": 0
          },
          "xaxis": {
           "automargin": true,
           "gridcolor": "#283442",
           "linecolor": "#506784",
           "ticks": "",
           "title": {
            "standoff": 15
           },
           "zerolinecolor": "#283442",
           "zerolinewidth": 2
          },
          "yaxis": {
           "automargin": true,
           "gridcolor": "#283442",
           "linecolor": "#506784",
           "ticks": "",
           "title": {
            "standoff": 15
           },
           "zerolinecolor": "#283442",
           "zerolinewidth": 2
          }
         }
        },
        "xaxis": {
         "anchor": "y",
         "domain": [
          0,
          1
         ],
         "title": {
          "text": "TotalPrice"
         }
        },
        "yaxis": {
         "anchor": "x",
         "domain": [
          0,
          1
         ],
         "title": {
          "text": "count"
         }
        }
       }
      }
     },
     "metadata": {},
     "output_type": "display_data"
    }
   ],
   "source": [
    "px.histogram(\n",
    "    retail_perday,\n",
    "    x=total_price,\n",
    "    nbins=40,\n",
    "    color_discrete_sequence=['tomato']\n",
    ")"
   ]
  },
  {
   "cell_type": "code",
   "execution_count": 192,
   "id": "b4170dd9",
   "metadata": {},
   "outputs": [
    {
     "data": {
      "application/vnd.plotly.v1+json": {
       "config": {
        "plotlyServerURL": "https://plot.ly"
       },
       "data": [
        {
         "hovertemplate": "Country=%{x}<br>TotalPrice=%{y}<extra></extra>",
         "legendgroup": "",
         "marker": {
          "color": "#636efa",
          "pattern": {
           "shape": ""
          }
         },
         "name": "",
         "orientation": "v",
         "showlegend": false,
         "textposition": "auto",
         "type": "bar",
         "x": [
          "Australia",
          "Austria",
          "Bahrain",
          "Belgium",
          "Brazil",
          "Canada",
          "Channel Islands",
          "Cyprus",
          "Czech Republic",
          "Denmark",
          "EIRE",
          "European Community",
          "Finland",
          "France",
          "Germany",
          "Greece",
          "Iceland",
          "Israel",
          "Italy",
          "Japan",
          "Lebanon",
          "Lithuania",
          "Malta",
          "Netherlands",
          "Norway",
          "Poland",
          "Portugal",
          "RSA",
          "Saudi Arabia",
          "Singapore",
          "Spain",
          "Sweden",
          "Switzerland",
          "USA",
          "United Arab Emirates",
          "United Kingdom",
          "Unspecified"
         ],
         "xaxis": "x",
         "y": {
          "bdata": "hz6c11E5XUDuvTt59J85QCEhISEhIUBAYp1wQKVINEBmZmZmZt5BQCkVOHvZRzhAl9P4wBRXO0Ay+6/sWCI2QJvmHafoiEBA5qHO5fTwSEDY6CoJCFhCQLy7u7u7qzVAUCVAef10QEDTIi01jA45QPzESIDCTzlAFUqP22NqQEDnaq7maq43QCZdatKlHj1AG7oIP6EQN0CUZ7ks9iNdQHVtM8Yl0kJAwA2z1Lu6R0BSuB6F61U4QNNvvAwXM15A6ccs8ULeQECakJ4J6Tk2QPNTPWJp3zZAbRnYLP1HMUA20GkDnTYwQLaUbPGR9ldASvpRso7HOECWYWIZJkZVQFkYkmyLpD5Aevm1yY4ANEC57B9Thvk7QCDdqcsEoDRAGg58iXncJUA=",
          "dtype": "f8"
         },
         "yaxis": "y"
        }
       ],
       "layout": {
        "barmode": "relative",
        "legend": {
         "tracegroupgap": 0
        },
        "margin": {
         "t": 60
        },
        "template": {
         "data": {
          "bar": [
           {
            "error_x": {
             "color": "#f2f5fa"
            },
            "error_y": {
             "color": "#f2f5fa"
            },
            "marker": {
             "line": {
              "color": "rgb(17,17,17)",
              "width": 0.5
             },
             "pattern": {
              "fillmode": "overlay",
              "size": 10,
              "solidity": 0.2
             }
            },
            "type": "bar"
           }
          ],
          "barpolar": [
           {
            "marker": {
             "line": {
              "color": "rgb(17,17,17)",
              "width": 0.5
             },
             "pattern": {
              "fillmode": "overlay",
              "size": 10,
              "solidity": 0.2
             }
            },
            "type": "barpolar"
           }
          ],
          "carpet": [
           {
            "aaxis": {
             "endlinecolor": "#A2B1C6",
             "gridcolor": "#506784",
             "linecolor": "#506784",
             "minorgridcolor": "#506784",
             "startlinecolor": "#A2B1C6"
            },
            "baxis": {
             "endlinecolor": "#A2B1C6",
             "gridcolor": "#506784",
             "linecolor": "#506784",
             "minorgridcolor": "#506784",
             "startlinecolor": "#A2B1C6"
            },
            "type": "carpet"
           }
          ],
          "choropleth": [
           {
            "colorbar": {
             "outlinewidth": 0,
             "ticks": ""
            },
            "type": "choropleth"
           }
          ],
          "contour": [
           {
            "colorbar": {
             "outlinewidth": 0,
             "ticks": ""
            },
            "colorscale": [
             [
              0,
              "#0d0887"
             ],
             [
              0.1111111111111111,
              "#46039f"
             ],
             [
              0.2222222222222222,
              "#7201a8"
             ],
             [
              0.3333333333333333,
              "#9c179e"
             ],
             [
              0.4444444444444444,
              "#bd3786"
             ],
             [
              0.5555555555555556,
              "#d8576b"
             ],
             [
              0.6666666666666666,
              "#ed7953"
             ],
             [
              0.7777777777777778,
              "#fb9f3a"
             ],
             [
              0.8888888888888888,
              "#fdca26"
             ],
             [
              1,
              "#f0f921"
             ]
            ],
            "type": "contour"
           }
          ],
          "contourcarpet": [
           {
            "colorbar": {
             "outlinewidth": 0,
             "ticks": ""
            },
            "type": "contourcarpet"
           }
          ],
          "heatmap": [
           {
            "colorbar": {
             "outlinewidth": 0,
             "ticks": ""
            },
            "colorscale": [
             [
              0,
              "#0d0887"
             ],
             [
              0.1111111111111111,
              "#46039f"
             ],
             [
              0.2222222222222222,
              "#7201a8"
             ],
             [
              0.3333333333333333,
              "#9c179e"
             ],
             [
              0.4444444444444444,
              "#bd3786"
             ],
             [
              0.5555555555555556,
              "#d8576b"
             ],
             [
              0.6666666666666666,
              "#ed7953"
             ],
             [
              0.7777777777777778,
              "#fb9f3a"
             ],
             [
              0.8888888888888888,
              "#fdca26"
             ],
             [
              1,
              "#f0f921"
             ]
            ],
            "type": "heatmap"
           }
          ],
          "histogram": [
           {
            "marker": {
             "pattern": {
              "fillmode": "overlay",
              "size": 10,
              "solidity": 0.2
             }
            },
            "type": "histogram"
           }
          ],
          "histogram2d": [
           {
            "colorbar": {
             "outlinewidth": 0,
             "ticks": ""
            },
            "colorscale": [
             [
              0,
              "#0d0887"
             ],
             [
              0.1111111111111111,
              "#46039f"
             ],
             [
              0.2222222222222222,
              "#7201a8"
             ],
             [
              0.3333333333333333,
              "#9c179e"
             ],
             [
              0.4444444444444444,
              "#bd3786"
             ],
             [
              0.5555555555555556,
              "#d8576b"
             ],
             [
              0.6666666666666666,
              "#ed7953"
             ],
             [
              0.7777777777777778,
              "#fb9f3a"
             ],
             [
              0.8888888888888888,
              "#fdca26"
             ],
             [
              1,
              "#f0f921"
             ]
            ],
            "type": "histogram2d"
           }
          ],
          "histogram2dcontour": [
           {
            "colorbar": {
             "outlinewidth": 0,
             "ticks": ""
            },
            "colorscale": [
             [
              0,
              "#0d0887"
             ],
             [
              0.1111111111111111,
              "#46039f"
             ],
             [
              0.2222222222222222,
              "#7201a8"
             ],
             [
              0.3333333333333333,
              "#9c179e"
             ],
             [
              0.4444444444444444,
              "#bd3786"
             ],
             [
              0.5555555555555556,
              "#d8576b"
             ],
             [
              0.6666666666666666,
              "#ed7953"
             ],
             [
              0.7777777777777778,
              "#fb9f3a"
             ],
             [
              0.8888888888888888,
              "#fdca26"
             ],
             [
              1,
              "#f0f921"
             ]
            ],
            "type": "histogram2dcontour"
           }
          ],
          "mesh3d": [
           {
            "colorbar": {
             "outlinewidth": 0,
             "ticks": ""
            },
            "type": "mesh3d"
           }
          ],
          "parcoords": [
           {
            "line": {
             "colorbar": {
              "outlinewidth": 0,
              "ticks": ""
             }
            },
            "type": "parcoords"
           }
          ],
          "pie": [
           {
            "automargin": true,
            "type": "pie"
           }
          ],
          "scatter": [
           {
            "marker": {
             "line": {
              "color": "#283442"
             }
            },
            "type": "scatter"
           }
          ],
          "scatter3d": [
           {
            "line": {
             "colorbar": {
              "outlinewidth": 0,
              "ticks": ""
             }
            },
            "marker": {
             "colorbar": {
              "outlinewidth": 0,
              "ticks": ""
             }
            },
            "type": "scatter3d"
           }
          ],
          "scattercarpet": [
           {
            "marker": {
             "colorbar": {
              "outlinewidth": 0,
              "ticks": ""
             }
            },
            "type": "scattercarpet"
           }
          ],
          "scattergeo": [
           {
            "marker": {
             "colorbar": {
              "outlinewidth": 0,
              "ticks": ""
             }
            },
            "type": "scattergeo"
           }
          ],
          "scattergl": [
           {
            "marker": {
             "line": {
              "color": "#283442"
             }
            },
            "type": "scattergl"
           }
          ],
          "scattermap": [
           {
            "marker": {
             "colorbar": {
              "outlinewidth": 0,
              "ticks": ""
             }
            },
            "type": "scattermap"
           }
          ],
          "scattermapbox": [
           {
            "marker": {
             "colorbar": {
              "outlinewidth": 0,
              "ticks": ""
             }
            },
            "type": "scattermapbox"
           }
          ],
          "scatterpolar": [
           {
            "marker": {
             "colorbar": {
              "outlinewidth": 0,
              "ticks": ""
             }
            },
            "type": "scatterpolar"
           }
          ],
          "scatterpolargl": [
           {
            "marker": {
             "colorbar": {
              "outlinewidth": 0,
              "ticks": ""
             }
            },
            "type": "scatterpolargl"
           }
          ],
          "scatterternary": [
           {
            "marker": {
             "colorbar": {
              "outlinewidth": 0,
              "ticks": ""
             }
            },
            "type": "scatterternary"
           }
          ],
          "surface": [
           {
            "colorbar": {
             "outlinewidth": 0,
             "ticks": ""
            },
            "colorscale": [
             [
              0,
              "#0d0887"
             ],
             [
              0.1111111111111111,
              "#46039f"
             ],
             [
              0.2222222222222222,
              "#7201a8"
             ],
             [
              0.3333333333333333,
              "#9c179e"
             ],
             [
              0.4444444444444444,
              "#bd3786"
             ],
             [
              0.5555555555555556,
              "#d8576b"
             ],
             [
              0.6666666666666666,
              "#ed7953"
             ],
             [
              0.7777777777777778,
              "#fb9f3a"
             ],
             [
              0.8888888888888888,
              "#fdca26"
             ],
             [
              1,
              "#f0f921"
             ]
            ],
            "type": "surface"
           }
          ],
          "table": [
           {
            "cells": {
             "fill": {
              "color": "#506784"
             },
             "line": {
              "color": "rgb(17,17,17)"
             }
            },
            "header": {
             "fill": {
              "color": "#2a3f5f"
             },
             "line": {
              "color": "rgb(17,17,17)"
             }
            },
            "type": "table"
           }
          ]
         },
         "layout": {
          "annotationdefaults": {
           "arrowcolor": "#f2f5fa",
           "arrowhead": 0,
           "arrowwidth": 1
          },
          "autotypenumbers": "strict",
          "coloraxis": {
           "colorbar": {
            "outlinewidth": 0,
            "ticks": ""
           }
          },
          "colorscale": {
           "diverging": [
            [
             0,
             "#8e0152"
            ],
            [
             0.1,
             "#c51b7d"
            ],
            [
             0.2,
             "#de77ae"
            ],
            [
             0.3,
             "#f1b6da"
            ],
            [
             0.4,
             "#fde0ef"
            ],
            [
             0.5,
             "#f7f7f7"
            ],
            [
             0.6,
             "#e6f5d0"
            ],
            [
             0.7,
             "#b8e186"
            ],
            [
             0.8,
             "#7fbc41"
            ],
            [
             0.9,
             "#4d9221"
            ],
            [
             1,
             "#276419"
            ]
           ],
           "sequential": [
            [
             0,
             "#0d0887"
            ],
            [
             0.1111111111111111,
             "#46039f"
            ],
            [
             0.2222222222222222,
             "#7201a8"
            ],
            [
             0.3333333333333333,
             "#9c179e"
            ],
            [
             0.4444444444444444,
             "#bd3786"
            ],
            [
             0.5555555555555556,
             "#d8576b"
            ],
            [
             0.6666666666666666,
             "#ed7953"
            ],
            [
             0.7777777777777778,
             "#fb9f3a"
            ],
            [
             0.8888888888888888,
             "#fdca26"
            ],
            [
             1,
             "#f0f921"
            ]
           ],
           "sequentialminus": [
            [
             0,
             "#0d0887"
            ],
            [
             0.1111111111111111,
             "#46039f"
            ],
            [
             0.2222222222222222,
             "#7201a8"
            ],
            [
             0.3333333333333333,
             "#9c179e"
            ],
            [
             0.4444444444444444,
             "#bd3786"
            ],
            [
             0.5555555555555556,
             "#d8576b"
            ],
            [
             0.6666666666666666,
             "#ed7953"
            ],
            [
             0.7777777777777778,
             "#fb9f3a"
            ],
            [
             0.8888888888888888,
             "#fdca26"
            ],
            [
             1,
             "#f0f921"
            ]
           ]
          },
          "colorway": [
           "#636efa",
           "#EF553B",
           "#00cc96",
           "#ab63fa",
           "#FFA15A",
           "#19d3f3",
           "#FF6692",
           "#B6E880",
           "#FF97FF",
           "#FECB52"
          ],
          "font": {
           "color": "#f2f5fa"
          },
          "geo": {
           "bgcolor": "rgb(17,17,17)",
           "lakecolor": "rgb(17,17,17)",
           "landcolor": "rgb(17,17,17)",
           "showlakes": true,
           "showland": true,
           "subunitcolor": "#506784"
          },
          "hoverlabel": {
           "align": "left"
          },
          "hovermode": "closest",
          "mapbox": {
           "style": "dark"
          },
          "paper_bgcolor": "rgb(17,17,17)",
          "plot_bgcolor": "rgb(17,17,17)",
          "polar": {
           "angularaxis": {
            "gridcolor": "#506784",
            "linecolor": "#506784",
            "ticks": ""
           },
           "bgcolor": "rgb(17,17,17)",
           "radialaxis": {
            "gridcolor": "#506784",
            "linecolor": "#506784",
            "ticks": ""
           }
          },
          "scene": {
           "xaxis": {
            "backgroundcolor": "rgb(17,17,17)",
            "gridcolor": "#506784",
            "gridwidth": 2,
            "linecolor": "#506784",
            "showbackground": true,
            "ticks": "",
            "zerolinecolor": "#C8D4E3"
           },
           "yaxis": {
            "backgroundcolor": "rgb(17,17,17)",
            "gridcolor": "#506784",
            "gridwidth": 2,
            "linecolor": "#506784",
            "showbackground": true,
            "ticks": "",
            "zerolinecolor": "#C8D4E3"
           },
           "zaxis": {
            "backgroundcolor": "rgb(17,17,17)",
            "gridcolor": "#506784",
            "gridwidth": 2,
            "linecolor": "#506784",
            "showbackground": true,
            "ticks": "",
            "zerolinecolor": "#C8D4E3"
           }
          },
          "shapedefaults": {
           "line": {
            "color": "#f2f5fa"
           }
          },
          "sliderdefaults": {
           "bgcolor": "#C8D4E3",
           "bordercolor": "rgb(17,17,17)",
           "borderwidth": 1,
           "tickwidth": 0
          },
          "ternary": {
           "aaxis": {
            "gridcolor": "#506784",
            "linecolor": "#506784",
            "ticks": ""
           },
           "baxis": {
            "gridcolor": "#506784",
            "linecolor": "#506784",
            "ticks": ""
           },
           "bgcolor": "rgb(17,17,17)",
           "caxis": {
            "gridcolor": "#506784",
            "linecolor": "#506784",
            "ticks": ""
           }
          },
          "title": {
           "x": 0.05
          },
          "updatemenudefaults": {
           "bgcolor": "#506784",
           "borderwidth": 0
          },
          "xaxis": {
           "automargin": true,
           "gridcolor": "#283442",
           "linecolor": "#506784",
           "ticks": "",
           "title": {
            "standoff": 15
           },
           "zerolinecolor": "#283442",
           "zerolinewidth": 2
          },
          "yaxis": {
           "automargin": true,
           "gridcolor": "#283442",
           "linecolor": "#506784",
           "ticks": "",
           "title": {
            "standoff": 15
           },
           "zerolinecolor": "#283442",
           "zerolinewidth": 2
          }
         }
        },
        "xaxis": {
         "anchor": "y",
         "domain": [
          0,
          1
         ],
         "title": {
          "text": "Country"
         }
        },
        "yaxis": {
         "anchor": "x",
         "domain": [
          0,
          1
         ],
         "title": {
          "text": "TotalPrice"
         }
        }
       }
      }
     },
     "metadata": {},
     "output_type": "display_data"
    }
   ],
   "source": [
    "country_wise = data.groupby(country)[total_price].mean().reset_index()\n",
    "\n",
    "px.bar(\n",
    "    # country_wise[country_wise[country] != 'United Kingdom'],\n",
    "    country_wise,\n",
    "    x=country,\n",
    "    y=total_price,\n",
    ")"
   ]
  },
  {
   "cell_type": "code",
   "execution_count": 194,
   "id": "fa5aba6d",
   "metadata": {},
   "outputs": [
    {
     "data": {
      "application/vnd.plotly.v1+json": {
       "config": {
        "plotlyServerURL": "https://plot.ly"
       },
       "data": [
        {
         "alignmentgroup": "True",
         "hovertemplate": "TotalPrice=%{x}<extra></extra>",
         "legendgroup": "",
         "marker": {
          "color": "#636efa"
         },
         "name": "",
         "notched": false,
         "offsetgroup": "",
         "orientation": "h",
         "showlegend": false,
         "type": "box",
         "x": {
          "bdata": "hz6c11E5XUDuvTt59J85QCEhISEhIUBAYp1wQKVINEBmZmZmZt5BQCkVOHvZRzhAl9P4wBRXO0Ay+6/sWCI2QJvmHafoiEBA5qHO5fTwSEDY6CoJCFhCQLy7u7u7qzVAUCVAef10QEDTIi01jA45QPzESIDCTzlAFUqP22NqQEDnaq7maq43QCZdatKlHj1AG7oIP6EQN0CUZ7ks9iNdQHVtM8Yl0kJAwA2z1Lu6R0BSuB6F61U4QNNvvAwXM15A6ccs8ULeQECakJ4J6Tk2QPNTPWJp3zZAbRnYLP1HMUA20GkDnTYwQLaUbPGR9ldASvpRso7HOECWYWIZJkZVQFkYkmyLpD5Aevm1yY4ANEC57B9Thvk7QCDdqcsEoDRAGg58iXncJUA=",
          "dtype": "f8"
         },
         "x0": " ",
         "xaxis": "x",
         "y0": " ",
         "yaxis": "y"
        }
       ],
       "layout": {
        "boxmode": "group",
        "legend": {
         "tracegroupgap": 0
        },
        "margin": {
         "t": 60
        },
        "template": {
         "data": {
          "bar": [
           {
            "error_x": {
             "color": "#f2f5fa"
            },
            "error_y": {
             "color": "#f2f5fa"
            },
            "marker": {
             "line": {
              "color": "rgb(17,17,17)",
              "width": 0.5
             },
             "pattern": {
              "fillmode": "overlay",
              "size": 10,
              "solidity": 0.2
             }
            },
            "type": "bar"
           }
          ],
          "barpolar": [
           {
            "marker": {
             "line": {
              "color": "rgb(17,17,17)",
              "width": 0.5
             },
             "pattern": {
              "fillmode": "overlay",
              "size": 10,
              "solidity": 0.2
             }
            },
            "type": "barpolar"
           }
          ],
          "carpet": [
           {
            "aaxis": {
             "endlinecolor": "#A2B1C6",
             "gridcolor": "#506784",
             "linecolor": "#506784",
             "minorgridcolor": "#506784",
             "startlinecolor": "#A2B1C6"
            },
            "baxis": {
             "endlinecolor": "#A2B1C6",
             "gridcolor": "#506784",
             "linecolor": "#506784",
             "minorgridcolor": "#506784",
             "startlinecolor": "#A2B1C6"
            },
            "type": "carpet"
           }
          ],
          "choropleth": [
           {
            "colorbar": {
             "outlinewidth": 0,
             "ticks": ""
            },
            "type": "choropleth"
           }
          ],
          "contour": [
           {
            "colorbar": {
             "outlinewidth": 0,
             "ticks": ""
            },
            "colorscale": [
             [
              0,
              "#0d0887"
             ],
             [
              0.1111111111111111,
              "#46039f"
             ],
             [
              0.2222222222222222,
              "#7201a8"
             ],
             [
              0.3333333333333333,
              "#9c179e"
             ],
             [
              0.4444444444444444,
              "#bd3786"
             ],
             [
              0.5555555555555556,
              "#d8576b"
             ],
             [
              0.6666666666666666,
              "#ed7953"
             ],
             [
              0.7777777777777778,
              "#fb9f3a"
             ],
             [
              0.8888888888888888,
              "#fdca26"
             ],
             [
              1,
              "#f0f921"
             ]
            ],
            "type": "contour"
           }
          ],
          "contourcarpet": [
           {
            "colorbar": {
             "outlinewidth": 0,
             "ticks": ""
            },
            "type": "contourcarpet"
           }
          ],
          "heatmap": [
           {
            "colorbar": {
             "outlinewidth": 0,
             "ticks": ""
            },
            "colorscale": [
             [
              0,
              "#0d0887"
             ],
             [
              0.1111111111111111,
              "#46039f"
             ],
             [
              0.2222222222222222,
              "#7201a8"
             ],
             [
              0.3333333333333333,
              "#9c179e"
             ],
             [
              0.4444444444444444,
              "#bd3786"
             ],
             [
              0.5555555555555556,
              "#d8576b"
             ],
             [
              0.6666666666666666,
              "#ed7953"
             ],
             [
              0.7777777777777778,
              "#fb9f3a"
             ],
             [
              0.8888888888888888,
              "#fdca26"
             ],
             [
              1,
              "#f0f921"
             ]
            ],
            "type": "heatmap"
           }
          ],
          "histogram": [
           {
            "marker": {
             "pattern": {
              "fillmode": "overlay",
              "size": 10,
              "solidity": 0.2
             }
            },
            "type": "histogram"
           }
          ],
          "histogram2d": [
           {
            "colorbar": {
             "outlinewidth": 0,
             "ticks": ""
            },
            "colorscale": [
             [
              0,
              "#0d0887"
             ],
             [
              0.1111111111111111,
              "#46039f"
             ],
             [
              0.2222222222222222,
              "#7201a8"
             ],
             [
              0.3333333333333333,
              "#9c179e"
             ],
             [
              0.4444444444444444,
              "#bd3786"
             ],
             [
              0.5555555555555556,
              "#d8576b"
             ],
             [
              0.6666666666666666,
              "#ed7953"
             ],
             [
              0.7777777777777778,
              "#fb9f3a"
             ],
             [
              0.8888888888888888,
              "#fdca26"
             ],
             [
              1,
              "#f0f921"
             ]
            ],
            "type": "histogram2d"
           }
          ],
          "histogram2dcontour": [
           {
            "colorbar": {
             "outlinewidth": 0,
             "ticks": ""
            },
            "colorscale": [
             [
              0,
              "#0d0887"
             ],
             [
              0.1111111111111111,
              "#46039f"
             ],
             [
              0.2222222222222222,
              "#7201a8"
             ],
             [
              0.3333333333333333,
              "#9c179e"
             ],
             [
              0.4444444444444444,
              "#bd3786"
             ],
             [
              0.5555555555555556,
              "#d8576b"
             ],
             [
              0.6666666666666666,
              "#ed7953"
             ],
             [
              0.7777777777777778,
              "#fb9f3a"
             ],
             [
              0.8888888888888888,
              "#fdca26"
             ],
             [
              1,
              "#f0f921"
             ]
            ],
            "type": "histogram2dcontour"
           }
          ],
          "mesh3d": [
           {
            "colorbar": {
             "outlinewidth": 0,
             "ticks": ""
            },
            "type": "mesh3d"
           }
          ],
          "parcoords": [
           {
            "line": {
             "colorbar": {
              "outlinewidth": 0,
              "ticks": ""
             }
            },
            "type": "parcoords"
           }
          ],
          "pie": [
           {
            "automargin": true,
            "type": "pie"
           }
          ],
          "scatter": [
           {
            "marker": {
             "line": {
              "color": "#283442"
             }
            },
            "type": "scatter"
           }
          ],
          "scatter3d": [
           {
            "line": {
             "colorbar": {
              "outlinewidth": 0,
              "ticks": ""
             }
            },
            "marker": {
             "colorbar": {
              "outlinewidth": 0,
              "ticks": ""
             }
            },
            "type": "scatter3d"
           }
          ],
          "scattercarpet": [
           {
            "marker": {
             "colorbar": {
              "outlinewidth": 0,
              "ticks": ""
             }
            },
            "type": "scattercarpet"
           }
          ],
          "scattergeo": [
           {
            "marker": {
             "colorbar": {
              "outlinewidth": 0,
              "ticks": ""
             }
            },
            "type": "scattergeo"
           }
          ],
          "scattergl": [
           {
            "marker": {
             "line": {
              "color": "#283442"
             }
            },
            "type": "scattergl"
           }
          ],
          "scattermap": [
           {
            "marker": {
             "colorbar": {
              "outlinewidth": 0,
              "ticks": ""
             }
            },
            "type": "scattermap"
           }
          ],
          "scattermapbox": [
           {
            "marker": {
             "colorbar": {
              "outlinewidth": 0,
              "ticks": ""
             }
            },
            "type": "scattermapbox"
           }
          ],
          "scatterpolar": [
           {
            "marker": {
             "colorbar": {
              "outlinewidth": 0,
              "ticks": ""
             }
            },
            "type": "scatterpolar"
           }
          ],
          "scatterpolargl": [
           {
            "marker": {
             "colorbar": {
              "outlinewidth": 0,
              "ticks": ""
             }
            },
            "type": "scatterpolargl"
           }
          ],
          "scatterternary": [
           {
            "marker": {
             "colorbar": {
              "outlinewidth": 0,
              "ticks": ""
             }
            },
            "type": "scatterternary"
           }
          ],
          "surface": [
           {
            "colorbar": {
             "outlinewidth": 0,
             "ticks": ""
            },
            "colorscale": [
             [
              0,
              "#0d0887"
             ],
             [
              0.1111111111111111,
              "#46039f"
             ],
             [
              0.2222222222222222,
              "#7201a8"
             ],
             [
              0.3333333333333333,
              "#9c179e"
             ],
             [
              0.4444444444444444,
              "#bd3786"
             ],
             [
              0.5555555555555556,
              "#d8576b"
             ],
             [
              0.6666666666666666,
              "#ed7953"
             ],
             [
              0.7777777777777778,
              "#fb9f3a"
             ],
             [
              0.8888888888888888,
              "#fdca26"
             ],
             [
              1,
              "#f0f921"
             ]
            ],
            "type": "surface"
           }
          ],
          "table": [
           {
            "cells": {
             "fill": {
              "color": "#506784"
             },
             "line": {
              "color": "rgb(17,17,17)"
             }
            },
            "header": {
             "fill": {
              "color": "#2a3f5f"
             },
             "line": {
              "color": "rgb(17,17,17)"
             }
            },
            "type": "table"
           }
          ]
         },
         "layout": {
          "annotationdefaults": {
           "arrowcolor": "#f2f5fa",
           "arrowhead": 0,
           "arrowwidth": 1
          },
          "autotypenumbers": "strict",
          "coloraxis": {
           "colorbar": {
            "outlinewidth": 0,
            "ticks": ""
           }
          },
          "colorscale": {
           "diverging": [
            [
             0,
             "#8e0152"
            ],
            [
             0.1,
             "#c51b7d"
            ],
            [
             0.2,
             "#de77ae"
            ],
            [
             0.3,
             "#f1b6da"
            ],
            [
             0.4,
             "#fde0ef"
            ],
            [
             0.5,
             "#f7f7f7"
            ],
            [
             0.6,
             "#e6f5d0"
            ],
            [
             0.7,
             "#b8e186"
            ],
            [
             0.8,
             "#7fbc41"
            ],
            [
             0.9,
             "#4d9221"
            ],
            [
             1,
             "#276419"
            ]
           ],
           "sequential": [
            [
             0,
             "#0d0887"
            ],
            [
             0.1111111111111111,
             "#46039f"
            ],
            [
             0.2222222222222222,
             "#7201a8"
            ],
            [
             0.3333333333333333,
             "#9c179e"
            ],
            [
             0.4444444444444444,
             "#bd3786"
            ],
            [
             0.5555555555555556,
             "#d8576b"
            ],
            [
             0.6666666666666666,
             "#ed7953"
            ],
            [
             0.7777777777777778,
             "#fb9f3a"
            ],
            [
             0.8888888888888888,
             "#fdca26"
            ],
            [
             1,
             "#f0f921"
            ]
           ],
           "sequentialminus": [
            [
             0,
             "#0d0887"
            ],
            [
             0.1111111111111111,
             "#46039f"
            ],
            [
             0.2222222222222222,
             "#7201a8"
            ],
            [
             0.3333333333333333,
             "#9c179e"
            ],
            [
             0.4444444444444444,
             "#bd3786"
            ],
            [
             0.5555555555555556,
             "#d8576b"
            ],
            [
             0.6666666666666666,
             "#ed7953"
            ],
            [
             0.7777777777777778,
             "#fb9f3a"
            ],
            [
             0.8888888888888888,
             "#fdca26"
            ],
            [
             1,
             "#f0f921"
            ]
           ]
          },
          "colorway": [
           "#636efa",
           "#EF553B",
           "#00cc96",
           "#ab63fa",
           "#FFA15A",
           "#19d3f3",
           "#FF6692",
           "#B6E880",
           "#FF97FF",
           "#FECB52"
          ],
          "font": {
           "color": "#f2f5fa"
          },
          "geo": {
           "bgcolor": "rgb(17,17,17)",
           "lakecolor": "rgb(17,17,17)",
           "landcolor": "rgb(17,17,17)",
           "showlakes": true,
           "showland": true,
           "subunitcolor": "#506784"
          },
          "hoverlabel": {
           "align": "left"
          },
          "hovermode": "closest",
          "mapbox": {
           "style": "dark"
          },
          "paper_bgcolor": "rgb(17,17,17)",
          "plot_bgcolor": "rgb(17,17,17)",
          "polar": {
           "angularaxis": {
            "gridcolor": "#506784",
            "linecolor": "#506784",
            "ticks": ""
           },
           "bgcolor": "rgb(17,17,17)",
           "radialaxis": {
            "gridcolor": "#506784",
            "linecolor": "#506784",
            "ticks": ""
           }
          },
          "scene": {
           "xaxis": {
            "backgroundcolor": "rgb(17,17,17)",
            "gridcolor": "#506784",
            "gridwidth": 2,
            "linecolor": "#506784",
            "showbackground": true,
            "ticks": "",
            "zerolinecolor": "#C8D4E3"
           },
           "yaxis": {
            "backgroundcolor": "rgb(17,17,17)",
            "gridcolor": "#506784",
            "gridwidth": 2,
            "linecolor": "#506784",
            "showbackground": true,
            "ticks": "",
            "zerolinecolor": "#C8D4E3"
           },
           "zaxis": {
            "backgroundcolor": "rgb(17,17,17)",
            "gridcolor": "#506784",
            "gridwidth": 2,
            "linecolor": "#506784",
            "showbackground": true,
            "ticks": "",
            "zerolinecolor": "#C8D4E3"
           }
          },
          "shapedefaults": {
           "line": {
            "color": "#f2f5fa"
           }
          },
          "sliderdefaults": {
           "bgcolor": "#C8D4E3",
           "bordercolor": "rgb(17,17,17)",
           "borderwidth": 1,
           "tickwidth": 0
          },
          "ternary": {
           "aaxis": {
            "gridcolor": "#506784",
            "linecolor": "#506784",
            "ticks": ""
           },
           "baxis": {
            "gridcolor": "#506784",
            "linecolor": "#506784",
            "ticks": ""
           },
           "bgcolor": "rgb(17,17,17)",
           "caxis": {
            "gridcolor": "#506784",
            "linecolor": "#506784",
            "ticks": ""
           }
          },
          "title": {
           "x": 0.05
          },
          "updatemenudefaults": {
           "bgcolor": "#506784",
           "borderwidth": 0
          },
          "xaxis": {
           "automargin": true,
           "gridcolor": "#283442",
           "linecolor": "#506784",
           "ticks": "",
           "title": {
            "standoff": 15
           },
           "zerolinecolor": "#283442",
           "zerolinewidth": 2
          },
          "yaxis": {
           "automargin": true,
           "gridcolor": "#283442",
           "linecolor": "#506784",
           "ticks": "",
           "title": {
            "standoff": 15
           },
           "zerolinecolor": "#283442",
           "zerolinewidth": 2
          }
         }
        },
        "xaxis": {
         "anchor": "y",
         "domain": [
          0,
          1
         ],
         "title": {
          "text": "TotalPrice"
         }
        },
        "yaxis": {
         "anchor": "x",
         "domain": [
          0,
          1
         ]
        }
       }
      }
     },
     "metadata": {},
     "output_type": "display_data"
    }
   ],
   "source": [
    "px.box(country_wise, x=total_price)"
   ]
  },
  {
   "cell_type": "code",
   "execution_count": 198,
   "id": "086fe01c",
   "metadata": {},
   "outputs": [
    {
     "data": {
      "text/plain": [
       "count          37.00\n",
       "mean      240,848.86\n",
       "std     1,196,639.36\n",
       "min           145.92\n",
       "25%         2,667.07\n",
       "50%        13,590.38\n",
       "75%        38,378.33\n",
       "max     7,308,391.55\n",
       "Name: TotalPrice, dtype: float64"
      ]
     },
     "execution_count": 198,
     "metadata": {},
     "output_type": "execute_result"
    }
   ],
   "source": [
    "data.groupby(country)[total_price].sum().describe()"
   ]
  },
  {
   "cell_type": "code",
   "execution_count": null,
   "id": "c2d26ce6",
   "metadata": {},
   "outputs": [],
   "source": []
  }
 ],
 "metadata": {
  "kernelspec": {
   "display_name": "venv",
   "language": "python",
   "name": "python3"
  },
  "language_info": {
   "codemirror_mode": {
    "name": "ipython",
    "version": 3
   },
   "file_extension": ".py",
   "mimetype": "text/x-python",
   "name": "python",
   "nbconvert_exporter": "python",
   "pygments_lexer": "ipython3",
   "version": "3.11.4"
  }
 },
 "nbformat": 4,
 "nbformat_minor": 5
}
