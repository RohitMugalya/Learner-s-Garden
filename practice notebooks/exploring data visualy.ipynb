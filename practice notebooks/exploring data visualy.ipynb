{
 "cells": [
  {
   "cell_type": "code",
   "execution_count": 71,
   "metadata": {},
   "outputs": [],
   "source": [
    "import numpy as np\n",
    "import matplotlib.pyplot as plt\n",
    "import pandas as pd\n",
    "import seaborn as sns\n",
    "from qbstyles import mpl_style\n",
    "\n",
    "mpl_style(dark=True)"
   ]
  },
  {
   "cell_type": "code",
   "execution_count": 120,
   "metadata": {},
   "outputs": [],
   "source": [
    "def boxplot(\n",
    "        data,\n",
    "        box_color=\"darkcyan\",\n",
    "        whisker_color=\"white\", \n",
    "        median_color=\"black\",\n",
    "        flier_color=\"white\",\n",
    "        cap_color=\"white\",\n",
    "    ):\n",
    "    boxplot = plt.boxplot(data, patch_artist=True)\n",
    "    \n",
    "    attributes = {\"boxes\": box_color, \"whiskers\": whisker_color,\n",
    "                  \"medians\": median_color, \"fliers\": flier_color,\n",
    "                  \"caps\": cap_color}\n",
    "    \n",
    "    for attribute, color in attributes.items():\n",
    "        for box in boxplot[attribute]:\n",
    "            box.set_color(color)\n",
    "            box.set(linewidth=2)"
   ]
  },
  {
   "cell_type": "code",
   "execution_count": 178,
   "metadata": {},
   "outputs": [
    {
     "data": {
      "image/png": "[encoded data removed]",
      "text/plain": [
       "<Figure size 640x480 with 1 Axes>"
      ]
     },
     "metadata": {},
     "output_type": "display_data"
    }
   ],
   "source": [
    "size = 3\n",
    "data = np.random.randint(1, 100, size=size)\n",
    "data1 = np.random.randint(1, 1000, size=size)\n",
    "data2 = np.random.randint(1, 501, size=size)\n",
    "data3 = np.random.randint(1, 500, size=size)\n",
    "data = pd.Series(data)\n",
    "\n",
    "# print(data.describe())\n",
    "# print(data.min(), data.max())\n",
    "boxplot([data1, data2, data3], box_color=\"darkcyan\")"
   ]
  },
  {
   "cell_type": "code",
   "execution_count": null,
   "metadata": {},
   "outputs": [],
   "source": []
  }
 ],
 "metadata": {
  "kernelspec": {
   "display_name": "Python 3",
   "language": "python",
   "name": "python3"
  },
  "language_info": {
   "codemirror_mode": {
    "name": "ipython",
    "version": 3
   },
   "file_extension": ".py",
   "mimetype": "text/x-python",
   "name": "python",
   "nbconvert_exporter": "python",
   "pygments_lexer": "ipython3",
   "version": "3.12.1"
  }
 },
 "nbformat": 4,
 "nbformat_minor": 2
}
