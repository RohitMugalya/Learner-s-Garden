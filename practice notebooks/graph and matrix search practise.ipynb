{
 "cells": [
  {
   "cell_type": "code",
   "execution_count": 1,
   "id": "63efc875",
   "metadata": {},
   "outputs": [],
   "source": [
    "from typing import Self"
   ]
  },
  {
   "cell_type": "code",
   "execution_count": 5,
   "id": "2583de2a",
   "metadata": {},
   "outputs": [],
   "source": [
    "class Vertex:\n",
    "    def __init__(self, val):\n",
    "        self.val = val\n",
    "        self.edges: list[Self] = []\n",
    "    \n",
    "    def __repr__(self):\n",
    "        return f\"Vertex({self.val!r}, {self.edges})\""
   ]
  },
  {
   "cell_type": "code",
   "execution_count": 13,
   "id": "2c5d18a5",
   "metadata": {},
   "outputs": [],
   "source": [
    "a = Vertex('A')\n",
    "b = Vertex('B')\n",
    "e = Vertex('E')\n",
    "\n",
    "a.edges.append(b)\n",
    "a.edges.append(e)\n",
    "\n",
    "b.edges.append(a)\n",
    "b.edges.append(e)\n",
    "\n",
    "e.edges.append(a)\n",
    "e.edges.append(b)"
   ]
  },
  {
   "cell_type": "code",
   "execution_count": 14,
   "id": "6e057093",
   "metadata": {},
   "outputs": [
    {
     "name": "stdout",
     "output_type": "stream",
     "text": [
      "Vertex('A', [Vertex('B', [Vertex('A', [...]), Vertex('E', [Vertex('A', [...]), Vertex('B', [...])])]), Vertex('E', [Vertex('A', [...]), Vertex('B', [Vertex('A', [...]), Vertex('E', [...])])])])\n",
      "Vertex('B', [Vertex('A', [Vertex('B', [...]), Vertex('E', [Vertex('A', [...]), Vertex('B', [...])])]), Vertex('E', [Vertex('A', [Vertex('B', [...]), Vertex('E', [...])]), Vertex('B', [...])])])\n",
      "Vertex('E', [Vertex('A', [Vertex('B', [Vertex('A', [...]), Vertex('E', [...])]), Vertex('E', [...])]), Vertex('B', [Vertex('A', [Vertex('B', [...]), Vertex('E', [...])]), Vertex('E', [...])])])\n"
     ]
    }
   ],
   "source": [
    "print(a)\n",
    "print(b)\n",
    "print(e)"
   ]
  },
  {
   "cell_type": "code",
   "execution_count": 15,
   "id": "887b034d",
   "metadata": {
    "scrolled": true
   },
   "outputs": [
    {
     "data": {
      "text/plain": [
       "True"
      ]
     },
     "execution_count": 15,
     "metadata": {},
     "output_type": "execute_result"
    }
   ],
   "source": [
    "{1, 2, 3} == {3, 1, 2}"
   ]
  },
  {
   "cell_type": "code",
   "execution_count": null,
   "id": "60f8289a",
   "metadata": {},
   "outputs": [],
   "source": []
  }
 ],
 "metadata": {
  "kernelspec": {
   "display_name": "Python 3 (ipykernel)",
   "language": "python",
   "name": "python3"
  },
  "language_info": {
   "codemirror_mode": {
    "name": "ipython",
    "version": 3
   },
   "file_extension": ".py",
   "mimetype": "text/x-python",
   "name": "python",
   "nbconvert_exporter": "python",
   "pygments_lexer": "ipython3",
   "version": "3.11.5"
  }
 },
 "nbformat": 4,
 "nbformat_minor": 5
}
