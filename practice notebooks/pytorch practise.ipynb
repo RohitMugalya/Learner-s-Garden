{
 "cells": [
  {
   "cell_type": "code",
   "execution_count": 31,
   "id": "ea720210",
   "metadata": {},
   "outputs": [],
   "source": [
    "import numpy as np\n",
    "import pandas as pd\n",
    "import sympy\n",
    "import torch\n",
    "import matplotlib.pyplot as plt\n",
    "import seaborn as sns\n",
    "\n",
    "plt.style.use(\"../mpl styles/dracula.mplstyle\")"
   ]
  },
  {
   "cell_type": "code",
   "execution_count": 74,
   "id": "5435a878",
   "metadata": {},
   "outputs": [],
   "source": [
    "def gradient_descent(x, y_true, w_init=0, b_init=0, num_iter=100, alpha=0.1):\n",
    "    w = torch.tensor(w_init, requires_grad=True, dtype=torch.float)\n",
    "    b = torch.tensor(b_init, requires_grad=True, dtype=torch.float)\n",
    "    for _ in range(num_iter):\n",
    "        y_pred = w * x + b\n",
    "        loss = (y_pred - y_true) ** 2\n",
    "        loss.backward()\n",
    "        dw = w.grad\n",
    "        db = b.grad\n",
    "        w = torch.tensor(w - alpha * dw, requires_grad=True)\n",
    "        b = torch.tensor(b - alpha * db, requires_grad=True)\n",
    "    \n",
    "    return w, b"
   ]
  },
  {
   "cell_type": "code",
   "execution_count": 100,
   "id": "348be766",
   "metadata": {},
   "outputs": [
    {
     "name": "stdout",
     "output_type": "stream",
     "text": [
      "\n",
      "w, b = (tensor(-0.9800, requires_grad=True), tensor(0.1400, requires_grad=True))\n",
      "7.0\n"
     ]
    },
    {
     "name": "stderr",
     "output_type": "stream",
     "text": [
      "C:\\Users\\daith\\AppData\\Local\\Temp\\ipykernel_11536\\1609325111.py:10: UserWarning: To copy construct from a tensor, it is recommended to use sourceTensor.detach().clone() or sourceTensor.detach().clone().requires_grad_(True), rather than torch.tensor(sourceTensor).\n",
      "  w = torch.tensor(w - alpha * dw, requires_grad=True)\n",
      "C:\\Users\\daith\\AppData\\Local\\Temp\\ipykernel_11536\\1609325111.py:11: UserWarning: To copy construct from a tensor, it is recommended to use sourceTensor.detach().clone() or sourceTensor.detach().clone().requires_grad_(True), rather than torch.tensor(sourceTensor).\n",
      "  b = torch.tensor(b - alpha * db, requires_grad=True)\n"
     ]
    }
   ],
   "source": [
    "x, y_true = -7, 7\n",
    "w, b = gradient_descent(x, y_true, num_iter=100, alpha=0.01)\n",
    "\n",
    "print()\n",
    "print(f\"{w, b = }\")\n",
    "print(f\"{w * x + b}\")"
   ]
  },
  {
   "cell_type": "code",
   "execution_count": 64,
   "id": "29b1e6c1",
   "metadata": {},
   "outputs": [
    {
     "data": {
      "text/latex": [
       "$\\displaystyle 2 b + 2 w x - 12$"
      ],
      "text/plain": [
       "2*b + 2*w*x - 12"
      ]
     },
     "execution_count": 64,
     "metadata": {},
     "output_type": "execute_result"
    }
   ],
   "source": [
    "w, x, b = sympy.symbols(\"w x b\")\n",
    "values = {w: 1, x: 6, b: 1}\n",
    "\n",
    "y_pred = w * x + b\n",
    "y_true = 6\n",
    "\n",
    "loss = (y_pred - y_true) ** 2\n",
    "loss.diff(b)"
   ]
  },
  {
   "cell_type": "code",
   "execution_count": null,
   "id": "42bf7e06",
   "metadata": {},
   "outputs": [],
   "source": []
  }
 ],
 "metadata": {
  "kernelspec": {
   "display_name": "venv",
   "language": "python",
   "name": "python3"
  },
  "language_info": {
   "codemirror_mode": {
    "name": "ipython",
    "version": 3
   },
   "file_extension": ".py",
   "mimetype": "text/x-python",
   "name": "python",
   "nbconvert_exporter": "python",
   "pygments_lexer": "ipython3",
   "version": "3.11.4"
  }
 },
 "nbformat": 4,
 "nbformat_minor": 5
}
