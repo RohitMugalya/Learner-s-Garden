{
 "cells": [
  {
   "cell_type": "code",
   "execution_count": 2,
   "id": "55247227",
   "metadata": {},
   "outputs": [],
   "source": [
    "import numpy as np\n",
    "import matplotlib.pyplot as plt\n",
    "from qbstyles import mpl_style\n",
    "\n",
    "import torch\n",
    "from torch.utils.data import DataLoader, Dataset\n",
    "from torch import nn, optim\n",
    "\n",
    "mpl_style(dark=True)"
   ]
  },
  {
   "cell_type": "code",
   "execution_count": 7,
   "id": "d322a913",
   "metadata": {},
   "outputs": [],
   "source": [
    "X = np.arange(0, 10, 0.1).reshape(-1, 2)\n",
    "w1, b1 = np.array([1, 2]), np.array([3])\n",
    "y1 = X @ w1 + b1\n",
    "w2, b2 = np.array([4, 5]), np.array([6])\n",
    "y2 = X @ w2 + b2\n",
    "y1, y2 = y1.reshape(-1, 1), y2.reshape(-1, 1)\n",
    "Y = np.concatenate([y1, y2], axis=1)"
   ]
  },
  {
   "cell_type": "code",
   "execution_count": 16,
   "id": "3286493b",
   "metadata": {},
   "outputs": [
    {
     "data": {
      "text/plain": [
       "tensor([[7.0683e+00, 5.0494e+01],\n",
       "        [1.0403e+01, 8.0541e+01],\n",
       "        [1.4380e+01, 1.1757e+02],\n",
       "        [1.9000e+01, 1.6159e+02],\n",
       "        [2.4262e+01, 2.1258e+02],\n",
       "        [3.0166e+01, 2.7056e+02],\n",
       "        [3.6713e+01, 3.3553e+02],\n",
       "        [4.3903e+01, 4.0747e+02],\n",
       "        [5.1735e+01, 4.8640e+02],\n",
       "        [6.0209e+01, 5.7231e+02],\n",
       "        [6.9325e+01, 6.6521e+02],\n",
       "        [7.9084e+01, 7.6509e+02],\n",
       "        [8.9486e+01, 8.7195e+02],\n",
       "        [1.0053e+02, 9.8580e+02],\n",
       "        [1.1222e+02, 1.1066e+03],\n",
       "        [1.2454e+02, 1.2344e+03],\n",
       "        [1.3752e+02, 1.3692e+03],\n",
       "        [1.5113e+02, 1.5110e+03],\n",
       "        [1.6539e+02, 1.6598e+03],\n",
       "        [1.8028e+02, 1.8155e+03],\n",
       "        [1.9583e+02, 1.9782e+03],\n",
       "        [2.1201e+02, 2.1480e+03],\n",
       "        [2.2883e+02, 2.3246e+03],\n",
       "        [2.4630e+02, 2.5083e+03],\n",
       "        [2.6441e+02, 2.6990e+03],\n",
       "        [2.8317e+02, 2.8966e+03],\n",
       "        [3.0256e+02, 3.1013e+03],\n",
       "        [3.2260e+02, 3.3129e+03],\n",
       "        [3.4328e+02, 3.5315e+03],\n",
       "        [3.6460e+02, 3.7570e+03],\n",
       "        [3.8657e+02, 3.9896e+03],\n",
       "        [4.0917e+02, 4.2291e+03],\n",
       "        [4.3242e+02, 4.4757e+03],\n",
       "        [4.5632e+02, 4.7292e+03],\n",
       "        [4.8085e+02, 4.9897e+03],\n",
       "        [5.0603e+02, 5.2571e+03],\n",
       "        [5.3185e+02, 5.5316e+03],\n",
       "        [5.5831e+02, 5.8130e+03],\n",
       "        [5.8542e+02, 6.1015e+03],\n",
       "        [6.1316e+02, 6.3969e+03],\n",
       "        [6.4155e+02, 6.6992e+03],\n",
       "        [6.7058e+02, 7.0086e+03],\n",
       "        [7.0026e+02, 7.3250e+03],\n",
       "        [7.3058e+02, 7.6483e+03],\n",
       "        [7.6153e+02, 7.9786e+03],\n",
       "        [7.9314e+02, 8.3159e+03],\n",
       "        [8.2538e+02, 8.6602e+03],\n",
       "        [8.5827e+02, 9.0115e+03],\n",
       "        [8.9179e+02, 9.3698e+03],\n",
       "        [9.2597e+02, 9.7350e+03]], grad_fn=<MseLossBackward0>)"
      ]
     },
     "execution_count": 16,
     "metadata": {},
     "output_type": "execute_result"
    }
   ],
   "source": [
    "model = nn.Linear(2, 2)\n",
    "yhat = model(torch.tensor(X, dtype=torch.float32))\n",
    "criterion = nn.MSELoss(reduction='none')\n",
    "criterion(yhat, torch.tensor(Y, dtype=torch.float32))"
   ]
  },
  {
   "cell_type": "code",
   "execution_count": 12,
   "id": "f5a86004",
   "metadata": {},
   "outputs": [
    {
     "data": {
      "text/plain": [
       "(50, 2)"
      ]
     },
     "execution_count": 12,
     "metadata": {},
     "output_type": "execute_result"
    }
   ],
   "source": [
    "Y.shape"
   ]
  },
  {
   "cell_type": "code",
   "execution_count": null,
   "id": "74f38aaa",
   "metadata": {},
   "outputs": [],
   "source": []
  }
 ],
 "metadata": {
  "kernelspec": {
   "display_name": "venv",
   "language": "python",
   "name": "python3"
  },
  "language_info": {
   "codemirror_mode": {
    "name": "ipython",
    "version": 3
   },
   "file_extension": ".py",
   "mimetype": "text/x-python",
   "name": "python",
   "nbconvert_exporter": "python",
   "pygments_lexer": "ipython3",
   "version": "3.11.4"
  }
 },
 "nbformat": 4,
 "nbformat_minor": 5
}
