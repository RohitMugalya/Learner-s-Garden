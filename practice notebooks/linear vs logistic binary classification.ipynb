{
 "cells": [
  {
   "cell_type": "code",
   "execution_count": 27,
   "id": "365c3a0a",
   "metadata": {},
   "outputs": [],
   "source": [
    "import numpy as np\n",
    "import pandas as pd\n",
    "import matplotlib.pyplot as plt\n",
    "import seaborn as sns\n",
    "\n",
    "from sklearn.linear_model import LinearRegression, LogisticRegression\n",
    "from sklearn.metrics import confusion_matrix\n",
    "\n",
    "plt.style.use(\"../mpl styles/dracula.mplstyle\")"
   ]
  },
  {
   "cell_type": "code",
   "execution_count": null,
   "id": "aaf5c2c9",
   "metadata": {},
   "outputs": [],
   "source": [
    "def f(w, X, b):\n",
    "    return X @ w + b\n",
    "\n",
    "def sigmoid(w, X, b):\n",
    "    z = f(w, X, b)\n",
    "    return 1 / (1 + np.exp(-z))"
   ]
  },
  {
   "cell_type": "markdown",
   "id": "ce0aa9a7",
   "metadata": {},
   "source": [
    "$\n",
    "    \\sigma(w, X, b) = \\frac{1}{1 + e^{-f(w, X, b)}} = \\frac{1}{1 + e^{-(Xw + b)}}\n",
    "$"
   ]
  },
  {
   "cell_type": "code",
   "execution_count": 20,
   "id": "a392a9be",
   "metadata": {},
   "outputs": [],
   "source": [
    "age = np.arange(37)\n",
    "adult = age > 18\n",
    "\n",
    "df = pd.DataFrame({\"age\": age, \"adult\": adult})"
   ]
  },
  {
   "cell_type": "code",
   "execution_count": 28,
   "id": "34ac012e",
   "metadata": {},
   "outputs": [],
   "source": [
    "features = [\"age\"]\n",
    "target = \"adult\"\n",
    "\n",
    "X, y = df[features], df[target]\n",
    "\n",
    "linear = LinearRegression()\n",
    "logistic = LogisticRegression()\n",
    "\n",
    "linear.fit(X, y)\n",
    "logistic.fit(X, y);"
   ]
  },
  {
   "cell_type": "code",
   "execution_count": null,
   "id": "27259e6a",
   "metadata": {},
   "outputs": [],
   "source": []
  }
 ],
 "metadata": {
  "kernelspec": {
   "display_name": "venv",
   "language": "python",
   "name": "python3"
  },
  "language_info": {
   "codemirror_mode": {
    "name": "ipython",
    "version": 3
   },
   "file_extension": ".py",
   "mimetype": "text/x-python",
   "name": "python",
   "nbconvert_exporter": "python",
   "pygments_lexer": "ipython3",
   "version": "3.11.4"
  }
 },
 "nbformat": 4,
 "nbformat_minor": 5
}
