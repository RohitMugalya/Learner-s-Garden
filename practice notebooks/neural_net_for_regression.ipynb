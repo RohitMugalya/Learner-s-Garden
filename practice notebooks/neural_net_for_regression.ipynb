{
 "cells": [
  {
   "cell_type": "code",
   "execution_count": 5,
   "id": "48089fd9",
   "metadata": {},
   "outputs": [],
   "source": [
    "import numpy as np\n",
    "import pandas as pd\n",
    "import matplotlib.pyplot as plt\n",
    "import seaborn as sns\n",
    "import plotly.express as px\n",
    "import plotly.io as pio\n",
    "\n",
    "import torch\n",
    "from torch.utils.data import DataLoader, TensorDataset\n",
    "from torch import nn, optim\n",
    "\n",
    "plt.style.use('dark_background')\n",
    "pio.templates.default = \"plotly_dark\""
   ]
  },
  {
   "cell_type": "code",
   "execution_count": 55,
   "id": "a53353e4",
   "metadata": {},
   "outputs": [],
   "source": [
    "def predict(model, X):\n",
    "    model.eval()\n",
    "    with torch.no_grad():\n",
    "        preds = model(X)\n",
    "    return preds"
   ]
  },
  {
   "cell_type": "code",
   "execution_count": 2,
   "id": "1ceb900d",
   "metadata": {},
   "outputs": [],
   "source": [
    "x = np.linspace(-10, 10, 100)\n",
    "y = x ** 2\n",
    "\n",
    "df = pd.DataFrame({'x': x, 'y': y})"
   ]
  },
  {
   "cell_type": "code",
   "execution_count": 4,
   "id": "d75c4b50",
   "metadata": {},
   "outputs": [
    {
     "data": {
      "application/vnd.plotly.v1+json": {
       "config": {
        "plotlyServerURL": "https://plot.ly"
       },
       "data": [
        {
         "hovertemplate": "x=%{x}<br>y=%{y}<extra></extra>",
         "legendgroup": "",
         "marker": {
          "color": "#636efa",
          "symbol": "circle"
         },
         "mode": "markers",
         "name": "",
         "orientation": "v",
         "showlegend": false,
         "type": "scatter",
         "x": {
          "bdata": "AAAAAAAAJMBDYt7OkJgjwIbEvJ0hMSPAyiabbLLJIsANiXk7Q2IiwFDrVwrU+iHAk0022WSTIcDXrxSo9SshwBoS83aGxCDAXXTRRRddIMBArV8pUOsfwMdxHMdxHB/ATjbZZJNNHsDU+pUCtX4dwFq/UqDWrxzA4YMPPvjgG8BoSMzbGRIbwO4MiXk7QxrAdNFFF110GcD7lQK1fqUYwIFav1Kg1hfACB988MEHF8CO4ziO4zgWwBWo9SsFahXAm2yyySabFMAiMW9nSMwTwKj1KwVq/RLAL7rooosuEsC1fqVArV8RwDxDYt7OkBDAhA8++OCDD8CSmLczJOYNwJ4hMW9nSAzAqqqqqqqqCsC4MyTm7QwJwMS8nSExbwfA0kUXXXTRBcDezpCYtzMEwOxXCtT6lQLA+OCDDz74AMAI1PqVArX+vyjm7QyJefu/QPjggw8++L9YCtT6lQL1v3Acx3Ecx/G/IF100UUX7b9QgVq/UqDmv4ClQK1fKeC/YJNNNtlk078Ab2dIzNu5vwBvZ0jM27k/YJNNNtlk0z+ApUCtXyngP1CBWr9SoOY/EF100UUX7T9wHMdxHMfxP1gK1PqVAvU/QPjggw8++D8g5u0MiXn7PwjU+pUCtf4/+OCDDz74AEDsVwrU+pUCQNzOkJi3MwRA0EUXXXTRBUDEvJ0hMW8HQLgzJObtDAlArKqqqqqqCkCcITFvZ0gMQJCYtzMk5g1AhA8++OCDD0A8Q2LezpAQQLR+pUCtXxFALrrooosuEkCo9SsFav0SQCIxb2dIzBNAmmyyySabFEAUqPUrBWoVQI7jOI7jOBZACB988MEHF0CAWr9SoNYXQPyVArV+pRhAdNFFF110GUDsDIl5O0MaQGhIzNsZEhtA4IMPPvjgG0Bcv1Kg1q8cQNT6lQK1fh1ATDbZZJNNHkDIcRzHcRwfQECtXylQ6x9AXHTRRRddIEAaEvN2hsQgQNavFKj1KyFAlE022WSTIUBQ61cK1PohQAyJeTtDYiJAyiabbLLJIkCGxLydITEjQERi3s6QmCNAAAAAAAAAJEA=",
          "dtype": "f8"
         },
         "xaxis": "x",
         "y": {
          "bdata": "AAAAAAAAWUDAQMmvBgBYQLAXzbRGBVdA0oQLD8APVkAjiIS+ch9VQKQhOMNeNFRAVVEmHYROU0A5F0/M4m1SQEtzstB6klFAjmVQKky8UEAA3FGyrdZPQEgZeLo1P05A8YITbTCyTED4GCTKnS9LQGDbqdF9t0lAK8qkg9BJSEBW5RTgleZGQOAs+ubNjUVAy6BUmHg/REAXQST0lftCQMMNafolwkFA0gYjqyiTQEB+WKQMPN0+QB387BcMqTxAevgfeMGJOkCbTT0tXH84QHv7RDfciTZAHwI3lkGpNECBYRNKjN0yQKcZ2lK8JjFAGVUWYaMJL0BqKE3GmO8rQDqtWNVY/yhAjeM4juM4JkBmy+3wOJwjQL5kd/1YKSFANl+rZ4fAHUDxVxEo8oEZQLazIDzylhVAe3LZo4f/EUCMKHe+ZHcNQDoyjtzklgdA5AH4oY9dAkAzL2kdypb7P7Pmh0XKwPM/sVSYeD9y6j8G6NcGKv/fPwRXFVcqU9A/Z9mjh/+Btz/6wFjqVOWEP/rAWOpU5YQ/Z9mjh/+Btz8EVxVXKlPQPwbo1wYq/98/lFSYeD9y6j+z5odFysDzPzMvaR3Klvs/5AH4oY9dAkAtMo7c5JYHQIwod75kdw1Ae3LZo4f/EUC2syA88pYVQOxXESjygRlAMV+rZ4fAHUC+ZHf9WCkhQGbL7fA4nCNAkOM4juM4JkA3rVjVWP8oQGcoTcaY7ytAGVUWYaMJL0CnGdpSvCYxQH9hE0qM3TJAHAI3lkGpNEB7+0Q33Ik2QJtNPS1cfzhAd/gfeMGJOkAa/OwXDKk8QH5YpAw83T5A0gYjqyiTQEDCDWn6JcJBQBlBJPSV+0JAy6BUmHg/REDdLPrmzY1FQFblFOCV5kZAKcqkg9BJSEBk26nRfbdJQPgYJMqdL0tA7YITbTCyTEBKGXi6NT9OQADcUbKt1k9AjGVQKky8UEBLc7LQepJRQDcXT8zibVJAWFEmHYROU0CkITjDXjRUQCGIhL5yH1VA0oQLD8APVkCwF820RgVXQMJAya8GAFhAAAAAAAAAWUA=",
          "dtype": "f8"
         },
         "yaxis": "y"
        }
       ],
       "layout": {
        "legend": {
         "tracegroupgap": 0
        },
        "template": {
         "data": {
          "bar": [
           {
            "error_x": {
             "color": "#f2f5fa"
            },
            "error_y": {
             "color": "#f2f5fa"
            },
            "marker": {
             "line": {
              "color": "rgb(17,17,17)",
              "width": 0.5
             },
             "pattern": {
              "fillmode": "overlay",
              "size": 10,
              "solidity": 0.2
             }
            },
            "type": "bar"
           }
          ],
          "barpolar": [
           {
            "marker": {
             "line": {
              "color": "rgb(17,17,17)",
              "width": 0.5
             },
             "pattern": {
              "fillmode": "overlay",
              "size": 10,
              "solidity": 0.2
             }
            },
            "type": "barpolar"
           }
          ],
          "carpet": [
           {
            "aaxis": {
             "endlinecolor": "#A2B1C6",
             "gridcolor": "#506784",
             "linecolor": "#506784",
             "minorgridcolor": "#506784",
             "startlinecolor": "#A2B1C6"
            },
            "baxis": {
             "endlinecolor": "#A2B1C6",
             "gridcolor": "#506784",
             "linecolor": "#506784",
             "minorgridcolor": "#506784",
             "startlinecolor": "#A2B1C6"
            },
            "type": "carpet"
           }
          ],
          "choropleth": [
           {
            "colorbar": {
             "outlinewidth": 0,
             "ticks": ""
            },
            "type": "choropleth"
           }
          ],
          "contour": [
           {
            "colorbar": {
             "outlinewidth": 0,
             "ticks": ""
            },
            "colorscale": [
             [
              0,
              "#0d0887"
             ],
             [
              0.1111111111111111,
              "#46039f"
             ],
             [
              0.2222222222222222,
              "#7201a8"
             ],
             [
              0.3333333333333333,
              "#9c179e"
             ],
             [
              0.4444444444444444,
              "#bd3786"
             ],
             [
              0.5555555555555556,
              "#d8576b"
             ],
             [
              0.6666666666666666,
              "#ed7953"
             ],
             [
              0.7777777777777778,
              "#fb9f3a"
             ],
             [
              0.8888888888888888,
              "#fdca26"
             ],
             [
              1,
              "#f0f921"
             ]
            ],
            "type": "contour"
           }
          ],
          "contourcarpet": [
           {
            "colorbar": {
             "outlinewidth": 0,
             "ticks": ""
            },
            "type": "contourcarpet"
           }
          ],
          "heatmap": [
           {
            "colorbar": {
             "outlinewidth": 0,
             "ticks": ""
            },
            "colorscale": [
             [
              0,
              "#0d0887"
             ],
             [
              0.1111111111111111,
              "#46039f"
             ],
             [
              0.2222222222222222,
              "#7201a8"
             ],
             [
              0.3333333333333333,
              "#9c179e"
             ],
             [
              0.4444444444444444,
              "#bd3786"
             ],
             [
              0.5555555555555556,
              "#d8576b"
             ],
             [
              0.6666666666666666,
              "#ed7953"
             ],
             [
              0.7777777777777778,
              "#fb9f3a"
             ],
             [
              0.8888888888888888,
              "#fdca26"
             ],
             [
              1,
              "#f0f921"
             ]
            ],
            "type": "heatmap"
           }
          ],
          "histogram": [
           {
            "marker": {
             "pattern": {
              "fillmode": "overlay",
              "size": 10,
              "solidity": 0.2
             }
            },
            "type": "histogram"
           }
          ],
          "histogram2d": [
           {
            "colorbar": {
             "outlinewidth": 0,
             "ticks": ""
            },
            "colorscale": [
             [
              0,
              "#0d0887"
             ],
             [
              0.1111111111111111,
              "#46039f"
             ],
             [
              0.2222222222222222,
              "#7201a8"
             ],
             [
              0.3333333333333333,
              "#9c179e"
             ],
             [
              0.4444444444444444,
              "#bd3786"
             ],
             [
              0.5555555555555556,
              "#d8576b"
             ],
             [
              0.6666666666666666,
              "#ed7953"
             ],
             [
              0.7777777777777778,
              "#fb9f3a"
             ],
             [
              0.8888888888888888,
              "#fdca26"
             ],
             [
              1,
              "#f0f921"
             ]
            ],
            "type": "histogram2d"
           }
          ],
          "histogram2dcontour": [
           {
            "colorbar": {
             "outlinewidth": 0,
             "ticks": ""
            },
            "colorscale": [
             [
              0,
              "#0d0887"
             ],
             [
              0.1111111111111111,
              "#46039f"
             ],
             [
              0.2222222222222222,
              "#7201a8"
             ],
             [
              0.3333333333333333,
              "#9c179e"
             ],
             [
              0.4444444444444444,
              "#bd3786"
             ],
             [
              0.5555555555555556,
              "#d8576b"
             ],
             [
              0.6666666666666666,
              "#ed7953"
             ],
             [
              0.7777777777777778,
              "#fb9f3a"
             ],
             [
              0.8888888888888888,
              "#fdca26"
             ],
             [
              1,
              "#f0f921"
             ]
            ],
            "type": "histogram2dcontour"
           }
          ],
          "mesh3d": [
           {
            "colorbar": {
             "outlinewidth": 0,
             "ticks": ""
            },
            "type": "mesh3d"
           }
          ],
          "parcoords": [
           {
            "line": {
             "colorbar": {
              "outlinewidth": 0,
              "ticks": ""
             }
            },
            "type": "parcoords"
           }
          ],
          "pie": [
           {
            "automargin": true,
            "type": "pie"
           }
          ],
          "scatter": [
           {
            "marker": {
             "line": {
              "color": "#283442"
             }
            },
            "type": "scatter"
           }
          ],
          "scatter3d": [
           {
            "line": {
             "colorbar": {
              "outlinewidth": 0,
              "ticks": ""
             }
            },
            "marker": {
             "colorbar": {
              "outlinewidth": 0,
              "ticks": ""
             }
            },
            "type": "scatter3d"
           }
          ],
          "scattercarpet": [
           {
            "marker": {
             "colorbar": {
              "outlinewidth": 0,
              "ticks": ""
             }
            },
            "type": "scattercarpet"
           }
          ],
          "scattergeo": [
           {
            "marker": {
             "colorbar": {
              "outlinewidth": 0,
              "ticks": ""
             }
            },
            "type": "scattergeo"
           }
          ],
          "scattergl": [
           {
            "marker": {
             "line": {
              "color": "#283442"
             }
            },
            "type": "scattergl"
           }
          ],
          "scattermap": [
           {
            "marker": {
             "colorbar": {
              "outlinewidth": 0,
              "ticks": ""
             }
            },
            "type": "scattermap"
           }
          ],
          "scattermapbox": [
           {
            "marker": {
             "colorbar": {
              "outlinewidth": 0,
              "ticks": ""
             }
            },
            "type": "scattermapbox"
           }
          ],
          "scatterpolar": [
           {
            "marker": {
             "colorbar": {
              "outlinewidth": 0,
              "ticks": ""
             }
            },
            "type": "scatterpolar"
           }
          ],
          "scatterpolargl": [
           {
            "marker": {
             "colorbar": {
              "outlinewidth": 0,
              "ticks": ""
             }
            },
            "type": "scatterpolargl"
           }
          ],
          "scatterternary": [
           {
            "marker": {
             "colorbar": {
              "outlinewidth": 0,
              "ticks": ""
             }
            },
            "type": "scatterternary"
           }
          ],
          "surface": [
           {
            "colorbar": {
             "outlinewidth": 0,
             "ticks": ""
            },
            "colorscale": [
             [
              0,
              "#0d0887"
             ],
             [
              0.1111111111111111,
              "#46039f"
             ],
             [
              0.2222222222222222,
              "#7201a8"
             ],
             [
              0.3333333333333333,
              "#9c179e"
             ],
             [
              0.4444444444444444,
              "#bd3786"
             ],
             [
              0.5555555555555556,
              "#d8576b"
             ],
             [
              0.6666666666666666,
              "#ed7953"
             ],
             [
              0.7777777777777778,
              "#fb9f3a"
             ],
             [
              0.8888888888888888,
              "#fdca26"
             ],
             [
              1,
              "#f0f921"
             ]
            ],
            "type": "surface"
           }
          ],
          "table": [
           {
            "cells": {
             "fill": {
              "color": "#506784"
             },
             "line": {
              "color": "rgb(17,17,17)"
             }
            },
            "header": {
             "fill": {
              "color": "#2a3f5f"
             },
             "line": {
              "color": "rgb(17,17,17)"
             }
            },
            "type": "table"
           }
          ]
         },
         "layout": {
          "annotationdefaults": {
           "arrowcolor": "#f2f5fa",
           "arrowhead": 0,
           "arrowwidth": 1
          },
          "autotypenumbers": "strict",
          "coloraxis": {
           "colorbar": {
            "outlinewidth": 0,
            "ticks": ""
           }
          },
          "colorscale": {
           "diverging": [
            [
             0,
             "#8e0152"
            ],
            [
             0.1,
             "#c51b7d"
            ],
            [
             0.2,
             "#de77ae"
            ],
            [
             0.3,
             "#f1b6da"
            ],
            [
             0.4,
             "#fde0ef"
            ],
            [
             0.5,
             "#f7f7f7"
            ],
            [
             0.6,
             "#e6f5d0"
            ],
            [
             0.7,
             "#b8e186"
            ],
            [
             0.8,
             "#7fbc41"
            ],
            [
             0.9,
             "#4d9221"
            ],
            [
             1,
             "#276419"
            ]
           ],
           "sequential": [
            [
             0,
             "#0d0887"
            ],
            [
             0.1111111111111111,
             "#46039f"
            ],
            [
             0.2222222222222222,
             "#7201a8"
            ],
            [
             0.3333333333333333,
             "#9c179e"
            ],
            [
             0.4444444444444444,
             "#bd3786"
            ],
            [
             0.5555555555555556,
             "#d8576b"
            ],
            [
             0.6666666666666666,
             "#ed7953"
            ],
            [
             0.7777777777777778,
             "#fb9f3a"
            ],
            [
             0.8888888888888888,
             "#fdca26"
            ],
            [
             1,
             "#f0f921"
            ]
           ],
           "sequentialminus": [
            [
             0,
             "#0d0887"
            ],
            [
             0.1111111111111111,
             "#46039f"
            ],
            [
             0.2222222222222222,
             "#7201a8"
            ],
            [
             0.3333333333333333,
             "#9c179e"
            ],
            [
             0.4444444444444444,
             "#bd3786"
            ],
            [
             0.5555555555555556,
             "#d8576b"
            ],
            [
             0.6666666666666666,
             "#ed7953"
            ],
            [
             0.7777777777777778,
             "#fb9f3a"
            ],
            [
             0.8888888888888888,
             "#fdca26"
            ],
            [
             1,
             "#f0f921"
            ]
           ]
          },
          "colorway": [
           "#636efa",
           "#EF553B",
           "#00cc96",
           "#ab63fa",
           "#FFA15A",
           "#19d3f3",
           "#FF6692",
           "#B6E880",
           "#FF97FF",
           "#FECB52"
          ],
          "font": {
           "color": "#f2f5fa"
          },
          "geo": {
           "bgcolor": "rgb(17,17,17)",
           "lakecolor": "rgb(17,17,17)",
           "landcolor": "rgb(17,17,17)",
           "showlakes": true,
           "showland": true,
           "subunitcolor": "#506784"
          },
          "hoverlabel": {
           "align": "left"
          },
          "hovermode": "closest",
          "mapbox": {
           "style": "dark"
          },
          "paper_bgcolor": "rgb(17,17,17)",
          "plot_bgcolor": "rgb(17,17,17)",
          "polar": {
           "angularaxis": {
            "gridcolor": "#506784",
            "linecolor": "#506784",
            "ticks": ""
           },
           "bgcolor": "rgb(17,17,17)",
           "radialaxis": {
            "gridcolor": "#506784",
            "linecolor": "#506784",
            "ticks": ""
           }
          },
          "scene": {
           "xaxis": {
            "backgroundcolor": "rgb(17,17,17)",
            "gridcolor": "#506784",
            "gridwidth": 2,
            "linecolor": "#506784",
            "showbackground": true,
            "ticks": "",
            "zerolinecolor": "#C8D4E3"
           },
           "yaxis": {
            "backgroundcolor": "rgb(17,17,17)",
            "gridcolor": "#506784",
            "gridwidth": 2,
            "linecolor": "#506784",
            "showbackground": true,
            "ticks": "",
            "zerolinecolor": "#C8D4E3"
           },
           "zaxis": {
            "backgroundcolor": "rgb(17,17,17)",
            "gridcolor": "#506784",
            "gridwidth": 2,
            "linecolor": "#506784",
            "showbackground": true,
            "ticks": "",
            "zerolinecolor": "#C8D4E3"
           }
          },
          "shapedefaults": {
           "line": {
            "color": "#f2f5fa"
           }
          },
          "sliderdefaults": {
           "bgcolor": "#C8D4E3",
           "bordercolor": "rgb(17,17,17)",
           "borderwidth": 1,
           "tickwidth": 0
          },
          "ternary": {
           "aaxis": {
            "gridcolor": "#506784",
            "linecolor": "#506784",
            "ticks": ""
           },
           "baxis": {
            "gridcolor": "#506784",
            "linecolor": "#506784",
            "ticks": ""
           },
           "bgcolor": "rgb(17,17,17)",
           "caxis": {
            "gridcolor": "#506784",
            "linecolor": "#506784",
            "ticks": ""
           }
          },
          "title": {
           "x": 0.05
          },
          "updatemenudefaults": {
           "bgcolor": "#506784",
           "borderwidth": 0
          },
          "xaxis": {
           "automargin": true,
           "gridcolor": "#283442",
           "linecolor": "#506784",
           "ticks": "",
           "title": {
            "standoff": 15
           },
           "zerolinecolor": "#283442",
           "zerolinewidth": 2
          },
          "yaxis": {
           "automargin": true,
           "gridcolor": "#283442",
           "linecolor": "#506784",
           "ticks": "",
           "title": {
            "standoff": 15
           },
           "zerolinecolor": "#283442",
           "zerolinewidth": 2
          }
         }
        },
        "title": {
         "text": "y = x^2"
        },
        "xaxis": {
         "anchor": "y",
         "domain": [
          0,
          1
         ],
         "title": {
          "text": "x"
         }
        },
        "yaxis": {
         "anchor": "x",
         "domain": [
          0,
          1
         ],
         "title": {
          "text": "y"
         }
        }
       }
      }
     },
     "metadata": {},
     "output_type": "display_data"
    }
   ],
   "source": [
    "px.scatter(df, x='x', y='y', title='y = x^2').show()"
   ]
  },
  {
   "cell_type": "code",
   "execution_count": 43,
   "id": "c75b9425",
   "metadata": {},
   "outputs": [],
   "source": [
    "x_tensor = torch.tensor(x, dtype=torch.float32).view(-1, 1)\n",
    "y_tensor = torch.tensor(y, dtype=torch.float32).view(-1, 1)\n",
    "\n",
    "dataset = TensorDataset(x_tensor, y_tensor)"
   ]
  },
  {
   "cell_type": "code",
   "execution_count": 128,
   "id": "3833b752",
   "metadata": {},
   "outputs": [],
   "source": [
    "model = nn.Sequential(\n",
    "    nn.Linear(1, 2),\n",
    "    nn.Sigmoid(),\n",
    "    nn.Linear(2, 1),\n",
    ")"
   ]
  },
  {
   "cell_type": "code",
   "execution_count": 163,
   "id": "689a149c",
   "metadata": {},
   "outputs": [
    {
     "name": "stdout",
     "output_type": "stream",
     "text": [
      "Epoch 10, Loss: 45.1845\n",
      "Epoch 20, Loss: 45.2898\n",
      "Epoch 30, Loss: 45.1165\n",
      "Epoch 40, Loss: 45.3178\n",
      "Epoch 50, Loss: 45.2654\n",
      "Epoch 60, Loss: 45.2266\n",
      "Epoch 70, Loss: 45.0791\n",
      "Epoch 80, Loss: 44.9585\n",
      "Epoch 90, Loss: 45.1110\n",
      "Epoch 100, Loss: 45.0436\n",
      "Epoch 110, Loss: 44.9037\n",
      "Epoch 120, Loss: 45.2363\n",
      "Epoch 130, Loss: 45.1039\n",
      "Epoch 140, Loss: 45.0174\n",
      "Epoch 150, Loss: 45.2074\n",
      "Epoch 160, Loss: 45.0889\n",
      "Epoch 170, Loss: 44.9836\n",
      "Epoch 180, Loss: 44.9347\n",
      "Epoch 190, Loss: 45.3802\n",
      "Epoch 200, Loss: 44.9340\n",
      "Epoch 210, Loss: 45.5753\n",
      "Epoch 220, Loss: 44.8687\n",
      "Epoch 230, Loss: 44.9922\n",
      "Epoch 240, Loss: 44.7722\n",
      "Epoch 250, Loss: 44.9739\n",
      "Epoch 260, Loss: 45.2141\n",
      "Epoch 270, Loss: 44.8313\n",
      "Epoch 280, Loss: 45.0412\n",
      "Epoch 290, Loss: 44.9810\n",
      "Epoch 300, Loss: 44.7139\n",
      "Epoch 310, Loss: 44.8763\n",
      "Epoch 320, Loss: 44.9154\n",
      "Epoch 330, Loss: 44.9689\n",
      "Epoch 340, Loss: 44.9762\n",
      "Epoch 350, Loss: 44.9001\n",
      "Epoch 360, Loss: 44.7075\n",
      "Epoch 370, Loss: 44.9552\n",
      "Epoch 380, Loss: 44.7368\n",
      "Epoch 390, Loss: 45.1774\n",
      "Epoch 400, Loss: 44.7334\n",
      "Epoch 410, Loss: 44.8756\n",
      "Epoch 420, Loss: 44.7239\n",
      "Epoch 430, Loss: 44.9796\n",
      "Epoch 440, Loss: 44.8621\n",
      "Epoch 450, Loss: 44.5299\n",
      "Epoch 460, Loss: 44.8094\n",
      "Epoch 470, Loss: 44.8145\n",
      "Epoch 480, Loss: 44.6129\n",
      "Epoch 490, Loss: 44.6548\n",
      "Epoch 500, Loss: 44.4246\n",
      "Epoch 510, Loss: 44.7241\n",
      "Epoch 520, Loss: 44.5498\n",
      "Epoch 530, Loss: 44.4880\n",
      "Epoch 540, Loss: 45.0486\n",
      "Epoch 550, Loss: 44.5217\n",
      "Epoch 560, Loss: 44.5027\n",
      "Epoch 570, Loss: 44.4614\n",
      "Epoch 580, Loss: 44.8658\n",
      "Epoch 590, Loss: 44.6153\n",
      "Epoch 600, Loss: 44.6246\n",
      "Epoch 610, Loss: 44.8441\n",
      "Epoch 620, Loss: 44.6098\n",
      "Epoch 630, Loss: 44.6905\n",
      "Epoch 640, Loss: 44.4518\n",
      "Epoch 650, Loss: 44.6205\n",
      "Epoch 660, Loss: 44.5625\n",
      "Epoch 670, Loss: 44.5614\n",
      "Epoch 680, Loss: 44.8675\n",
      "Epoch 690, Loss: 44.5979\n",
      "Epoch 700, Loss: 44.5272\n",
      "Epoch 710, Loss: 44.3991\n",
      "Epoch 720, Loss: 44.3000\n",
      "Epoch 730, Loss: 44.8337\n",
      "Epoch 740, Loss: 44.7010\n",
      "Epoch 750, Loss: 44.4750\n",
      "Epoch 760, Loss: 44.3769\n",
      "Epoch 770, Loss: 44.5827\n",
      "Epoch 780, Loss: 44.5982\n",
      "Epoch 790, Loss: 44.3671\n",
      "Epoch 800, Loss: 44.1342\n",
      "Epoch 810, Loss: 44.4231\n",
      "Epoch 820, Loss: 44.4629\n",
      "Epoch 830, Loss: 44.4012\n",
      "Epoch 840, Loss: 44.4901\n",
      "Epoch 850, Loss: 44.4576\n",
      "Epoch 860, Loss: 44.3639\n",
      "Epoch 870, Loss: 44.3542\n",
      "Epoch 880, Loss: 44.2170\n",
      "Epoch 890, Loss: 44.2834\n",
      "Epoch 900, Loss: 44.4588\n",
      "Epoch 910, Loss: 44.5468\n",
      "Epoch 920, Loss: 44.1234\n",
      "Epoch 930, Loss: 44.5792\n",
      "Epoch 940, Loss: 44.2112\n",
      "Epoch 950, Loss: 44.3495\n",
      "Epoch 960, Loss: 44.1352\n",
      "Epoch 970, Loss: 44.0251\n",
      "Epoch 980, Loss: 44.1626\n",
      "Epoch 990, Loss: 44.3002\n",
      "Epoch 1000, Loss: 44.3997\n",
      "Epoch 1010, Loss: 43.9752\n",
      "Epoch 1020, Loss: 44.2210\n",
      "Epoch 1030, Loss: 44.0218\n",
      "Epoch 1040, Loss: 44.0839\n",
      "Epoch 1050, Loss: 44.0383\n",
      "Epoch 1060, Loss: 44.0562\n",
      "Epoch 1070, Loss: 44.0564\n",
      "Epoch 1080, Loss: 44.2276\n",
      "Epoch 1090, Loss: 44.1168\n",
      "Epoch 1100, Loss: 43.9074\n",
      "Epoch 1110, Loss: 44.3382\n",
      "Epoch 1120, Loss: 44.3488\n",
      "Epoch 1130, Loss: 44.2013\n",
      "Epoch 1140, Loss: 44.0793\n",
      "Epoch 1150, Loss: 44.0265\n",
      "Epoch 1160, Loss: 43.9676\n",
      "Epoch 1170, Loss: 44.0498\n",
      "Epoch 1180, Loss: 43.9342\n",
      "Epoch 1190, Loss: 43.8777\n",
      "Epoch 1200, Loss: 43.8226\n",
      "Epoch 1210, Loss: 44.0515\n",
      "Epoch 1220, Loss: 44.3325\n",
      "Epoch 1230, Loss: 43.8672\n",
      "Epoch 1240, Loss: 43.9820\n",
      "Epoch 1250, Loss: 43.8949\n",
      "Epoch 1260, Loss: 43.7087\n",
      "Epoch 1270, Loss: 44.0241\n",
      "Epoch 1280, Loss: 43.9121\n",
      "Epoch 1290, Loss: 44.0390\n",
      "Epoch 1300, Loss: 43.6595\n",
      "Epoch 1310, Loss: 43.9858\n",
      "Epoch 1320, Loss: 43.8361\n",
      "Epoch 1330, Loss: 43.8953\n",
      "Epoch 1340, Loss: 43.8936\n",
      "Epoch 1350, Loss: 44.0450\n",
      "Epoch 1360, Loss: 43.8538\n",
      "Epoch 1370, Loss: 43.7043\n",
      "Epoch 1380, Loss: 44.4529\n",
      "Epoch 1390, Loss: 43.6517\n",
      "Epoch 1400, Loss: 43.7026\n",
      "Epoch 1410, Loss: 43.9226\n",
      "Epoch 1420, Loss: 43.7063\n",
      "Epoch 1430, Loss: 44.0501\n",
      "Epoch 1440, Loss: 43.8981\n",
      "Epoch 1450, Loss: 43.6609\n",
      "Epoch 1460, Loss: 43.6064\n",
      "Epoch 1470, Loss: 43.8703\n",
      "Epoch 1480, Loss: 44.0578\n",
      "Epoch 1490, Loss: 43.5516\n",
      "Epoch 1500, Loss: 43.9138\n",
      "Epoch 1510, Loss: 43.9579\n",
      "Epoch 1520, Loss: 43.5758\n",
      "Epoch 1530, Loss: 43.5303\n",
      "Epoch 1540, Loss: 43.7107\n",
      "Epoch 1550, Loss: 43.5911\n",
      "Epoch 1560, Loss: 43.6278\n",
      "Epoch 1570, Loss: 43.6371\n",
      "Epoch 1580, Loss: 43.6304\n",
      "Epoch 1590, Loss: 43.5826\n",
      "Epoch 1600, Loss: 43.6170\n",
      "Epoch 1610, Loss: 43.5917\n",
      "Epoch 1620, Loss: 43.6780\n",
      "Epoch 1630, Loss: 43.5766\n",
      "Epoch 1640, Loss: 43.5466\n",
      "Epoch 1650, Loss: 43.4643\n",
      "Epoch 1660, Loss: 43.5918\n",
      "Epoch 1670, Loss: 43.4099\n",
      "Epoch 1680, Loss: 43.4040\n",
      "Epoch 1690, Loss: 43.3334\n",
      "Epoch 1700, Loss: 43.4515\n",
      "Epoch 1710, Loss: 43.3968\n",
      "Epoch 1720, Loss: 43.3050\n",
      "Epoch 1730, Loss: 43.3422\n",
      "Epoch 1740, Loss: 43.3008\n",
      "Epoch 1750, Loss: 43.6155\n",
      "Epoch 1760, Loss: 43.7477\n",
      "Epoch 1770, Loss: 43.8997\n",
      "Epoch 1780, Loss: 43.4183\n",
      "Epoch 1790, Loss: 43.5019\n",
      "Epoch 1800, Loss: 43.3771\n",
      "Epoch 1810, Loss: 43.1738\n",
      "Epoch 1820, Loss: 43.4275\n",
      "Epoch 1830, Loss: 43.2627\n",
      "Epoch 1840, Loss: 43.3582\n",
      "Epoch 1850, Loss: 43.1302\n",
      "Epoch 1860, Loss: 43.1685\n",
      "Epoch 1870, Loss: 43.1313\n",
      "Epoch 1880, Loss: 43.5003\n",
      "Epoch 1890, Loss: 43.0999\n",
      "Epoch 1900, Loss: 43.0761\n",
      "Epoch 1910, Loss: 43.4675\n",
      "Epoch 1920, Loss: 43.3316\n",
      "Epoch 1930, Loss: 43.1792\n",
      "Epoch 1940, Loss: 43.1464\n",
      "Epoch 1950, Loss: 43.3739\n",
      "Epoch 1960, Loss: 43.2382\n",
      "Epoch 1970, Loss: 43.2444\n",
      "Epoch 1980, Loss: 43.1201\n",
      "Epoch 1990, Loss: 43.2088\n",
      "Epoch 2000, Loss: 43.3266\n",
      "Epoch 2010, Loss: 43.5185\n",
      "Epoch 2020, Loss: 43.6627\n",
      "Epoch 2030, Loss: 43.0529\n",
      "Epoch 2040, Loss: 43.1880\n",
      "Epoch 2050, Loss: 42.8949\n",
      "Epoch 2060, Loss: 43.0239\n",
      "Epoch 2070, Loss: 42.9833\n",
      "Epoch 2080, Loss: 43.0780\n",
      "Epoch 2090, Loss: 43.3113\n",
      "Epoch 2100, Loss: 42.9060\n",
      "Epoch 2110, Loss: 42.9808\n",
      "Epoch 2120, Loss: 43.0167\n",
      "Epoch 2130, Loss: 43.1242\n",
      "Epoch 2140, Loss: 43.1643\n",
      "Epoch 2150, Loss: 42.9947\n",
      "Epoch 2160, Loss: 43.0727\n",
      "Epoch 2170, Loss: 43.1485\n",
      "Epoch 2180, Loss: 43.2819\n",
      "Epoch 2190, Loss: 43.1283\n",
      "Epoch 2200, Loss: 42.9461\n",
      "Epoch 2210, Loss: 43.1162\n",
      "Epoch 2220, Loss: 42.7783\n",
      "Epoch 2230, Loss: 42.8268\n",
      "Epoch 2240, Loss: 42.6848\n",
      "Epoch 2250, Loss: 43.1801\n",
      "Epoch 2260, Loss: 42.8443\n",
      "Epoch 2270, Loss: 42.8846\n",
      "Epoch 2280, Loss: 42.9130\n",
      "Epoch 2290, Loss: 43.0279\n",
      "Epoch 2300, Loss: 42.8150\n",
      "Epoch 2310, Loss: 42.9762\n",
      "Epoch 2320, Loss: 42.7797\n",
      "Epoch 2330, Loss: 42.9136\n",
      "Epoch 2340, Loss: 42.6959\n",
      "Epoch 2350, Loss: 42.7578\n",
      "Epoch 2360, Loss: 42.8914\n",
      "Epoch 2370, Loss: 42.6821\n",
      "Epoch 2380, Loss: 42.5987\n",
      "Epoch 2390, Loss: 42.9212\n",
      "Epoch 2400, Loss: 42.9442\n",
      "Epoch 2410, Loss: 42.7489\n",
      "Epoch 2420, Loss: 42.9191\n",
      "Epoch 2430, Loss: 42.6576\n",
      "Epoch 2440, Loss: 42.7292\n",
      "Epoch 2450, Loss: 42.7337\n",
      "Epoch 2460, Loss: 42.6241\n",
      "Epoch 2470, Loss: 42.6971\n",
      "Epoch 2480, Loss: 42.7949\n",
      "Epoch 2490, Loss: 42.8561\n",
      "Epoch 2500, Loss: 42.5585\n",
      "Epoch 2510, Loss: 42.7195\n",
      "Epoch 2520, Loss: 42.8701\n",
      "Epoch 2530, Loss: 42.6657\n",
      "Epoch 2540, Loss: 42.7758\n",
      "Epoch 2550, Loss: 42.7348\n",
      "Epoch 2560, Loss: 42.6353\n",
      "Epoch 2570, Loss: 42.6169\n",
      "Epoch 2580, Loss: 42.4708\n",
      "Epoch 2590, Loss: 42.8516\n",
      "Epoch 2600, Loss: 42.4456\n",
      "Epoch 2610, Loss: 42.5619\n",
      "Epoch 2620, Loss: 42.5305\n",
      "Epoch 2630, Loss: 42.8610\n",
      "Epoch 2640, Loss: 42.6501\n",
      "Epoch 2650, Loss: 42.8971\n",
      "Epoch 2660, Loss: 42.3819\n",
      "Epoch 2670, Loss: 42.6807\n",
      "Epoch 2680, Loss: 42.5379\n",
      "Epoch 2690, Loss: 42.5972\n",
      "Epoch 2700, Loss: 42.4589\n",
      "Epoch 2710, Loss: 42.5732\n",
      "Epoch 2720, Loss: 42.5608\n",
      "Epoch 2730, Loss: 43.2613\n",
      "Epoch 2740, Loss: 42.1936\n",
      "Epoch 2750, Loss: 42.3524\n",
      "Epoch 2760, Loss: 42.4092\n",
      "Epoch 2770, Loss: 42.5460\n",
      "Epoch 2780, Loss: 42.6459\n",
      "Epoch 2790, Loss: 42.6789\n",
      "Epoch 2800, Loss: 42.5218\n",
      "Epoch 2810, Loss: 42.1509\n",
      "Epoch 2820, Loss: 42.3409\n",
      "Epoch 2830, Loss: 42.3678\n",
      "Epoch 2840, Loss: 42.3374\n",
      "Epoch 2850, Loss: 42.4071\n",
      "Epoch 2860, Loss: 42.6602\n",
      "Epoch 2870, Loss: 42.5617\n",
      "Epoch 2880, Loss: 42.1866\n",
      "Epoch 2890, Loss: 42.5954\n",
      "Epoch 2900, Loss: 42.8046\n",
      "Epoch 2910, Loss: 42.1932\n",
      "Epoch 2920, Loss: 42.2019\n",
      "Epoch 2930, Loss: 42.2646\n",
      "Epoch 2940, Loss: 42.2790\n",
      "Epoch 2950, Loss: 42.3473\n",
      "Epoch 2960, Loss: 42.0724\n",
      "Epoch 2970, Loss: 42.2827\n",
      "Epoch 2980, Loss: 42.2272\n",
      "Epoch 2990, Loss: 42.1836\n"
     ]
    },
    {
     "data": {
      "application/vnd.plotly.v1+json": {
       "config": {
        "plotlyServerURL": "https://plot.ly"
       },
       "data": [
        {
         "hovertemplate": "x=%{x}<br>y=%{y}<extra></extra>",
         "legendgroup": "",
         "line": {
          "color": "#636efa",
          "dash": "solid"
         },
         "marker": {
          "symbol": "circle"
         },
         "mode": "lines",
         "name": "",
         "showlegend": false,
         "type": "scattergl",
         "x": {
          "bdata": "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",
          "dtype": "i2"
         },
         "xaxis": "x",
         "y": {
          "bdata": "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",
          "dtype": "f8"
         },
         "yaxis": "y"
        }
       ],
       "layout": {
        "legend": {
         "tracegroupgap": 0
        },
        "margin": {
         "t": 60
        },
        "template": {
         "data": {
          "bar": [
           {
            "error_x": {
             "color": "#f2f5fa"
            },
            "error_y": {
             "color": "#f2f5fa"
            },
            "marker": {
             "line": {
              "color": "rgb(17,17,17)",
              "width": 0.5
             },
             "pattern": {
              "fillmode": "overlay",
              "size": 10,
              "solidity": 0.2
             }
            },
            "type": "bar"
           }
          ],
          "barpolar": [
           {
            "marker": {
             "line": {
              "color": "rgb(17,17,17)",
              "width": 0.5
             },
             "pattern": {
              "fillmode": "overlay",
              "size": 10,
              "solidity": 0.2
             }
            },
            "type": "barpolar"
           }
          ],
          "carpet": [
           {
            "aaxis": {
             "endlinecolor": "#A2B1C6",
             "gridcolor": "#506784",
             "linecolor": "#506784",
             "minorgridcolor": "#506784",
             "startlinecolor": "#A2B1C6"
            },
            "baxis": {
             "endlinecolor": "#A2B1C6",
             "gridcolor": "#506784",
             "linecolor": "#506784",
             "minorgridcolor": "#506784",
             "startlinecolor": "#A2B1C6"
            },
            "type": "carpet"
           }
          ],
          "choropleth": [
           {
            "colorbar": {
             "outlinewidth": 0,
             "ticks": ""
            },
            "type": "choropleth"
           }
          ],
          "contour": [
           {
            "colorbar": {
             "outlinewidth": 0,
             "ticks": ""
            },
            "colorscale": [
             [
              0,
              "#0d0887"
             ],
             [
              0.1111111111111111,
              "#46039f"
             ],
             [
              0.2222222222222222,
              "#7201a8"
             ],
             [
              0.3333333333333333,
              "#9c179e"
             ],
             [
              0.4444444444444444,
              "#bd3786"
             ],
             [
              0.5555555555555556,
              "#d8576b"
             ],
             [
              0.6666666666666666,
              "#ed7953"
             ],
             [
              0.7777777777777778,
              "#fb9f3a"
             ],
             [
              0.8888888888888888,
              "#fdca26"
             ],
             [
              1,
              "#f0f921"
             ]
            ],
            "type": "contour"
           }
          ],
          "contourcarpet": [
           {
            "colorbar": {
             "outlinewidth": 0,
             "ticks": ""
            },
            "type": "contourcarpet"
           }
          ],
          "heatmap": [
           {
            "colorbar": {
             "outlinewidth": 0,
             "ticks": ""
            },
            "colorscale": [
             [
              0,
              "#0d0887"
             ],
             [
              0.1111111111111111,
              "#46039f"
             ],
             [
              0.2222222222222222,
              "#7201a8"
             ],
             [
              0.3333333333333333,
              "#9c179e"
             ],
             [
              0.4444444444444444,
              "#bd3786"
             ],
             [
              0.5555555555555556,
              "#d8576b"
             ],
             [
              0.6666666666666666,
              "#ed7953"
             ],
             [
              0.7777777777777778,
              "#fb9f3a"
             ],
             [
              0.8888888888888888,
              "#fdca26"
             ],
             [
              1,
              "#f0f921"
             ]
            ],
            "type": "heatmap"
           }
          ],
          "histogram": [
           {
            "marker": {
             "pattern": {
              "fillmode": "overlay",
              "size": 10,
              "solidity": 0.2
             }
            },
            "type": "histogram"
           }
          ],
          "histogram2d": [
           {
            "colorbar": {
             "outlinewidth": 0,
             "ticks": ""
            },
            "colorscale": [
             [
              0,
              "#0d0887"
             ],
             [
              0.1111111111111111,
              "#46039f"
             ],
             [
              0.2222222222222222,
              "#7201a8"
             ],
             [
              0.3333333333333333,
              "#9c179e"
             ],
             [
              0.4444444444444444,
              "#bd3786"
             ],
             [
              0.5555555555555556,
              "#d8576b"
             ],
             [
              0.6666666666666666,
              "#ed7953"
             ],
             [
              0.7777777777777778,
              "#fb9f3a"
             ],
             [
              0.8888888888888888,
              "#fdca26"
             ],
             [
              1,
              "#f0f921"
             ]
            ],
            "type": "histogram2d"
           }
          ],
          "histogram2dcontour": [
           {
            "colorbar": {
             "outlinewidth": 0,
             "ticks": ""
            },
            "colorscale": [
             [
              0,
              "#0d0887"
             ],
             [
              0.1111111111111111,
              "#46039f"
             ],
             [
              0.2222222222222222,
              "#7201a8"
             ],
             [
              0.3333333333333333,
              "#9c179e"
             ],
             [
              0.4444444444444444,
              "#bd3786"
             ],
             [
              0.5555555555555556,
              "#d8576b"
             ],
             [
              0.6666666666666666,
              "#ed7953"
             ],
             [
              0.7777777777777778,
              "#fb9f3a"
             ],
             [
              0.8888888888888888,
              "#fdca26"
             ],
             [
              1,
              "#f0f921"
             ]
            ],
            "type": "histogram2dcontour"
           }
          ],
          "mesh3d": [
           {
            "colorbar": {
             "outlinewidth": 0,
             "ticks": ""
            },
            "type": "mesh3d"
           }
          ],
          "parcoords": [
           {
            "line": {
             "colorbar": {
              "outlinewidth": 0,
              "ticks": ""
             }
            },
            "type": "parcoords"
           }
          ],
          "pie": [
           {
            "automargin": true,
            "type": "pie"
           }
          ],
          "scatter": [
           {
            "marker": {
             "line": {
              "color": "#283442"
             }
            },
            "type": "scatter"
           }
          ],
          "scatter3d": [
           {
            "line": {
             "colorbar": {
              "outlinewidth": 0,
              "ticks": ""
             }
            },
            "marker": {
             "colorbar": {
              "outlinewidth": 0,
              "ticks": ""
             }
            },
            "type": "scatter3d"
           }
          ],
          "scattercarpet": [
           {
            "marker": {
             "colorbar": {
              "outlinewidth": 0,
              "ticks": ""
             }
            },
            "type": "scattercarpet"
           }
          ],
          "scattergeo": [
           {
            "marker": {
             "colorbar": {
              "outlinewidth": 0,
              "ticks": ""
             }
            },
            "type": "scattergeo"
           }
          ],
          "scattergl": [
           {
            "marker": {
             "line": {
              "color": "#283442"
             }
            },
            "type": "scattergl"
           }
          ],
          "scattermap": [
           {
            "marker": {
             "colorbar": {
              "outlinewidth": 0,
              "ticks": ""
             }
            },
            "type": "scattermap"
           }
          ],
          "scattermapbox": [
           {
            "marker": {
             "colorbar": {
              "outlinewidth": 0,
              "ticks": ""
             }
            },
            "type": "scattermapbox"
           }
          ],
          "scatterpolar": [
           {
            "marker": {
             "colorbar": {
              "outlinewidth": 0,
              "ticks": ""
             }
            },
            "type": "scatterpolar"
           }
          ],
          "scatterpolargl": [
           {
            "marker": {
             "colorbar": {
              "outlinewidth": 0,
              "ticks": ""
             }
            },
            "type": "scatterpolargl"
           }
          ],
          "scatterternary": [
           {
            "marker": {
             "colorbar": {
              "outlinewidth": 0,
              "ticks": ""
             }
            },
            "type": "scatterternary"
           }
          ],
          "surface": [
           {
            "colorbar": {
             "outlinewidth": 0,
             "ticks": ""
            },
            "colorscale": [
             [
              0,
              "#0d0887"
             ],
             [
              0.1111111111111111,
              "#46039f"
             ],
             [
              0.2222222222222222,
              "#7201a8"
             ],
             [
              0.3333333333333333,
              "#9c179e"
             ],
             [
              0.4444444444444444,
              "#bd3786"
             ],
             [
              0.5555555555555556,
              "#d8576b"
             ],
             [
              0.6666666666666666,
              "#ed7953"
             ],
             [
              0.7777777777777778,
              "#fb9f3a"
             ],
             [
              0.8888888888888888,
              "#fdca26"
             ],
             [
              1,
              "#f0f921"
             ]
            ],
            "type": "surface"
           }
          ],
          "table": [
           {
            "cells": {
             "fill": {
              "color": "#506784"
             },
             "line": {
              "color": "rgb(17,17,17)"
             }
            },
            "header": {
             "fill": {
              "color": "#2a3f5f"
             },
             "line": {
              "color": "rgb(17,17,17)"
             }
            },
            "type": "table"
           }
          ]
         },
         "layout": {
          "annotationdefaults": {
           "arrowcolor": "#f2f5fa",
           "arrowhead": 0,
           "arrowwidth": 1
          },
          "autotypenumbers": "strict",
          "coloraxis": {
           "colorbar": {
            "outlinewidth": 0,
            "ticks": ""
           }
          },
          "colorscale": {
           "diverging": [
            [
             0,
             "#8e0152"
            ],
            [
             0.1,
             "#c51b7d"
            ],
            [
             0.2,
             "#de77ae"
            ],
            [
             0.3,
             "#f1b6da"
            ],
            [
             0.4,
             "#fde0ef"
            ],
            [
             0.5,
             "#f7f7f7"
            ],
            [
             0.6,
             "#e6f5d0"
            ],
            [
             0.7,
             "#b8e186"
            ],
            [
             0.8,
             "#7fbc41"
            ],
            [
             0.9,
             "#4d9221"
            ],
            [
             1,
             "#276419"
            ]
           ],
           "sequential": [
            [
             0,
             "#0d0887"
            ],
            [
             0.1111111111111111,
             "#46039f"
            ],
            [
             0.2222222222222222,
             "#7201a8"
            ],
            [
             0.3333333333333333,
             "#9c179e"
            ],
            [
             0.4444444444444444,
             "#bd3786"
            ],
            [
             0.5555555555555556,
             "#d8576b"
            ],
            [
             0.6666666666666666,
             "#ed7953"
            ],
            [
             0.7777777777777778,
             "#fb9f3a"
            ],
            [
             0.8888888888888888,
             "#fdca26"
            ],
            [
             1,
             "#f0f921"
            ]
           ],
           "sequentialminus": [
            [
             0,
             "#0d0887"
            ],
            [
             0.1111111111111111,
             "#46039f"
            ],
            [
             0.2222222222222222,
             "#7201a8"
            ],
            [
             0.3333333333333333,
             "#9c179e"
            ],
            [
             0.4444444444444444,
             "#bd3786"
            ],
            [
             0.5555555555555556,
             "#d8576b"
            ],
            [
             0.6666666666666666,
             "#ed7953"
            ],
            [
             0.7777777777777778,
             "#fb9f3a"
            ],
            [
             0.8888888888888888,
             "#fdca26"
            ],
            [
             1,
             "#f0f921"
            ]
           ]
          },
          "colorway": [
           "#636efa",
           "#EF553B",
           "#00cc96",
           "#ab63fa",
           "#FFA15A",
           "#19d3f3",
           "#FF6692",
           "#B6E880",
           "#FF97FF",
           "#FECB52"
          ],
          "font": {
           "color": "#f2f5fa"
          },
          "geo": {
           "bgcolor": "rgb(17,17,17)",
           "lakecolor": "rgb(17,17,17)",
           "landcolor": "rgb(17,17,17)",
           "showlakes": true,
           "showland": true,
           "subunitcolor": "#506784"
          },
          "hoverlabel": {
           "align": "left"
          },
          "hovermode": "closest",
          "mapbox": {
           "style": "dark"
          },
          "paper_bgcolor": "rgb(17,17,17)",
          "plot_bgcolor": "rgb(17,17,17)",
          "polar": {
           "angularaxis": {
            "gridcolor": "#506784",
            "linecolor": "#506784",
            "ticks": ""
           },
           "bgcolor": "rgb(17,17,17)",
           "radialaxis": {
            "gridcolor": "#506784",
            "linecolor": "#506784",
            "ticks": ""
           }
          },
          "scene": {
           "xaxis": {
            "backgroundcolor": "rgb(17,17,17)",
            "gridcolor": "#506784",
            "gridwidth": 2,
            "linecolor": "#506784",
            "showbackground": true,
            "ticks": "",
            "zerolinecolor": "#C8D4E3"
           },
           "yaxis": {
            "backgroundcolor": "rgb(17,17,17)",
            "gridcolor": "#506784",
            "gridwidth": 2,
            "linecolor": "#506784",
            "showbackground": true,
            "ticks": "",
            "zerolinecolor": "#C8D4E3"
           },
           "zaxis": {
            "backgroundcolor": "rgb(17,17,17)",
            "gridcolor": "#506784",
            "gridwidth": 2,
            "linecolor": "#506784",
            "showbackground": true,
            "ticks": "",
            "zerolinecolor": "#C8D4E3"
           }
          },
          "shapedefaults": {
           "line": {
            "color": "#f2f5fa"
           }
          },
          "sliderdefaults": {
           "bgcolor": "#C8D4E3",
           "bordercolor": "rgb(17,17,17)",
           "borderwidth": 1,
           "tickwidth": 0
          },
          "ternary": {
           "aaxis": {
            "gridcolor": "#506784",
            "linecolor": "#506784",
            "ticks": ""
           },
           "baxis": {
            "gridcolor": "#506784",
            "linecolor": "#506784",
            "ticks": ""
           },
           "bgcolor": "rgb(17,17,17)",
           "caxis": {
            "gridcolor": "#506784",
            "linecolor": "#506784",
            "ticks": ""
           }
          },
          "title": {
           "x": 0.05
          },
          "updatemenudefaults": {
           "bgcolor": "#506784",
           "borderwidth": 0
          },
          "xaxis": {
           "automargin": true,
           "gridcolor": "#283442",
           "linecolor": "#506784",
           "ticks": "",
           "title": {
            "standoff": 15
           },
           "zerolinecolor": "#283442",
           "zerolinewidth": 2
          },
          "yaxis": {
           "automargin": true,
           "gridcolor": "#283442",
           "linecolor": "#506784",
           "ticks": "",
           "title": {
            "standoff": 15
           },
           "zerolinecolor": "#283442",
           "zerolinewidth": 2
          }
         }
        },
        "xaxis": {
         "anchor": "y",
         "domain": [
          0,
          1
         ],
         "title": {
          "text": "x"
         }
        },
        "yaxis": {
         "anchor": "x",
         "domain": [
          0,
          1
         ],
         "title": {
          "text": "y"
         }
        }
       }
      }
     },
     "metadata": {},
     "output_type": "display_data"
    }
   ],
   "source": [
    "lr = 0.00005\n",
    "epochs = 3000\n",
    "\n",
    "optimizer = optim.SGD(model.parameters(), lr=lr)\n",
    "criterion = nn.MSELoss()\n",
    "\n",
    "losses = []\n",
    "for epoch in range(1, epochs):\n",
    "    dataloader = DataLoader(dataset, batch_size=16, shuffle=True)\n",
    "    epoch_loss = 0.0\n",
    "    for xb, yb in dataloader:\n",
    "        optimizer.zero_grad()\n",
    "        preds = model(xb)\n",
    "        loss = criterion(preds, yb)\n",
    "        loss.backward()\n",
    "        optimizer.step()\n",
    "        epoch_loss += loss.item() * xb.size(0)\n",
    "    epoch_loss /= len(dataloader.dataset)\n",
    "    losses.append(epoch_loss)\n",
    "    if epoch % 10 == 0:\n",
    "        print(f'Epoch {epoch}, Loss: {epoch_loss:.4f}')\n",
    "\n",
    "\n",
    "px.line(\n",
    "    x=range(1, epochs),\n",
    "    y=losses\n",
    ")"
   ]
  },
  {
   "cell_type": "code",
   "execution_count": 176,
   "id": "6f391980",
   "metadata": {},
   "outputs": [
    {
     "data": {
      "text/plain": [
       "[<matplotlib.lines.Line2D at 0x24722245250>]"
      ]
     },
     "execution_count": 176,
     "metadata": {},
     "output_type": "execute_result"
    },
    {
     "data": {
      "image/png": "[encoded data removed]",
      "text/plain": [
       "<Figure size 640x480 with 1 Axes>"
      ]
     },
     "metadata": {},
     "output_type": "display_data"
    }
   ],
   "source": [
    "x_range = torch.arange(-100, 100).view(-1, 1).float()\n",
    "\n",
    "l1 = model.state_dict()['0.weight']\n",
    "\n",
    "l1_y = torch.sigmoid(l1 @ x_range.t())\n",
    "\n",
    "plt.plot(x_range, l1_y[0].numpy(), label='Neuron 1')\n",
    "plt.plot(x_range, l1_y[1].numpy(), label='Neuron 2')"
   ]
  },
  {
   "cell_type": "code",
   "execution_count": null,
   "id": "203ed203",
   "metadata": {},
   "outputs": [],
   "source": []
  }
 ],
 "metadata": {
  "kernelspec": {
   "display_name": "venv",
   "language": "python",
   "name": "python3"
  },
  "language_info": {
   "codemirror_mode": {
    "name": "ipython",
    "version": 3
   },
   "file_extension": ".py",
   "mimetype": "text/x-python",
   "name": "python",
   "nbconvert_exporter": "python",
   "pygments_lexer": "ipython3",
   "version": "3.11.4"
  }
 },
 "nbformat": 4,
 "nbformat_minor": 5
}
