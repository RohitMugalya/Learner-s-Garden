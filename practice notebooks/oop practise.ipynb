{
 "cells": [
  {
   "cell_type": "code",
   "execution_count": 2,
   "id": "c6dc6bfe",
   "metadata": {},
   "outputs": [],
   "source": [
    "from typing import Self"
   ]
  },
  {
   "cell_type": "code",
   "execution_count": 6,
   "id": "7998bc15",
   "metadata": {},
   "outputs": [],
   "source": [
    "class Vector:\n",
    "    def __init__(self, i, j, k):\n",
    "        self.i = i\n",
    "        self.j = j\n",
    "        self.k = k\n",
    "\n",
    "    def __repr__(self):\n",
    "        return hex(id(self))\n",
    "\n",
    "    def __str__(self):\n",
    "        return f\"Vector{self.i, self.j, self.k} at {repr(self)}\""
   ]
  },
  {
   "cell_type": "code",
   "execution_count": 13,
   "id": "d390f25f",
   "metadata": {},
   "outputs": [
    {
     "name": "stdout",
     "output_type": "stream",
     "text": [
      "Vector(1, 2, 3) at 0x218b3501f50\n"
     ]
    }
   ],
   "source": [
    "u = Vector(1, 2, 3)\n",
    "print(u)"
   ]
  },
  {
   "cell_type": "code",
   "execution_count": 14,
   "id": "fe959b7b",
   "metadata": {},
   "outputs": [
    {
     "name": "stdout",
     "output_type": "stream",
     "text": [
      "Vector(1, 2, 3) at 0x218b3443190\n"
     ]
    }
   ],
   "source": [
    "v = Vector(1, 2, 3)\n",
    "print(v)"
   ]
  },
  {
   "cell_type": "code",
   "execution_count": 25,
   "id": "afa7feee",
   "metadata": {},
   "outputs": [],
   "source": [
    "word = \"Foo Bar\"\n",
    "bword = b\"Foo Bar\""
   ]
  },
  {
   "cell_type": "code",
   "execution_count": 26,
   "id": "9be2e958",
   "metadata": {},
   "outputs": [
    {
     "name": "stdout",
     "output_type": "stream",
     "text": [
      "Foo Bar b'Foo Bar'\n"
     ]
    }
   ],
   "source": [
    "print(word, bword)"
   ]
  },
  {
   "cell_type": "code",
   "execution_count": 40,
   "id": "d47ec67f",
   "metadata": {},
   "outputs": [
    {
     "name": "stdout",
     "output_type": "stream",
     "text": [
      "bytearray(b'Foo Bar')\n"
     ]
    }
   ],
   "source": [
    "baword = bytearray(bword)\n",
    "print(baword)"
   ]
  },
  {
   "cell_type": "code",
   "execution_count": 42,
   "id": "8290d6bd",
   "metadata": {},
   "outputs": [],
   "source": [
    "baword[0] = 65"
   ]
  },
  {
   "cell_type": "code",
   "execution_count": 82,
   "id": "32f605a5",
   "metadata": {},
   "outputs": [
    {
     "data": {
      "text/plain": [
       "{1: 'one'}"
      ]
     },
     "execution_count": 82,
     "metadata": {},
     "output_type": "execute_result"
    }
   ],
   "source": [
    "d = {1: \"one\"}\n",
    "d"
   ]
  },
  {
   "cell_type": "code",
   "execution_count": null,
   "id": "3803a4b1",
   "metadata": {},
   "outputs": [],
   "source": []
  }
 ],
 "metadata": {
  "kernelspec": {
   "display_name": "Python 3 (ipykernel)",
   "language": "python",
   "name": "python3"
  },
  "language_info": {
   "codemirror_mode": {
    "name": "ipython",
    "version": 3
   },
   "file_extension": ".py",
   "mimetype": "text/x-python",
   "name": "python",
   "nbconvert_exporter": "python",
   "pygments_lexer": "ipython3",
   "version": "3.11.5"
  }
 },
 "nbformat": 4,
 "nbformat_minor": 5
}
