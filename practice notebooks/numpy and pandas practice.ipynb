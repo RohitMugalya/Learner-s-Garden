{
 "cells": [
  {
   "cell_type": "code",
   "execution_count": 1,
   "id": "71690d8a",
   "metadata": {},
   "outputs": [],
   "source": [
    "import numpy as np\n",
    "import pandas as pd"
   ]
  },
  {
   "cell_type": "code",
   "execution_count": 13,
   "id": "a4ce78aa",
   "metadata": {},
   "outputs": [],
   "source": [
    "arr = np.random.randint(-100, 101, size=(9, 7))\n",
    "ser = pd.Series({'Apple': 12, 'Mango': 34, 'Berry': 50, 'Lemon': 11, 'Cashew': 86},\n",
    "                name='Fruits')\n",
    "\n",
    "data1 = {\n",
    "    'Species': ['Lion', 'Tiger', 'Leopard', 'Cheetah', 'Jaguar', 'Zebra', 'Giraffe', 'Penguin', 'Kangaroo'],\n",
    "    'Habitat': ['Grasslands', 'Jungle', 'Forests', 'Savannah', 'Rainforest', 'Grasslands', 'Savannah', 'Polar', 'Grasslands'],\n",
    "    'Diet': ['Carnivore', 'Carnivore', 'Carnivore', 'Carnivore', 'Carnivore', 'Herbivore', 'Herbivore', 'Carnivore', 'Herbivore'],\n",
    "    'Speed (km/h)': [80, 65, 58, 120, 80, 64, 50, 10, 56]\n",
    "}\n",
    "df1 = pd.DataFrame(data1)\n",
    "\n",
    "data2 = {\n",
    "    'Species': ['Lion', 'Tiger', 'Leopard', 'Elephant', 'Panda', 'Zebra', 'Giraffe', 'Penguin', 'Kangaroo'],\n",
    "    'Conservation Status': ['Vulnerable', 'Endangered', 'Near Threatened', 'Endangered', 'Vulnerable', 'Vulnerable', 'Least Concern', 'Least Concern', 'Near Threatened'],\n",
    "    'Population (in/K)': [30, 22, 7, 0.4, 1.8, 4.5, 1.2, 20, 6]\n",
    "}\n",
    "df2 = pd.DataFrame(data2)\n",
    "\n",
    "df = pd.read_csv(\"../sample csv data/vgsales.csv\", index_col=\"Rank\")"
   ]
  },
  {
   "cell_type": "code",
   "execution_count": 19,
   "id": "4f575f69",
   "metadata": {},
   "outputs": [
    {
     "data": {
      "text/plain": [
       "0  Species               Lion\n",
       "   Habitat         Grasslands\n",
       "   Diet             Carnivore\n",
       "   Speed (km/h)            80\n",
       "1  Species              Tiger\n",
       "   Habitat             Jungle\n",
       "   Diet             Carnivore\n",
       "   Speed (km/h)            65\n",
       "2  Species            Leopard\n",
       "   Habitat            Forests\n",
       "   Diet             Carnivore\n",
       "   Speed (km/h)            58\n",
       "3  Species            Cheetah\n",
       "   Habitat           Savannah\n",
       "   Diet             Carnivore\n",
       "   Speed (km/h)           120\n",
       "4  Species             Jaguar\n",
       "   Habitat         Rainforest\n",
       "   Diet             Carnivore\n",
       "   Speed (km/h)            80\n",
       "5  Species              Zebra\n",
       "   Habitat         Grasslands\n",
       "   Diet             Herbivore\n",
       "   Speed (km/h)            64\n",
       "6  Species            Giraffe\n",
       "   Habitat           Savannah\n",
       "   Diet             Herbivore\n",
       "   Speed (km/h)            50\n",
       "7  Species            Penguin\n",
       "   Habitat              Polar\n",
       "   Diet             Carnivore\n",
       "   Speed (km/h)            10\n",
       "8  Species           Kangaroo\n",
       "   Habitat         Grasslands\n",
       "   Diet             Herbivore\n",
       "   Speed (km/h)            56\n",
       "dtype: object"
      ]
     },
     "execution_count": 19,
     "metadata": {},
     "output_type": "execute_result"
    }
   ],
   "source": [
    "df1.stack()"
   ]
  },
  {
   "cell_type": "code",
   "execution_count": null,
   "id": "307eb1cd",
   "metadata": {},
   "outputs": [],
   "source": []
  }
 ],
 "metadata": {
  "kernelspec": {
   "display_name": "venv",
   "language": "python",
   "name": "python3"
  },
  "language_info": {
   "codemirror_mode": {
    "name": "ipython",
    "version": 3
   },
   "file_extension": ".py",
   "mimetype": "text/x-python",
   "name": "python",
   "nbconvert_exporter": "python",
   "pygments_lexer": "ipython3",
   "version": "3.11.4"
  }
 },
 "nbformat": 4,
 "nbformat_minor": 5
}
