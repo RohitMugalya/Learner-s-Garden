{
 "cells": [
  {
   "cell_type": "code",
   "execution_count": 195,
   "id": "ffddbb31",
   "metadata": {},
   "outputs": [],
   "source": [
    "import numpy as np\n",
    "import matplotlib.pyplot as plt\n",
    "\n",
    "import torch\n",
    "from torch import nn, optim\n",
    "from torch.utils.data import TensorDataset, DataLoader\n",
    "\n",
    "from torchmetrics.classification import BinaryAccuracy, MultilabelAccuracy\n",
    "\n",
    "plt.style.use(\"dark_background\")"
   ]
  },
  {
   "cell_type": "code",
   "execution_count": 235,
   "id": "1970f89e",
   "metadata": {},
   "outputs": [
    {
     "data": {
      "text/plain": [
       "<matplotlib.image.AxesImage at 0x1bfbeeebe90>"
      ]
     },
     "execution_count": 235,
     "metadata": {},
     "output_type": "execute_result"
    },
    {
     "data": {
      "image/png": "[encoded data removed]",
      "text/plain": [
       "<Figure size 640x480 with 2 Axes>"
      ]
     },
     "metadata": {},
     "output_type": "display_data"
    }
   ],
   "source": [
    "cross = np.array([\n",
    "    [1, 0, 1],\n",
    "    [0, 1, 0],\n",
    "    [1, 0, 1],\n",
    "])\n",
    "plus = np.array([\n",
    "    [0, 1, 0],\n",
    "    [1, 0, 1],\n",
    "    [0, 1, 0],\n",
    "])\n",
    "\n",
    "dimension = height, width = plus.shape\n",
    "\n",
    "_, (ax1, ax2) = plt.subplots(nrows=1, ncols=2)\n",
    "\n",
    "ax1.imshow(cross)\n",
    "ax2.imshow(plus)"
   ]
  },
  {
   "cell_type": "code",
   "execution_count": 236,
   "id": "61fc655b",
   "metadata": {},
   "outputs": [],
   "source": [
    "def fill_boards(blank_shape, piece):\n",
    "    blank = np.zeros(blank_shape)\n",
    "    height, width = piece.shape\n",
    "\n",
    "    fills = []\n",
    "    for i in range(0, blank.shape[0], height):\n",
    "        for j in range(0, blank.shape[1], width):\n",
    "            board = blank.copy()\n",
    "            board[i:i + height, j:j + width] = piece\n",
    "            fills.append(board)\n",
    "    \n",
    "    return np.array(fills)"
   ]
  },
  {
   "cell_type": "code",
   "execution_count": 237,
   "id": "32c913d0",
   "metadata": {},
   "outputs": [],
   "source": [
    "def plot_pieces(boards):\n",
    "    halfed = np.sqrt(boards.shape[0])\n",
    "    halfed = int(halfed)\n",
    "    _, axes = plt.subplots(nrows=halfed, ncols=halfed)\n",
    "    \n",
    "    for board, ax in zip(boards, axes.flat):\n",
    "        ax.imshow(board)"
   ]
  },
  {
   "cell_type": "code",
   "execution_count": 238,
   "id": "c8a99dcf",
   "metadata": {},
   "outputs": [
    {
     "data": {
      "image/png": "[encoded data removed]",
      "text/plain": [
       "<Figure size 640x480 with 4 Axes>"
      ]
     },
     "metadata": {},
     "output_type": "display_data"
    },
    {
     "data": {
      "image/png": "[encoded data removed]",
      "text/plain": [
       "<Figure size 640x480 with 4 Axes>"
      ]
     },
     "metadata": {},
     "output_type": "display_data"
    }
   ],
   "source": [
    "cross_boards = fill_boards((6, 6), cross)\n",
    "plus_boards = fill_boards((6, 6), plus)\n",
    "\n",
    "plot_pieces(cross_boards)\n",
    "plot_pieces(plus_boards)"
   ]
  },
  {
   "cell_type": "code",
   "execution_count": 239,
   "id": "b5d6b908",
   "metadata": {},
   "outputs": [],
   "source": [
    "crosses = torch.tensor(cross_boards, dtype=torch.float).unsqueeze(1)\n",
    "pluses = torch.tensor(plus_boards, dtype=torch.float).unsqueeze(1)\n",
    "\n",
    "cross_labels = torch.tensor([[1, 0]] * crosses.shape[0], dtype=torch.float)\n",
    "plus_labels = torch.tensor([[0, 1]] * pluses.shape[0], dtype=torch.float)\n",
    "\n",
    "data_images = torch.concat([\n",
    "    crosses,\n",
    "    pluses,\n",
    "])\n",
    "\n",
    "data_labels = torch.concat([\n",
    "    cross_labels,\n",
    "    plus_labels,\n",
    "])\n",
    "\n",
    "dataset = TensorDataset(data_images, data_labels)"
   ]
  },
  {
   "cell_type": "code",
   "execution_count": 240,
   "id": "edd1fc00",
   "metadata": {},
   "outputs": [],
   "source": [
    "class SymbolClassifier(nn.Module):\n",
    "    def __init__(self, input_shape):\n",
    "        super().__init__()\n",
    "        self.channel = input_shape[0]\n",
    "        self.height = input_shape[1]\n",
    "        self.width = input_shape[2]\n",
    "        \n",
    "        self.conv = nn.Conv2d(self.channel, 2, (3, 3), stride=(3, 3))\n",
    "        self.model = nn.Sequential(\n",
    "            self.conv,\n",
    "            nn.ReLU(),\n",
    "            nn.Flatten(),\n",
    "            nn.Linear(2 * 2 * 2, 2),\n",
    "            nn.Sigmoid(),\n",
    "        )\n",
    "    \n",
    "    def forward(self, X):\n",
    "        return self.model(X)\n",
    "    \n",
    "    def predict(self, X):\n",
    "        with torch.no_grad():\n",
    "            return self.model(X).detach()"
   ]
  },
  {
   "cell_type": "code",
   "execution_count": 282,
   "id": "4748116c",
   "metadata": {},
   "outputs": [
    {
     "name": "stdout",
     "output_type": "stream",
     "text": [
      "Epoch 1/100: loss = 0.7002\n",
      "Epoch 2/100: loss = 0.6908\n",
      "Epoch 3/100: loss = 0.6822\n",
      "Epoch 4/100: loss = 0.6728\n",
      "Epoch 5/100: loss = 0.6617\n",
      "Epoch 6/100: loss = 0.6487\n",
      "Epoch 7/100: loss = 0.6332\n",
      "Epoch 8/100: loss = 0.6152\n",
      "Epoch 9/100: loss = 0.5944\n",
      "Epoch 10/100: loss = 0.5704\n",
      "Epoch 11/100: loss = 0.5421\n",
      "Epoch 12/100: loss = 0.5083\n",
      "Epoch 13/100: loss = 0.4689\n",
      "Epoch 14/100: loss = 0.4254\n",
      "Epoch 15/100: loss = 0.3767\n",
      "Epoch 16/100: loss = 0.3262\n",
      "Epoch 17/100: loss = 0.2779\n",
      "Epoch 18/100: loss = 0.2326\n",
      "Epoch 19/100: loss = 0.1913\n",
      "Epoch 20/100: loss = 0.1558\n",
      "Epoch 21/100: loss = 0.1287\n",
      "Epoch 22/100: loss = 0.1063\n",
      "Epoch 23/100: loss = 0.0891\n",
      "Epoch 24/100: loss = 0.0760\n",
      "Epoch 25/100: loss = 0.0656\n",
      "Epoch 26/100: loss = 0.0570\n",
      "Epoch 27/100: loss = 0.0501\n",
      "Epoch 28/100: loss = 0.0446\n",
      "Epoch 29/100: loss = 0.0401\n",
      "Epoch 30/100: loss = 0.0361\n",
      "Epoch 31/100: loss = 0.0328\n",
      "Epoch 32/100: loss = 0.0300\n",
      "Epoch 33/100: loss = 0.0276\n",
      "Epoch 34/100: loss = 0.0255\n",
      "Epoch 35/100: loss = 0.0236\n",
      "Epoch 36/100: loss = 0.0220\n",
      "Epoch 37/100: loss = 0.0206\n",
      "Epoch 38/100: loss = 0.0193\n",
      "Epoch 39/100: loss = 0.0181\n",
      "Epoch 40/100: loss = 0.0171\n",
      "Epoch 41/100: loss = 0.0162\n",
      "Epoch 42/100: loss = 0.0153\n",
      "Epoch 43/100: loss = 0.0145\n",
      "Epoch 44/100: loss = 0.0138\n",
      "Epoch 45/100: loss = 0.0132\n",
      "Epoch 46/100: loss = 0.0126\n",
      "Epoch 47/100: loss = 0.0120\n",
      "Epoch 48/100: loss = 0.0115\n",
      "Epoch 49/100: loss = 0.0111\n",
      "Epoch 50/100: loss = 0.0106\n",
      "Epoch 51/100: loss = 0.0102\n",
      "Epoch 52/100: loss = 0.0098\n",
      "Epoch 53/100: loss = 0.0095\n",
      "Epoch 54/100: loss = 0.0092\n",
      "Epoch 55/100: loss = 0.0088\n",
      "Epoch 56/100: loss = 0.0085\n",
      "Epoch 57/100: loss = 0.0083\n",
      "Epoch 58/100: loss = 0.0080\n",
      "Epoch 59/100: loss = 0.0078\n",
      "Epoch 60/100: loss = 0.0075\n",
      "Epoch 61/100: loss = 0.0073\n",
      "Epoch 62/100: loss = 0.0071\n",
      "Epoch 63/100: loss = 0.0069\n",
      "Epoch 64/100: loss = 0.0067\n",
      "Epoch 65/100: loss = 0.0065\n",
      "Epoch 66/100: loss = 0.0063\n",
      "Epoch 67/100: loss = 0.0062\n",
      "Epoch 68/100: loss = 0.0060\n",
      "Epoch 69/100: loss = 0.0059\n",
      "Epoch 70/100: loss = 0.0057\n",
      "Epoch 71/100: loss = 0.0056\n",
      "Epoch 72/100: loss = 0.0055\n",
      "Epoch 73/100: loss = 0.0053\n",
      "Epoch 74/100: loss = 0.0052\n",
      "Epoch 75/100: loss = 0.0051\n",
      "Epoch 76/100: loss = 0.0050\n",
      "Epoch 77/100: loss = 0.0049\n",
      "Epoch 78/100: loss = 0.0048\n",
      "Epoch 79/100: loss = 0.0047\n",
      "Epoch 80/100: loss = 0.0046\n",
      "Epoch 81/100: loss = 0.0045\n",
      "Epoch 82/100: loss = 0.0044\n",
      "Epoch 83/100: loss = 0.0043\n",
      "Epoch 84/100: loss = 0.0042\n",
      "Epoch 85/100: loss = 0.0042\n",
      "Epoch 86/100: loss = 0.0041\n",
      "Epoch 87/100: loss = 0.0040\n",
      "Epoch 88/100: loss = 0.0039\n",
      "Epoch 89/100: loss = 0.0039\n",
      "Epoch 90/100: loss = 0.0038\n",
      "Epoch 91/100: loss = 0.0037\n",
      "Epoch 92/100: loss = 0.0037\n",
      "Epoch 93/100: loss = 0.0036\n",
      "Epoch 94/100: loss = 0.0036\n",
      "Epoch 95/100: loss = 0.0035\n",
      "Epoch 96/100: loss = 0.0034\n",
      "Epoch 97/100: loss = 0.0034\n",
      "Epoch 98/100: loss = 0.0033\n",
      "Epoch 99/100: loss = 0.0033\n",
      "Epoch 100/100: loss = 0.0032\n"
     ]
    },
    {
     "data": {
      "text/plain": [
       "[<matplotlib.lines.Line2D at 0x1bfc37ab2d0>]"
      ]
     },
     "execution_count": 282,
     "metadata": {},
     "output_type": "execute_result"
    },
    {
     "data": {
      "image/png": "[encoded data removed]",
      "text/plain": [
       "<Figure size 640x480 with 1 Axes>"
      ]
     },
     "metadata": {},
     "output_type": "display_data"
    }
   ],
   "source": [
    "symbol_classifier = SymbolClassifier(crosses.shape[1:])\n",
    "\n",
    "lr = 1\n",
    "epochs = 100\n",
    "\n",
    "criterion = nn.BCELoss()\n",
    "optimizer = optim.SGD(symbol_classifier.parameters(), lr=lr)\n",
    "data_loader = DataLoader(dataset, batch_size=len(dataset))\n",
    "\n",
    "losses = []\n",
    "for epoch in range(1, epochs + 1):\n",
    "    total_loss = 0\n",
    "    for image, label in data_loader:\n",
    "        yhat = symbol_classifier.forward(image)\n",
    "        loss = criterion(yhat, label)\n",
    "        optimizer.zero_grad()\n",
    "        loss.backward()\n",
    "        optimizer.step()\n",
    "        \n",
    "        total_loss += loss.item()\n",
    "    \n",
    "    total_loss /= len(data_loader)\n",
    "    losses.append(total_loss)\n",
    "    print(f\"Epoch {epoch}/{epochs}: loss = {total_loss:,.4f}\")\n",
    "\n",
    "\n",
    "plt.plot(losses)"
   ]
  },
  {
   "cell_type": "code",
   "execution_count": 283,
   "id": "e6be362a",
   "metadata": {},
   "outputs": [
    {
     "name": "stdout",
     "output_type": "stream",
     "text": [
      "Loss: 0.0032\n",
      "Accuracy: 100.00%\n"
     ]
    }
   ],
   "source": [
    "get_accuracy = MultilabelAccuracy(2)\n",
    "y_pred = symbol_classifier.predict(data_images)\n",
    "accuracy = get_accuracy(y_pred, data_labels)\n",
    "\n",
    "print(f\"Loss: {losses[-1]:.4f}\")\n",
    "print(f\"Accuracy: {accuracy:.2%}\")"
   ]
  },
  {
   "cell_type": "code",
   "execution_count": 284,
   "id": "6c16bd0a",
   "metadata": {},
   "outputs": [
    {
     "data": {
      "text/plain": [
       "<matplotlib.image.AxesImage at 0x1bfc2635710>"
      ]
     },
     "execution_count": 284,
     "metadata": {},
     "output_type": "execute_result"
    },
    {
     "data": {
      "image/png": "[encoded data removed]",
      "text/plain": [
       "<Figure size 640x480 with 2 Axes>"
      ]
     },
     "metadata": {},
     "output_type": "display_data"
    }
   ],
   "source": [
    "cross_kernel, plus_kernel = symbol_classifier.state_dict()['conv.weight'].relu()\n",
    "\n",
    "_, (ax1, ax2) = plt.subplots(nrows=1, ncols=2)\n",
    "\n",
    "ax1.imshow(cross_kernel[0])\n",
    "ax2.imshow(plus_kernel[0])"
   ]
  },
  {
   "cell_type": "code",
   "execution_count": 285,
   "id": "99d80ed8",
   "metadata": {},
   "outputs": [
    {
     "data": {
      "text/plain": [
       "<matplotlib.image.AxesImage at 0x1bfc39cead0>"
      ]
     },
     "execution_count": 285,
     "metadata": {},
     "output_type": "execute_result"
    },
    {
     "data": {
      "image/png": "[encoded data removed]",
      "text/plain": [
       "<Figure size 640x480 with 4 Axes>"
      ]
     },
     "metadata": {},
     "output_type": "display_data"
    }
   ],
   "source": [
    "cross_out, plus_out = symbol_classifier.state_dict()['model.3.weight'].relu()\n",
    "cross_out_vmin = cross_out.min()\n",
    "cross_out_vmax = cross_out.max()\n",
    "plus_out_vmin = plus_out.min()\n",
    "plus_out_vmax = plus_out.max()\n",
    "\n",
    "cross_sub1, cross_sub2 = cross_out.reshape(2, 2, 2)\n",
    "plus_sub1, plus_sub2 = plus_out.reshape(2, 2, 2)\n",
    "\n",
    "fig, axes = plt.subplots(nrows=2, ncols=2)\n",
    "ax1, ax2, ax3, ax4 = axes.ravel()\n",
    "\n",
    "ax1.imshow(cross_sub1, vmin=0, vmax=cross_out_vmax)\n",
    "ax2.imshow(cross_sub2, vmin=0, vmax=cross_out_vmax)\n",
    "\n",
    "ax3.imshow(plus_sub1, vmin=0, vmax=plus_out_vmax)\n",
    "ax4.imshow(plus_sub2, vmin=0, vmax=plus_out_vmax)"
   ]
  },
  {
   "cell_type": "code",
   "execution_count": 290,
   "id": "9a758391",
   "metadata": {},
   "outputs": [
    {
     "name": "stdout",
     "output_type": "stream",
     "text": [
      "tensor([[0.5848, 0.5848],\n",
      "        [0.5848, 0.0000]])\n",
      "tensor([[0.5892, 0.5892],\n",
      "        [0.5892, 6.0438]])\n"
     ]
    },
    {
     "data": {
      "text/plain": [
       "<matplotlib.image.AxesImage at 0x1bfc3c028d0>"
      ]
     },
     "execution_count": 290,
     "metadata": {},
     "output_type": "execute_result"
    },
    {
     "data": {
      "image/png": "[encoded data removed]",
      "text/plain": [
       "<Figure size 640x480 with 2 Axes>"
      ]
     },
     "metadata": {},
     "output_type": "display_data"
    }
   ],
   "source": [
    "feature_map1, feature_map2 = symbol_classifier.conv(data_images)[7].detach().relu()\n",
    "\n",
    "feature_map_vmax = max(feature_map1.max(), feature_map2.max())\n",
    "\n",
    "print(feature_map1)\n",
    "print(feature_map2)\n",
    "\n",
    "_, (ax1, ax2) = plt.subplots(nrows=1, ncols=2)\n",
    "\n",
    "ax1.imshow(feature_map1,vmin=0,vmax=feature_map_vmax)\n",
    "ax2.imshow(feature_map2,vmin=0,vmax=feature_map_vmax)"
   ]
  },
  {
   "cell_type": "code",
   "execution_count": null,
   "id": "ff2d0b30",
   "metadata": {},
   "outputs": [],
   "source": []
  }
 ],
 "metadata": {
  "kernelspec": {
   "display_name": "venv",
   "language": "python",
   "name": "python3"
  },
  "language_info": {
   "codemirror_mode": {
    "name": "ipython",
    "version": 3
   },
   "file_extension": ".py",
   "mimetype": "text/x-python",
   "name": "python",
   "nbconvert_exporter": "python",
   "pygments_lexer": "ipython3",
   "version": "3.11.4"
  }
 },
 "nbformat": 4,
 "nbformat_minor": 5
}
