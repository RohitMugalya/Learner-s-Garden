{
 "cells": [
  {
   "cell_type": "code",
   "execution_count": 1,
   "id": "be545c9c",
   "metadata": {},
   "outputs": [],
   "source": [
    "import re"
   ]
  },
  {
   "cell_type": "code",
   "execution_count": 2,
   "id": "46487187",
   "metadata": {},
   "outputs": [],
   "source": [
    "def dis(m: re.Match | None):\n",
    "    if m is None:\n",
    "        print(None)\n",
    "        return\n",
    "    print(m)\n",
    "    print(m.groups(), m.groupdict(), sep='\\n')"
   ]
  },
  {
   "cell_type": "code",
   "execution_count": 3,
   "id": "0e0bd32a",
   "metadata": {},
   "outputs": [],
   "source": [
    "a = \"Hello World!\"\n",
    "email = \"\"\"\n",
    "chicken65mutton75@gmail.com\n",
    "lazy_rabbit564@yahoo.edu.in\n",
    "John Doe, Jane Doe\n",
    "Ph.no - (+91) 9876543210    # Comment\n",
    "(+101) 888-777-000\n",
    "(+56)1535-756-12\\t\\t\\theyingaparu@domain.org.uk \n",
    "(+5)    2023-07-25 59:99:00\n",
    "(-)    2020/12/04\n",
    "\"\"\"\n",
    "\n",
    "numbers = \"\"\"\n",
    "...\n",
    "e\n",
    "005047e+6\n",
    "6+7    .5   15.\n",
    "e9     15.E+0\n",
    "5.5\n",
    "+.15\n",
    "+-5.\n",
    "5.e\n",
    "-+5e+6\"\"\""
   ]
  },
  {
   "cell_type": "code",
   "execution_count": 4,
   "id": "a490232c",
   "metadata": {},
   "outputs": [
    {
     "name": "stdout",
     "output_type": "stream",
     "text": [
      "\n",
      "chicken65mutton75@gmail.com\n",
      "lazy_rabbit564@yahoo.edu.in\n",
      "John Doe, Jane Doe\n",
      "Ph.no - (+91) 9876543210    # Comment\n",
      "(+101) 888-777-000\n",
      "(+56)1535-756-12\t\t\theyingaparu@domain.org.uk \n",
      "(+5)    2023-07-25 59:99:00\n",
      "(-)    2020/12/04\n",
      "\n"
     ]
    }
   ],
   "source": [
    "print(email)"
   ]
  },
  {
   "cell_type": "code",
   "execution_count": null,
   "id": "0cebdf4e",
   "metadata": {},
   "outputs": [],
   "source": []
  },
  {
   "cell_type": "code",
   "execution_count": 5,
   "id": "d6eeb0eb",
   "metadata": {},
   "outputs": [
    {
     "data": {
      "text/plain": [
       "<re.Match object; span=(0, 25), match='myself@some.thing.else.in'>"
      ]
     },
     "execution_count": 5,
     "metadata": {},
     "output_type": "execute_result"
    }
   ],
   "source": [
    "email = \"myself@some.thing.else.in\"\n",
    "m = re.fullmatch(r'(\\w+)@((?:\\w+\\.?)+)\\.(\\w+)', email)\n",
    "m"
   ]
  },
  {
   "cell_type": "code",
   "execution_count": 6,
   "id": "a3b0ed17",
   "metadata": {},
   "outputs": [
    {
     "data": {
      "text/plain": [
       "('myself', 'some.thing.else', 'in')"
      ]
     },
     "execution_count": 6,
     "metadata": {},
     "output_type": "execute_result"
    }
   ],
   "source": [
    "m.groups()"
   ]
  },
  {
   "cell_type": "code",
   "execution_count": 7,
   "id": "5840c314",
   "metadata": {},
   "outputs": [
    {
     "data": {
      "text/plain": [
       "'myself@some.thing.else.in'"
      ]
     },
     "execution_count": 7,
     "metadata": {},
     "output_type": "execute_result"
    }
   ],
   "source": [
    "m.group(0)"
   ]
  },
  {
   "cell_type": "code",
   "execution_count": 8,
   "id": "9c4ee859",
   "metadata": {},
   "outputs": [
    {
     "data": {
      "text/plain": [
       "<re.Match object; span=(0, 17), match='This is something'>"
      ]
     },
     "execution_count": 8,
     "metadata": {},
     "output_type": "execute_result"
    }
   ],
   "source": [
    "s = \"This is something\"\n",
    "o = re.fullmatch(r'.+(literally)?.+', s)\n",
    "o"
   ]
  },
  {
   "cell_type": "code",
   "execution_count": 9,
   "id": "132d1a23",
   "metadata": {},
   "outputs": [
    {
     "data": {
      "text/plain": [
       "'This is something'"
      ]
     },
     "execution_count": 9,
     "metadata": {},
     "output_type": "execute_result"
    }
   ],
   "source": [
    "o.group(0)"
   ]
  },
  {
   "cell_type": "code",
   "execution_count": 10,
   "id": "ea267970",
   "metadata": {},
   "outputs": [
    {
     "name": "stdout",
     "output_type": "stream",
     "text": [
      "hello ther\\ e \"    world\n",
      "something\" here\n"
     ]
    },
    {
     "data": {
      "text/plain": [
       "['hello', 'ther\\\\ e', '\"    world', 'something\" here']"
      ]
     },
     "execution_count": 10,
     "metadata": {},
     "output_type": "execute_result"
    }
   ],
   "source": [
    "prompts = r\"\"\"hello ther\\ e \"    world\n",
    "something\" here\"\"\"\n",
    "print(prompts)\n",
    "re.split(r'(?<=\\w)\\s', prompts)"
   ]
  },
  {
   "cell_type": "code",
   "execution_count": 11,
   "id": "433b4d3a",
   "metadata": {},
   "outputs": [
    {
     "data": {
      "text/plain": [
       "'here\\\\ is'"
      ]
     },
     "execution_count": 11,
     "metadata": {},
     "output_type": "execute_result"
    }
   ],
   "source": [
    "re.fullmatch(r'(?:[\\w-]|\\\\ )+', r\"here\\ is\").group()"
   ]
  },
  {
   "cell_type": "markdown",
   "id": "a0286bf4",
   "metadata": {},
   "source": [
    "<pre>here\\ is something \"to     note\n",
    "down\"</pre>"
   ]
  },
  {
   "cell_type": "code",
   "execution_count": 12,
   "id": "2d362d2a",
   "metadata": {},
   "outputs": [
    {
     "data": {
      "text/plain": [
       "<re.Match object; span=(0, 20), match='\"here is something \"'>"
      ]
     },
     "execution_count": 12,
     "metadata": {},
     "output_type": "execute_result"
    }
   ],
   "source": [
    "re.search(r'(\")?[^\"]*(?(1)\"|)', r'\"here is something \"down right\"')"
   ]
  },
  {
   "cell_type": "code",
   "execution_count": 18,
   "id": "eb963c08",
   "metadata": {},
   "outputs": [
    {
     "name": "stdout",
     "output_type": "stream",
     "text": [
      "leet#co\\#de\n"
     ]
    }
   ],
   "source": [
    "strs = [\"leet\", \"co#de\"]\n",
    "code = \"#\".join(word.replace(\"#\", r\"\\#\") for word in strs)\n",
    "print(code)"
   ]
  },
  {
   "cell_type": "code",
   "execution_count": 35,
   "id": "abcee44e",
   "metadata": {},
   "outputs": [
    {
     "data": {
      "text/plain": [
       "['leet#co', '\\\\', 'de']"
      ]
     },
     "execution_count": 35,
     "metadata": {},
     "output_type": "execute_result"
    }
   ],
   "source": [
    "re.split(r'(\\\\)(?(1).|#)', code)"
   ]
  },
  {
   "cell_type": "code",
   "execution_count": 30,
   "id": "3a898b49",
   "metadata": {},
   "outputs": [
    {
     "data": {
      "text/plain": [
       "<re.Match object; span=(3, 5), match='t#'>"
      ]
     },
     "execution_count": 30,
     "metadata": {},
     "output_type": "execute_result"
    }
   ],
   "source": [
    "re.search(r'[^\\\\]#', \"leet#\")"
   ]
  },
  {
   "cell_type": "code",
   "execution_count": null,
   "id": "8e248920",
   "metadata": {},
   "outputs": [],
   "source": []
  }
 ],
 "metadata": {
  "kernelspec": {
   "display_name": "Python 3 (ipykernel)",
   "language": "python",
   "name": "python3"
  },
  "language_info": {
   "codemirror_mode": {
    "name": "ipython",
    "version": 3
   },
   "file_extension": ".py",
   "mimetype": "text/x-python",
   "name": "python",
   "nbconvert_exporter": "python",
   "pygments_lexer": "ipython3",
   "version": "3.11.5"
  }
 },
 "nbformat": 4,
 "nbformat_minor": 5
}
