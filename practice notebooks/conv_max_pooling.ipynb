{
 "cells": [
  {
   "cell_type": "code",
   "execution_count": 1,
   "id": "f6a758c5",
   "metadata": {},
   "outputs": [],
   "source": [
    "import numpy as np\n",
    "import matplotlib.pyplot as plt\n",
    "from qbstyles import mpl_style\n",
    "\n",
    "import torch\n",
    "from torch import nn\n",
    "\n",
    "plt.style.use(\"dark_background\")"
   ]
  },
  {
   "cell_type": "code",
   "execution_count": 2,
   "id": "bac949ad",
   "metadata": {},
   "outputs": [
    {
     "data": {
      "text/plain": [
       "(8, 8)"
      ]
     },
     "execution_count": 2,
     "metadata": {},
     "output_type": "execute_result"
    },
    {
     "data": {
      "image/png": "[encoded data removed]",
      "text/plain": [
       "<Figure size 640x480 with 1 Axes>"
      ]
     },
     "metadata": {},
     "output_type": "display_data"
    }
   ],
   "source": [
    "np.random.seed(42)\n",
    "\n",
    "mat = np.array([\n",
    " [0, 0, 0, 0, 0, 0, 0, 0],\n",
    " [0, 0, 0, 0, 0, 0, 0, 0],\n",
    " [0, 0, 1, 1, 1, 0, 0, 0],\n",
    " [0, 0, 1, 0, 1, 0, 0, 0],\n",
    " [0, 0, 0, 1, 0, 0, 0, 0],\n",
    " [0, 0, 1, 0, 1, 0, 0, 0],\n",
    " [0, 0, 1, 1, 1, 0, 0, 0],\n",
    " [0, 0, 0, 0, 0, 0, 0, 0],\n",
    "])\n",
    "\n",
    "image = torch.tensor(np.array([[mat]]), dtype=torch.float)\n",
    "\n",
    "\n",
    "plt.imshow(mat)\n",
    "mat.shape"
   ]
  },
  {
   "cell_type": "code",
   "execution_count": 3,
   "id": "5264f1b6",
   "metadata": {},
   "outputs": [
    {
     "data": {
      "text/plain": [
       "OrderedDict([('weight',\n",
       "              tensor([[[[1., 1.],\n",
       "                        [1., 0.]]]])),\n",
       "             ('bias', tensor([0.]))])"
      ]
     },
     "execution_count": 3,
     "metadata": {},
     "output_type": "execute_result"
    }
   ],
   "source": [
    "conv = nn.Conv2d(1, 1, kernel_size=(2, 2))\n",
    "conv.state_dict()['weight'][:] = torch.tensor([\n",
    "    [1, 1],\n",
    "    [1, 0],\n",
    "])\n",
    "conv.state_dict()['bias'][:] = torch.tensor([0])\n",
    "\n",
    "conv.state_dict()"
   ]
  },
  {
   "cell_type": "code",
   "execution_count": 4,
   "id": "2535f226",
   "metadata": {},
   "outputs": [
    {
     "data": {
      "text/plain": [
       "<matplotlib.image.AxesImage at 0x207494faa50>"
      ]
     },
     "execution_count": 4,
     "metadata": {},
     "output_type": "execute_result"
    },
    {
     "data": {
      "image/png": "[encoded data removed]",
      "text/plain": [
       "<Figure size 640x480 with 2 Axes>"
      ]
     },
     "metadata": {},
     "output_type": "display_data"
    }
   ],
   "source": [
    "feature_map = conv(image)\n",
    "feature_image = feature_map.detach().numpy().squeeze()\n",
    "\n",
    "_, (ax1, ax2) = plt.subplots(nrows=1, ncols=2)\n",
    "\n",
    "\n",
    "ax1.imshow(mat)\n",
    "ax2.imshow(feature_image)"
   ]
  },
  {
   "cell_type": "code",
   "execution_count": 6,
   "id": "2ef2e330",
   "metadata": {},
   "outputs": [],
   "source": [
    "max_pooling = nn.MaxPool2d(2)\n",
    "\n",
    "pool_map = max_pooling(feature_map)\n",
    "pool_image = pool_map.detach().numpy()"
   ]
  },
  {
   "cell_type": "code",
   "execution_count": 21,
   "id": "eb59774d",
   "metadata": {},
   "outputs": [
    {
     "data": {
      "text/plain": [
       "(2, 5)"
      ]
     },
     "execution_count": 21,
     "metadata": {},
     "output_type": "execute_result"
    }
   ],
   "source": [
    "nn.MaxPool2d((2, 5)).stride"
   ]
  },
  {
   "cell_type": "code",
   "execution_count": 9,
   "id": "cc72035d",
   "metadata": {},
   "outputs": [
    {
     "data": {
      "text/plain": [
       "(1, 1, 3, 3)"
      ]
     },
     "execution_count": 9,
     "metadata": {},
     "output_type": "execute_result"
    }
   ],
   "source": [
    "pool_image.shape"
   ]
  },
  {
   "cell_type": "markdown",
   "id": "5cca6ca2",
   "metadata": {},
   "source": [
    "## Multi input/output channels Convo"
   ]
  },
  {
   "cell_type": "code",
   "execution_count": 40,
   "id": "12eb7cf6",
   "metadata": {},
   "outputs": [
    {
     "name": "stdout",
     "output_type": "stream",
     "text": [
      "tensor([[[[4., 2., 1., 3.],\n",
      "          [2., 1., 5., 2.],\n",
      "          [4., 5., 5., 3.],\n",
      "          [4., 5., 5., 3.]],\n",
      "\n",
      "         [[3., 3., 4., 2.],\n",
      "          [1., 1., 1., 3.],\n",
      "          [4., 3., 4., 4.],\n",
      "          [3., 3., 3., 3.]],\n",
      "\n",
      "         [[2., 2., 1., 1.],\n",
      "          [1., 5., 1., 2.],\n",
      "          [1., 4., 2., 3.],\n",
      "          [1., 4., 2., 1.]]]])\n",
      "\n",
      "torch.Size([10, 3, 3, 3])\n"
     ]
    }
   ],
   "source": [
    "sample_image = torch.randint(1, 6, size=(1, 3, 4, 4), dtype=torch.float)\n",
    "print(sample_image)\n",
    "multi_in_conv = nn.Conv2d(3, 10, kernel_size=3)\n",
    "\n",
    "print()\n",
    "print(multi_in_conv.state_dict()['weight'].shape)"
   ]
  },
  {
   "cell_type": "code",
   "execution_count": 38,
   "id": "40ae5f0a",
   "metadata": {},
   "outputs": [
    {
     "data": {
      "text/plain": [
       "tensor([[[[ 0.9364,  0.3838],\n",
       "          [ 0.9594, -0.5805]],\n",
       "\n",
       "         [[ 0.6599,  0.0932],\n",
       "          [ 0.8361,  0.8609]],\n",
       "\n",
       "         [[-0.8931, -0.4311],\n",
       "          [-0.0700, -0.3732]],\n",
       "\n",
       "         [[-1.6745,  1.6016],\n",
       "          [ 0.7414,  1.3255]],\n",
       "\n",
       "         [[-0.3846,  0.1411],\n",
       "          [ 1.4873,  1.3069]],\n",
       "\n",
       "         [[ 1.3295,  3.0269],\n",
       "          [ 0.6615,  0.8917]],\n",
       "\n",
       "         [[ 3.0543,  3.4952],\n",
       "          [ 1.2732,  1.4279]],\n",
       "\n",
       "         [[-0.6736, -0.9205],\n",
       "          [-0.6878, -0.0402]],\n",
       "\n",
       "         [[-0.1497, -0.0748],\n",
       "          [ 0.6108, -0.3936]],\n",
       "\n",
       "         [[ 2.9716,  1.9623],\n",
       "          [ 1.5769,  4.0967]]]], grad_fn=<ConvolutionBackward0>)"
      ]
     },
     "execution_count": 38,
     "metadata": {},
     "output_type": "execute_result"
    }
   ],
   "source": [
    "multi_in_conv(sample_image)"
   ]
  },
  {
   "cell_type": "code",
   "execution_count": null,
   "id": "05a53393",
   "metadata": {},
   "outputs": [],
   "source": []
  }
 ],
 "metadata": {
  "kernelspec": {
   "display_name": "venv",
   "language": "python",
   "name": "python3"
  },
  "language_info": {
   "codemirror_mode": {
    "name": "ipython",
    "version": 3
   },
   "file_extension": ".py",
   "mimetype": "text/x-python",
   "name": "python",
   "nbconvert_exporter": "python",
   "pygments_lexer": "ipython3",
   "version": "3.11.4"
  }
 },
 "nbformat": 4,
 "nbformat_minor": 5
}
