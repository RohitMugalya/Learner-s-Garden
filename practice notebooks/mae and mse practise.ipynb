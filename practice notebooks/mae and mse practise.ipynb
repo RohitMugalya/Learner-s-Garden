{
 "cells": [
  {
   "cell_type": "code",
   "execution_count": 117,
   "id": "3e88c08c",
   "metadata": {},
   "outputs": [],
   "source": [
    "import numpy as np\n",
    "import matplotlib.pyplot as plt\n",
    "\n",
    "from tensorflow.keras.models import Sequential\n",
    "from tensorflow.keras.layers import Dense, Input\n",
    "from tensorflow.keras.optimizers import SGD\n",
    "\n",
    "from sklearn.model_selection import train_test_split\n",
    "from sklearn.linear_model import LinearRegression\n",
    "from sklearn.metrics import mean_squared_error, mean_absolute_error, r2_score\n",
    "\n",
    "from qbstyles import mpl_style\n",
    "\n",
    "from drawdata import ScatterWidget\n",
    "\n",
    "mpl_style()"
   ]
  },
  {
   "cell_type": "code",
   "execution_count": 85,
   "id": "a28c6ecc",
   "metadata": {},
   "outputs": [],
   "source": [
    "def model_line(model, X, y, color_dp3d=\"black\", color_dp2d=\"red\", color_line2d=\"white\", color_line3d=\"white\", alpha=0.5):\n",
    "    if X.shape[1] == 1:  # 2D Case\n",
    "        plt.scatter(X.iloc[:, 0], y, marker=\".\", color=color_dp2d, label=\"Data\")\n",
    "        y_pred = model.predict(X).flatten()\n",
    "        plt.plot(X.iloc[:, 0], y_pred, color=color_line2d, label=\"Model Prediction\")\n",
    "        plt.xlabel(X.columns[0])\n",
    "        plt.ylabel(y.name)\n",
    "        plt.legend()\n",
    "        plt.show()\n",
    "\n",
    "    elif X.shape[1] == 2:  # 3D Case\n",
    "        plt.ion()\n",
    "        fig = plt.figure()\n",
    "        ax = fig.add_subplot(111, projection='3d')\n",
    "\n",
    "        ax.scatter(X.iloc[:, 0], X.iloc[:, 1], y, color=color_dp3d, label=\"Data\", marker=\".\")\n",
    "\n",
    "        X_vals = X.iloc[:, 0]\n",
    "        Y_vals = X.iloc[:, 1]\n",
    "        Z_vals = model.predict(X).flatten()\n",
    "        ax.plot_trisurf(X_vals, Y_vals, Z_vals, color=color_line3d, alpha=alpha)\n",
    "\n",
    "        ax.set_xlabel(X.columns[0])\n",
    "        ax.set_ylabel(X.columns[1])\n",
    "        ax.set_zlabel(y.name)\n",
    "        plt.legend()\n",
    "        plt.show()\n",
    "\n",
    "    else:\n",
    "        raise ValueError(\"Only 1D or 2D features are supported.\")\n",
    "\n",
    "\n",
    "def predictor_line(model, X, y, dot_color=\"yellow\", line_color=\"cyan\", marker=\".\"):\n",
    "    pred = model.predict(X).flatten()\n",
    "    y_true = y.to_numpy().flatten()\n",
    "    start = min(y_true.min(), pred.min())\n",
    "    end = max(y_true.max(), pred.max())\n",
    "    line = np.linspace(start, end, 100)\n",
    "\n",
    "    plt.scatter(y_true, pred, marker=marker, color=dot_color)\n",
    "    plt.plot(line, line, color=line_color)\n",
    "    plt.xlabel(\"Actual\")\n",
    "    plt.ylabel(\"Predicted\")\n",
    "    plt.show()\n",
    "\n",
    "\n",
    "def model_equation(model, feature_names, target_label, variable_as_name=False):\n",
    "    weights = model.get_weights()\n",
    "    coef = weights[0].flatten()\n",
    "    intercept = weights[1][0]\n",
    "\n",
    "    if variable_as_name:\n",
    "        variables = [f\"{name}\" for name in feature_names]\n",
    "        y = target_label\n",
    "    else:\n",
    "        variables = [f\"x{i}\" for i in range(1, len(feature_names) + 1)]\n",
    "        y = \"y\"\n",
    "        for variable, feature_name in zip(variables, feature_names):\n",
    "            print(f\"{variable} = {feature_name}\")\n",
    "        print(f\"{y} = {target_label}\")\n",
    "    \n",
    "    terms = [f\"{coef[i]:.2f} * {variables[i]}\" for i in range(len(coef))]\n",
    "    equation = f\"{y} = {terms[0]}\"\n",
    "    for term in terms[1:]:\n",
    "        if term.startswith('-'):\n",
    "            equation += f\" - {term[1:]}\"\n",
    "        else:\n",
    "            equation += f\" + {term}\"\n",
    "    equation += f\" + {intercept:.2f}\" if intercept >= 0 else f\" - {-intercept:.2f}\"\n",
    "    return equation\n",
    "\n",
    "\n",
    "def loss_curve(history, color=\"blue\"):\n",
    "    plt.plot(history.history['loss'], color=color, label='Training Loss')\n",
    "    plt.title('Model Loss Curve')\n",
    "    plt.ylabel('Loss')\n",
    "    plt.xlabel('Epochs')\n",
    "    plt.legend()\n",
    "    plt.show()"
   ]
  },
  {
   "cell_type": "code",
   "execution_count": 2,
   "id": "640c6b04",
   "metadata": {},
   "outputs": [],
   "source": [
    "widget = ScatterWidget()"
   ]
  },
  {
   "cell_type": "code",
   "execution_count": 3,
   "id": "5863fb33",
   "metadata": {},
   "outputs": [
    {
     "data": {
      "application/vnd.jupyter.widget-view+json": {
       "model_id": "0ecb7e83e520466d9b2801008ea41ab1",
       "version_major": 2,
       "version_minor": 1
      },
      "text/plain": [
       "ScatterWidget()"
      ]
     },
     "execution_count": 3,
     "metadata": {},
     "output_type": "execute_result"
    }
   ],
   "source": [
    "widget"
   ]
  },
  {
   "cell_type": "code",
   "execution_count": 5,
   "id": "ce384a36",
   "metadata": {},
   "outputs": [],
   "source": [
    "df = widget.data_as_pandas"
   ]
  },
  {
   "cell_type": "code",
   "execution_count": 10,
   "id": "a3609fe4",
   "metadata": {},
   "outputs": [
    {
     "data": {
      "text/html": [
       "<div>\n",
       "<style scoped>\n",
       "    .dataframe tbody tr th:only-of-type {\n",
       "        vertical-align: middle;\n",
       "    }\n",
       "\n",
       "    .dataframe tbody tr th {\n",
       "        vertical-align: top;\n",
       "    }\n",
       "\n",
       "    .dataframe thead th {\n",
       "        text-align: right;\n",
       "    }\n",
       "</style>\n",
       "<table border=\"1\" class=\"dataframe\">\n",
       "  <thead>\n",
       "    <tr style=\"text-align: right;\">\n",
       "      <th></th>\n",
       "      <th>x</th>\n",
       "      <th>y</th>\n",
       "      <th>color</th>\n",
       "      <th>label</th>\n",
       "    </tr>\n",
       "  </thead>\n",
       "  <tbody>\n",
       "    <tr>\n",
       "      <th>0</th>\n",
       "      <td>116.630274</td>\n",
       "      <td>417.804245</td>\n",
       "      <td>#1f77b4</td>\n",
       "      <td>a</td>\n",
       "    </tr>\n",
       "    <tr>\n",
       "      <th>1</th>\n",
       "      <td>113.815145</td>\n",
       "      <td>413.249132</td>\n",
       "      <td>#1f77b4</td>\n",
       "      <td>a</td>\n",
       "    </tr>\n",
       "    <tr>\n",
       "      <th>2</th>\n",
       "      <td>104.720712</td>\n",
       "      <td>412.613668</td>\n",
       "      <td>#1f77b4</td>\n",
       "      <td>a</td>\n",
       "    </tr>\n",
       "    <tr>\n",
       "      <th>3</th>\n",
       "      <td>117.146587</td>\n",
       "      <td>416.051495</td>\n",
       "      <td>#1f77b4</td>\n",
       "      <td>a</td>\n",
       "    </tr>\n",
       "    <tr>\n",
       "      <th>4</th>\n",
       "      <td>111.477001</td>\n",
       "      <td>415.201141</td>\n",
       "      <td>#1f77b4</td>\n",
       "      <td>a</td>\n",
       "    </tr>\n",
       "  </tbody>\n",
       "</table>\n",
       "</div>"
      ],
      "text/plain": [
       "            x           y    color label\n",
       "0  116.630274  417.804245  #1f77b4     a\n",
       "1  113.815145  413.249132  #1f77b4     a\n",
       "2  104.720712  412.613668  #1f77b4     a\n",
       "3  117.146587  416.051495  #1f77b4     a\n",
       "4  111.477001  415.201141  #1f77b4     a"
      ]
     },
     "execution_count": 10,
     "metadata": {},
     "output_type": "execute_result"
    }
   ],
   "source": [
    "df.head()"
   ]
  },
  {
   "cell_type": "code",
   "execution_count": 22,
   "id": "c3c602ee",
   "metadata": {},
   "outputs": [
    {
     "data": {
      "text/plain": [
       "<Axes: xlabel='x', ylabel='y'>"
      ]
     },
     "execution_count": 22,
     "metadata": {},
     "output_type": "execute_result"
    },
    {
     "data": {
      "image/png": "[encoded data removed]",
      "text/plain": [
       "<Figure size 640x480 with 2 Axes>"
      ]
     },
     "metadata": {},
     "output_type": "display_data"
    }
   ],
   "source": [
    "df.plot.scatter('x', 'y', color=\"cyan\")"
   ]
  },
  {
   "cell_type": "code",
   "execution_count": 115,
   "id": "74da6ba2",
   "metadata": {},
   "outputs": [
    {
     "data": {
      "image/png": "[encoded data removed]",
      "text/plain": [
       "<Figure size 640x480 with 1 Axes>"
      ]
     },
     "metadata": {},
     "output_type": "display_data"
    }
   ],
   "source": [
    "X = df[['x']]\n",
    "y = df['y']\n",
    "\n",
    "sklearn_model = LinearRegression()\n",
    "sklearn_model.fit(X, y)\n",
    "\n",
    "model_line(sklearn_model, X, y, color_dp2d=\"cyan\", color_line2d=\"yellow\")"
   ]
  },
  {
   "cell_type": "code",
   "execution_count": 121,
   "id": "9626a833",
   "metadata": {},
   "outputs": [
    {
     "data": {
      "text/html": [
       "<pre style=\"white-space:pre;overflow-x:auto;line-height:normal;font-family:Menlo,'DejaVu Sans Mono',consolas,'Courier New',monospace\"><span style=\"font-weight: bold\">Model: \"keras_model_mse\"</span>\n",
       "</pre>\n"
      ],
      "text/plain": [
       "\u001b[1mModel: \"keras_model_mse\"\u001b[0m\n"
      ]
     },
     "metadata": {},
     "output_type": "display_data"
    },
    {
     "data": {
      "text/html": [
       "<pre style=\"white-space:pre;overflow-x:auto;line-height:normal;font-family:Menlo,'DejaVu Sans Mono',consolas,'Courier New',monospace\">┏━━━━━━━━━━━━━━━━━━━━━━━━━━━━━━━━━┳━━━━━━━━━━━━━━━━━━━━━━━━┳━━━━━━━━━━━━━━━┓\n",
       "┃<span style=\"font-weight: bold\"> Layer (type)                    </span>┃<span style=\"font-weight: bold\"> Output Shape           </span>┃<span style=\"font-weight: bold\">       Param # </span>┃\n",
       "┡━━━━━━━━━━━━━━━━━━━━━━━━━━━━━━━━━╇━━━━━━━━━━━━━━━━━━━━━━━━╇━━━━━━━━━━━━━━━┩\n",
       "│ dense_14 (<span style=\"color: #0087ff; text-decoration-color: #0087ff\">Dense</span>)                │ (<span style=\"color: #00d7ff; text-decoration-color: #00d7ff\">None</span>, <span style=\"color: #00af00; text-decoration-color: #00af00\">1</span>)              │             <span style=\"color: #00af00; text-decoration-color: #00af00\">2</span> │\n",
       "└─────────────────────────────────┴────────────────────────┴───────────────┘\n",
       "</pre>\n"
      ],
      "text/plain": [
       "┏━━━━━━━━━━━━━━━━━━━━━━━━━━━━━━━━━┳━━━━━━━━━━━━━━━━━━━━━━━━┳━━━━━━━━━━━━━━━┓\n",
       "┃\u001b[1m \u001b[0m\u001b[1mLayer (type)                   \u001b[0m\u001b[1m \u001b[0m┃\u001b[1m \u001b[0m\u001b[1mOutput Shape          \u001b[0m\u001b[1m \u001b[0m┃\u001b[1m \u001b[0m\u001b[1m      Param #\u001b[0m\u001b[1m \u001b[0m┃\n",
       "┡━━━━━━━━━━━━━━━━━━━━━━━━━━━━━━━━━╇━━━━━━━━━━━━━━━━━━━━━━━━╇━━━━━━━━━━━━━━━┩\n",
       "│ dense_14 (\u001b[38;5;33mDense\u001b[0m)                │ (\u001b[38;5;45mNone\u001b[0m, \u001b[38;5;34m1\u001b[0m)              │             \u001b[38;5;34m2\u001b[0m │\n",
       "└─────────────────────────────────┴────────────────────────┴───────────────┘\n"
      ]
     },
     "metadata": {},
     "output_type": "display_data"
    },
    {
     "data": {
      "text/html": [
       "<pre style=\"white-space:pre;overflow-x:auto;line-height:normal;font-family:Menlo,'DejaVu Sans Mono',consolas,'Courier New',monospace\"><span style=\"font-weight: bold\"> Total params: </span><span style=\"color: #00af00; text-decoration-color: #00af00\">2</span> (8.00 B)\n",
       "</pre>\n"
      ],
      "text/plain": [
       "\u001b[1m Total params: \u001b[0m\u001b[38;5;34m2\u001b[0m (8.00 B)\n"
      ]
     },
     "metadata": {},
     "output_type": "display_data"
    },
    {
     "data": {
      "text/html": [
       "<pre style=\"white-space:pre;overflow-x:auto;line-height:normal;font-family:Menlo,'DejaVu Sans Mono',consolas,'Courier New',monospace\"><span style=\"font-weight: bold\"> Trainable params: </span><span style=\"color: #00af00; text-decoration-color: #00af00\">2</span> (8.00 B)\n",
       "</pre>\n"
      ],
      "text/plain": [
       "\u001b[1m Trainable params: \u001b[0m\u001b[38;5;34m2\u001b[0m (8.00 B)\n"
      ]
     },
     "metadata": {},
     "output_type": "display_data"
    },
    {
     "data": {
      "text/html": [
       "<pre style=\"white-space:pre;overflow-x:auto;line-height:normal;font-family:Menlo,'DejaVu Sans Mono',consolas,'Courier New',monospace\"><span style=\"font-weight: bold\"> Non-trainable params: </span><span style=\"color: #00af00; text-decoration-color: #00af00\">0</span> (0.00 B)\n",
       "</pre>\n"
      ],
      "text/plain": [
       "\u001b[1m Non-trainable params: \u001b[0m\u001b[38;5;34m0\u001b[0m (0.00 B)\n"
      ]
     },
     "metadata": {},
     "output_type": "display_data"
    }
   ],
   "source": [
    "X = df[['x']]\n",
    "Y = df[['y']]\n",
    "\n",
    "keras_model_mse = Sequential([\n",
    "    Input(shape=(1,)),\n",
    "    Dense(1, activation='linear')\n",
    "], name=\"keras_model_mse\")\n",
    "\n",
    "keras_model_mse.compile(\n",
    "    optimizer=SGD(learning_rate=0.01),\n",
    "    loss='mean_squared_error'\n",
    ")\n",
    "\n",
    "keras_model_mse.summary()"
   ]
  },
  {
   "cell_type": "code",
   "execution_count": 125,
   "id": "a9201b0d",
   "metadata": {},
   "outputs": [
    {
     "data": {
      "text/html": [
       "<div>\n",
       "<style scoped>\n",
       "    .dataframe tbody tr th:only-of-type {\n",
       "        vertical-align: middle;\n",
       "    }\n",
       "\n",
       "    .dataframe tbody tr th {\n",
       "        vertical-align: top;\n",
       "    }\n",
       "\n",
       "    .dataframe thead th {\n",
       "        text-align: right;\n",
       "    }\n",
       "</style>\n",
       "<table border=\"1\" class=\"dataframe\">\n",
       "  <thead>\n",
       "    <tr style=\"text-align: right;\">\n",
       "      <th></th>\n",
       "      <th>x</th>\n",
       "    </tr>\n",
       "  </thead>\n",
       "  <tbody>\n",
       "    <tr>\n",
       "      <th>count</th>\n",
       "      <td>257.000000</td>\n",
       "    </tr>\n",
       "    <tr>\n",
       "      <th>mean</th>\n",
       "      <td>302.633355</td>\n",
       "    </tr>\n",
       "    <tr>\n",
       "      <th>std</th>\n",
       "      <td>132.540466</td>\n",
       "    </tr>\n",
       "    <tr>\n",
       "      <th>min</th>\n",
       "      <td>104.720712</td>\n",
       "    </tr>\n",
       "    <tr>\n",
       "      <th>25%</th>\n",
       "      <td>206.763433</td>\n",
       "    </tr>\n",
       "    <tr>\n",
       "      <th>50%</th>\n",
       "      <td>293.740869</td>\n",
       "    </tr>\n",
       "    <tr>\n",
       "      <th>75%</th>\n",
       "      <td>366.114101</td>\n",
       "    </tr>\n",
       "    <tr>\n",
       "      <th>max</th>\n",
       "      <td>690.128545</td>\n",
       "    </tr>\n",
       "  </tbody>\n",
       "</table>\n",
       "</div>"
      ],
      "text/plain": [
       "                x\n",
       "count  257.000000\n",
       "mean   302.633355\n",
       "std    132.540466\n",
       "min    104.720712\n",
       "25%    206.763433\n",
       "50%    293.740869\n",
       "75%    366.114101\n",
       "max    690.128545"
      ]
     },
     "execution_count": 125,
     "metadata": {},
     "output_type": "execute_result"
    }
   ],
   "source": [
    "X.describe()"
   ]
  },
  {
   "cell_type": "code",
   "execution_count": null,
   "id": "f8f229a1",
   "metadata": {},
   "outputs": [],
   "source": []
  }
 ],
 "metadata": {
  "kernelspec": {
   "display_name": "Python 3",
   "language": "python",
   "name": "python3"
  },
  "language_info": {
   "codemirror_mode": {
    "name": "ipython",
    "version": 3
   },
   "file_extension": ".py",
   "mimetype": "text/x-python",
   "name": "python",
   "nbconvert_exporter": "python",
   "pygments_lexer": "ipython3",
   "version": "3.12.1"
  }
 },
 "nbformat": 4,
 "nbformat_minor": 5
}
