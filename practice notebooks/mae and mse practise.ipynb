{
 "cells": [
  {
   "cell_type": "code",
   "execution_count": 1,
   "id": "3e88c08c",
   "metadata": {},
   "outputs": [],
   "source": [
    "import numpy as np\n",
    "import matplotlib.pyplot as plt\n",
    "from qbstyles import mpl_style\n",
    "\n",
    "from drawdata import ScatterWidget\n",
    "\n",
    "mpl_style()"
   ]
  },
  {
   "cell_type": "code",
   "execution_count": 2,
   "id": "640c6b04",
   "metadata": {},
   "outputs": [],
   "source": [
    "widget = ScatterWidget()"
   ]
  },
  {
   "cell_type": "code",
   "execution_count": null,
   "id": "5863fb33",
   "metadata": {},
   "outputs": [],
   "source": []
  }
 ],
 "metadata": {
  "kernelspec": {
   "display_name": "Python 3",
   "language": "python",
   "name": "python3"
  },
  "language_info": {
   "codemirror_mode": {
    "name": "ipython",
    "version": 3
   },
   "file_extension": ".py",
   "mimetype": "text/x-python",
   "name": "python",
   "nbconvert_exporter": "python",
   "pygments_lexer": "ipython3",
   "version": "3.12.1"
  }
 },
 "nbformat": 4,
 "nbformat_minor": 5
}
