{
 "cells": [
  {
   "cell_type": "code",
   "execution_count": 60,
   "id": "0a6b883a",
   "metadata": {},
   "outputs": [],
   "source": [
    "import statistics\n",
    "from datetime import datetime\n",
    "\n",
    "import numpy as np\n",
    "import pandas as pd\n",
    "import matplotlib.pyplot as plt\n",
    "import seaborn as sns\n",
    "\n",
    "plt.style.use(\"dark_background\")\n",
    "pd.options.display.float_format = \"{:,.2f}\".format"
   ]
  },
  {
   "cell_type": "code",
   "execution_count": 61,
   "id": "1822bcc4",
   "metadata": {},
   "outputs": [],
   "source": [
    "filepath = \"../sample csv data/Hotel reservations data.csv\"\n",
    "\n",
    "no_of_adults = 'no_of_adults'\n",
    "no_of_children = 'no_of_children'\n",
    "no_of_weekend_nights = 'no_of_weekend_nights'\n",
    "no_of_week_nights = 'no_of_week_nights'\n",
    "type_of_meal_plan = 'type_of_meal_plan'\n",
    "required_car_parking_space = 'required_car_parking_space'\n",
    "room_type_reserved = 'room_type_reserved'\n",
    "lead_time = 'lead_time'\n",
    "arrival_year = 'arrival_year'\n",
    "arrival_month = 'arrival_month'\n",
    "arrival_day = 'arrival_day'\n",
    "arrival_date = 'arrival_date'\n",
    "market_segment_type = 'market_segment_type'\n",
    "repeated_guest = 'repeated_guest'\n",
    "no_of_previous_cancellations = 'no_of_previous_cancellations'\n",
    "no_of_previous_bookings_not_canceled = 'no_of_previous_bookings_not_canceled'\n",
    "avg_price_per_room = 'avg_price_per_room'\n",
    "no_of_special_requests = 'no_of_special_requests'\n",
    "booking_status = 'booking_status'\n",
    "\n",
    "df = pd.read_csv(filepath)\n",
    "df.drop('Booking_ID', axis='columns', inplace=True)\n",
    "df.rename(columns={arrival_date: arrival_day}, inplace=True)\n",
    "df.drop(\n",
    "    [no_of_previous_cancellations, no_of_previous_bookings_not_canceled, required_car_parking_space, repeated_guest],\n",
    "    axis='columns',\n",
    "    inplace=True,\n",
    ")\n",
    "\n",
    "df[arrival_date] = pd.to_datetime(\n",
    "    df[arrival_year].astype(str) + \"-\" +\n",
    "    df[arrival_month].astype(str) + \"-\" +\n",
    "    df[arrival_day].astype(str)\n",
    ")"
   ]
  },
  {
   "cell_type": "code",
   "execution_count": 62,
   "id": "0f27951e",
   "metadata": {},
   "outputs": [
    {
     "data": {
      "text/html": [
       "<div>\n",
       "<style scoped>\n",
       "    .dataframe tbody tr th:only-of-type {\n",
       "        vertical-align: middle;\n",
       "    }\n",
       "\n",
       "    .dataframe tbody tr th {\n",
       "        vertical-align: top;\n",
       "    }\n",
       "\n",
       "    .dataframe thead th {\n",
       "        text-align: right;\n",
       "    }\n",
       "</style>\n",
       "<table border=\"1\" class=\"dataframe\">\n",
       "  <thead>\n",
       "    <tr style=\"text-align: right;\">\n",
       "      <th></th>\n",
       "      <th>no_of_adults</th>\n",
       "      <th>no_of_children</th>\n",
       "      <th>no_of_weekend_nights</th>\n",
       "      <th>no_of_week_nights</th>\n",
       "      <th>type_of_meal_plan</th>\n",
       "      <th>room_type_reserved</th>\n",
       "      <th>lead_time</th>\n",
       "      <th>arrival_year</th>\n",
       "      <th>arrival_month</th>\n",
       "      <th>arrival_day</th>\n",
       "      <th>market_segment_type</th>\n",
       "      <th>avg_price_per_room</th>\n",
       "      <th>no_of_special_requests</th>\n",
       "      <th>booking_status</th>\n",
       "      <th>arrival_date</th>\n",
       "    </tr>\n",
       "  </thead>\n",
       "  <tbody>\n",
       "    <tr>\n",
       "      <th>0</th>\n",
       "      <td>2</td>\n",
       "      <td>0</td>\n",
       "      <td>0</td>\n",
       "      <td>5</td>\n",
       "      <td>Meal Plan 1</td>\n",
       "      <td>Room_Type 4</td>\n",
       "      <td>44</td>\n",
       "      <td>2018</td>\n",
       "      <td>10</td>\n",
       "      <td>1</td>\n",
       "      <td>Online</td>\n",
       "      <td>133.44</td>\n",
       "      <td>3</td>\n",
       "      <td>Not_Canceled</td>\n",
       "      <td>2018-10-01</td>\n",
       "    </tr>\n",
       "    <tr>\n",
       "      <th>1</th>\n",
       "      <td>2</td>\n",
       "      <td>0</td>\n",
       "      <td>0</td>\n",
       "      <td>3</td>\n",
       "      <td>Meal Plan 1</td>\n",
       "      <td>Room_Type 1</td>\n",
       "      <td>37</td>\n",
       "      <td>2018</td>\n",
       "      <td>10</td>\n",
       "      <td>1</td>\n",
       "      <td>Offline</td>\n",
       "      <td>105.00</td>\n",
       "      <td>0</td>\n",
       "      <td>Not_Canceled</td>\n",
       "      <td>2018-10-01</td>\n",
       "    </tr>\n",
       "    <tr>\n",
       "      <th>2</th>\n",
       "      <td>2</td>\n",
       "      <td>0</td>\n",
       "      <td>0</td>\n",
       "      <td>2</td>\n",
       "      <td>Meal Plan 1</td>\n",
       "      <td>Room_Type 1</td>\n",
       "      <td>72</td>\n",
       "      <td>2018</td>\n",
       "      <td>10</td>\n",
       "      <td>3</td>\n",
       "      <td>Offline</td>\n",
       "      <td>85.50</td>\n",
       "      <td>0</td>\n",
       "      <td>Not_Canceled</td>\n",
       "      <td>2018-10-03</td>\n",
       "    </tr>\n",
       "    <tr>\n",
       "      <th>3</th>\n",
       "      <td>2</td>\n",
       "      <td>0</td>\n",
       "      <td>0</td>\n",
       "      <td>3</td>\n",
       "      <td>Meal Plan 1</td>\n",
       "      <td>Room_Type 4</td>\n",
       "      <td>30</td>\n",
       "      <td>2018</td>\n",
       "      <td>10</td>\n",
       "      <td>3</td>\n",
       "      <td>Online</td>\n",
       "      <td>157.50</td>\n",
       "      <td>2</td>\n",
       "      <td>Not_Canceled</td>\n",
       "      <td>2018-10-03</td>\n",
       "    </tr>\n",
       "    <tr>\n",
       "      <th>4</th>\n",
       "      <td>2</td>\n",
       "      <td>0</td>\n",
       "      <td>0</td>\n",
       "      <td>5</td>\n",
       "      <td>Meal Plan 1</td>\n",
       "      <td>Room_Type 4</td>\n",
       "      <td>128</td>\n",
       "      <td>2018</td>\n",
       "      <td>10</td>\n",
       "      <td>4</td>\n",
       "      <td>Online</td>\n",
       "      <td>132.30</td>\n",
       "      <td>0</td>\n",
       "      <td>Canceled</td>\n",
       "      <td>2018-10-04</td>\n",
       "    </tr>\n",
       "  </tbody>\n",
       "</table>\n",
       "</div>"
      ],
      "text/plain": [
       "   no_of_adults  no_of_children  no_of_weekend_nights  no_of_week_nights  \\\n",
       "0             2               0                     0                  5   \n",
       "1             2               0                     0                  3   \n",
       "2             2               0                     0                  2   \n",
       "3             2               0                     0                  3   \n",
       "4             2               0                     0                  5   \n",
       "\n",
       "  type_of_meal_plan room_type_reserved  lead_time  arrival_year  \\\n",
       "0       Meal Plan 1        Room_Type 4         44          2018   \n",
       "1       Meal Plan 1        Room_Type 1         37          2018   \n",
       "2       Meal Plan 1        Room_Type 1         72          2018   \n",
       "3       Meal Plan 1        Room_Type 4         30          2018   \n",
       "4       Meal Plan 1        Room_Type 4        128          2018   \n",
       "\n",
       "   arrival_month  arrival_day market_segment_type  avg_price_per_room  \\\n",
       "0             10            1              Online              133.44   \n",
       "1             10            1             Offline              105.00   \n",
       "2             10            3             Offline               85.50   \n",
       "3             10            3              Online              157.50   \n",
       "4             10            4              Online              132.30   \n",
       "\n",
       "   no_of_special_requests booking_status arrival_date  \n",
       "0                       3   Not_Canceled   2018-10-01  \n",
       "1                       0   Not_Canceled   2018-10-01  \n",
       "2                       0   Not_Canceled   2018-10-03  \n",
       "3                       2   Not_Canceled   2018-10-03  \n",
       "4                       0       Canceled   2018-10-04  "
      ]
     },
     "execution_count": 62,
     "metadata": {},
     "output_type": "execute_result"
    }
   ],
   "source": [
    "df.head()"
   ]
  },
  {
   "cell_type": "code",
   "execution_count": 13,
   "id": "63500d54",
   "metadata": {},
   "outputs": [
    {
     "data": {
      "text/plain": [
       "<Axes: xlabel='market_segment_type', ylabel='count'>"
      ]
     },
     "execution_count": 13,
     "metadata": {},
     "output_type": "execute_result"
    },
    {
     "data": {
      "image/png": "[encoded data removed]",
      "text/plain": [
       "<Figure size 640x480 with 1 Axes>"
      ]
     },
     "metadata": {},
     "output_type": "display_data"
    }
   ],
   "source": [
    "sns.countplot(data=df, x=market_segment_type, hue=booking_status, palette='dark')"
   ]
  },
  {
   "cell_type": "code",
   "execution_count": 14,
   "id": "b3d557a2",
   "metadata": {},
   "outputs": [
    {
     "data": {
      "text/html": [
       "<div>\n",
       "<style scoped>\n",
       "    .dataframe tbody tr th:only-of-type {\n",
       "        vertical-align: middle;\n",
       "    }\n",
       "\n",
       "    .dataframe tbody tr th {\n",
       "        vertical-align: top;\n",
       "    }\n",
       "\n",
       "    .dataframe thead th {\n",
       "        text-align: right;\n",
       "    }\n",
       "</style>\n",
       "<table border=\"1\" class=\"dataframe\">\n",
       "  <thead>\n",
       "    <tr style=\"text-align: right;\">\n",
       "      <th>booking_status</th>\n",
       "      <th>Canceled</th>\n",
       "      <th>Not_Canceled</th>\n",
       "    </tr>\n",
       "    <tr>\n",
       "      <th>market_segment_type</th>\n",
       "      <th></th>\n",
       "      <th></th>\n",
       "    </tr>\n",
       "  </thead>\n",
       "  <tbody>\n",
       "    <tr>\n",
       "      <th>Aviation</th>\n",
       "      <td>0</td>\n",
       "      <td>1</td>\n",
       "    </tr>\n",
       "    <tr>\n",
       "      <th>Offline</th>\n",
       "      <td>6</td>\n",
       "      <td>9</td>\n",
       "    </tr>\n",
       "    <tr>\n",
       "      <th>Online</th>\n",
       "      <td>13</td>\n",
       "      <td>21</td>\n",
       "    </tr>\n",
       "  </tbody>\n",
       "</table>\n",
       "</div>"
      ],
      "text/plain": [
       "booking_status       Canceled  Not_Canceled\n",
       "market_segment_type                        \n",
       "Aviation                    0             1\n",
       "Offline                     6             9\n",
       "Online                     13            21"
      ]
     },
     "execution_count": 14,
     "metadata": {},
     "output_type": "execute_result"
    }
   ],
   "source": [
    "pd.pivot_table(\n",
    "    df,\n",
    "    arrival_date,\n",
    "    index=market_segment_type,\n",
    "    columns=booking_status,\n",
    "    aggfunc='count',\n",
    "    fill_value=0,\n",
    ")"
   ]
  },
  {
   "cell_type": "code",
   "execution_count": 21,
   "id": "2b9dce4d",
   "metadata": {},
   "outputs": [
    {
     "data": {
      "text/plain": [
       "<Axes: xlabel='room_type_reserved', ylabel='count'>"
      ]
     },
     "execution_count": 21,
     "metadata": {},
     "output_type": "execute_result"
    },
    {
     "data": {
      "image/png": "[encoded data removed]",
      "text/plain": [
       "<Figure size 640x480 with 1 Axes>"
      ]
     },
     "metadata": {},
     "output_type": "display_data"
    }
   ],
   "source": [
    "sns.countplot(df, x=room_type_reserved, hue=booking_status, palette='dark:cyan')"
   ]
  },
  {
   "cell_type": "code",
   "execution_count": 20,
   "id": "5bfa00c3",
   "metadata": {},
   "outputs": [
    {
     "data": {
      "text/plain": [
       "<Axes: xlabel='room_type_reserved'>"
      ]
     },
     "execution_count": 20,
     "metadata": {},
     "output_type": "execute_result"
    },
    {
     "data": {
      "image/png": "[encoded data removed]",
      "text/plain": [
       "<Figure size 640x480 with 1 Axes>"
      ]
     },
     "metadata": {},
     "output_type": "display_data"
    }
   ],
   "source": [
    "pd.pivot_table(\n",
    "    df,\n",
    "    arrival_date,\n",
    "    index=room_type_reserved,\n",
    "    columns=booking_status,\n",
    "    aggfunc=\"count\",\n",
    "    fill_value=0,\n",
    ").plot.bar(color=['darkred', 'darkcyan'])"
   ]
  },
  {
   "cell_type": "code",
   "execution_count": 28,
   "id": "2816dfa7",
   "metadata": {},
   "outputs": [
    {
     "data": {
      "text/plain": [
       "<Axes: xlabel='lead_time', ylabel='avg_price_per_room'>"
      ]
     },
     "execution_count": 28,
     "metadata": {},
     "output_type": "execute_result"
    },
    {
     "data": {
      "image/png": "[encoded data removed]",
      "text/plain": [
       "<Figure size 1000x500 with 1 Axes>"
      ]
     },
     "metadata": {},
     "output_type": "display_data"
    }
   ],
   "source": [
    "df.plot.scatter(x=lead_time, y=avg_price_per_room, figsize=(10, 5))"
   ]
  },
  {
   "cell_type": "code",
   "execution_count": 39,
   "id": "bc951e40",
   "metadata": {},
   "outputs": [
    {
     "data": {
      "text/html": [
       "<div>\n",
       "<style scoped>\n",
       "    .dataframe tbody tr th:only-of-type {\n",
       "        vertical-align: middle;\n",
       "    }\n",
       "\n",
       "    .dataframe tbody tr th {\n",
       "        vertical-align: top;\n",
       "    }\n",
       "\n",
       "    .dataframe thead tr th {\n",
       "        text-align: left;\n",
       "    }\n",
       "\n",
       "    .dataframe thead tr:last-of-type th {\n",
       "        text-align: right;\n",
       "    }\n",
       "</style>\n",
       "<table border=\"1\" class=\"dataframe\">\n",
       "  <thead>\n",
       "    <tr>\n",
       "      <th></th>\n",
       "      <th colspan=\"2\" halign=\"left\">no_of_adults</th>\n",
       "      <th colspan=\"2\" halign=\"left\">no_of_children</th>\n",
       "    </tr>\n",
       "    <tr>\n",
       "      <th>booking_status</th>\n",
       "      <th>Canceled</th>\n",
       "      <th>Not_Canceled</th>\n",
       "      <th>Canceled</th>\n",
       "      <th>Not_Canceled</th>\n",
       "    </tr>\n",
       "    <tr>\n",
       "      <th>room_type_reserved</th>\n",
       "      <th></th>\n",
       "      <th></th>\n",
       "      <th></th>\n",
       "      <th></th>\n",
       "    </tr>\n",
       "  </thead>\n",
       "  <tbody>\n",
       "    <tr>\n",
       "      <th>Room_Type 1</th>\n",
       "      <td>2</td>\n",
       "      <td>2</td>\n",
       "      <td>0</td>\n",
       "      <td>0</td>\n",
       "    </tr>\n",
       "    <tr>\n",
       "      <th>Room_Type 2</th>\n",
       "      <td>0</td>\n",
       "      <td>0</td>\n",
       "      <td>2</td>\n",
       "      <td>2</td>\n",
       "    </tr>\n",
       "    <tr>\n",
       "      <th>Room_Type 4</th>\n",
       "      <td>2</td>\n",
       "      <td>2</td>\n",
       "      <td>0</td>\n",
       "      <td>0</td>\n",
       "    </tr>\n",
       "    <tr>\n",
       "      <th>Room_Type 5</th>\n",
       "      <td>0</td>\n",
       "      <td>1</td>\n",
       "      <td>0</td>\n",
       "      <td>0</td>\n",
       "    </tr>\n",
       "    <tr>\n",
       "      <th>Room_Type 6</th>\n",
       "      <td>2</td>\n",
       "      <td>2</td>\n",
       "      <td>2</td>\n",
       "      <td>2</td>\n",
       "    </tr>\n",
       "  </tbody>\n",
       "</table>\n",
       "</div>"
      ],
      "text/plain": [
       "                   no_of_adults              no_of_children             \n",
       "booking_status         Canceled Not_Canceled       Canceled Not_Canceled\n",
       "room_type_reserved                                                      \n",
       "Room_Type 1                   2            2              0            0\n",
       "Room_Type 2                   0            0              2            2\n",
       "Room_Type 4                   2            2              0            0\n",
       "Room_Type 5                   0            1              0            0\n",
       "Room_Type 6                   2            2              2            2"
      ]
     },
     "execution_count": 39,
     "metadata": {},
     "output_type": "execute_result"
    }
   ],
   "source": [
    "pd.pivot_table(\n",
    "    df,\n",
    "    [no_of_adults, no_of_children],\n",
    "    index=room_type_reserved,\n",
    "    columns=booking_status,\n",
    "    aggfunc=statistics.mode,\n",
    "    fill_value=0,\n",
    ")"
   ]
  },
  {
   "cell_type": "code",
   "execution_count": 113,
   "id": "4482972a",
   "metadata": {},
   "outputs": [
    {
     "data": {
      "text/plain": [
       "count   50.00\n",
       "mean    14.76\n",
       "std      9.39\n",
       "min      1.00\n",
       "25%      6.00\n",
       "50%     12.50\n",
       "75%     23.00\n",
       "max     31.00\n",
       "Name: arrival_day, dtype: float64"
      ]
     },
     "execution_count": 113,
     "metadata": {},
     "output_type": "execute_result"
    }
   ],
   "source": [
    "df[arrival_day].describe()"
   ]
  },
  {
   "cell_type": "code",
   "execution_count": 96,
   "id": "322d1b99",
   "metadata": {},
   "outputs": [
    {
     "data": {
      "text/plain": [
       "<Axes: ylabel='Frequency'>"
      ]
     },
     "execution_count": 96,
     "metadata": {},
     "output_type": "execute_result"
    },
    {
     "data": {
      "image/png": "[encoded data removed]",
      "text/plain": [
       "<Figure size 640x480 with 1 Axes>"
      ]
     },
     "metadata": {},
     "output_type": "display_data"
    }
   ],
   "source": [
    "df[arrival_day].plot.hist(bins=8, color='darkcyan')"
   ]
  },
  {
   "cell_type": "code",
   "execution_count": 112,
   "id": "6f051cd3",
   "metadata": {},
   "outputs": [
    {
     "data": {
      "text/plain": [
       "<Axes: xlabel='market_segment_type', ylabel='arrival_day'>"
      ]
     },
     "execution_count": 112,
     "metadata": {},
     "output_type": "execute_result"
    },
    {
     "data": {
      "image/png": "[encoded data removed]",
      "text/plain": [
       "<Figure size 640x480 with 2 Axes>"
      ]
     },
     "metadata": {},
     "output_type": "display_data"
    }
   ],
   "source": [
    "sns.heatmap(\n",
    "    pd.pivot_table(\n",
    "        df,\n",
    "        arrival_month,\n",
    "        index=arrival_day,\n",
    "        columns=market_segment_type,\n",
    "        aggfunc='count',\n",
    "        fill_value=0,\n",
    "    )\n",
    ")"
   ]
  },
  {
   "cell_type": "code",
   "execution_count": 105,
   "id": "9f09bcc2",
   "metadata": {},
   "outputs": [
    {
     "data": {
      "text/html": [
       "<div>\n",
       "<style scoped>\n",
       "    .dataframe tbody tr th:only-of-type {\n",
       "        vertical-align: middle;\n",
       "    }\n",
       "\n",
       "    .dataframe tbody tr th {\n",
       "        vertical-align: top;\n",
       "    }\n",
       "\n",
       "    .dataframe thead th {\n",
       "        text-align: right;\n",
       "    }\n",
       "</style>\n",
       "<table border=\"1\" class=\"dataframe\">\n",
       "  <thead>\n",
       "    <tr style=\"text-align: right;\">\n",
       "      <th></th>\n",
       "      <th>no_of_adults</th>\n",
       "      <th>no_of_children</th>\n",
       "      <th>no_of_weekend_nights</th>\n",
       "      <th>no_of_week_nights</th>\n",
       "      <th>type_of_meal_plan</th>\n",
       "      <th>room_type_reserved</th>\n",
       "      <th>lead_time</th>\n",
       "      <th>arrival_year</th>\n",
       "      <th>arrival_month</th>\n",
       "      <th>arrival_day</th>\n",
       "      <th>market_segment_type</th>\n",
       "      <th>avg_price_per_room</th>\n",
       "      <th>no_of_special_requests</th>\n",
       "      <th>booking_status</th>\n",
       "      <th>arrival_date</th>\n",
       "    </tr>\n",
       "  </thead>\n",
       "  <tbody>\n",
       "    <tr>\n",
       "      <th>8</th>\n",
       "      <td>2</td>\n",
       "      <td>2</td>\n",
       "      <td>2</td>\n",
       "      <td>5</td>\n",
       "      <td>Meal Plan 2</td>\n",
       "      <td>Room_Type 6</td>\n",
       "      <td>101</td>\n",
       "      <td>2018</td>\n",
       "      <td>10</td>\n",
       "      <td>6</td>\n",
       "      <td>Online</td>\n",
       "      <td>222.17</td>\n",
       "      <td>0</td>\n",
       "      <td>Canceled</td>\n",
       "      <td>2018-10-06</td>\n",
       "    </tr>\n",
       "    <tr>\n",
       "      <th>9</th>\n",
       "      <td>0</td>\n",
       "      <td>2</td>\n",
       "      <td>2</td>\n",
       "      <td>2</td>\n",
       "      <td>Meal Plan 1</td>\n",
       "      <td>Room_Type 2</td>\n",
       "      <td>125</td>\n",
       "      <td>2018</td>\n",
       "      <td>10</td>\n",
       "      <td>6</td>\n",
       "      <td>Online</td>\n",
       "      <td>110.70</td>\n",
       "      <td>4</td>\n",
       "      <td>Not_Canceled</td>\n",
       "      <td>2018-10-06</td>\n",
       "    </tr>\n",
       "    <tr>\n",
       "      <th>10</th>\n",
       "      <td>1</td>\n",
       "      <td>0</td>\n",
       "      <td>0</td>\n",
       "      <td>1</td>\n",
       "      <td>Meal Plan 1</td>\n",
       "      <td>Room_Type 1</td>\n",
       "      <td>4</td>\n",
       "      <td>2018</td>\n",
       "      <td>10</td>\n",
       "      <td>6</td>\n",
       "      <td>Aviation</td>\n",
       "      <td>95.00</td>\n",
       "      <td>0</td>\n",
       "      <td>Not_Canceled</td>\n",
       "      <td>2018-10-06</td>\n",
       "    </tr>\n",
       "    <tr>\n",
       "      <th>11</th>\n",
       "      <td>2</td>\n",
       "      <td>0</td>\n",
       "      <td>0</td>\n",
       "      <td>1</td>\n",
       "      <td>Not Selected</td>\n",
       "      <td>Room_Type 4</td>\n",
       "      <td>1</td>\n",
       "      <td>2018</td>\n",
       "      <td>10</td>\n",
       "      <td>6</td>\n",
       "      <td>Online</td>\n",
       "      <td>108.04</td>\n",
       "      <td>0</td>\n",
       "      <td>Not_Canceled</td>\n",
       "      <td>2018-10-06</td>\n",
       "    </tr>\n",
       "    <tr>\n",
       "      <th>12</th>\n",
       "      <td>1</td>\n",
       "      <td>0</td>\n",
       "      <td>0</td>\n",
       "      <td>2</td>\n",
       "      <td>Meal Plan 1</td>\n",
       "      <td>Room_Type 5</td>\n",
       "      <td>1</td>\n",
       "      <td>2018</td>\n",
       "      <td>10</td>\n",
       "      <td>6</td>\n",
       "      <td>Online</td>\n",
       "      <td>164.00</td>\n",
       "      <td>0</td>\n",
       "      <td>Not_Canceled</td>\n",
       "      <td>2018-10-06</td>\n",
       "    </tr>\n",
       "    <tr>\n",
       "      <th>13</th>\n",
       "      <td>2</td>\n",
       "      <td>0</td>\n",
       "      <td>1</td>\n",
       "      <td>2</td>\n",
       "      <td>Meal Plan 1</td>\n",
       "      <td>Room_Type 4</td>\n",
       "      <td>8</td>\n",
       "      <td>2018</td>\n",
       "      <td>10</td>\n",
       "      <td>6</td>\n",
       "      <td>Online</td>\n",
       "      <td>155.00</td>\n",
       "      <td>1</td>\n",
       "      <td>Canceled</td>\n",
       "      <td>2018-10-06</td>\n",
       "    </tr>\n",
       "    <tr>\n",
       "      <th>14</th>\n",
       "      <td>1</td>\n",
       "      <td>0</td>\n",
       "      <td>1</td>\n",
       "      <td>3</td>\n",
       "      <td>Not Selected</td>\n",
       "      <td>Room_Type 1</td>\n",
       "      <td>13</td>\n",
       "      <td>2018</td>\n",
       "      <td>10</td>\n",
       "      <td>6</td>\n",
       "      <td>Online</td>\n",
       "      <td>93.75</td>\n",
       "      <td>2</td>\n",
       "      <td>Not_Canceled</td>\n",
       "      <td>2018-10-06</td>\n",
       "    </tr>\n",
       "  </tbody>\n",
       "</table>\n",
       "</div>"
      ],
      "text/plain": [
       "    no_of_adults  no_of_children  no_of_weekend_nights  no_of_week_nights  \\\n",
       "8              2               2                     2                  5   \n",
       "9              0               2                     2                  2   \n",
       "10             1               0                     0                  1   \n",
       "11             2               0                     0                  1   \n",
       "12             1               0                     0                  2   \n",
       "13             2               0                     1                  2   \n",
       "14             1               0                     1                  3   \n",
       "\n",
       "   type_of_meal_plan room_type_reserved  lead_time  arrival_year  \\\n",
       "8        Meal Plan 2        Room_Type 6        101          2018   \n",
       "9        Meal Plan 1        Room_Type 2        125          2018   \n",
       "10       Meal Plan 1        Room_Type 1          4          2018   \n",
       "11      Not Selected        Room_Type 4          1          2018   \n",
       "12       Meal Plan 1        Room_Type 5          1          2018   \n",
       "13       Meal Plan 1        Room_Type 4          8          2018   \n",
       "14      Not Selected        Room_Type 1         13          2018   \n",
       "\n",
       "    arrival_month  arrival_day market_segment_type  avg_price_per_room  \\\n",
       "8              10            6              Online              222.17   \n",
       "9              10            6              Online              110.70   \n",
       "10             10            6            Aviation               95.00   \n",
       "11             10            6              Online              108.04   \n",
       "12             10            6              Online              164.00   \n",
       "13             10            6              Online              155.00   \n",
       "14             10            6              Online               93.75   \n",
       "\n",
       "    no_of_special_requests booking_status arrival_date  \n",
       "8                        0       Canceled   2018-10-06  \n",
       "9                        4   Not_Canceled   2018-10-06  \n",
       "10                       0   Not_Canceled   2018-10-06  \n",
       "11                       0   Not_Canceled   2018-10-06  \n",
       "12                       0   Not_Canceled   2018-10-06  \n",
       "13                       1       Canceled   2018-10-06  \n",
       "14                       2   Not_Canceled   2018-10-06  "
      ]
     },
     "execution_count": 105,
     "metadata": {},
     "output_type": "execute_result"
    }
   ],
   "source": [
    "df[df[arrival_day] == 6]"
   ]
  },
  {
   "cell_type": "code",
   "execution_count": null,
   "id": "46a144c9",
   "metadata": {},
   "outputs": [],
   "source": []
  }
 ],
 "metadata": {
  "kernelspec": {
   "display_name": "venv",
   "language": "python",
   "name": "python3"
  },
  "language_info": {
   "codemirror_mode": {
    "name": "ipython",
    "version": 3
   },
   "file_extension": ".py",
   "mimetype": "text/x-python",
   "name": "python",
   "nbconvert_exporter": "python",
   "pygments_lexer": "ipython3",
   "version": "3.11.4"
  }
 },
 "nbformat": 4,
 "nbformat_minor": 5
}
