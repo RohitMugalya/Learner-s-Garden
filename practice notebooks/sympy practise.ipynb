{
 "cells": [
  {
   "cell_type": "code",
   "execution_count": 2,
   "id": "d0fb59fc",
   "metadata": {},
   "outputs": [],
   "source": [
    "import sympy"
   ]
  },
  {
   "cell_type": "code",
   "execution_count": 14,
   "id": "a0b62ac5",
   "metadata": {},
   "outputs": [
    {
     "data": {
      "text/latex": [
       "$\\displaystyle - 4 w_{2} x \\left(b_{1} + w_{1} x\\right) \\left(- b_{2} - w_{2} \\left(b_{1} + w_{1} x\\right)^{2} + y\\right)$"
      ],
      "text/plain": [
       "-4*w_2*x*(b_1 + w_1*x)*(-b_2 - w_2*(b_1 + w_1*x)**2 + y)"
      ]
     },
     "execution_count": 14,
     "metadata": {},
     "output_type": "execute_result"
    }
   ],
   "source": [
    "w1, b1, w2, b2 = sympy.symbols(\"w_1 b_1 w_2 b_2\")\n",
    "x, y = sympy.symbols(\"x y\")\n",
    "\n",
    "values = {w1: 0, b1: 0, w2: 0, b2: 0}\n",
    "\n",
    "a1 = w1 * x + b1\n",
    "a2 = w2 * a1 ** 2 + b2\n",
    "\n",
    "loss = (y - a2) ** 2\n",
    "\n",
    "loss.diff(w1)"
   ]
  },
  {
   "cell_type": "code",
   "execution_count": 18,
   "id": "a0b59342",
   "metadata": {},
   "outputs": [
    {
     "data": {
      "text/latex": [
       "$\\displaystyle - 2 y$"
      ],
      "text/plain": [
       "-2*y"
      ]
     },
     "execution_count": 18,
     "metadata": {},
     "output_type": "execute_result"
    }
   ],
   "source": [
    "loss.diff(b2).subs(values)"
   ]
  },
  {
   "cell_type": "code",
   "execution_count": null,
   "id": "eab6ab50",
   "metadata": {},
   "outputs": [],
   "source": []
  }
 ],
 "metadata": {
  "kernelspec": {
   "display_name": "venv",
   "language": "python",
   "name": "python3"
  },
  "language_info": {
   "codemirror_mode": {
    "name": "ipython",
    "version": 3
   },
   "file_extension": ".py",
   "mimetype": "text/x-python",
   "name": "python",
   "nbconvert_exporter": "python",
   "pygments_lexer": "ipython3",
   "version": "3.11.4"
  }
 },
 "nbformat": 4,
 "nbformat_minor": 5
}
