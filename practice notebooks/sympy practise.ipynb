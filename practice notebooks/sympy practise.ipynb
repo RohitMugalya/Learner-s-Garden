{
 "cells": [
  {
   "cell_type": "code",
   "execution_count": 1,
   "id": "aecd9801",
   "metadata": {},
   "outputs": [],
   "source": [
    "import sympy as smp"
   ]
  },
  {
   "cell_type": "code",
   "execution_count": 37,
   "id": "2b7f3951",
   "metadata": {},
   "outputs": [],
   "source": [
    "x = smp.Symbol(\"x\")\n",
    "w0_1, b0_1 = smp.Symbol(\"w^0_1\"), smp.Symbol(\"b^0_1\")\n",
    "a0_1 = w0_1 * x + b0_1\n",
    "\n",
    "wh_1, bh_1 = smp.Symbol(\"w^h_1\"), smp.Symbol(\"b^h_1\")\n",
    "wh_2, bh_2 = smp.Symbol(\"w^h_2\"), smp.Symbol(\"b^h_2\")\n",
    "wh_3, bh_3 = smp.Symbol(\"w^h_3\"), smp.Symbol(\"b^h_3\")\n",
    "\n",
    "ah_1 = wh_1 * a0_1 + bh_1\n",
    "ah_2 = wh_2 * a0_1 + bh_2\n",
    "ah_3 = wh_3 * a0_1 + bh_3\n",
    "\n",
    "wf_1, wf_2, wf_3, bf_1 = smp.Symbol(\"w^f_1\"), smp.Symbol(\"w^f_2\"), smp.Symbol(\"w^f_3\"), smp.Symbol(\"b^f_1\")\n",
    "af_1 = wf_1 * ah_1 + wf_2 * ah_2 + wf_3 * ah_3 + bf_1"
   ]
  },
  {
   "cell_type": "code",
   "execution_count": 72,
   "id": "3ecbe619",
   "metadata": {},
   "outputs": [
    {
     "data": {
      "text/latex": [
       "$\\displaystyle 1$"
      ],
      "text/plain": [
       "1"
      ]
     },
     "execution_count": 72,
     "metadata": {},
     "output_type": "execute_result"
    }
   ],
   "source": [
    "af_1.diff(bf_1)"
   ]
  },
  {
   "cell_type": "code",
   "execution_count": 62,
   "id": "4c9fec44",
   "metadata": {},
   "outputs": [
    {
     "name": "stdout",
     "output_type": "stream",
     "text": [
      "Help on function as_coeff_mul in module sympy.core.expr:\n",
      "\n",
      "as_coeff_mul(self, *deps, **kwargs) -> 'tuple[Expr, tuple[Expr, ...]]'\n",
      "    Return the tuple (c, args) where self is written as a Mul, ``m``.\n",
      "    \n",
      "    c should be a Rational multiplied by any factors of the Mul that are\n",
      "    independent of deps.\n",
      "    \n",
      "    args should be a tuple of all other factors of m; args is empty\n",
      "    if self is a Number or if self is independent of deps (when given).\n",
      "    \n",
      "    This should be used when you do not know if self is a Mul or not but\n",
      "    you want to treat self as a Mul or if you want to process the\n",
      "    individual arguments of the tail of self as a Mul.\n",
      "    \n",
      "    - if you know self is a Mul and want only the head, use self.args[0];\n",
      "    - if you do not want to process the arguments of the tail but need the\n",
      "      tail then use self.as_two_terms() which gives the head and tail;\n",
      "    - if you want to split self into an independent and dependent parts\n",
      "      use ``self.as_independent(*deps)``\n",
      "    \n",
      "    >>> from sympy import S\n",
      "    >>> from sympy.abc import x, y\n",
      "    >>> (S(3)).as_coeff_mul()\n",
      "    (3, ())\n",
      "    >>> (3*x*y).as_coeff_mul()\n",
      "    (3, (x, y))\n",
      "    >>> (3*x*y).as_coeff_mul(x)\n",
      "    (3*y, (x,))\n",
      "    >>> (3*y).as_coeff_mul(x)\n",
      "    (3*y, ())\n",
      "\n"
     ]
    }
   ],
   "source": [
    "help(smp.Symbol.as_coeff_mul)"
   ]
  },
  {
   "cell_type": "code",
   "execution_count": 130,
   "id": "5ce75d27",
   "metadata": {},
   "outputs": [
    {
     "data": {
      "text/latex": [
       "$\\displaystyle \\frac{1}{e^{- b - w x} + 1}$"
      ],
      "text/plain": [
       "1/(exp(-b - w*x) + 1)"
      ]
     },
     "execution_count": 130,
     "metadata": {},
     "output_type": "execute_result"
    }
   ],
   "source": [
    "x, y = smp.symbols(\"x, y\")\n",
    "w, b = smp.symbols(\"w, b\")\n",
    "y_pred = 1 / (1 + smp.exp( -(w * x + b) ))\n",
    "y_pred"
   ]
  },
  {
   "cell_type": "code",
   "execution_count": 131,
   "id": "f61140c8",
   "metadata": {},
   "outputs": [
    {
     "data": {
      "text/latex": [
       "$\\displaystyle \\frac{x \\left(- y e^{b + w x} - y + e^{b + w x}\\right)}{e^{b + w x} + 1}$"
      ],
      "text/plain": [
       "x*(-y*exp(b + w*x) - y + exp(b + w*x))/(exp(b + w*x) + 1)"
      ]
     },
     "execution_count": 131,
     "metadata": {},
     "output_type": "execute_result"
    }
   ],
   "source": [
    "expression = -y * smp.log(y_pred) - (1 - y) * smp.log(1 - y_pred)\n",
    "expression.diff(w).simplify()"
   ]
  },
  {
   "cell_type": "code",
   "execution_count": null,
   "id": "bdf18a46",
   "metadata": {},
   "outputs": [],
   "source": []
  }
 ],
 "metadata": {
  "kernelspec": {
   "display_name": "Python 3 (ipykernel)",
   "language": "python",
   "name": "python3"
  },
  "language_info": {
   "codemirror_mode": {
    "name": "ipython",
    "version": 3
   },
   "file_extension": ".py",
   "mimetype": "text/x-python",
   "name": "python",
   "nbconvert_exporter": "python",
   "pygments_lexer": "ipython3",
   "version": "3.11.5"
  }
 },
 "nbformat": 4,
 "nbformat_minor": 5
}
