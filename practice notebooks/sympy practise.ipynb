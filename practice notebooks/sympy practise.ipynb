{
 "cells": [
  {
   "cell_type": "code",
   "execution_count": 1,
   "id": "d0fb59fc",
   "metadata": {},
   "outputs": [],
   "source": [
    "import sympy"
   ]
  },
  {
   "cell_type": "code",
   "execution_count": 10,
   "id": "7970534d",
   "metadata": {},
   "outputs": [
    {
     "data": {
      "text/latex": [
       "$\\displaystyle - \\frac{x y e^{- b - w x}}{e^{- b - w x} + 1} - \\frac{x \\left(1 - y\\right) e^{- b - w x}}{\\left(1 - \\frac{1}{e^{- b - w x} + 1}\\right) \\left(e^{- b - w x} + 1\\right)^{2}}$"
      ],
      "text/plain": [
       "-x*y*exp(-b - w*x)/(exp(-b - w*x) + 1) - x*(1 - y)*exp(-b - w*x)/((1 - 1/(exp(-b - w*x) + 1))*(exp(-b - w*x) + 1)**2)"
      ]
     },
     "execution_count": 10,
     "metadata": {},
     "output_type": "execute_result"
    }
   ],
   "source": [
    "y, w, x, b = sympy.symbols(\"y w x b\")\n",
    "z = w * x + b\n",
    "yhat = 1 / (1 + sympy.exp(-z))\n",
    "\n",
    "log_loss = - y * sympy.log(yhat) + (1 - y) * sympy.log(1 - yhat)\n",
    "dw = log_loss.diff(w)\n",
    "dw"
   ]
  },
  {
   "cell_type": "code",
   "execution_count": 13,
   "id": "6c1a61a8",
   "metadata": {},
   "outputs": [
    {
     "data": {
      "text/latex": [
       "$\\displaystyle \\frac{x \\left(y e^{b + w x} - y - e^{b + w x}\\right)}{e^{b + w x} + 1}$"
      ],
      "text/plain": [
       "x*(y*exp(b + w*x) - y - exp(b + w*x))/(exp(b + w*x) + 1)"
      ]
     },
     "execution_count": 13,
     "metadata": {},
     "output_type": "execute_result"
    }
   ],
   "source": [
    "sympy.simplify(dw)"
   ]
  },
  {
   "cell_type": "code",
   "execution_count": null,
   "id": "a0b62ac5",
   "metadata": {},
   "outputs": [],
   "source": []
  }
 ],
 "metadata": {
  "kernelspec": {
   "display_name": "venv",
   "language": "python",
   "name": "python3"
  },
  "language_info": {
   "codemirror_mode": {
    "name": "ipython",
    "version": 3
   },
   "file_extension": ".py",
   "mimetype": "text/x-python",
   "name": "python",
   "nbconvert_exporter": "python",
   "pygments_lexer": "ipython3",
   "version": "3.11.4"
  }
 },
 "nbformat": 4,
 "nbformat_minor": 5
}
