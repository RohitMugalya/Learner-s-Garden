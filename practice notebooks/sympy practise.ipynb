{
 "cells": [
  {
   "cell_type": "code",
   "execution_count": 1,
   "id": "d0fb59fc",
   "metadata": {},
   "outputs": [],
   "source": [
    "import sympy"
   ]
  },
  {
   "cell_type": "code",
   "execution_count": 7,
   "id": "eab6ab50",
   "metadata": {},
   "outputs": [
    {
     "data": {
      "text/latex": [
       "$\\displaystyle - \\frac{x y e^{- b - w x}}{e^{- b - w x} + 1} + \\frac{x \\left(1 - y\\right) e^{- b - w x}}{\\left(1 - \\frac{1}{e^{- b - w x} + 1}\\right) \\left(e^{- b - w x} + 1\\right)^{2}}$"
      ],
      "text/plain": [
       "-x*y*exp(-b - w*x)/(exp(-b - w*x) + 1) + x*(1 - y)*exp(-b - w*x)/((1 - 1/(exp(-b - w*x) + 1))*(exp(-b - w*x) + 1)**2)"
      ]
     },
     "execution_count": 7,
     "metadata": {},
     "output_type": "execute_result"
    }
   ],
   "source": [
    "w, x, b = sympy.symbols(\"w x b\")\n",
    "\n",
    "z = w * x + b\n",
    "a = 1 / (1 + sympy.exp(-z))\n",
    "y = sympy.symbols(\"y\")\n",
    "\n",
    "cost = - (y * sympy.log(a) + (1 - y) * sympy.log(1 - a))\n",
    "cost.diff(w)"
   ]
  },
  {
   "cell_type": "code",
   "execution_count": 9,
   "id": "b3fd1dab",
   "metadata": {},
   "outputs": [
    {
     "data": {
      "text/latex": [
       "$\\displaystyle \\frac{1 - y}{1 - a} - \\frac{y}{a}$"
      ],
      "text/plain": [
       "(1 - y)/(1 - a) - y/a"
      ]
     },
     "execution_count": 9,
     "metadata": {},
     "output_type": "execute_result"
    }
   ],
   "source": [
    "a, y = sympy.symbols(\"a y\")\n",
    "\n",
    "cost = - (y * sympy.log(a) + (1 - y) * sympy.log(1 - a))\n",
    "cost.diff(a)"
   ]
  },
  {
   "cell_type": "code",
   "execution_count": 11,
   "id": "7f1ca993",
   "metadata": {},
   "outputs": [
    {
     "data": {
      "text/latex": [
       "$\\displaystyle \\frac{x e^{- b - w x}}{\\left(e^{- b - w x} + 1\\right)^{2}}$"
      ],
      "text/plain": [
       "x*exp(-b - w*x)/(exp(-b - w*x) + 1)**2"
      ]
     },
     "execution_count": 11,
     "metadata": {},
     "output_type": "execute_result"
    }
   ],
   "source": [
    "w, x, b = sympy.symbols(\"w x b\")\n",
    "z = w * x + b\n",
    "a = 1 / (1 + sympy.exp(-z))\n",
    "a.diff(w)"
   ]
  },
  {
   "cell_type": "code",
   "execution_count": null,
   "id": "003e8d9e",
   "metadata": {},
   "outputs": [],
   "source": []
  }
 ],
 "metadata": {
  "kernelspec": {
   "display_name": "venv",
   "language": "python",
   "name": "python3"
  },
  "language_info": {
   "codemirror_mode": {
    "name": "ipython",
    "version": 3
   },
   "file_extension": ".py",
   "mimetype": "text/x-python",
   "name": "python",
   "nbconvert_exporter": "python",
   "pygments_lexer": "ipython3",
   "version": "3.11.4"
  }
 },
 "nbformat": 4,
 "nbformat_minor": 5
}
