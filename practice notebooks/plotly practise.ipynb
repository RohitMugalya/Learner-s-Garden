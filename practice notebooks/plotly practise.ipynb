{
 "cells": [
  {
   "cell_type": "code",
   "execution_count": 1,
   "id": "972df7f6",
   "metadata": {},
   "outputs": [],
   "source": [
    "import pandas as pd\n",
    "import plotly.express as px\n",
    "import plotly.graph_objects as go\n",
    "import matplotlib.pyplot as plt\n",
    "import seaborn as sns\n",
    "\n",
    "plt.style.use(\"dark_background\")\n",
    "template = 'plotly_dark'"
   ]
  },
  {
   "cell_type": "code",
   "execution_count": 5,
   "id": "d493d306",
   "metadata": {},
   "outputs": [],
   "source": [
    "flights = sns.load_dataset(\"flights\")\n",
    "penguins = sns.load_dataset(\"penguins\")\n",
    "fmri = sns.load_dataset(\"fmri\")\n",
    "tips = sns.load_dataset(\"tips\")\n",
    "seaice = sns.load_dataset(\"seaice\")"
   ]
  },
  {
   "cell_type": "code",
   "execution_count": 8,
   "id": "1d90c225",
   "metadata": {},
   "outputs": [
    {
     "data": {
      "text/plain": [
       "Index(['Date', 'Extent'], dtype='object')"
      ]
     },
     "execution_count": 8,
     "metadata": {},
     "output_type": "execute_result"
    }
   ],
   "source": [
    "seaice.columns"
   ]
  },
  {
   "cell_type": "code",
   "execution_count": 11,
   "id": "e2a52a34",
   "metadata": {},
   "outputs": [],
   "source": [
    "seaice['Year'] = seaice['Date'].dt.year"
   ]
  },
  {
   "cell_type": "code",
   "execution_count": 21,
   "id": "8d8b87c7",
   "metadata": {},
   "outputs": [],
   "source": [
    "yearwise = seaice.groupby('Year')\n",
    "yearwise_extent_mean = yearwise.mean()"
   ]
  },
  {
   "cell_type": "code",
   "execution_count": 27,
   "id": "6af67b42",
   "metadata": {},
   "outputs": [],
   "source": [
    "yearwise_extent_mean['Rolling Extent'] = yearwise_extent_mean['Extent'].rolling(5).mean()"
   ]
  },
  {
   "cell_type": "code",
   "execution_count": null,
   "id": "be5303c1",
   "metadata": {},
   "outputs": [],
   "source": []
  }
 ],
 "metadata": {
  "kernelspec": {
   "display_name": "venv",
   "language": "python",
   "name": "python3"
  },
  "language_info": {
   "codemirror_mode": {
    "name": "ipython",
    "version": 3
   },
   "file_extension": ".py",
   "mimetype": "text/x-python",
   "name": "python",
   "nbconvert_exporter": "python",
   "pygments_lexer": "ipython3",
   "version": "3.11.4"
  }
 },
 "nbformat": 4,
 "nbformat_minor": 5
}
