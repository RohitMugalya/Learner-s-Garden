{
 "cells": [
  {
   "cell_type": "code",
   "execution_count": 2,
   "id": "e6d3c8c0",
   "metadata": {},
   "outputs": [],
   "source": [
    "import numpy as np\n",
    "import pandas as pd\n",
    "import matplotlib.pyplot as plt\n",
    "import seaborn as sns\n",
    "\n",
    "import plotly.express as px\n",
    "import plotly.io as pio\n",
    "\n",
    "plt.style.use('dark_background')\n",
    "pio.templates.default = 'plotly_dark'\n",
    "pd.options.display.float_format = \"{:,.2f}\".format"
   ]
  },
  {
   "cell_type": "code",
   "execution_count": 3,
   "id": "7c31a7d4",
   "metadata": {},
   "outputs": [],
   "source": [
    "df = sns.load_dataset('mpg')\n",
    "\n",
    "mpg = 'mpg'\n",
    "cylinders = 'cylinders'\n",
    "displacement = 'displacement'\n",
    "horsepower = 'horsepower'\n",
    "weight = 'weight'\n",
    "acceleration = 'acceleration'\n",
    "model_year = 'model_year'\n",
    "origin = 'origin'\n",
    "name = 'name'\n",
    "\n",
    "df.dropna(inplace=True)"
   ]
  },
  {
   "cell_type": "code",
   "execution_count": 4,
   "id": "95858e56",
   "metadata": {},
   "outputs": [
    {
     "data": {
      "text/plain": [
       "Index(['mpg', 'cylinders', 'displacement', 'horsepower', 'weight',\n",
       "       'acceleration', 'model_year'],\n",
       "      dtype='object')"
      ]
     },
     "execution_count": 4,
     "metadata": {},
     "output_type": "execute_result"
    }
   ],
   "source": [
    "num_cols = df.select_dtypes('number').columns\n",
    "num_cols"
   ]
  },
  {
   "cell_type": "code",
   "execution_count": 5,
   "id": "f6780f1f",
   "metadata": {},
   "outputs": [
    {
     "data": {
      "text/html": [
       "<div>\n",
       "<style scoped>\n",
       "    .dataframe tbody tr th:only-of-type {\n",
       "        vertical-align: middle;\n",
       "    }\n",
       "\n",
       "    .dataframe tbody tr th {\n",
       "        vertical-align: top;\n",
       "    }\n",
       "\n",
       "    .dataframe thead th {\n",
       "        text-align: right;\n",
       "    }\n",
       "</style>\n",
       "<table border=\"1\" class=\"dataframe\">\n",
       "  <thead>\n",
       "    <tr style=\"text-align: right;\">\n",
       "      <th></th>\n",
       "      <th>mpg</th>\n",
       "      <th>cylinders</th>\n",
       "      <th>displacement</th>\n",
       "      <th>horsepower</th>\n",
       "      <th>weight</th>\n",
       "      <th>acceleration</th>\n",
       "      <th>model_year</th>\n",
       "    </tr>\n",
       "  </thead>\n",
       "  <tbody>\n",
       "    <tr>\n",
       "      <th>mpg</th>\n",
       "      <td>1.00</td>\n",
       "      <td>-0.78</td>\n",
       "      <td>-0.81</td>\n",
       "      <td>-0.78</td>\n",
       "      <td>-0.83</td>\n",
       "      <td>0.42</td>\n",
       "      <td>0.58</td>\n",
       "    </tr>\n",
       "    <tr>\n",
       "      <th>cylinders</th>\n",
       "      <td>-0.78</td>\n",
       "      <td>1.00</td>\n",
       "      <td>0.95</td>\n",
       "      <td>0.84</td>\n",
       "      <td>0.90</td>\n",
       "      <td>-0.50</td>\n",
       "      <td>-0.35</td>\n",
       "    </tr>\n",
       "    <tr>\n",
       "      <th>displacement</th>\n",
       "      <td>-0.81</td>\n",
       "      <td>0.95</td>\n",
       "      <td>1.00</td>\n",
       "      <td>0.90</td>\n",
       "      <td>0.93</td>\n",
       "      <td>-0.54</td>\n",
       "      <td>-0.37</td>\n",
       "    </tr>\n",
       "    <tr>\n",
       "      <th>horsepower</th>\n",
       "      <td>-0.78</td>\n",
       "      <td>0.84</td>\n",
       "      <td>0.90</td>\n",
       "      <td>1.00</td>\n",
       "      <td>0.86</td>\n",
       "      <td>-0.69</td>\n",
       "      <td>-0.42</td>\n",
       "    </tr>\n",
       "    <tr>\n",
       "      <th>weight</th>\n",
       "      <td>-0.83</td>\n",
       "      <td>0.90</td>\n",
       "      <td>0.93</td>\n",
       "      <td>0.86</td>\n",
       "      <td>1.00</td>\n",
       "      <td>-0.42</td>\n",
       "      <td>-0.31</td>\n",
       "    </tr>\n",
       "    <tr>\n",
       "      <th>acceleration</th>\n",
       "      <td>0.42</td>\n",
       "      <td>-0.50</td>\n",
       "      <td>-0.54</td>\n",
       "      <td>-0.69</td>\n",
       "      <td>-0.42</td>\n",
       "      <td>1.00</td>\n",
       "      <td>0.29</td>\n",
       "    </tr>\n",
       "    <tr>\n",
       "      <th>model_year</th>\n",
       "      <td>0.58</td>\n",
       "      <td>-0.35</td>\n",
       "      <td>-0.37</td>\n",
       "      <td>-0.42</td>\n",
       "      <td>-0.31</td>\n",
       "      <td>0.29</td>\n",
       "      <td>1.00</td>\n",
       "    </tr>\n",
       "  </tbody>\n",
       "</table>\n",
       "</div>"
      ],
      "text/plain": [
       "               mpg  cylinders  displacement  horsepower  weight  acceleration  \\\n",
       "mpg           1.00      -0.78         -0.81       -0.78   -0.83          0.42   \n",
       "cylinders    -0.78       1.00          0.95        0.84    0.90         -0.50   \n",
       "displacement -0.81       0.95          1.00        0.90    0.93         -0.54   \n",
       "horsepower   -0.78       0.84          0.90        1.00    0.86         -0.69   \n",
       "weight       -0.83       0.90          0.93        0.86    1.00         -0.42   \n",
       "acceleration  0.42      -0.50         -0.54       -0.69   -0.42          1.00   \n",
       "model_year    0.58      -0.35         -0.37       -0.42   -0.31          0.29   \n",
       "\n",
       "              model_year  \n",
       "mpg                 0.58  \n",
       "cylinders          -0.35  \n",
       "displacement       -0.37  \n",
       "horsepower         -0.42  \n",
       "weight             -0.31  \n",
       "acceleration        0.29  \n",
       "model_year          1.00  "
      ]
     },
     "execution_count": 5,
     "metadata": {},
     "output_type": "execute_result"
    }
   ],
   "source": [
    "df[num_cols].corr()"
   ]
  },
  {
   "cell_type": "code",
   "execution_count": 137,
   "id": "e09c1cbd",
   "metadata": {},
   "outputs": [
    {
     "data": {
      "application/vnd.plotly.v1+json": {
       "config": {
        "plotlyServerURL": "https://plot.ly"
       },
       "data": [
        {
         "alignmentgroup": "True",
         "hovertemplate": "weight=%{x}<extra></extra>",
         "legendgroup": "",
         "marker": {
          "color": "darkorange"
         },
         "name": "",
         "notched": false,
         "offsetgroup": "",
         "orientation": "h",
         "showlegend": false,
         "type": "box",
         "x": {
          "bdata": "sA1tDmwNaQ15DfUQAhHYEEkRCg/rDRkOsQ4ODEQJEQvWChsKUggrB3AKfglHCboIWAoHEhgRHhF8ElII2Ai0CEoKbw0BDeYM2AxxEHAROhAAEFsTihIUFJILaAnSDEMMrAhLCBoIEQjtBk0GKgejB+YITgjOCGgJsgiyECERJxAhEFgOGRKWEWgRRhEaCTQPAhDGEO0PdQvPCaMLjQhbCfAIygl0CDQIBBBYDpQPyg/BDlgTcBELEY0QfxJXE+0OMQzODIELzQtYC54HhRMqEy4SkxHlCucIYQlLCUwIBgmoCdkI8g+2EEsHbggWCjQLRw1kCvcKUA4eDFULCA2eB5MJLAfuCcUOMA4dDi0QWxJpER4SoRCrCKsH/AhxBtMHTQg8CMYIuQlXCdAHwAyDDWgNVgw8ElgRkhExEkMPOQ+SDskO3wuVDGEMewhPCmILIAqOCq8I8QmoC5EHiwyGCo0LgQtvCgMHoAmsCAwKzwiaCHcQXhB6D3cQoQwZDcQLDQzzB3QIkQcDB0MO9g09DnkMIQfGB2sIBQpODGQPxgxyC+wOHBHXDx4Pqw79B2sIIQf8CJkHKA/cDywQxxDADWENLg7FDXwQRRDlEO8QlAe0CtkIwwoDCBsIwQeOCP8KKAqgCsEHCAfBBxYICAclDZcO8g3PDVMMlQugCmYNigw0Df4LJA5SDWENdQ2FDPAPawgACvwItgjTCbkKJwtlCQ4LRAzrClINxgdXCK0MrgtKC8EMIA0AD40Ocw/2DggR1g8VDmQPhQe3B3sHbgrKDTwPdgxcDZgIZgjkB1IIbgojCowK/AlgCLAHSAjjB3YKNgu7CzUNjAiXCu4JggnZCD4I8Ao+CCUIHwmGC7IMOgdhCDUHXgt0CcQJ8gi6CUsKPAqlClEJ2wZTB+AGEQi3BwIIwQenCP0HTAmOCKIILgk3CksKngxYDFQLcgtXDY0O9AuJDS0KUApbCQ8K3QmvCjELvAfpB7IHTQhNCHAInQjFCK0HrQfLB4ELxwsZChMLaQpCCYYL5gpSCPcIQQqgCg==",
          "dtype": "i2"
         },
         "x0": " ",
         "xaxis": "x",
         "y0": " ",
         "yaxis": "y"
        }
       ],
       "layout": {
        "boxmode": "group",
        "legend": {
         "tracegroupgap": 0
        },
        "margin": {
         "t": 60
        },
        "template": {
         "data": {
          "bar": [
           {
            "error_x": {
             "color": "#f2f5fa"
            },
            "error_y": {
             "color": "#f2f5fa"
            },
            "marker": {
             "line": {
              "color": "rgb(17,17,17)",
              "width": 0.5
             },
             "pattern": {
              "fillmode": "overlay",
              "size": 10,
              "solidity": 0.2
             }
            },
            "type": "bar"
           }
          ],
          "barpolar": [
           {
            "marker": {
             "line": {
              "color": "rgb(17,17,17)",
              "width": 0.5
             },
             "pattern": {
              "fillmode": "overlay",
              "size": 10,
              "solidity": 0.2
             }
            },
            "type": "barpolar"
           }
          ],
          "carpet": [
           {
            "aaxis": {
             "endlinecolor": "#A2B1C6",
             "gridcolor": "#506784",
             "linecolor": "#506784",
             "minorgridcolor": "#506784",
             "startlinecolor": "#A2B1C6"
            },
            "baxis": {
             "endlinecolor": "#A2B1C6",
             "gridcolor": "#506784",
             "linecolor": "#506784",
             "minorgridcolor": "#506784",
             "startlinecolor": "#A2B1C6"
            },
            "type": "carpet"
           }
          ],
          "choropleth": [
           {
            "colorbar": {
             "outlinewidth": 0,
             "ticks": ""
            },
            "type": "choropleth"
           }
          ],
          "contour": [
           {
            "colorbar": {
             "outlinewidth": 0,
             "ticks": ""
            },
            "colorscale": [
             [
              0,
              "#0d0887"
             ],
             [
              0.1111111111111111,
              "#46039f"
             ],
             [
              0.2222222222222222,
              "#7201a8"
             ],
             [
              0.3333333333333333,
              "#9c179e"
             ],
             [
              0.4444444444444444,
              "#bd3786"
             ],
             [
              0.5555555555555556,
              "#d8576b"
             ],
             [
              0.6666666666666666,
              "#ed7953"
             ],
             [
              0.7777777777777778,
              "#fb9f3a"
             ],
             [
              0.8888888888888888,
              "#fdca26"
             ],
             [
              1,
              "#f0f921"
             ]
            ],
            "type": "contour"
           }
          ],
          "contourcarpet": [
           {
            "colorbar": {
             "outlinewidth": 0,
             "ticks": ""
            },
            "type": "contourcarpet"
           }
          ],
          "heatmap": [
           {
            "colorbar": {
             "outlinewidth": 0,
             "ticks": ""
            },
            "colorscale": [
             [
              0,
              "#0d0887"
             ],
             [
              0.1111111111111111,
              "#46039f"
             ],
             [
              0.2222222222222222,
              "#7201a8"
             ],
             [
              0.3333333333333333,
              "#9c179e"
             ],
             [
              0.4444444444444444,
              "#bd3786"
             ],
             [
              0.5555555555555556,
              "#d8576b"
             ],
             [
              0.6666666666666666,
              "#ed7953"
             ],
             [
              0.7777777777777778,
              "#fb9f3a"
             ],
             [
              0.8888888888888888,
              "#fdca26"
             ],
             [
              1,
              "#f0f921"
             ]
            ],
            "type": "heatmap"
           }
          ],
          "histogram": [
           {
            "marker": {
             "pattern": {
              "fillmode": "overlay",
              "size": 10,
              "solidity": 0.2
             }
            },
            "type": "histogram"
           }
          ],
          "histogram2d": [
           {
            "colorbar": {
             "outlinewidth": 0,
             "ticks": ""
            },
            "colorscale": [
             [
              0,
              "#0d0887"
             ],
             [
              0.1111111111111111,
              "#46039f"
             ],
             [
              0.2222222222222222,
              "#7201a8"
             ],
             [
              0.3333333333333333,
              "#9c179e"
             ],
             [
              0.4444444444444444,
              "#bd3786"
             ],
             [
              0.5555555555555556,
              "#d8576b"
             ],
             [
              0.6666666666666666,
              "#ed7953"
             ],
             [
              0.7777777777777778,
              "#fb9f3a"
             ],
             [
              0.8888888888888888,
              "#fdca26"
             ],
             [
              1,
              "#f0f921"
             ]
            ],
            "type": "histogram2d"
           }
          ],
          "histogram2dcontour": [
           {
            "colorbar": {
             "outlinewidth": 0,
             "ticks": ""
            },
            "colorscale": [
             [
              0,
              "#0d0887"
             ],
             [
              0.1111111111111111,
              "#46039f"
             ],
             [
              0.2222222222222222,
              "#7201a8"
             ],
             [
              0.3333333333333333,
              "#9c179e"
             ],
             [
              0.4444444444444444,
              "#bd3786"
             ],
             [
              0.5555555555555556,
              "#d8576b"
             ],
             [
              0.6666666666666666,
              "#ed7953"
             ],
             [
              0.7777777777777778,
              "#fb9f3a"
             ],
             [
              0.8888888888888888,
              "#fdca26"
             ],
             [
              1,
              "#f0f921"
             ]
            ],
            "type": "histogram2dcontour"
           }
          ],
          "mesh3d": [
           {
            "colorbar": {
             "outlinewidth": 0,
             "ticks": ""
            },
            "type": "mesh3d"
           }
          ],
          "parcoords": [
           {
            "line": {
             "colorbar": {
              "outlinewidth": 0,
              "ticks": ""
             }
            },
            "type": "parcoords"
           }
          ],
          "pie": [
           {
            "automargin": true,
            "type": "pie"
           }
          ],
          "scatter": [
           {
            "marker": {
             "line": {
              "color": "#283442"
             }
            },
            "type": "scatter"
           }
          ],
          "scatter3d": [
           {
            "line": {
             "colorbar": {
              "outlinewidth": 0,
              "ticks": ""
             }
            },
            "marker": {
             "colorbar": {
              "outlinewidth": 0,
              "ticks": ""
             }
            },
            "type": "scatter3d"
           }
          ],
          "scattercarpet": [
           {
            "marker": {
             "colorbar": {
              "outlinewidth": 0,
              "ticks": ""
             }
            },
            "type": "scattercarpet"
           }
          ],
          "scattergeo": [
           {
            "marker": {
             "colorbar": {
              "outlinewidth": 0,
              "ticks": ""
             }
            },
            "type": "scattergeo"
           }
          ],
          "scattergl": [
           {
            "marker": {
             "line": {
              "color": "#283442"
             }
            },
            "type": "scattergl"
           }
          ],
          "scattermap": [
           {
            "marker": {
             "colorbar": {
              "outlinewidth": 0,
              "ticks": ""
             }
            },
            "type": "scattermap"
           }
          ],
          "scattermapbox": [
           {
            "marker": {
             "colorbar": {
              "outlinewidth": 0,
              "ticks": ""
             }
            },
            "type": "scattermapbox"
           }
          ],
          "scatterpolar": [
           {
            "marker": {
             "colorbar": {
              "outlinewidth": 0,
              "ticks": ""
             }
            },
            "type": "scatterpolar"
           }
          ],
          "scatterpolargl": [
           {
            "marker": {
             "colorbar": {
              "outlinewidth": 0,
              "ticks": ""
             }
            },
            "type": "scatterpolargl"
           }
          ],
          "scatterternary": [
           {
            "marker": {
             "colorbar": {
              "outlinewidth": 0,
              "ticks": ""
             }
            },
            "type": "scatterternary"
           }
          ],
          "surface": [
           {
            "colorbar": {
             "outlinewidth": 0,
             "ticks": ""
            },
            "colorscale": [
             [
              0,
              "#0d0887"
             ],
             [
              0.1111111111111111,
              "#46039f"
             ],
             [
              0.2222222222222222,
              "#7201a8"
             ],
             [
              0.3333333333333333,
              "#9c179e"
             ],
             [
              0.4444444444444444,
              "#bd3786"
             ],
             [
              0.5555555555555556,
              "#d8576b"
             ],
             [
              0.6666666666666666,
              "#ed7953"
             ],
             [
              0.7777777777777778,
              "#fb9f3a"
             ],
             [
              0.8888888888888888,
              "#fdca26"
             ],
             [
              1,
              "#f0f921"
             ]
            ],
            "type": "surface"
           }
          ],
          "table": [
           {
            "cells": {
             "fill": {
              "color": "#506784"
             },
             "line": {
              "color": "rgb(17,17,17)"
             }
            },
            "header": {
             "fill": {
              "color": "#2a3f5f"
             },
             "line": {
              "color": "rgb(17,17,17)"
             }
            },
            "type": "table"
           }
          ]
         },
         "layout": {
          "annotationdefaults": {
           "arrowcolor": "#f2f5fa",
           "arrowhead": 0,
           "arrowwidth": 1
          },
          "autotypenumbers": "strict",
          "coloraxis": {
           "colorbar": {
            "outlinewidth": 0,
            "ticks": ""
           }
          },
          "colorscale": {
           "diverging": [
            [
             0,
             "#8e0152"
            ],
            [
             0.1,
             "#c51b7d"
            ],
            [
             0.2,
             "#de77ae"
            ],
            [
             0.3,
             "#f1b6da"
            ],
            [
             0.4,
             "#fde0ef"
            ],
            [
             0.5,
             "#f7f7f7"
            ],
            [
             0.6,
             "#e6f5d0"
            ],
            [
             0.7,
             "#b8e186"
            ],
            [
             0.8,
             "#7fbc41"
            ],
            [
             0.9,
             "#4d9221"
            ],
            [
             1,
             "#276419"
            ]
           ],
           "sequential": [
            [
             0,
             "#0d0887"
            ],
            [
             0.1111111111111111,
             "#46039f"
            ],
            [
             0.2222222222222222,
             "#7201a8"
            ],
            [
             0.3333333333333333,
             "#9c179e"
            ],
            [
             0.4444444444444444,
             "#bd3786"
            ],
            [
             0.5555555555555556,
             "#d8576b"
            ],
            [
             0.6666666666666666,
             "#ed7953"
            ],
            [
             0.7777777777777778,
             "#fb9f3a"
            ],
            [
             0.8888888888888888,
             "#fdca26"
            ],
            [
             1,
             "#f0f921"
            ]
           ],
           "sequentialminus": [
            [
             0,
             "#0d0887"
            ],
            [
             0.1111111111111111,
             "#46039f"
            ],
            [
             0.2222222222222222,
             "#7201a8"
            ],
            [
             0.3333333333333333,
             "#9c179e"
            ],
            [
             0.4444444444444444,
             "#bd3786"
            ],
            [
             0.5555555555555556,
             "#d8576b"
            ],
            [
             0.6666666666666666,
             "#ed7953"
            ],
            [
             0.7777777777777778,
             "#fb9f3a"
            ],
            [
             0.8888888888888888,
             "#fdca26"
            ],
            [
             1,
             "#f0f921"
            ]
           ]
          },
          "colorway": [
           "#636efa",
           "#EF553B",
           "#00cc96",
           "#ab63fa",
           "#FFA15A",
           "#19d3f3",
           "#FF6692",
           "#B6E880",
           "#FF97FF",
           "#FECB52"
          ],
          "font": {
           "color": "#f2f5fa"
          },
          "geo": {
           "bgcolor": "rgb(17,17,17)",
           "lakecolor": "rgb(17,17,17)",
           "landcolor": "rgb(17,17,17)",
           "showlakes": true,
           "showland": true,
           "subunitcolor": "#506784"
          },
          "hoverlabel": {
           "align": "left"
          },
          "hovermode": "closest",
          "mapbox": {
           "style": "dark"
          },
          "paper_bgcolor": "rgb(17,17,17)",
          "plot_bgcolor": "rgb(17,17,17)",
          "polar": {
           "angularaxis": {
            "gridcolor": "#506784",
            "linecolor": "#506784",
            "ticks": ""
           },
           "bgcolor": "rgb(17,17,17)",
           "radialaxis": {
            "gridcolor": "#506784",
            "linecolor": "#506784",
            "ticks": ""
           }
          },
          "scene": {
           "xaxis": {
            "backgroundcolor": "rgb(17,17,17)",
            "gridcolor": "#506784",
            "gridwidth": 2,
            "linecolor": "#506784",
            "showbackground": true,
            "ticks": "",
            "zerolinecolor": "#C8D4E3"
           },
           "yaxis": {
            "backgroundcolor": "rgb(17,17,17)",
            "gridcolor": "#506784",
            "gridwidth": 2,
            "linecolor": "#506784",
            "showbackground": true,
            "ticks": "",
            "zerolinecolor": "#C8D4E3"
           },
           "zaxis": {
            "backgroundcolor": "rgb(17,17,17)",
            "gridcolor": "#506784",
            "gridwidth": 2,
            "linecolor": "#506784",
            "showbackground": true,
            "ticks": "",
            "zerolinecolor": "#C8D4E3"
           }
          },
          "shapedefaults": {
           "line": {
            "color": "#f2f5fa"
           }
          },
          "sliderdefaults": {
           "bgcolor": "#C8D4E3",
           "bordercolor": "rgb(17,17,17)",
           "borderwidth": 1,
           "tickwidth": 0
          },
          "ternary": {
           "aaxis": {
            "gridcolor": "#506784",
            "linecolor": "#506784",
            "ticks": ""
           },
           "baxis": {
            "gridcolor": "#506784",
            "linecolor": "#506784",
            "ticks": ""
           },
           "bgcolor": "rgb(17,17,17)",
           "caxis": {
            "gridcolor": "#506784",
            "linecolor": "#506784",
            "ticks": ""
           }
          },
          "title": {
           "x": 0.05
          },
          "updatemenudefaults": {
           "bgcolor": "#506784",
           "borderwidth": 0
          },
          "xaxis": {
           "automargin": true,
           "gridcolor": "#283442",
           "linecolor": "#506784",
           "ticks": "",
           "title": {
            "standoff": 15
           },
           "zerolinecolor": "#283442",
           "zerolinewidth": 2
          },
          "yaxis": {
           "automargin": true,
           "gridcolor": "#283442",
           "linecolor": "#506784",
           "ticks": "",
           "title": {
            "standoff": 15
           },
           "zerolinecolor": "#283442",
           "zerolinewidth": 2
          }
         }
        },
        "xaxis": {
         "anchor": "y",
         "domain": [
          0,
          1
         ],
         "title": {
          "text": "weight"
         }
        },
        "yaxis": {
         "anchor": "x",
         "domain": [
          0,
          1
         ]
        }
       }
      }
     },
     "metadata": {},
     "output_type": "display_data"
    }
   ],
   "source": [
    "px.box(\n",
    "    df,\n",
    "    x=weight,\n",
    "    color_discrete_sequence=['darkorange']\n",
    ")"
   ]
  },
  {
   "cell_type": "code",
   "execution_count": 75,
   "id": "c48ace6a",
   "metadata": {},
   "outputs": [
    {
     "data": {
      "application/vnd.plotly.v1+json": {
       "config": {
        "plotlyServerURL": "https://plot.ly"
       },
       "data": [
        {
         "alignmentgroup": "True",
         "hovertemplate": "value=%{x}<br>variable=%{y}<extra></extra>",
         "legendgroup": "",
         "marker": {
          "color": "#636efa"
         },
         "name": "",
         "notched": false,
         "offsetgroup": "",
         "orientation": "h",
         "showlegend": false,
         "type": "box",
         "x": {
          "bdata": "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",
          "dtype": "f8"
         },
         "x0": " ",
         "xaxis": "x",
         "y": [
          "horsepower",
          "horsepower",
          "horsepower",
          "horsepower",
          "horsepower",
          "horsepower",
          "horsepower",
          "horsepower",
          "horsepower",
          "horsepower",
          "horsepower",
          "horsepower",
          "horsepower",
          "horsepower",
          "horsepower",
          "horsepower",
          "horsepower",
          "horsepower",
          "horsepower",
          "horsepower",
          "horsepower",
          "horsepower",
          "horsepower",
          "horsepower",
          "horsepower",
          "horsepower",
          "horsepower",
          "horsepower",
          "horsepower",
          "horsepower",
          "horsepower",
          "horsepower",
          "horsepower",
          "horsepower",
          "horsepower",
          "horsepower",
          "horsepower",
          "horsepower",
          "horsepower",
          "horsepower",
          "horsepower",
          "horsepower",
          "horsepower",
          "horsepower",
          "horsepower",
          "horsepower",
          "horsepower",
          "horsepower",
          "horsepower",
          "horsepower",
          "horsepower",
          "horsepower",
          "horsepower",
          "horsepower",
          "horsepower",
          "horsepower",
          "horsepower",
          "horsepower",
          "horsepower",
          "horsepower",
          "horsepower",
          "horsepower",
          "horsepower",
          "horsepower",
          "horsepower",
          "horsepower",
          "horsepower",
          "horsepower",
          "horsepower",
          "horsepower",
          "horsepower",
          "horsepower",
          "horsepower",
          "horsepower",
          "horsepower",
          "horsepower",
          "horsepower",
          "horsepower",
          "horsepower",
          "horsepower",
          "horsepower",
          "horsepower",
          "horsepower",
          "horsepower",
          "horsepower",
          "horsepower",
          "horsepower",
          "horsepower",
          "horsepower",
          "horsepower",
          "horsepower",
          "horsepower",
          "horsepower",
          "horsepower",
          "horsepower",
          "horsepower",
          "horsepower",
          "horsepower",
          "horsepower",
          "horsepower",
          "horsepower",
          "horsepower",
          "horsepower",
          "horsepower",
          "horsepower",
          "horsepower",
          "horsepower",
          "horsepower",
          "horsepower",
          "horsepower",
          "horsepower",
          "horsepower",
          "horsepower",
          "horsepower",
          "horsepower",
          "horsepower",
          "horsepower",
          "horsepower",
          "horsepower",
          "horsepower",
          "horsepower",
          "horsepower",
          "horsepower",
          "horsepower",
          "horsepower",
          "horsepower",
          "horsepower",
          "horsepower",
          "horsepower",
          "horsepower",
          "horsepower",
          "horsepower",
          "horsepower",
          "horsepower",
          "horsepower",
          "horsepower",
          "horsepower",
          "horsepower",
          "horsepower",
          "horsepower",
          "horsepower",
          "horsepower",
          "horsepower",
          "horsepower",
          "horsepower",
          "horsepower",
          "horsepower",
          "horsepower",
          "horsepower",
          "horsepower",
          "horsepower",
          "horsepower",
          "horsepower",
          "horsepower",
          "horsepower",
          "horsepower",
          "horsepower",
          "horsepower",
          "horsepower",
          "horsepower",
          "horsepower",
          "horsepower",
          "horsepower",
          "horsepower",
          "horsepower",
          "horsepower",
          "horsepower",
          "horsepower",
          "horsepower",
          "horsepower",
          "horsepower",
          "horsepower",
          "horsepower",
          "horsepower",
          "horsepower",
          "horsepower",
          "horsepower",
          "horsepower",
          "horsepower",
          "horsepower",
          "horsepower",
          "horsepower",
          "horsepower",
          "horsepower",
          "horsepower",
          "horsepower",
          "horsepower",
          "horsepower",
          "horsepower",
          "horsepower",
          "horsepower",
          "horsepower",
          "horsepower",
          "horsepower",
          "horsepower",
          "horsepower",
          "horsepower",
          "horsepower",
          "horsepower",
          "horsepower",
          "horsepower",
          "horsepower",
          "horsepower",
          "horsepower",
          "horsepower",
          "horsepower",
          "horsepower",
          "horsepower",
          "horsepower",
          "horsepower",
          "horsepower",
          "horsepower",
          "horsepower",
          "horsepower",
          "horsepower",
          "horsepower",
          "horsepower",
          "horsepower",
          "horsepower",
          "horsepower",
          "horsepower",
          "horsepower",
          "horsepower",
          "horsepower",
          "horsepower",
          "horsepower",
          "horsepower",
          "horsepower",
          "horsepower",
          "horsepower",
          "horsepower",
          "horsepower",
          "horsepower",
          "horsepower",
          "horsepower",
          "horsepower",
          "horsepower",
          "horsepower",
          "horsepower",
          "horsepower",
          "horsepower",
          "horsepower",
          "horsepower",
          "horsepower",
          "horsepower",
          "horsepower",
          "horsepower",
          "horsepower",
          "horsepower",
          "horsepower",
          "horsepower",
          "horsepower",
          "horsepower",
          "horsepower",
          "horsepower",
          "horsepower",
          "horsepower",
          "horsepower",
          "horsepower",
          "horsepower",
          "horsepower",
          "horsepower",
          "horsepower",
          "horsepower",
          "horsepower",
          "horsepower",
          "horsepower",
          "horsepower",
          "horsepower",
          "horsepower",
          "horsepower",
          "horsepower",
          "horsepower",
          "horsepower",
          "horsepower",
          "horsepower",
          "horsepower",
          "horsepower",
          "horsepower",
          "horsepower",
          "horsepower",
          "horsepower",
          "horsepower",
          "horsepower",
          "horsepower",
          "horsepower",
          "horsepower",
          "horsepower",
          "horsepower",
          "horsepower",
          "horsepower",
          "horsepower",
          "horsepower",
          "horsepower",
          "horsepower",
          "horsepower",
          "horsepower",
          "horsepower",
          "horsepower",
          "horsepower",
          "horsepower",
          "horsepower",
          "horsepower",
          "horsepower",
          "horsepower",
          "horsepower",
          "horsepower",
          "horsepower",
          "horsepower",
          "horsepower",
          "horsepower",
          "horsepower",
          "horsepower",
          "horsepower",
          "horsepower",
          "horsepower",
          "horsepower",
          "horsepower",
          "horsepower",
          "horsepower",
          "horsepower",
          "horsepower",
          "horsepower",
          "horsepower",
          "horsepower",
          "horsepower",
          "horsepower",
          "horsepower",
          "horsepower",
          "horsepower",
          "horsepower",
          "horsepower",
          "horsepower",
          "horsepower",
          "horsepower",
          "horsepower",
          "horsepower",
          "horsepower",
          "horsepower",
          "horsepower",
          "horsepower",
          "horsepower",
          "horsepower",
          "horsepower",
          "horsepower",
          "horsepower",
          "horsepower",
          "horsepower",
          "horsepower",
          "horsepower",
          "horsepower",
          "horsepower",
          "horsepower",
          "horsepower",
          "horsepower",
          "horsepower",
          "horsepower",
          "horsepower",
          "horsepower",
          "horsepower",
          "horsepower",
          "horsepower",
          "horsepower",
          "horsepower",
          "horsepower",
          "horsepower",
          "horsepower",
          "horsepower",
          "horsepower",
          "horsepower",
          "horsepower",
          "horsepower",
          "horsepower",
          "horsepower",
          "horsepower",
          "horsepower",
          "horsepower",
          "horsepower",
          "horsepower",
          "horsepower",
          "horsepower",
          "horsepower",
          "horsepower",
          "horsepower",
          "horsepower",
          "horsepower",
          "horsepower",
          "horsepower",
          "horsepower",
          "horsepower",
          "horsepower",
          "horsepower",
          "mpg",
          "mpg",
          "mpg",
          "mpg",
          "mpg",
          "mpg",
          "mpg",
          "mpg",
          "mpg",
          "mpg",
          "mpg",
          "mpg",
          "mpg",
          "mpg",
          "mpg",
          "mpg",
          "mpg",
          "mpg",
          "mpg",
          "mpg",
          "mpg",
          "mpg",
          "mpg",
          "mpg",
          "mpg",
          "mpg",
          "mpg",
          "mpg",
          "mpg",
          "mpg",
          "mpg",
          "mpg",
          "mpg",
          "mpg",
          "mpg",
          "mpg",
          "mpg",
          "mpg",
          "mpg",
          "mpg",
          "mpg",
          "mpg",
          "mpg",
          "mpg",
          "mpg",
          "mpg",
          "mpg",
          "mpg",
          "mpg",
          "mpg",
          "mpg",
          "mpg",
          "mpg",
          "mpg",
          "mpg",
          "mpg",
          "mpg",
          "mpg",
          "mpg",
          "mpg",
          "mpg",
          "mpg",
          "mpg",
          "mpg",
          "mpg",
          "mpg",
          "mpg",
          "mpg",
          "mpg",
          "mpg",
          "mpg",
          "mpg",
          "mpg",
          "mpg",
          "mpg",
          "mpg",
          "mpg",
          "mpg",
          "mpg",
          "mpg",
          "mpg",
          "mpg",
          "mpg",
          "mpg",
          "mpg",
          "mpg",
          "mpg",
          "mpg",
          "mpg",
          "mpg",
          "mpg",
          "mpg",
          "mpg",
          "mpg",
          "mpg",
          "mpg",
          "mpg",
          "mpg",
          "mpg",
          "mpg",
          "mpg",
          "mpg",
          "mpg",
          "mpg",
          "mpg",
          "mpg",
          "mpg",
          "mpg",
          "mpg",
          "mpg",
          "mpg",
          "mpg",
          "mpg",
          "mpg",
          "mpg",
          "mpg",
          "mpg",
          "mpg",
          "mpg",
          "mpg",
          "mpg",
          "mpg",
          "mpg",
          "mpg",
          "mpg",
          "mpg",
          "mpg",
          "mpg",
          "mpg",
          "mpg",
          "mpg",
          "mpg",
          "mpg",
          "mpg",
          "mpg",
          "mpg",
          "mpg",
          "mpg",
          "mpg",
          "mpg",
          "mpg",
          "mpg",
          "mpg",
          "mpg",
          "mpg",
          "mpg",
          "mpg",
          "mpg",
          "mpg",
          "mpg",
          "mpg",
          "mpg",
          "mpg",
          "mpg",
          "mpg",
          "mpg",
          "mpg",
          "mpg",
          "mpg",
          "mpg",
          "mpg",
          "mpg",
          "mpg",
          "mpg",
          "mpg",
          "mpg",
          "mpg",
          "mpg",
          "mpg",
          "mpg",
          "mpg",
          "mpg",
          "mpg",
          "mpg",
          "mpg",
          "mpg",
          "mpg",
          "mpg",
          "mpg",
          "mpg",
          "mpg",
          "mpg",
          "mpg",
          "mpg",
          "mpg",
          "mpg",
          "mpg",
          "mpg",
          "mpg",
          "mpg",
          "mpg",
          "mpg",
          "mpg",
          "mpg",
          "mpg",
          "mpg",
          "mpg",
          "mpg",
          "mpg",
          "mpg",
          "mpg",
          "mpg",
          "mpg",
          "mpg",
          "mpg",
          "mpg",
          "mpg",
          "mpg",
          "mpg",
          "mpg",
          "mpg",
          "mpg",
          "mpg",
          "mpg",
          "mpg",
          "mpg",
          "mpg",
          "mpg",
          "mpg",
          "mpg",
          "mpg",
          "mpg",
          "mpg",
          "mpg",
          "mpg",
          "mpg",
          "mpg",
          "mpg",
          "mpg",
          "mpg",
          "mpg",
          "mpg",
          "mpg",
          "mpg",
          "mpg",
          "mpg",
          "mpg",
          "mpg",
          "mpg",
          "mpg",
          "mpg",
          "mpg",
          "mpg",
          "mpg",
          "mpg",
          "mpg",
          "mpg",
          "mpg",
          "mpg",
          "mpg",
          "mpg",
          "mpg",
          "mpg",
          "mpg",
          "mpg",
          "mpg",
          "mpg",
          "mpg",
          "mpg",
          "mpg",
          "mpg",
          "mpg",
          "mpg",
          "mpg",
          "mpg",
          "mpg",
          "mpg",
          "mpg",
          "mpg",
          "mpg",
          "mpg",
          "mpg",
          "mpg",
          "mpg",
          "mpg",
          "mpg",
          "mpg",
          "mpg",
          "mpg",
          "mpg",
          "mpg",
          "mpg",
          "mpg",
          "mpg",
          "mpg",
          "mpg",
          "mpg",
          "mpg",
          "mpg",
          "mpg",
          "mpg",
          "mpg",
          "mpg",
          "mpg",
          "mpg",
          "mpg",
          "mpg",
          "mpg",
          "mpg",
          "mpg",
          "mpg",
          "mpg",
          "mpg",
          "mpg",
          "mpg",
          "mpg",
          "mpg",
          "mpg",
          "mpg",
          "mpg",
          "mpg",
          "mpg",
          "mpg",
          "mpg",
          "mpg",
          "mpg",
          "mpg",
          "mpg",
          "mpg",
          "mpg",
          "mpg",
          "mpg",
          "mpg",
          "mpg",
          "mpg",
          "mpg",
          "mpg",
          "mpg",
          "mpg",
          "mpg",
          "mpg",
          "mpg",
          "mpg",
          "mpg",
          "mpg",
          "mpg",
          "mpg",
          "mpg",
          "mpg",
          "mpg",
          "mpg",
          "mpg",
          "mpg",
          "mpg",
          "mpg",
          "mpg",
          "mpg",
          "mpg",
          "mpg",
          "mpg",
          "mpg",
          "mpg",
          "mpg",
          "mpg",
          "mpg",
          "mpg",
          "mpg",
          "mpg",
          "mpg",
          "mpg",
          "mpg",
          "mpg",
          "mpg",
          "mpg",
          "mpg",
          "mpg",
          "mpg",
          "mpg",
          "mpg",
          "mpg",
          "mpg",
          "mpg",
          "mpg",
          "mpg",
          "mpg",
          "mpg",
          "mpg",
          "mpg",
          "mpg",
          "mpg",
          "mpg",
          "mpg",
          "mpg",
          "mpg",
          "mpg",
          "mpg",
          "mpg",
          "mpg",
          "mpg",
          "mpg",
          "mpg",
          "mpg"
         ],
         "y0": " ",
         "yaxis": "y"
        }
       ],
       "layout": {
        "boxmode": "group",
        "legend": {
         "tracegroupgap": 0
        },
        "template": {
         "data": {
          "bar": [
           {
            "error_x": {
             "color": "#f2f5fa"
            },
            "error_y": {
             "color": "#f2f5fa"
            },
            "marker": {
             "line": {
              "color": "rgb(17,17,17)",
              "width": 0.5
             },
             "pattern": {
              "fillmode": "overlay",
              "size": 10,
              "solidity": 0.2
             }
            },
            "type": "bar"
           }
          ],
          "barpolar": [
           {
            "marker": {
             "line": {
              "color": "rgb(17,17,17)",
              "width": 0.5
             },
             "pattern": {
              "fillmode": "overlay",
              "size": 10,
              "solidity": 0.2
             }
            },
            "type": "barpolar"
           }
          ],
          "carpet": [
           {
            "aaxis": {
             "endlinecolor": "#A2B1C6",
             "gridcolor": "#506784",
             "linecolor": "#506784",
             "minorgridcolor": "#506784",
             "startlinecolor": "#A2B1C6"
            },
            "baxis": {
             "endlinecolor": "#A2B1C6",
             "gridcolor": "#506784",
             "linecolor": "#506784",
             "minorgridcolor": "#506784",
             "startlinecolor": "#A2B1C6"
            },
            "type": "carpet"
           }
          ],
          "choropleth": [
           {
            "colorbar": {
             "outlinewidth": 0,
             "ticks": ""
            },
            "type": "choropleth"
           }
          ],
          "contour": [
           {
            "colorbar": {
             "outlinewidth": 0,
             "ticks": ""
            },
            "colorscale": [
             [
              0,
              "#0d0887"
             ],
             [
              0.1111111111111111,
              "#46039f"
             ],
             [
              0.2222222222222222,
              "#7201a8"
             ],
             [
              0.3333333333333333,
              "#9c179e"
             ],
             [
              0.4444444444444444,
              "#bd3786"
             ],
             [
              0.5555555555555556,
              "#d8576b"
             ],
             [
              0.6666666666666666,
              "#ed7953"
             ],
             [
              0.7777777777777778,
              "#fb9f3a"
             ],
             [
              0.8888888888888888,
              "#fdca26"
             ],
             [
              1,
              "#f0f921"
             ]
            ],
            "type": "contour"
           }
          ],
          "contourcarpet": [
           {
            "colorbar": {
             "outlinewidth": 0,
             "ticks": ""
            },
            "type": "contourcarpet"
           }
          ],
          "heatmap": [
           {
            "colorbar": {
             "outlinewidth": 0,
             "ticks": ""
            },
            "colorscale": [
             [
              0,
              "#0d0887"
             ],
             [
              0.1111111111111111,
              "#46039f"
             ],
             [
              0.2222222222222222,
              "#7201a8"
             ],
             [
              0.3333333333333333,
              "#9c179e"
             ],
             [
              0.4444444444444444,
              "#bd3786"
             ],
             [
              0.5555555555555556,
              "#d8576b"
             ],
             [
              0.6666666666666666,
              "#ed7953"
             ],
             [
              0.7777777777777778,
              "#fb9f3a"
             ],
             [
              0.8888888888888888,
              "#fdca26"
             ],
             [
              1,
              "#f0f921"
             ]
            ],
            "type": "heatmap"
           }
          ],
          "histogram": [
           {
            "marker": {
             "pattern": {
              "fillmode": "overlay",
              "size": 10,
              "solidity": 0.2
             }
            },
            "type": "histogram"
           }
          ],
          "histogram2d": [
           {
            "colorbar": {
             "outlinewidth": 0,
             "ticks": ""
            },
            "colorscale": [
             [
              0,
              "#0d0887"
             ],
             [
              0.1111111111111111,
              "#46039f"
             ],
             [
              0.2222222222222222,
              "#7201a8"
             ],
             [
              0.3333333333333333,
              "#9c179e"
             ],
             [
              0.4444444444444444,
              "#bd3786"
             ],
             [
              0.5555555555555556,
              "#d8576b"
             ],
             [
              0.6666666666666666,
              "#ed7953"
             ],
             [
              0.7777777777777778,
              "#fb9f3a"
             ],
             [
              0.8888888888888888,
              "#fdca26"
             ],
             [
              1,
              "#f0f921"
             ]
            ],
            "type": "histogram2d"
           }
          ],
          "histogram2dcontour": [
           {
            "colorbar": {
             "outlinewidth": 0,
             "ticks": ""
            },
            "colorscale": [
             [
              0,
              "#0d0887"
             ],
             [
              0.1111111111111111,
              "#46039f"
             ],
             [
              0.2222222222222222,
              "#7201a8"
             ],
             [
              0.3333333333333333,
              "#9c179e"
             ],
             [
              0.4444444444444444,
              "#bd3786"
             ],
             [
              0.5555555555555556,
              "#d8576b"
             ],
             [
              0.6666666666666666,
              "#ed7953"
             ],
             [
              0.7777777777777778,
              "#fb9f3a"
             ],
             [
              0.8888888888888888,
              "#fdca26"
             ],
             [
              1,
              "#f0f921"
             ]
            ],
            "type": "histogram2dcontour"
           }
          ],
          "mesh3d": [
           {
            "colorbar": {
             "outlinewidth": 0,
             "ticks": ""
            },
            "type": "mesh3d"
           }
          ],
          "parcoords": [
           {
            "line": {
             "colorbar": {
              "outlinewidth": 0,
              "ticks": ""
             }
            },
            "type": "parcoords"
           }
          ],
          "pie": [
           {
            "automargin": true,
            "type": "pie"
           }
          ],
          "scatter": [
           {
            "marker": {
             "line": {
              "color": "#283442"
             }
            },
            "type": "scatter"
           }
          ],
          "scatter3d": [
           {
            "line": {
             "colorbar": {
              "outlinewidth": 0,
              "ticks": ""
             }
            },
            "marker": {
             "colorbar": {
              "outlinewidth": 0,
              "ticks": ""
             }
            },
            "type": "scatter3d"
           }
          ],
          "scattercarpet": [
           {
            "marker": {
             "colorbar": {
              "outlinewidth": 0,
              "ticks": ""
             }
            },
            "type": "scattercarpet"
           }
          ],
          "scattergeo": [
           {
            "marker": {
             "colorbar": {
              "outlinewidth": 0,
              "ticks": ""
             }
            },
            "type": "scattergeo"
           }
          ],
          "scattergl": [
           {
            "marker": {
             "line": {
              "color": "#283442"
             }
            },
            "type": "scattergl"
           }
          ],
          "scattermap": [
           {
            "marker": {
             "colorbar": {
              "outlinewidth": 0,
              "ticks": ""
             }
            },
            "type": "scattermap"
           }
          ],
          "scattermapbox": [
           {
            "marker": {
             "colorbar": {
              "outlinewidth": 0,
              "ticks": ""
             }
            },
            "type": "scattermapbox"
           }
          ],
          "scatterpolar": [
           {
            "marker": {
             "colorbar": {
              "outlinewidth": 0,
              "ticks": ""
             }
            },
            "type": "scatterpolar"
           }
          ],
          "scatterpolargl": [
           {
            "marker": {
             "colorbar": {
              "outlinewidth": 0,
              "ticks": ""
             }
            },
            "type": "scatterpolargl"
           }
          ],
          "scatterternary": [
           {
            "marker": {
             "colorbar": {
              "outlinewidth": 0,
              "ticks": ""
             }
            },
            "type": "scatterternary"
           }
          ],
          "surface": [
           {
            "colorbar": {
             "outlinewidth": 0,
             "ticks": ""
            },
            "colorscale": [
             [
              0,
              "#0d0887"
             ],
             [
              0.1111111111111111,
              "#46039f"
             ],
             [
              0.2222222222222222,
              "#7201a8"
             ],
             [
              0.3333333333333333,
              "#9c179e"
             ],
             [
              0.4444444444444444,
              "#bd3786"
             ],
             [
              0.5555555555555556,
              "#d8576b"
             ],
             [
              0.6666666666666666,
              "#ed7953"
             ],
             [
              0.7777777777777778,
              "#fb9f3a"
             ],
             [
              0.8888888888888888,
              "#fdca26"
             ],
             [
              1,
              "#f0f921"
             ]
            ],
            "type": "surface"
           }
          ],
          "table": [
           {
            "cells": {
             "fill": {
              "color": "#506784"
             },
             "line": {
              "color": "rgb(17,17,17)"
             }
            },
            "header": {
             "fill": {
              "color": "#2a3f5f"
             },
             "line": {
              "color": "rgb(17,17,17)"
             }
            },
            "type": "table"
           }
          ]
         },
         "layout": {
          "annotationdefaults": {
           "arrowcolor": "#f2f5fa",
           "arrowhead": 0,
           "arrowwidth": 1
          },
          "autotypenumbers": "strict",
          "coloraxis": {
           "colorbar": {
            "outlinewidth": 0,
            "ticks": ""
           }
          },
          "colorscale": {
           "diverging": [
            [
             0,
             "#8e0152"
            ],
            [
             0.1,
             "#c51b7d"
            ],
            [
             0.2,
             "#de77ae"
            ],
            [
             0.3,
             "#f1b6da"
            ],
            [
             0.4,
             "#fde0ef"
            ],
            [
             0.5,
             "#f7f7f7"
            ],
            [
             0.6,
             "#e6f5d0"
            ],
            [
             0.7,
             "#b8e186"
            ],
            [
             0.8,
             "#7fbc41"
            ],
            [
             0.9,
             "#4d9221"
            ],
            [
             1,
             "#276419"
            ]
           ],
           "sequential": [
            [
             0,
             "#0d0887"
            ],
            [
             0.1111111111111111,
             "#46039f"
            ],
            [
             0.2222222222222222,
             "#7201a8"
            ],
            [
             0.3333333333333333,
             "#9c179e"
            ],
            [
             0.4444444444444444,
             "#bd3786"
            ],
            [
             0.5555555555555556,
             "#d8576b"
            ],
            [
             0.6666666666666666,
             "#ed7953"
            ],
            [
             0.7777777777777778,
             "#fb9f3a"
            ],
            [
             0.8888888888888888,
             "#fdca26"
            ],
            [
             1,
             "#f0f921"
            ]
           ],
           "sequentialminus": [
            [
             0,
             "#0d0887"
            ],
            [
             0.1111111111111111,
             "#46039f"
            ],
            [
             0.2222222222222222,
             "#7201a8"
            ],
            [
             0.3333333333333333,
             "#9c179e"
            ],
            [
             0.4444444444444444,
             "#bd3786"
            ],
            [
             0.5555555555555556,
             "#d8576b"
            ],
            [
             0.6666666666666666,
             "#ed7953"
            ],
            [
             0.7777777777777778,
             "#fb9f3a"
            ],
            [
             0.8888888888888888,
             "#fdca26"
            ],
            [
             1,
             "#f0f921"
            ]
           ]
          },
          "colorway": [
           "#636efa",
           "#EF553B",
           "#00cc96",
           "#ab63fa",
           "#FFA15A",
           "#19d3f3",
           "#FF6692",
           "#B6E880",
           "#FF97FF",
           "#FECB52"
          ],
          "font": {
           "color": "#f2f5fa"
          },
          "geo": {
           "bgcolor": "rgb(17,17,17)",
           "lakecolor": "rgb(17,17,17)",
           "landcolor": "rgb(17,17,17)",
           "showlakes": true,
           "showland": true,
           "subunitcolor": "#506784"
          },
          "hoverlabel": {
           "align": "left"
          },
          "hovermode": "closest",
          "mapbox": {
           "style": "dark"
          },
          "paper_bgcolor": "rgb(17,17,17)",
          "plot_bgcolor": "rgb(17,17,17)",
          "polar": {
           "angularaxis": {
            "gridcolor": "#506784",
            "linecolor": "#506784",
            "ticks": ""
           },
           "bgcolor": "rgb(17,17,17)",
           "radialaxis": {
            "gridcolor": "#506784",
            "linecolor": "#506784",
            "ticks": ""
           }
          },
          "scene": {
           "xaxis": {
            "backgroundcolor": "rgb(17,17,17)",
            "gridcolor": "#506784",
            "gridwidth": 2,
            "linecolor": "#506784",
            "showbackground": true,
            "ticks": "",
            "zerolinecolor": "#C8D4E3"
           },
           "yaxis": {
            "backgroundcolor": "rgb(17,17,17)",
            "gridcolor": "#506784",
            "gridwidth": 2,
            "linecolor": "#506784",
            "showbackground": true,
            "ticks": "",
            "zerolinecolor": "#C8D4E3"
           },
           "zaxis": {
            "backgroundcolor": "rgb(17,17,17)",
            "gridcolor": "#506784",
            "gridwidth": 2,
            "linecolor": "#506784",
            "showbackground": true,
            "ticks": "",
            "zerolinecolor": "#C8D4E3"
           }
          },
          "shapedefaults": {
           "line": {
            "color": "#f2f5fa"
           }
          },
          "sliderdefaults": {
           "bgcolor": "#C8D4E3",
           "bordercolor": "rgb(17,17,17)",
           "borderwidth": 1,
           "tickwidth": 0
          },
          "ternary": {
           "aaxis": {
            "gridcolor": "#506784",
            "linecolor": "#506784",
            "ticks": ""
           },
           "baxis": {
            "gridcolor": "#506784",
            "linecolor": "#506784",
            "ticks": ""
           },
           "bgcolor": "rgb(17,17,17)",
           "caxis": {
            "gridcolor": "#506784",
            "linecolor": "#506784",
            "ticks": ""
           }
          },
          "title": {
           "x": 0.05
          },
          "updatemenudefaults": {
           "bgcolor": "#506784",
           "borderwidth": 0
          },
          "xaxis": {
           "automargin": true,
           "gridcolor": "#283442",
           "linecolor": "#506784",
           "ticks": "",
           "title": {
            "standoff": 15
           },
           "zerolinecolor": "#283442",
           "zerolinewidth": 2
          },
          "yaxis": {
           "automargin": true,
           "gridcolor": "#283442",
           "linecolor": "#506784",
           "ticks": "",
           "title": {
            "standoff": 15
           },
           "zerolinecolor": "#283442",
           "zerolinewidth": 2
          }
         }
        },
        "title": {
         "text": "I found that left skewed data points are more in frequency ranges"
        },
        "xaxis": {
         "anchor": "y",
         "domain": [
          0,
          1
         ],
         "title": {
          "text": "value"
         }
        },
        "yaxis": {
         "anchor": "x",
         "domain": [
          0,
          1
         ],
         "title": {
          "text": "variable"
         }
        }
       }
      }
     },
     "metadata": {},
     "output_type": "display_data"
    }
   ],
   "source": [
    "px.box(\n",
    "    df,\n",
    "    x=[horsepower, mpg],\n",
    "    title='I found that left skewed data points are more in frequency ranges'\n",
    ")"
   ]
  },
  {
   "cell_type": "code",
   "execution_count": 67,
   "id": "042dab8e",
   "metadata": {},
   "outputs": [
    {
     "data": {
      "text/plain": [
       "count   392.00\n",
       "mean    104.47\n",
       "std      38.49\n",
       "min      46.00\n",
       "25%      75.00\n",
       "50%      93.50\n",
       "75%     126.00\n",
       "max     230.00\n",
       "Name: horsepower, dtype: float64"
      ]
     },
     "execution_count": 67,
     "metadata": {},
     "output_type": "execute_result"
    }
   ],
   "source": [
    "df[horsepower].describe()"
   ]
  },
  {
   "cell_type": "code",
   "execution_count": 71,
   "id": "aeb71135",
   "metadata": {},
   "outputs": [
    {
     "data": {
      "text/plain": [
       "Index(['mpg', 'cylinders', 'displacement', 'horsepower', 'weight',\n",
       "       'acceleration', 'model_year'],\n",
       "      dtype='object')"
      ]
     },
     "execution_count": 71,
     "metadata": {},
     "output_type": "execute_result"
    }
   ],
   "source": [
    "num_cols"
   ]
  },
  {
   "cell_type": "code",
   "execution_count": null,
   "id": "9a2146c9",
   "metadata": {},
   "outputs": [],
   "source": []
  }
 ],
 "metadata": {
  "kernelspec": {
   "display_name": "venv",
   "language": "python",
   "name": "python3"
  },
  "language_info": {
   "codemirror_mode": {
    "name": "ipython",
    "version": 3
   },
   "file_extension": ".py",
   "mimetype": "text/x-python",
   "name": "python",
   "nbconvert_exporter": "python",
   "pygments_lexer": "ipython3",
   "version": "3.11.4"
  }
 },
 "nbformat": 4,
 "nbformat_minor": 5
}
