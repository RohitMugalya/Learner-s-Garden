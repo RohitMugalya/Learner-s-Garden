{
 "cells": [
  {
   "cell_type": "code",
   "execution_count": 76,
   "id": "f09a625f",
   "metadata": {},
   "outputs": [],
   "source": [
    "import numpy as np\n",
    "from matplotlib import pyplot as plt\n",
    "from qbstyles import mpl_style\n",
    "\n",
    "from sklearn.metrics import r2_score\n",
    "\n",
    "import torch\n",
    "from torch import nn\n",
    "from torch import optim\n",
    "from torch.utils.data import Dataset, DataLoader\n",
    "\n",
    "mpl_style(dark=True)"
   ]
  },
  {
   "cell_type": "code",
   "execution_count": 103,
   "id": "6c8aa079",
   "metadata": {},
   "outputs": [],
   "source": [
    "class MyDataset(Dataset):\n",
    "    def __init__(self, samples, targets):\n",
    "        self.samples = samples\n",
    "        self.targets = targets\n",
    "    \n",
    "    def __getitem__(self, index):\n",
    "        return self.samples[index], self.targets[index]\n",
    "    \n",
    "    def __len__(self):\n",
    "        return len(self.samples)\n",
    "\n",
    "\n",
    "class Model(nn.Module):\n",
    "    def __init__(self, input_shape, output_shape):\n",
    "        super(Model, self).__init__()\n",
    "        self.linear = nn.Linear(input_shape, output_shape)\n",
    "    \n",
    "    def forward(self, X):\n",
    "        return self.linear(X)\n",
    "    \n",
    "    def fit(self, dataloader, optimizer, criterion, epochs=10):\n",
    "        losses = []\n",
    "        for _ in range(epochs):\n",
    "            for X_batch, Y_batch in dataloader:\n",
    "                Yhat = self.forward(X_batch)\n",
    "                loss = criterion(Yhat, Y_batch)\n",
    "                loss.backward()\n",
    "                optimizer.step()\n",
    "                optimizer.zero_grad()\n",
    "                \n",
    "                losses.append(loss.item())\n",
    "        \n",
    "        return losses\n",
    "    \n",
    "    def predict(self, X):\n",
    "        return self.forward(X).detach()"
   ]
  },
  {
   "cell_type": "code",
   "execution_count": 72,
   "id": "3a9d57c2",
   "metadata": {},
   "outputs": [],
   "source": [
    "X = torch.arange(20, dtype=torch.float).reshape(-1, 2)\n",
    "W = torch.tensor([3, 6], dtype=torch.float)\n",
    "b = 8\n",
    "Y = (X @ W + b).reshape(-1, 1)\n",
    "\n",
    "dataset = MyDataset(X, Y)\n",
    "dataloader = DataLoader(dataset, batch_size=len(dataset))"
   ]
  },
  {
   "cell_type": "code",
   "execution_count": 104,
   "id": "6b28008c",
   "metadata": {},
   "outputs": [
    {
     "name": "stdout",
     "output_type": "stream",
     "text": [
      "tensor(0.0317)\n"
     ]
    },
    {
     "data": {
      "text/plain": [
       "[<matplotlib.lines.Line2D at 0x1b591be4d10>]"
      ]
     },
     "execution_count": 104,
     "metadata": {},
     "output_type": "execute_result"
    },
    {
     "data": {
      "image/png": "[encoded data removed]",
      "text/plain": [
       "<Figure size 640x480 with 1 Axes>"
      ]
     },
     "metadata": {},
     "output_type": "display_data"
    }
   ],
   "source": [
    "model = Model(2, 1)\n",
    "\n",
    "criterion = nn.MSELoss()\n",
    "optimizer = optim.SGD(model.parameters(), lr=0.002)\n",
    "\n",
    "losses = model.fit(dataloader, optimizer, criterion, 2000)\n",
    "\n",
    "print(criterion(model.predict(X), Y))\n",
    "plt.plot(losses, color=\"yellow\")"
   ]
  },
  {
   "cell_type": "code",
   "execution_count": 105,
   "id": "22f06588",
   "metadata": {},
   "outputs": [
    {
     "data": {
      "text/plain": [
       "100.0"
      ]
     },
     "execution_count": 105,
     "metadata": {},
     "output_type": "execute_result"
    }
   ],
   "source": [
    "accuracy = r2_score(model.predict(X), Y)\n",
    "round(accuracy, 4) * 100"
   ]
  },
  {
   "cell_type": "code",
   "execution_count": null,
   "id": "9b32759e",
   "metadata": {},
   "outputs": [],
   "source": []
  }
 ],
 "metadata": {
  "kernelspec": {
   "display_name": "venv",
   "language": "python",
   "name": "python3"
  },
  "language_info": {
   "codemirror_mode": {
    "name": "ipython",
    "version": 3
   },
   "file_extension": ".py",
   "mimetype": "text/x-python",
   "name": "python",
   "nbconvert_exporter": "python",
   "pygments_lexer": "ipython3",
   "version": "3.11.4"
  }
 },
 "nbformat": 4,
 "nbformat_minor": 5
}
