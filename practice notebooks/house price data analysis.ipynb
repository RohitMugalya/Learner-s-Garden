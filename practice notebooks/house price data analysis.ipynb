{
 "cells": [
  {
   "cell_type": "code",
   "execution_count": 17,
   "metadata": {},
   "outputs": [
    {
     "name": "stdout",
     "output_type": "stream",
     "text": [
      "Voila!\n"
     ]
    }
   ],
   "source": [
    "import matplotlib\n",
    "import matplotlib.pyplot as plt\n",
    "from mpl_toolkits.mplot3d import Axes3D\n",
    "import numpy as np\n",
    "import pandas as pd\n",
    "import seaborn as sns\n",
    "from sklearn.linear_model import LinearRegression\n",
    "from sklearn.model_selection import train_test_split\n",
    "from sklearn.metrics import r2_score, mean_squared_error\n",
    "\n",
    "from pathlib import Path\n",
    "import statistics\n",
    "\n",
    "plt.style.use(\"dracula\")\n",
    "print(\"Voila!\")"
   ]
  },
  {
   "cell_type": "code",
   "execution_count": 2,
   "metadata": {},
   "outputs": [],
   "source": [
    "def model_line(model, X, y, color_dp3d=\"black\", color_dp2d=\"red\", color_line2d=\"white\", color_line3d=\"white\", alpha=0.5):\n",
    "    if X.shape[1] == 1:  # 2D Case\n",
    "        plt.scatter(X.iloc[:, 0], y, marker=\".\", color=color_dp2d, label=\"Data\")\n",
    "        plt.plot(X.iloc[:, 0], model.predict(X), color=color_line2d, label=\"Model Prediction\")\n",
    "        plt.xlabel(X.columns[0])\n",
    "        plt.ylabel(y.name)\n",
    "        plt.legend()\n",
    "        plt.show()\n",
    "\n",
    "    elif X.shape[1] == 2:  # 3D Case\n",
    "        plt.ion()\n",
    "        fig = plt.figure()\n",
    "        ax = fig.add_subplot(111, projection='3d')\n",
    "\n",
    "        ax.scatter(X.iloc[:, 0], X.iloc[:, 1], y, color=color_dp3d, label=\"Data\", marker=\".\")\n",
    "        \n",
    "        # Plot for model predictions\n",
    "        X_vals = X.iloc[:, 0]\n",
    "        Y_vals = X.iloc[:, 1]\n",
    "        Z_vals = model.predict(X)\n",
    "        ax.plot_trisurf(X_vals, Y_vals, Z_vals, color=color_line3d, alpha=alpha, label=\"Model Prediction\")\n",
    "\n",
    "        ax.set_xlabel(X.columns[0])\n",
    "        ax.set_ylabel(X.columns[1])\n",
    "        ax.set_zlabel(y.name)\n",
    "        ax.legend()\n",
    "        plt.show()\n",
    "\n",
    "    else:\n",
    "        raise ValueError\n",
    "\n",
    "\n",
    "\n",
    "def predictor_line(model, X, y):\n",
    "    pred = model.predict(X)\n",
    "    start = min(y.min(), pred.min())\n",
    "    end = max(y.max(), pred.max())\n",
    "    line = np.linspace(start, end, 100)\n",
    "\n",
    "    plt.scatter(y, pred, marker=\".\", color=\"red\")\n",
    "    plt.plot(line, line)\n",
    "    plt.xlabel(\"Actual\")\n",
    "    plt.ylabel(\"Predicted\")\n",
    "\n",
    "\n",
    "def one_hot_encode(df, column):\n",
    "    return pd.concat(\n",
    "        [df, pd.get_dummies(df[column])],\n",
    "        axis='columns',\n",
    "    )"
   ]
  },
  {
   "cell_type": "code",
   "execution_count": 3,
   "metadata": {},
   "outputs": [
    {
     "data": {
      "text/plain": [
       "True"
      ]
     },
     "execution_count": 3,
     "metadata": {},
     "output_type": "execute_result"
    }
   ],
   "source": [
    "filename = Path(r\"../sample csv data/Housing.csv\")\n",
    "filename.exists()"
   ]
  },
  {
   "cell_type": "code",
   "execution_count": 131,
   "metadata": {},
   "outputs": [],
   "source": [
    "PRICE = 'price'\n",
    "BATHROOMS = 'bathrooms'\n",
    "BEDROOMS = 'bedrooms'\n",
    "AREA = 'sqft_living'\n",
    "WATERFRONT = 'waterfront'\n",
    "ZIPCODE = 'zipcode'\n",
    "YES = 1\n",
    "NO = 0\n",
    "\n",
    "COLUMNS = [PRICE, BATHROOMS, BEDROOMS, AREA, WATERFRONT, ZIPCODE]\n",
    "\n",
    "raw_df = pd.read_csv(filename)\n",
    "df = (\n",
    "    raw_df[COLUMNS]\n",
    "    .dropna()\n",
    "    .drop_duplicates()\n",
    "    .sort_values(AREA)\n",
    ")\n",
    "\n",
    "with_waterfront = df[df[WATERFRONT] == YES]\n",
    "without_waterfront = df[df[WATERFRONT] == NO]\n",
    "df = pd.concat([with_waterfront, without_waterfront])"
   ]
  },
  {
   "cell_type": "code",
   "execution_count": 134,
   "metadata": {},
   "outputs": [
    {
     "data": {
      "text/plain": [
       "((21383, 6), (163, 6))"
      ]
     },
     "execution_count": 134,
     "metadata": {},
     "output_type": "execute_result"
    }
   ],
   "source": [
    "without_waterfront.shape, with_waterfront.shape"
   ]
  },
  {
   "cell_type": "code",
   "execution_count": 135,
   "metadata": {},
   "outputs": [
    {
     "data": {
      "text/plain": [
       "<matplotlib.collections.PathCollection at 0x179a155e210>"
      ]
     },
     "execution_count": 135,
     "metadata": {},
     "output_type": "execute_result"
    },
    {
     "data": {
      "image/png": "[encoded data removed]",
      "text/plain": [
       "<Figure size 640x480 with 1 Axes>"
      ]
     },
     "metadata": {},
     "output_type": "display_data"
    }
   ],
   "source": [
    "plt.scatter(with_waterfront[AREA], with_waterfront[PRICE], marker='x')\n",
    "plt.scatter(without_waterfront[AREA], without_waterfront[PRICE], marker='o')"
   ]
  },
  {
   "cell_type": "code",
   "execution_count": 139,
   "metadata": {},
   "outputs": [
    {
     "data": {
      "text/plain": [
       "view\n",
       "0    19489\n",
       "2      963\n",
       "3      510\n",
       "1      332\n",
       "4      319\n",
       "Name: count, dtype: int64"
      ]
     },
     "execution_count": 139,
     "metadata": {},
     "output_type": "execute_result"
    }
   ],
   "source": [
    "raw_df.view.value_counts()"
   ]
  },
  {
   "cell_type": "code",
   "execution_count": null,
   "metadata": {},
   "outputs": [],
   "source": []
  }
 ],
 "metadata": {
  "kernelspec": {
   "display_name": "Python 3",
   "language": "python",
   "name": "python3"
  },
  "language_info": {
   "codemirror_mode": {
    "name": "ipython",
    "version": 3
   },
   "file_extension": ".py",
   "mimetype": "text/x-python",
   "name": "python",
   "nbconvert_exporter": "python",
   "pygments_lexer": "ipython3",
   "version": "3.11.8"
  }
 },
 "nbformat": 4,
 "nbformat_minor": 2
}
