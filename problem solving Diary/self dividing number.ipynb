{
 "cells": [
  {
   "cell_type": "code",
   "execution_count": 3,
   "id": "39987eb3",
   "metadata": {},
   "outputs": [],
   "source": [
    "def brute_force(left, right):\n",
    "    self_dividing_numbers = []\n",
    "    for num in range(left, right + 1):\n",
    "        n = num\n",
    "        while n:\n",
    "            n, digit = divmod(n, 10)\n",
    "            if digit == 0 or num % digit != 0:\n",
    "                break\n",
    "        else:\n",
    "            self_dividing_numbers.append(num)\n",
    "    \n",
    "    return self_dividing_numbers"
   ]
  },
  {
   "cell_type": "code",
   "execution_count": 7,
   "id": "7cd98d87",
   "metadata": {},
   "outputs": [
    {
     "data": {
      "text/plain": [
       "[1, 2, 3, 4, 5, 6, 7, 8, 9, 11, 12, 15, 22]"
      ]
     },
     "execution_count": 7,
     "metadata": {},
     "output_type": "execute_result"
    }
   ],
   "source": [
    "brute_force(1, 22)"
   ]
  },
  {
   "cell_type": "code",
   "execution_count": null,
   "id": "c2817509",
   "metadata": {},
   "outputs": [],
   "source": []
  }
 ],
 "metadata": {
  "kernelspec": {
   "display_name": "venv",
   "language": "python",
   "name": "python3"
  },
  "language_info": {
   "codemirror_mode": {
    "name": "ipython",
    "version": 3
   },
   "file_extension": ".py",
   "mimetype": "text/x-python",
   "name": "python",
   "nbconvert_exporter": "python",
   "pygments_lexer": "ipython3",
   "version": "3.11.4"
  }
 },
 "nbformat": 4,
 "nbformat_minor": 5
}
