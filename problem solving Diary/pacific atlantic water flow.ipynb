{
 "cells": [
  {
   "cell_type": "code",
   "execution_count": 1,
   "id": "362572b7",
   "metadata": {},
   "outputs": [],
   "source": [
    "from pprint import pprint"
   ]
  },
  {
   "cell_type": "code",
   "execution_count": 3,
   "id": "65e6e953",
   "metadata": {},
   "outputs": [],
   "source": [
    "PACIFIC = -1\n",
    "NEITHER =  0\n",
    "ATLANTIC = 1\n",
    "BOTH = 2\n",
    "RETRACE = 50"
   ]
  },
  {
   "cell_type": "code",
   "execution_count": 9,
   "id": "5919c3ce",
   "metadata": {},
   "outputs": [],
   "source": [
    "def depth_first_search(heights: list[list[int]]) -> list[tuple[int, int]]:\n",
    "    m, n = len(heights), len(heights[0])\n",
    "\n",
    "    cache = {}\n",
    "    footprints = set()\n",
    "    def dfs(i, j, height):\n",
    "        if i < 0 or j < 0:\n",
    "            return PACIFIC\n",
    "        if i >= m or j >= n:\n",
    "            return ATLANTIC\n",
    "        if heights[i][j] > height:\n",
    "            return NEITHER\n",
    "        if (i, j) in cache:\n",
    "            return cache[(i, j)]\n",
    "        if (i, j) in footprints:\n",
    "            return RETRACE\n",
    "\n",
    "\n",
    "        footprints.add((i, j))\n",
    "        north = dfs(i - 1, j, heights[i][j])\n",
    "        east = dfs(i, j + 1, heights[i][j])\n",
    "        west = dfs(i, j - 1, heights[i][j])\n",
    "        south = dfs(i + 1, j, heights[i][j])\n",
    "        footprints.remove((i, j))\n",
    "\n",
    "        travels = [north, east, west, south]\n",
    "        if (\n",
    "            BOTH in travels or\n",
    "            PACIFIC in travels and ATLANTIC in travels\n",
    "        ):\n",
    "            cache[(i, j)] = BOTH\n",
    "            return BOTH\n",
    "        elif PACIFIC in travels:\n",
    "            if RETRACE not in travels:\n",
    "                cache[(i, j)] = PACIFIC\n",
    "            return PACIFIC\n",
    "        elif ATLANTIC in travels:\n",
    "            if RETRACE not in travels:\n",
    "                cache[(i, j)] = ATLANTIC\n",
    "            return ATLANTIC\n",
    "        else:\n",
    "            return NEITHER\n",
    "\n",
    "\n",
    "    return [(r, c) for r in range(m) \n",
    "            for c in range(n) \n",
    "            if dfs(r, c, heights[r][c]) == BOTH]"
   ]
  },
  {
   "cell_type": "code",
   "execution_count": 10,
   "id": "e71a5424",
   "metadata": {},
   "outputs": [],
   "source": [
    "test_case1 = [\n",
    "    [1, 2, 2, 3, 5],\n",
    "    [3, 2, 3, 4, 4],\n",
    "    [2, 4, 5, 3, 1],\n",
    "    [6, 7, 1, 4, 5],\n",
    "    [5, 1, 1, 2, 4],\n",
    "]"
   ]
  },
  {
   "cell_type": "code",
   "execution_count": 11,
   "id": "fcf72afd",
   "metadata": {},
   "outputs": [
    {
     "data": {
      "text/plain": [
       "[(0, 4), (1, 3), (1, 4), (2, 2), (3, 0), (3, 1), (4, 0)]"
      ]
     },
     "execution_count": 11,
     "metadata": {},
     "output_type": "execute_result"
    }
   ],
   "source": [
    "depth_first_search(test_case1)"
   ]
  },
  {
   "cell_type": "markdown",
   "id": "32cd85de",
   "metadata": {},
   "source": [
    "|   |   |   |   |   |   |\n",
    "|---|---|---|---|---|---|\n",
    "| <div style=\"width: 25px; height: 25px; background-color: black; text-align: center; line-height: 25px; color: white;\">1</div> | <div style=\"width: 25px; height: 25px; background-color: black; text-align: center; line-height: 25px; color: white;\">2</div> | <div style=\"width: 25px; height: 25px; background-color: black; text-align: center; line-height: 25px; color: white;\">2</div> | <div style=\"width: 25px; height: 25px; background-color: black; text-align: center; line-height: 25px; color: white;\">3</div> | <div style=\"width: 25px; height: 25px; background-color: black; text-align: center; line-height: 25px; color: white;\">5</div> |\n",
    "| <div style=\"width: 25px; height: 25px; background-color: black; text-align: center; line-height: 25px; color: white;\">3</div> | <div style=\"width: 25px; height: 25px; background-color: black; text-align: center; line-height: 25px; color: white;\">2</div> | <div style=\"width: 25px; height: 25px; background-color: black; text-align: center; line-height: 25px; color: white;\">3</div> | <div style=\"width: 25px; height: 25px; background-color: black; text-align: center; line-height: 25px; color: white;\">4</div> | <div style=\"width: 25px; height: 25px; background-color: black; text-align: center; line-height: 25px; color: white;\">4</div> |\n",
    "| <div style=\"width: 25px; height: 25px; background-color: black; text-align: center; line-height: 25px; color: white;\">2</div> | <div style=\"width: 25px; height: 25px; background-color: black; text-align: center; line-height: 25px; color: white;\">4</div> | <div style=\"width: 25px; height: 25px; background-color: black; text-align: center; line-height: 25px; color: white;\">5</div> | <div style=\"width: 25px; height: 25px; background-color: black; text-align: center; line-height: 25px; color: white;\">3</div> | <div style=\"width: 25px; height: 25px; background-color: black; text-align: center; line-height: 25px; color: white;\">1</div> |\n",
    "| <div style=\"width: 25px; height: 25px; background-color: black; text-align: center; line-height: 25px; color: white;\">6</div> | <div style=\"width: 25px; height: 25px; background-color: black; text-align: center; line-height: 25px; color: white;\">7</div> | <div style=\"width: 25px; height: 25px; background-color: black; text-align: center; line-height: 25px; color: white;\">1</div> | <div style=\"width: 25px; height: 25px; background-color: black; text-align: center; line-height: 25px; color: white;\">4</div> | <div style=\"width: 25px; height: 25px; background-color: black; text-align: center; line-height: 25px; color: white;\">5</div> |\n",
    "| <div style=\"width: 25px; height: 25px; background-color: black; text-align: center; line-height: 25px; color: white;\">5</div> | <div style=\"width: 25px; height: 25px; background-color: black; text-align: center; line-height: 25px; color: white;\">1</div> | <div style=\"width: 25px; height: 25px; background-color: black; text-align: center; line-height: 25px; color: white;\">1</div> | <div style=\"width: 25px; height: 25px; background-color: black; text-align: center; line-height: 25px; color: white;\">2</div> | <div style=\"width: 25px; height: 25px; background-color: black; text-align: center; line-height: 25px; color: white;\">4</div> |\n"
   ]
  },
  {
   "cell_type": "code",
   "execution_count": null,
   "id": "8bc8d33e",
   "metadata": {},
   "outputs": [],
   "source": []
  }
 ],
 "metadata": {
  "kernelspec": {
   "display_name": "Python 3 (ipykernel)",
   "language": "python",
   "name": "python3"
  },
  "language_info": {
   "codemirror_mode": {
    "name": "ipython",
    "version": 3
   },
   "file_extension": ".py",
   "mimetype": "text/x-python",
   "name": "python",
   "nbconvert_exporter": "python",
   "pygments_lexer": "ipython3",
   "version": "3.11.5"
  }
 },
 "nbformat": 4,
 "nbformat_minor": 5
}
