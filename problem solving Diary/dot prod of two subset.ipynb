{
 "cells": [
  {
   "cell_type": "code",
   "execution_count": 1,
   "id": "8699cd0b",
   "metadata": {},
   "outputs": [],
   "source": [
    "import numpy as np\n",
    "import itertools as itls"
   ]
  },
  {
   "cell_type": "code",
   "execution_count": 7,
   "id": "37e08886",
   "metadata": {},
   "outputs": [],
   "source": [
    "n1 = np.array([1, 2, 3])\n",
    "n2 = np.array([1, 2, 3, 4])"
   ]
  },
  {
   "cell_type": "code",
   "execution_count": 8,
   "id": "2fa5669d",
   "metadata": {},
   "outputs": [
    {
     "name": "stdout",
     "output_type": "stream",
     "text": [
      "[1] [1]\n",
      "[1] [2]\n",
      "[1] [3]\n",
      "[1] [4]\n",
      "[2] [1]\n",
      "[2] [2]\n",
      "[2] [3]\n",
      "[2] [4]\n",
      "[3] [1]\n",
      "[3] [2]\n",
      "[3] [3]\n",
      "[3] [4]\n"
     ]
    }
   ],
   "source": [
    "for i in range(3):\n",
    "    ss1 = n1[i:i + 1]\n",
    "    for j in range(4):\n",
    "        ss2 = n2[j:j + 1]\n",
    "        print(ss1, ss2)"
   ]
  },
  {
   "cell_type": "code",
   "execution_count": 10,
   "id": "75fd9c4a",
   "metadata": {},
   "outputs": [
    {
     "name": "stdout",
     "output_type": "stream",
     "text": [
      "((1,), (1,))\n",
      "((1,), (2,))\n",
      "((1,), (3,))\n",
      "((1,), (4,))\n",
      "((2,), (1,))\n",
      "((2,), (2,))\n",
      "((2,), (3,))\n",
      "((2,), (4,))\n",
      "((3,), (1,))\n",
      "((3,), (2,))\n",
      "((3,), (3,))\n",
      "((3,), (4,))\n",
      "((1, 2), (1, 2))\n",
      "((1, 2), (1, 3))\n",
      "((1, 2), (1, 4))\n",
      "((1, 2), (2, 3))\n",
      "((1, 2), (2, 4))\n",
      "((1, 2), (3, 4))\n",
      "((1, 3), (1, 2))\n",
      "((1, 3), (1, 3))\n",
      "((1, 3), (1, 4))\n",
      "((1, 3), (2, 3))\n",
      "((1, 3), (2, 4))\n",
      "((1, 3), (3, 4))\n",
      "((2, 3), (1, 2))\n",
      "((2, 3), (1, 3))\n",
      "((2, 3), (1, 4))\n",
      "((2, 3), (2, 3))\n",
      "((2, 3), (2, 4))\n",
      "((2, 3), (3, 4))\n",
      "((1, 2, 3), (1, 2, 3))\n",
      "((1, 2, 3), (1, 2, 4))\n",
      "((1, 2, 3), (1, 3, 4))\n",
      "((1, 2, 3), (2, 3, 4))\n"
     ]
    }
   ],
   "source": [
    "for i in range(1, 3 + 1):\n",
    "    ss1 = itls.combinations(n1, i)\n",
    "    ss2 = itls.combinations(n2, i)\n",
    "    print(*itls.product(ss1, ss2), sep='\\n')"
   ]
  },
  {
   "cell_type": "code",
   "execution_count": 14,
   "id": "b49849ba",
   "metadata": {},
   "outputs": [
    {
     "data": {
      "text/plain": [
       "14"
      ]
     },
     "execution_count": 14,
     "metadata": {},
     "output_type": "execute_result"
    }
   ],
   "source": [
    "np.dot([1, 2], [4, 5])"
   ]
  },
  {
   "cell_type": "code",
   "execution_count": null,
   "id": "9f812c00",
   "metadata": {},
   "outputs": [],
   "source": []
  }
 ],
 "metadata": {
  "kernelspec": {
   "display_name": "Python 3 (ipykernel)",
   "language": "python",
   "name": "python3"
  },
  "language_info": {
   "codemirror_mode": {
    "name": "ipython",
    "version": 3
   },
   "file_extension": ".py",
   "mimetype": "text/x-python",
   "name": "python",
   "nbconvert_exporter": "python",
   "pygments_lexer": "ipython3",
   "version": "3.10.4"
  }
 },
 "nbformat": 4,
 "nbformat_minor": 5
}
