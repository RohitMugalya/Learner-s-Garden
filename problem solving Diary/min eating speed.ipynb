{
 "cells": [
  {
   "cell_type": "code",
   "execution_count": 1,
   "id": "0420474c",
   "metadata": {},
   "outputs": [],
   "source": [
    "import math\n",
    "import statistics\n",
    "\n",
    "from matplotlib import pyplot as plt\n",
    "\n",
    "plt.style.use(\"dark_background\")"
   ]
  },
  {
   "cell_type": "code",
   "execution_count": 7,
   "id": "310a9222",
   "metadata": {},
   "outputs": [],
   "source": [
    "def min_eat_speed(piles: list[int], h: int) -> int:\n",
    "    eat_speed = float(\"inf\")\n",
    "    for k in range(1, max(piles) + 1):\n",
    "        es = total_hours(piles, k)\n",
    "        if es <= h:\n",
    "            eat_speed = min(eat_speed, k)\n",
    "    \n",
    "    return eat_speed\n",
    "\n",
    "def total_hours(piles, k):\n",
    "    es = sum(math.ceil(pile / k) for pile in piles)\n",
    "    print(\" + \".join(f\"{pile}/{k} ({math.ceil(pile / k)})\" for pile in piles), \"=\", es)\n",
    "    return es\n",
    "\n",
    "def visual(data):\n",
    "    print(data)\n",
    "    print(f\"Avg {statistics.mean(data)}\")\n",
    "    plt.bar(range(len(data)), data, width=0.5, color=\"darkblue\")"
   ]
  },
  {
   "cell_type": "code",
   "execution_count": 3,
   "id": "1d9c705f",
   "metadata": {},
   "outputs": [
    {
     "name": "stdout",
     "output_type": "stream",
     "text": [
      "3/1 (3) + 6/1 (6) + 7/1 (7) + 11/1 (11) = 27\n",
      "3/2 (2) + 6/2 (3) + 7/2 (4) + 11/2 (6) = 15\n",
      "3/3 (1) + 6/3 (2) + 7/3 (3) + 11/3 (4) = 10\n",
      "3/4 (1) + 6/4 (2) + 7/4 (2) + 11/4 (3) = 8\n",
      "3/5 (1) + 6/5 (2) + 7/5 (2) + 11/5 (3) = 8\n",
      "3/6 (1) + 6/6 (1) + 7/6 (2) + 11/6 (2) = 6\n",
      "3/7 (1) + 6/7 (1) + 7/7 (1) + 11/7 (2) = 5\n",
      "3/8 (1) + 6/8 (1) + 7/8 (1) + 11/8 (2) = 5\n",
      "3/9 (1) + 6/9 (1) + 7/9 (1) + 11/9 (2) = 5\n",
      "3/10 (1) + 6/10 (1) + 7/10 (1) + 11/10 (2) = 5\n"
     ]
    },
    {
     "data": {
      "text/plain": [
       "4"
      ]
     },
     "execution_count": 3,
     "metadata": {},
     "output_type": "execute_result"
    }
   ],
   "source": [
    "nums = [3, 6, 7, 11]\n",
    "min_eat_speed(nums, 8)"
   ]
  },
  {
   "cell_type": "code",
   "execution_count": 37,
   "id": "26008aaa",
   "metadata": {},
   "outputs": [
    {
     "name": "stdout",
     "output_type": "stream",
     "text": [
      "3/5 (1) + 6/5 (2) + 7/5 (2) + 11/5 (3) = 8\n"
     ]
    },
    {
     "data": {
      "text/plain": [
       "8"
      ]
     },
     "execution_count": 37,
     "metadata": {},
     "output_type": "execute_result"
    }
   ],
   "source": [
    "total_hours(nums, 5)"
   ]
  },
  {
   "cell_type": "code",
   "execution_count": 8,
   "id": "0b999033",
   "metadata": {},
   "outputs": [
    {
     "name": "stdout",
     "output_type": "stream",
     "text": [
      "30/1 (30) + 11/1 (11) + 23/1 (23) + 4/1 (4) + 20/1 (20) = 88\n",
      "30/2 (15) + 11/2 (6) + 23/2 (12) + 4/2 (2) + 20/2 (10) = 45\n",
      "30/3 (10) + 11/3 (4) + 23/3 (8) + 4/3 (2) + 20/3 (7) = 31\n",
      "30/4 (8) + 11/4 (3) + 23/4 (6) + 4/4 (1) + 20/4 (5) = 23\n",
      "30/5 (6) + 11/5 (3) + 23/5 (5) + 4/5 (1) + 20/5 (4) = 19\n",
      "30/6 (5) + 11/6 (2) + 23/6 (4) + 4/6 (1) + 20/6 (4) = 16\n",
      "30/7 (5) + 11/7 (2) + 23/7 (4) + 4/7 (1) + 20/7 (3) = 15\n",
      "30/8 (4) + 11/8 (2) + 23/8 (3) + 4/8 (1) + 20/8 (3) = 13\n",
      "30/9 (4) + 11/9 (2) + 23/9 (3) + 4/9 (1) + 20/9 (3) = 13\n",
      "30/10 (3) + 11/10 (2) + 23/10 (3) + 4/10 (1) + 20/10 (2) = 11\n",
      "30/11 (3) + 11/11 (1) + 23/11 (3) + 4/11 (1) + 20/11 (2) = 10\n",
      "30/12 (3) + 11/12 (1) + 23/12 (2) + 4/12 (1) + 20/12 (2) = 9\n",
      "30/13 (3) + 11/13 (1) + 23/13 (2) + 4/13 (1) + 20/13 (2) = 9\n",
      "30/14 (3) + 11/14 (1) + 23/14 (2) + 4/14 (1) + 20/14 (2) = 9\n",
      "30/15 (2) + 11/15 (1) + 23/15 (2) + 4/15 (1) + 20/15 (2) = 8\n",
      "30/16 (2) + 11/16 (1) + 23/16 (2) + 4/16 (1) + 20/16 (2) = 8\n",
      "30/17 (2) + 11/17 (1) + 23/17 (2) + 4/17 (1) + 20/17 (2) = 8\n",
      "30/18 (2) + 11/18 (1) + 23/18 (2) + 4/18 (1) + 20/18 (2) = 8\n",
      "30/19 (2) + 11/19 (1) + 23/19 (2) + 4/19 (1) + 20/19 (2) = 8\n",
      "30/20 (2) + 11/20 (1) + 23/20 (2) + 4/20 (1) + 20/20 (1) = 7\n",
      "30/21 (2) + 11/21 (1) + 23/21 (2) + 4/21 (1) + 20/21 (1) = 7\n",
      "30/22 (2) + 11/22 (1) + 23/22 (2) + 4/22 (1) + 20/22 (1) = 7\n",
      "30/23 (2) + 11/23 (1) + 23/23 (1) + 4/23 (1) + 20/23 (1) = 6\n",
      "30/24 (2) + 11/24 (1) + 23/24 (1) + 4/24 (1) + 20/24 (1) = 6\n",
      "30/25 (2) + 11/25 (1) + 23/25 (1) + 4/25 (1) + 20/25 (1) = 6\n",
      "30/26 (2) + 11/26 (1) + 23/26 (1) + 4/26 (1) + 20/26 (1) = 6\n",
      "30/27 (2) + 11/27 (1) + 23/27 (1) + 4/27 (1) + 20/27 (1) = 6\n",
      "30/28 (2) + 11/28 (1) + 23/28 (1) + 4/28 (1) + 20/28 (1) = 6\n",
      "30/29 (2) + 11/29 (1) + 23/29 (1) + 4/29 (1) + 20/29 (1) = 6\n",
      "30/30 (1) + 11/30 (1) + 23/30 (1) + 4/30 (1) + 20/30 (1) = 5\n"
     ]
    },
    {
     "data": {
      "text/plain": [
       "30"
      ]
     },
     "execution_count": 8,
     "metadata": {},
     "output_type": "execute_result"
    }
   ],
   "source": [
    "nums1 = [30, 11, 23, 4, 20]\n",
    "min_eat_speed(nums1, 5)"
   ]
  },
  {
   "cell_type": "code",
   "execution_count": 9,
   "id": "1ae72e20",
   "metadata": {},
   "outputs": [
    {
     "name": "stdout",
     "output_type": "stream",
     "text": [
      "[30, 11, 23, 4, 20]\n",
      "Avg 17.6\n"
     ]
    },
    {
     "data": {
      "image/png": "[encoded data removed]",
      "text/plain": [
       "<Figure size 640x480 with 1 Axes>"
      ]
     },
     "metadata": {},
     "output_type": "display_data"
    }
   ],
   "source": [
    "visual(nums1)"
   ]
  },
  {
   "cell_type": "code",
   "execution_count": 31,
   "id": "5e359313",
   "metadata": {},
   "outputs": [
    {
     "name": "stdout",
     "output_type": "stream",
     "text": [
      "30/30 (1) + 11/30 (1) + 23/30 (1) + 4/30 (1) + 20/30 (1) = 5\n"
     ]
    },
    {
     "data": {
      "text/plain": [
       "5"
      ]
     },
     "execution_count": 31,
     "metadata": {},
     "output_type": "execute_result"
    }
   ],
   "source": [
    "total_hours(nums1, 30)"
   ]
  },
  {
   "cell_type": "code",
   "execution_count": null,
   "id": "c3398f68",
   "metadata": {},
   "outputs": [],
   "source": []
  }
 ],
 "metadata": {
  "kernelspec": {
   "display_name": "Python 3 (ipykernel)",
   "language": "python",
   "name": "python3"
  },
  "language_info": {
   "codemirror_mode": {
    "name": "ipython",
    "version": 3
   },
   "file_extension": ".py",
   "mimetype": "text/x-python",
   "name": "python",
   "nbconvert_exporter": "python",
   "pygments_lexer": "ipython3",
   "version": "3.11.5"
  }
 },
 "nbformat": 4,
 "nbformat_minor": 5
}
