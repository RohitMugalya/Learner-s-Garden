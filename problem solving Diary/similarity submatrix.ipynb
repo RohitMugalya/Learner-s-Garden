{
 "cells": [
  {
   "cell_type": "code",
   "execution_count": 2,
   "id": "5a88bc21",
   "metadata": {},
   "outputs": [],
   "source": [
    "import numpy as np"
   ]
  },
  {
   "cell_type": "code",
   "execution_count": 14,
   "id": "f7b70487",
   "metadata": {},
   "outputs": [],
   "source": [
    "def similarity(matrix1, matrix2):\n",
    "    m1, n1 = matrix1.shape\n",
    "    m2, n2 = matrix2.shape\n",
    "    count = 0\n",
    "    for i in range(m1 + m2 - 1):\n",
    "        for j in range(n1 + n2 - 1):\n",
    "            count += 1\n",
    "            print((i, j))\n",
    "        print()\n",
    "    \n",
    "    print(count)"
   ]
  },
  {
   "cell_type": "code",
   "execution_count": 12,
   "id": "01ec59e7",
   "metadata": {},
   "outputs": [],
   "source": [
    "m1, n1 = 3, 3\n",
    "m2, n2 = 3, 3\n",
    "\n",
    "arr1 = np.random.randint(1, 10, (m1, n1))\n",
    "arr2 = np.random.randint(1, 10, (m2, n2))"
   ]
  },
  {
   "cell_type": "code",
   "execution_count": 15,
   "id": "94c941bc",
   "metadata": {
    "scrolled": false
   },
   "outputs": [
    {
     "name": "stdout",
     "output_type": "stream",
     "text": [
      "(0, 0)\n",
      "(0, 1)\n",
      "(0, 2)\n",
      "(0, 3)\n",
      "(0, 4)\n",
      "\n",
      "(1, 0)\n",
      "(1, 1)\n",
      "(1, 2)\n",
      "(1, 3)\n",
      "(1, 4)\n",
      "\n",
      "(2, 0)\n",
      "(2, 1)\n",
      "(2, 2)\n",
      "(2, 3)\n",
      "(2, 4)\n",
      "\n",
      "(3, 0)\n",
      "(3, 1)\n",
      "(3, 2)\n",
      "(3, 3)\n",
      "(3, 4)\n",
      "\n",
      "(4, 0)\n",
      "(4, 1)\n",
      "(4, 2)\n",
      "(4, 3)\n",
      "(4, 4)\n",
      "\n",
      "25\n"
     ]
    }
   ],
   "source": [
    "similarity(arr1, arr2)"
   ]
  },
  {
   "cell_type": "code",
   "execution_count": 11,
   "id": "01021516",
   "metadata": {},
   "outputs": [
    {
     "name": "stdout",
     "output_type": "stream",
     "text": [
      "[[1 2 3]\n",
      " [4 5 6]\n",
      " [7 8 9]]\n"
     ]
    }
   ],
   "source": [
    "print(arr2)"
   ]
  },
  {
   "cell_type": "code",
   "execution_count": 18,
   "id": "01e40870",
   "metadata": {},
   "outputs": [
    {
     "name": "stdout",
     "output_type": "stream",
     "text": [
      "slice(1, 5, None)\n"
     ]
    }
   ],
   "source": [
    "print(slice(1, 5))"
   ]
  },
  {
   "cell_type": "code",
   "execution_count": 20,
   "id": "7de3a0c1",
   "metadata": {},
   "outputs": [
    {
     "ename": "IndexError",
     "evalue": "index 3 is out of bounds for axis 0 with size 3",
     "output_type": "error",
     "traceback": [
      "\u001b[1;31m---------------------------------------------------------------------------\u001b[0m",
      "\u001b[1;31mIndexError\u001b[0m                                Traceback (most recent call last)",
      "Cell \u001b[1;32mIn[20], line 1\u001b[0m\n\u001b[1;32m----> 1\u001b[0m arr1[(\u001b[38;5;241m0\u001b[39m, \u001b[38;5;241m3\u001b[39m), (\u001b[38;5;241m0\u001b[39m, \u001b[38;5;241m1\u001b[39m)]\n",
      "\u001b[1;31mIndexError\u001b[0m: index 3 is out of bounds for axis 0 with size 3"
     ]
    }
   ],
   "source": [
    "arr1[(0, 3), (0, 1)]"
   ]
  },
  {
   "cell_type": "code",
   "execution_count": 23,
   "id": "2f6c8ad3",
   "metadata": {},
   "outputs": [
    {
     "data": {
      "text/plain": [
       "4"
      ]
     },
     "execution_count": 23,
     "metadata": {},
     "output_type": "execute_result"
    }
   ],
   "source": [
    "arr1[(0, 2)]"
   ]
  },
  {
   "cell_type": "code",
   "execution_count": null,
   "id": "7c2ed9a6",
   "metadata": {},
   "outputs": [],
   "source": [
    "arr1.__getitem__()"
   ]
  }
 ],
 "metadata": {
  "kernelspec": {
   "display_name": "Python 3 (ipykernel)",
   "language": "python",
   "name": "python3"
  },
  "language_info": {
   "codemirror_mode": {
    "name": "ipython",
    "version": 3
   },
   "file_extension": ".py",
   "mimetype": "text/x-python",
   "name": "python",
   "nbconvert_exporter": "python",
   "pygments_lexer": "ipython3",
   "version": "3.11.5"
  }
 },
 "nbformat": 4,
 "nbformat_minor": 5
}
