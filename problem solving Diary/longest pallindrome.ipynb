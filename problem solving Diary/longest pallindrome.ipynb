{
 "cells": [
  {
   "cell_type": "code",
   "execution_count": 12,
   "id": "707862fa",
   "metadata": {},
   "outputs": [],
   "source": [
    "import collections as clts"
   ]
  },
  {
   "cell_type": "code",
   "execution_count": 13,
   "id": "431c72b1",
   "metadata": {},
   "outputs": [],
   "source": [
    "def indexer(indexable):\n",
    "    indices = clts.defaultdict(list)\n",
    "    for i, v in enumerate(indexable):\n",
    "        indices[v].append(i)\n",
    "    return indices\n",
    "\n",
    "def longestPalindrome(s: str) -> str:\n",
    "    if s == s[::-1]:\n",
    "        return s\n",
    "    n = len(s)\n",
    "    for i in range(n-1, 0, -1):\n",
    "        for j in range(n-i+1):\n",
    "            substr = s[j:i+j]\n",
    "            if substr == substr[::-1]:\n",
    "                return substr\n"
   ]
  },
  {
   "cell_type": "code",
   "execution_count": 14,
   "id": "26b09598",
   "metadata": {},
   "outputs": [
    {
     "data": {
      "text/plain": [
       "defaultdict(list,\n",
       "            {'h': [0],\n",
       "             'i': [1],\n",
       "             's': [2],\n",
       "             't': [3],\n",
       "             'o': [4],\n",
       "             'l': [5, 9, 12],\n",
       "             'e': [6, 8],\n",
       "             'v': [7],\n",
       "             'x': [10],\n",
       "             'y': [11],\n",
       "             'z': [13]})"
      ]
     },
     "execution_count": 14,
     "metadata": {},
     "output_type": "execute_result"
    }
   ],
   "source": [
    "s = \"histolevelxylz\"\n",
    "idx = indexer(s)\n",
    "idx"
   ]
  },
  {
   "cell_type": "code",
   "execution_count": 16,
   "id": "ff530f13",
   "metadata": {},
   "outputs": [
    {
     "data": {
      "text/plain": [
       "14"
      ]
     },
     "execution_count": 16,
     "metadata": {},
     "output_type": "execute_result"
    }
   ],
   "source": [
    "len(s)"
   ]
  },
  {
   "cell_type": "markdown",
   "id": "3c76bb69",
   "metadata": {},
   "source": [
    "length = 1"
   ]
  }
 ],
 "metadata": {
  "kernelspec": {
   "display_name": "Python 3 (ipykernel)",
   "language": "python",
   "name": "python3"
  },
  "language_info": {
   "codemirror_mode": {
    "name": "ipython",
    "version": 3
   },
   "file_extension": ".py",
   "mimetype": "text/x-python",
   "name": "python",
   "nbconvert_exporter": "python",
   "pygments_lexer": "ipython3",
   "version": "3.10.4"
  }
 },
 "nbformat": 4,
 "nbformat_minor": 5
}
