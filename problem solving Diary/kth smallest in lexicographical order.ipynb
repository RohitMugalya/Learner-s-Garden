{
 "cells": [
  {
   "cell_type": "code",
   "execution_count": 1,
   "id": "5430e8e9",
   "metadata": {},
   "outputs": [],
   "source": [
    "import numpy as np, pandas as pd, itertools as itls\n",
    "from pprint import pprint"
   ]
  },
  {
   "cell_type": "code",
   "execution_count": 65,
   "id": "e11047db",
   "metadata": {},
   "outputs": [],
   "source": [
    "def dis(n, k):\n",
    "    ans = sorted(range(1, n + 1), key=str)\n",
    "    print(ans[k - 1])\n",
    "    return ans\n",
    "\n",
    "def tabulate(n):\n",
    "    ans = []\n",
    "    lst = sorted(range(1, n + 1), key=str)\n",
    "    for k, g in itls.groupby(lst, key=lambda x: str(x)[0]):\n",
    "        row = list(g)\n",
    "        print(*row)\n",
    "        ans.append(row)\n",
    "    # return ans"
   ]
  },
  {
   "cell_type": "code",
   "execution_count": 66,
   "id": "36e2f110",
   "metadata": {},
   "outputs": [
    {
     "name": "stdout",
     "output_type": "stream",
     "text": [
      "1 10 11 12 13 14 15 16 17 18 19\n",
      "2 20 21 22 23 24 25 26 27 28 29\n",
      "3 30 31 32 33 34 35 36 37 38 39\n",
      "4 40 41 42 43 44 45 46 47 48 49\n",
      "5 50 51 52 53 54 55 56 57 58 59\n",
      "6 60 61 62 63 64 65 66 67 68 69\n",
      "7 70 71 72 73 74 75 76 77 78 79\n",
      "8 80 81 82 83 84 85 86 87 88 89\n",
      "9 90 91 92 93 94 95 96 97 98 99\n"
     ]
    }
   ],
   "source": [
    "tabulate(99)"
   ]
  },
  {
   "cell_type": "code",
   "execution_count": 70,
   "id": "bbdf4a90",
   "metadata": {},
   "outputs": [
    {
     "name": "stdout",
     "output_type": "stream",
     "text": [
      "1 10 100 101 102 103 104 105 106 107 108 109 11 110 111 112 113 114 115 116 117 118 119 12 120 121 122 123 124 125 126 127 128 129 13 130 131 132 133 134 135 136 137 138 139 14 140 141 142 143 144 145 146 147 148 149 15 150 151 152 153 154 155 156 157 158 159 16 160 161 162 163 164 165 166 167 168 169 17 170 171 172 173 174 175 176 177 178 179 18 180 181 182 183 184 185 186 187 188 189 19 190 191 192 193 194 195 196 197 198 199\n",
      "2 20 200 201 202 203 204 205 206 207 208 209 21 22 23 24 25 26 27 28 29\n",
      "3 30 31 32 33 34 35 36 37 38 39\n",
      "4 40 41 42 43 44 45 46 47 48 49\n",
      "5 50 51 52 53 54 55 56 57 58 59\n",
      "6 60 61 62 63 64 65 66 67 68 69\n",
      "7 70 71 72 73 74 75 76 77 78 79\n",
      "8 80 81 82 83 84 85 86 87 88 89\n",
      "9 90 91 92 93 94 95 96 97 98 99\n"
     ]
    }
   ],
   "source": [
    "tabulate(209)"
   ]
  },
  {
   "cell_type": "code",
   "execution_count": null,
   "metadata": {},
   "outputs": [],
   "source": []
  }
 ],
 "metadata": {
  "kernelspec": {
   "display_name": "Python 3 (ipykernel)",
   "language": "python",
   "name": "python3"
  },
  "language_info": {
   "codemirror_mode": {
    "name": "ipython",
    "version": 3
   },
   "file_extension": ".py",
   "mimetype": "text/x-python",
   "name": "python",
   "nbconvert_exporter": "python",
   "pygments_lexer": "ipython3",
   "version": "3.10.4"
  }
 },
 "nbformat": 4,
 "nbformat_minor": 5
}
