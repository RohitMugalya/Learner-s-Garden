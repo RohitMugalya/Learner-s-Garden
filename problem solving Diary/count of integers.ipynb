{
 "cells": [
  {
   "cell_type": "code",
   "execution_count": 32,
   "id": "5ce49292",
   "metadata": {},
   "outputs": [],
   "source": [
    "import math"
   ]
  },
  {
   "cell_type": "code",
   "execution_count": 71,
   "id": "965749fc",
   "metadata": {},
   "outputs": [],
   "source": [
    "digit_sum = (lambda x: sum(map(int, str(x))))\n",
    "\n",
    "def countIntegers(num1, num2, min_sum, max_sum):\n",
    "    c = 0\n",
    "    for x in range(num1, num2 + 1):\n",
    "        if min_sum <= digit_sum(x) <= max_sum:\n",
    "            c += 1\n",
    "    return c\n",
    "\n",
    "def max_digit_sum(x):\n",
    "    return max(range(x + 1), key=digit_sum)\n",
    "def min_digit_sum(x, k):\n",
    "    return min(range(x, 10 ** k), key=digit_sum)"
   ]
  },
  {
   "cell_type": "code",
   "execution_count": 4,
   "id": "f4298f7f",
   "metadata": {},
   "outputs": [
    {
     "name": "stdout",
     "output_type": "stream",
     "text": [
      "11\n",
      "5\n"
     ]
    }
   ],
   "source": [
    "print(countIntegers(1, 12, 1, 8))\n",
    "print(countIntegers(1, 5, 1, 5))"
   ]
  },
  {
   "cell_type": "code",
   "execution_count": 11,
   "id": "d8091159",
   "metadata": {},
   "outputs": [
    {
     "data": {
      "text/plain": [
       "99"
      ]
     },
     "execution_count": 11,
     "metadata": {},
     "output_type": "execute_result"
    }
   ],
   "source": [
    "198 - 9 - 90"
   ]
  },
  {
   "cell_type": "code",
   "execution_count": 16,
   "id": "288c4c69",
   "metadata": {},
   "outputs": [
    {
     "data": {
      "text/plain": [
       "99"
      ]
     },
     "execution_count": 16,
     "metadata": {},
     "output_type": "execute_result"
    }
   ],
   "source": [
    "157 - 8 - 50"
   ]
  },
  {
   "cell_type": "code",
   "execution_count": 23,
   "id": "8893cf64",
   "metadata": {},
   "outputs": [
    {
     "data": {
      "text/plain": [
       "199"
      ]
     },
     "execution_count": 23,
     "metadata": {},
     "output_type": "execute_result"
    }
   ],
   "source": [
    "257 - 8 - 50"
   ]
  },
  {
   "cell_type": "code",
   "execution_count": 26,
   "id": "92be88fe",
   "metadata": {},
   "outputs": [
    {
     "data": {
      "text/plain": [
       "999"
      ]
     },
     "execution_count": 26,
     "metadata": {},
     "output_type": "execute_result"
    }
   ],
   "source": [
    "1567 - 8 - 60 - 500"
   ]
  },
  {
   "cell_type": "code",
   "execution_count": 14,
   "id": "2cc75df4",
   "metadata": {},
   "outputs": [
    {
     "data": {
      "text/plain": [
       "99"
      ]
     },
     "execution_count": 14,
     "metadata": {},
     "output_type": "execute_result"
    }
   ],
   "source": [
    "max_digit_sum(198)"
   ]
  },
  {
   "cell_type": "code",
   "execution_count": 21,
   "id": "4f286b99",
   "metadata": {},
   "outputs": [
    {
     "data": {
      "text/plain": [
       "199"
      ]
     },
     "execution_count": 21,
     "metadata": {},
     "output_type": "execute_result"
    }
   ],
   "source": [
    "max_digit_sum(257)"
   ]
  },
  {
   "cell_type": "code",
   "execution_count": 31,
   "id": "47413fb9",
   "metadata": {},
   "outputs": [
    {
     "data": {
      "text/plain": [
       "(79999, 79999)"
      ]
     },
     "execution_count": 31,
     "metadata": {},
     "output_type": "execute_result"
    }
   ],
   "source": [
    "max_digit_sum(87916), 87916 - 7917"
   ]
  },
  {
   "cell_type": "code",
   "execution_count": 74,
   "id": "f1f7277d",
   "metadata": {},
   "outputs": [
    {
     "data": {
      "text/plain": [
       "2000"
      ]
     },
     "execution_count": 74,
     "metadata": {},
     "output_type": "execute_result"
    }
   ],
   "source": [
    "min_digit_sum(1200, 4)"
   ]
  },
  {
   "cell_type": "code",
   "execution_count": 94,
   "id": "ab47e91c",
   "metadata": {},
   "outputs": [
    {
     "data": {
      "text/plain": [
       "2000"
      ]
     },
     "execution_count": 94,
     "metadata": {},
     "output_type": "execute_result"
    }
   ],
   "source": [
    "1200 + 10 + 90 + 700"
   ]
  },
  {
   "cell_type": "code",
   "execution_count": 105,
   "id": "2ebc1b01",
   "metadata": {},
   "outputs": [
    {
     "data": {
      "text/plain": [
       "800"
      ]
     },
     "execution_count": 105,
     "metadata": {},
     "output_type": "execute_result"
    }
   ],
   "source": [
    "800"
   ]
  },
  {
   "cell_type": "code",
   "execution_count": 96,
   "id": "5982d40c",
   "metadata": {},
   "outputs": [
    {
     "data": {
      "text/plain": [
       "90000"
      ]
     },
     "execution_count": 96,
     "metadata": {},
     "output_type": "execute_result"
    }
   ],
   "source": [
    "min_digit_sum(87916, 5)"
   ]
  },
  {
   "cell_type": "code",
   "execution_count": 101,
   "id": "f97bbe49",
   "metadata": {},
   "outputs": [
    {
     "data": {
      "text/plain": [
       "90000"
      ]
     },
     "execution_count": 101,
     "metadata": {},
     "output_type": "execute_result"
    }
   ],
   "source": [
    "87916 + 4 + 80 + 0 + 2000"
   ]
  },
  {
   "cell_type": "code",
   "execution_count": 107,
   "id": "80ddaf9d",
   "metadata": {},
   "outputs": [
    {
     "data": {
      "text/plain": [
       "90000"
      ]
     },
     "execution_count": 107,
     "metadata": {},
     "output_type": "execute_result"
    }
   ],
   "source": [
    "87916 + 2084"
   ]
  },
  {
   "cell_type": "code",
   "execution_count": 127,
   "id": "66eb763b",
   "metadata": {},
   "outputs": [
    {
     "data": {
      "text/plain": [
       "30"
      ]
     },
     "execution_count": 127,
     "metadata": {},
     "output_type": "execute_result"
    }
   ],
   "source": [
    "22 + 8"
   ]
  },
  {
   "cell_type": "code",
   "execution_count": 126,
   "id": "bdf24b0d",
   "metadata": {},
   "outputs": [
    {
     "data": {
      "text/plain": [
       "8"
      ]
     },
     "execution_count": 126,
     "metadata": {},
     "output_type": "execute_result"
    }
   ],
   "source": [
    "n = 22\n",
    "x = int(math.log10(n))\n",
    "10 ** x - n % 10 ** x"
   ]
  },
  {
   "cell_type": "code",
   "execution_count": 125,
   "id": "0e28a1d2",
   "metadata": {},
   "outputs": [
    {
     "data": {
      "text/plain": [
       "30"
      ]
     },
     "execution_count": 125,
     "metadata": {},
     "output_type": "execute_result"
    }
   ],
   "source": [
    "min_digit_sum(22, 2) # [22, 72]"
   ]
  },
  {
   "cell_type": "code",
   "execution_count": 128,
   "id": "1d8b7975",
   "metadata": {},
   "outputs": [
    {
     "data": {
      "text/plain": [
       "89"
      ]
     },
     "execution_count": 128,
     "metadata": {},
     "output_type": "execute_result"
    }
   ],
   "source": [
    "max_digit_sum(90)"
   ]
  }
 ],
 "metadata": {
  "kernelspec": {
   "display_name": "Python 3 (ipykernel)",
   "language": "python",
   "name": "python3"
  },
  "language_info": {
   "codemirror_mode": {
    "name": "ipython",
    "version": 3
   },
   "file_extension": ".py",
   "mimetype": "text/x-python",
   "name": "python",
   "nbconvert_exporter": "python",
   "pygments_lexer": "ipython3",
   "version": "3.10.4"
  }
 },
 "nbformat": 4,
 "nbformat_minor": 5
}
