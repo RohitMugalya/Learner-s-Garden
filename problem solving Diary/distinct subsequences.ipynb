{
 "cells": [
  {
   "cell_type": "code",
   "execution_count": 1,
   "id": "7debbe7a",
   "metadata": {},
   "outputs": [],
   "source": [
    "from pprint import pprint\n",
    "from collections import defaultdict, deque"
   ]
  },
  {
   "cell_type": "code",
   "execution_count": 2,
   "id": "2dedec53",
   "metadata": {},
   "outputs": [],
   "source": [
    "s = \"babgbag\"\n",
    "t = \"bag\""
   ]
  },
  {
   "cell_type": "code",
   "execution_count": 8,
   "id": "dcdfa024",
   "metadata": {},
   "outputs": [],
   "source": [
    "def display(s, t):\n",
    "    indexer = defaultdict(list)\n",
    "    for i, l in enumerate(s):\n",
    "        indexer[l].append(i)\n",
    "    print(f\"{s}    {t}\")\n",
    "    print()\n",
    "    \n",
    "    for l in t:\n",
    "        print(f\"{l}: {indexer[l]}\")\n",
    "\n",
    "def distinctSubsequence(s, t):\n",
    "    indexer = defaultdict(deque)\n",
    "    for i, l in enumerate(s):\n",
    "        indexer[l].append(i)\n",
    "    \n",
    "    def findFor(pre_i, index):\n",
    "        if index >= len(t):\n",
    "            return 1\n",
    "        c = 0\n",
    "        for i in indexer[t[index]]:\n",
    "            if pre_i < i:\n",
    "                c += findFor(i, index + 1)\n",
    "        \n",
    "        return c\n",
    "    \n",
    "    return findFor(-1, 0)"
   ]
  },
  {
   "cell_type": "code",
   "execution_count": 4,
   "id": "8d297f3e",
   "metadata": {},
   "outputs": [
    {
     "data": {
      "text/plain": [
       "5"
      ]
     },
     "execution_count": 4,
     "metadata": {},
     "output_type": "execute_result"
    }
   ],
   "source": [
    "distinctSubsequence(s, t)"
   ]
  },
  {
   "cell_type": "code",
   "execution_count": 10,
   "id": "5776da8a",
   "metadata": {},
   "outputs": [
    {
     "name": "stdout",
     "output_type": "stream",
     "text": [
      "babgbag    bag\n",
      "\n",
      "b: [0, 2, 4]\n",
      "a: [1, 5]\n",
      "g: [3, 6]\n"
     ]
    }
   ],
   "source": [
    "s1 = \"baaaaaag\"\n",
    "t1 = \"bag\"\n",
    "display(s, t)"
   ]
  },
  {
   "cell_type": "code",
   "execution_count": 18,
   "id": "0a5fcd33",
   "metadata": {},
   "outputs": [
    {
     "data": {
      "text/plain": [
       "5"
      ]
     },
     "execution_count": 18,
     "metadata": {},
     "output_type": "execute_result"
    }
   ],
   "source": [
    "distinctSubsequence(s, t)"
   ]
  },
  {
   "cell_type": "code",
   "execution_count": 15,
   "id": "ccae9ace",
   "metadata": {
    "scrolled": false
   },
   "outputs": [
    {
     "name": "stdout",
     "output_type": "stream",
     "text": [
      "llubmebkkemrjack    lumberjack\n",
      "\n",
      "l: [0, 1]\n",
      "u: [2]\n",
      "m: [4, 10]\n",
      "b: [3, 6]\n",
      "e: [5, 9]\n",
      "r: [11]\n",
      "j: [12]\n",
      "a: [13]\n",
      "c: [14]\n",
      "k: [7, 8, 15]\n"
     ]
    }
   ],
   "source": [
    "display(\"llubmebkkemrjack\", \"lumberjack\")"
   ]
  },
  {
   "cell_type": "code",
   "execution_count": 16,
   "id": "2023f611",
   "metadata": {},
   "outputs": [
    {
     "data": {
      "text/plain": [
       "2"
      ]
     },
     "execution_count": 16,
     "metadata": {},
     "output_type": "execute_result"
    }
   ],
   "source": [
    "distinctSubsequence(\"llubmebkkemrjack\", \"lumberjack\")"
   ]
  },
  {
   "cell_type": "code",
   "execution_count": 24,
   "id": "57dc4bcd",
   "metadata": {},
   "outputs": [
    {
     "name": "stdout",
     "output_type": "stream",
     "text": [
      "zxyxyzzyz    xyz\n",
      "\n",
      "x: [1, 3]\n",
      "y: [2, 4, 7]\n",
      "z: [0, 5, 6, 8]\n"
     ]
    },
    {
     "data": {
      "text/plain": [
       "11"
      ]
     },
     "execution_count": 24,
     "metadata": {},
     "output_type": "execute_result"
    }
   ],
   "source": [
    "s = \"zxyxyzzyz\"\n",
    "t = \"xyz\"\n",
    "\n",
    "display(s, t)\n",
    "distinctSubsequence(s, t)"
   ]
  },
  {
   "cell_type": "code",
   "execution_count": 29,
   "id": "35ff5602",
   "metadata": {},
   "outputs": [
    {
     "name": "stdout",
     "output_type": "stream",
     "text": [
      "rabbbit    rabbit\n",
      "\n",
      "r: [0]\n",
      "a: [1]\n",
      "b: [2, 3, 4]\n",
      "b: [2, 3, 4]\n",
      "i: [5]\n",
      "t: [6]\n"
     ]
    }
   ],
   "source": [
    "display(\"rabbbit\", \"rabbit\")"
   ]
  },
  {
   "cell_type": "code",
   "execution_count": null,
   "id": "2ad1820f",
   "metadata": {},
   "outputs": [],
   "source": []
  }
 ],
 "metadata": {
  "kernelspec": {
   "display_name": "Python 3 (ipykernel)",
   "language": "python",
   "name": "python3"
  },
  "language_info": {
   "codemirror_mode": {
    "name": "ipython",
    "version": 3
   },
   "file_extension": ".py",
   "mimetype": "text/x-python",
   "name": "python",
   "nbconvert_exporter": "python",
   "pygments_lexer": "ipython3",
   "version": "3.11.5"
  }
 },
 "nbformat": 4,
 "nbformat_minor": 5
}
