{
 "cells": [
  {
   "cell_type": "code",
   "execution_count": 1,
   "id": "292d0e46",
   "metadata": {},
   "outputs": [],
   "source": [
    "import random"
   ]
  },
  {
   "cell_type": "code",
   "execution_count": 36,
   "id": "d4f0f6c3",
   "metadata": {},
   "outputs": [],
   "source": [
    "def generate_par(n):\n",
    "    return \"\".join(random.choice(\"()\") for _ in range(n))\n",
    "\n",
    "def is_valid_parenthesis(s):\n",
    "    if len(s) % 2 != 0:\n",
    "        return False\n",
    "    stack = ['']\n",
    "    for p in s:\n",
    "        if p == '(':\n",
    "            stack.append(p)\n",
    "        elif p == ')' and stack.pop() != '(':\n",
    "            return False\n",
    "    return stack == ['']\n",
    "\n",
    "def brute_force(s):\n",
    "    n = len(s)\n",
    "    longPar = \"\"\n",
    "    for i in range(n, 1, -1):\n",
    "        for j in range(n - i + 1):\n",
    "            if is_valid_parenthesis(s[j:i + j]):\n",
    "                return s[j:i + j]\n",
    "\n",
    "def pair_ups(s):\n",
    "    stack = []\n",
    "    matched = []\n",
    "    for i, p in enumerate(s):\n",
    "        if p == '(':\n",
    "            stack.append((i, p))\n",
    "        elif p == ')':\n",
    "            if stack:\n",
    "                j, q = stack.pop()\n",
    "                if q == '(':\n",
    "                    matched.append((j, i))\n",
    "    \n",
    "    return matched\n",
    "\n",
    "def process(data: list[tuple[int, int]]):\n",
    "    distance = [v - u for u, v in data]\n",
    "\n",
    "    consecutives: list[list[tuple[int, int]]] = []\n",
    "    consecutive: list[tuple[int, int]] = [data[0]]\n",
    "\n",
    "    for dx, dy in data[1:]:\n",
    "        if dx + 1 == dy and consecutive[-1] == (dx - 2, dy - 2):\n",
    "            pass\n",
    "        else:\n",
    "            consecutives.append(consecutive.copy())\n",
    "            consecutive.clear()\n",
    "\n",
    "        consecutive.append((dx, dy))\n",
    "\n",
    "    consecutives.append(consecutive)\n",
    "    print(distance)\n",
    "    print(consecutives)\n",
    "            "
   ]
  },
  {
   "cell_type": "code",
   "execution_count": 39,
   "id": "322f540d",
   "metadata": {},
   "outputs": [
    {
     "name": "stdout",
     "output_type": "stream",
     "text": [
      "s1 = ')()))'\n",
      "s2 = '()())(('\n",
      "s3 = ')))))())('\n"
     ]
    }
   ],
   "source": [
    "s1 = generate_par(5)\n",
    "s2 = generate_par(7)\n",
    "s3 = generate_par(9)\n",
    "s4 = generate_par(15)\n",
    "\n",
    "print(f\"{s1 = }\")\n",
    "print(f\"{s2 = }\")\n",
    "print(f\"{s3 = }\")"
   ]
  },
  {
   "cell_type": "code",
   "execution_count": 9,
   "id": "1e2d9ee3",
   "metadata": {},
   "outputs": [
    {
     "data": {
      "text/plain": [
       "[(0, 1), (2, 3), (4, 5)]"
      ]
     },
     "execution_count": 9,
     "metadata": {},
     "output_type": "execute_result"
    }
   ],
   "source": [
    "pair_ups(\"()()()\")"
   ]
  },
  {
   "cell_type": "code",
   "execution_count": 11,
   "id": "684225bc",
   "metadata": {},
   "outputs": [
    {
     "data": {
      "text/plain": [
       "[(2, 3), (1, 4), (0, 5)]"
      ]
     },
     "execution_count": 11,
     "metadata": {},
     "output_type": "execute_result"
    }
   ],
   "source": [
    "pair_ups(\"((()))\")"
   ]
  },
  {
   "cell_type": "code",
   "execution_count": 15,
   "id": "3bd3858e",
   "metadata": {},
   "outputs": [
    {
     "data": {
      "text/plain": [
       "[(1, 2), (0, 3)]"
      ]
     },
     "execution_count": 15,
     "metadata": {},
     "output_type": "execute_result"
    }
   ],
   "source": [
    "pair_ups(s1)"
   ]
  },
  {
   "cell_type": "code",
   "execution_count": 21,
   "id": "1238c0ea",
   "metadata": {},
   "outputs": [
    {
     "name": "stdout",
     "output_type": "stream",
     "text": [
      ")()()())(\n"
     ]
    },
    {
     "data": {
      "text/plain": [
       "[(1, 2), (3, 4), (5, 6)]"
      ]
     },
     "execution_count": 21,
     "metadata": {},
     "output_type": "execute_result"
    }
   ],
   "source": [
    "print(s3)\n",
    "pair_ups(s3)"
   ]
  },
  {
   "cell_type": "code",
   "execution_count": 45,
   "id": "e866d6d1",
   "metadata": {},
   "outputs": [
    {
     "name": "stdout",
     "output_type": "stream",
     "text": [
      "()(())\n",
      "[(0, 1), (3, 4), (2, 5)]\n",
      "[1, 1, 3]\n",
      "[[(0, 1)], [(3, 4)], [(2, 5)]]\n"
     ]
    }
   ],
   "source": [
    "s = \"()(())\"\n",
    "print(s)\n",
    "pu = pair_ups(s)\n",
    "print(pu)\n",
    "process(pu)"
   ]
  },
  {
   "cell_type": "code",
   "execution_count": null,
   "id": "f5626fd8",
   "metadata": {},
   "outputs": [],
   "source": []
  }
 ],
 "metadata": {
  "kernelspec": {
   "display_name": "Python 3 (ipykernel)",
   "language": "python",
   "name": "python3"
  },
  "language_info": {
   "codemirror_mode": {
    "name": "ipython",
    "version": 3
   },
   "file_extension": ".py",
   "mimetype": "text/x-python",
   "name": "python",
   "nbconvert_exporter": "python",
   "pygments_lexer": "ipython3",
   "version": "3.10.4"
  }
 },
 "nbformat": 4,
 "nbformat_minor": 5
}
