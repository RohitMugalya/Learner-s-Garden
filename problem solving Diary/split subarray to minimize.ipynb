{
 "cells": [
  {
   "cell_type": "code",
   "execution_count": 4,
   "id": "4eee2a07",
   "metadata": {},
   "outputs": [],
   "source": [
    "import math, itertools as itls"
   ]
  },
  {
   "cell_type": "code",
   "execution_count": 6,
   "id": "27dfe63b",
   "metadata": {},
   "outputs": [],
   "source": [
    "nums = [7, 2, 5, 10, 8]\n",
    "k = 2"
   ]
  },
  {
   "cell_type": "code",
   "execution_count": 8,
   "id": "5b9745fa",
   "metadata": {},
   "outputs": [],
   "source": [
    "def dis_subarr(arr, k):\n",
    "    for subarr in itls.combinations(arr, k):\n",
    "        print(subarr)"
   ]
  },
  {
   "cell_type": "code",
   "execution_count": 9,
   "id": "dcb74f85",
   "metadata": {},
   "outputs": [
    {
     "name": "stdout",
     "output_type": "stream",
     "text": [
      "(7, 2)\n",
      "(7, 5)\n",
      "(7, 10)\n",
      "(7, 8)\n",
      "(2, 5)\n",
      "(2, 10)\n",
      "(2, 8)\n",
      "(5, 10)\n",
      "(5, 8)\n",
      "(10, 8)\n"
     ]
    }
   ],
   "source": [
    "dis_subarr(nums, k)"
   ]
  },
  {
   "cell_type": "code",
   "execution_count": null,
   "id": "11715388",
   "metadata": {},
   "outputs": [],
   "source": []
  }
 ],
 "metadata": {
  "kernelspec": {
   "display_name": "Python 3 (ipykernel)",
   "language": "python",
   "name": "python3"
  },
  "language_info": {
   "codemirror_mode": {
    "name": "ipython",
    "version": 3
   },
   "file_extension": ".py",
   "mimetype": "text/x-python",
   "name": "python",
   "nbconvert_exporter": "python",
   "pygments_lexer": "ipython3",
   "version": "3.10.4"
  }
 },
 "nbformat": 4,
 "nbformat_minor": 5
}
