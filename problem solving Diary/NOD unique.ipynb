{
 "cells": [
  {
   "cell_type": "code",
   "execution_count": 20,
   "id": "15d16b1f",
   "metadata": {},
   "outputs": [],
   "source": [
    "import numpy as np;import pandas as pd\n",
    "arr = np.arange(1000).reshape(100, 10)\n",
    "df = pd.DataFrame(arr)"
   ]
  },
  {
   "cell_type": "code",
   "execution_count": 35,
   "id": "051618c9",
   "metadata": {},
   "outputs": [],
   "source": [
    "def nodunique(n: int) -> int:\n",
    "    \"\"\"\n",
    "    0 <= x < 10**n\n",
    "    \"\"\"\n",
    "    c = 0\n",
    "    for i in range(10 ** n):\n",
    "        if len(set(str(i))) == len(str(i)):\n",
    "            c += 1\n",
    "    return c\n",
    "def atob(a: int, b: int):\n",
    "    c = 0\n",
    "    for i in range(a, b):\n",
    "        if len(set(str(i))) == len(str(i)):\n",
    "            c += 1\n",
    "    return c\n",
    "def stepto(start: int, stop: int) -> None:\n",
    "    for num in range(start, stop + 1):\n",
    "        print(nodunique(num))"
   ]
  },
  {
   "cell_type": "code",
   "execution_count": 36,
   "id": "33a64d62",
   "metadata": {},
   "outputs": [
    {
     "name": "stdout",
     "output_type": "stream",
     "text": [
      "1\n",
      "10\n",
      "91\n",
      "739\n",
      "5275\n",
      "32491\n",
      "168571\n",
      "712891\n"
     ]
    }
   ],
   "source": [
    "stepto(0, 7)"
   ]
  },
  {
   "cell_type": "code",
   "execution_count": 108,
   "id": "560be7fa",
   "metadata": {},
   "outputs": [
    {
     "data": {
      "text/plain": [
       "2345851"
      ]
     },
     "execution_count": 108,
     "metadata": {},
     "output_type": "execute_result"
    }
   ],
   "source": [
    "nodunique(8)"
   ]
  },
  {
   "cell_type": "code",
   "execution_count": 109,
   "id": "359d5bd7",
   "metadata": {},
   "outputs": [
    {
     "data": {
      "text/plain": [
       "181440"
      ]
     },
     "execution_count": 109,
     "metadata": {},
     "output_type": "execute_result"
    }
   ],
   "source": [
    "a = 100_00_000\n",
    "b = 200_00_000\n",
    "atob(a, b)"
   ]
  },
  {
   "cell_type": "code",
   "execution_count": 110,
   "id": "dc96322d",
   "metadata": {},
   "outputs": [
    {
     "data": {
      "text/plain": [
       "2345851"
      ]
     },
     "execution_count": 110,
     "metadata": {},
     "output_type": "execute_result"
    }
   ],
   "source": [
    "1 + 9*1 + 9*9 + 9*72 + 9*504 + 9*3024 + 9*15120 + 9*60480 + 9*181440"
   ]
  },
  {
   "cell_type": "markdown",
   "id": "ab310494",
   "metadata": {},
   "source": [
    "1 9 72 504 3024 15120 60480 181440"
   ]
  },
  {
   "cell_type": "code",
   "execution_count": 111,
   "id": "4104c08a",
   "metadata": {},
   "outputs": [
    {
     "data": {
      "text/plain": [
       "91"
      ]
     },
     "execution_count": 111,
     "metadata": {},
     "output_type": "execute_result"
    }
   ],
   "source": []
  },
  {
   "cell_type": "code",
   "execution_count": null,
   "id": "27f3750f",
   "metadata": {},
   "outputs": [],
   "source": []
  }
 ],
 "metadata": {
  "kernelspec": {
   "display_name": "Python 3 (ipykernel)",
   "language": "python",
   "name": "python3"
  },
  "language_info": {
   "codemirror_mode": {
    "name": "ipython",
    "version": 3
   },
   "file_extension": ".py",
   "mimetype": "text/x-python",
   "name": "python",
   "nbconvert_exporter": "python",
   "pygments_lexer": "ipython3",
   "version": "3.10.4"
  }
 },
 "nbformat": 4,
 "nbformat_minor": 5
}
