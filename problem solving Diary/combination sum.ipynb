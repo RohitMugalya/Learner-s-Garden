{
 "cells": [
  {
   "cell_type": "code",
   "execution_count": 17,
   "id": "ee25a487",
   "metadata": {},
   "outputs": [],
   "source": [
    "import math\n",
    "import numpy as np\n",
    "\n",
    "from collections import Counter"
   ]
  },
  {
   "cell_type": "code",
   "execution_count": 21,
   "id": "4595f963",
   "metadata": {},
   "outputs": [],
   "source": [
    "def generate_nums(start, stop, n):\n",
    "    return np.random.randint(start, stop + 1, n).tolist()\n",
    "\n",
    "def brute_force(candidates: list[int], target: int) -> list[list[int]]:\n",
    "    ans: list[Counter] = []\n",
    "\n",
    "    def bt(rsum, cands):\n",
    "        if rsum < 0:\n",
    "            return\n",
    "        if rsum == 0:\n",
    "            if cands not in ans:\n",
    "                ans.append(cands.copy())\n",
    "            return\n",
    "\n",
    "        for candidate in candidates:\n",
    "            cands[candidate] += 1\n",
    "            bt(rsum - candidate, cands)\n",
    "            cands[candidate] -= 1\n",
    "\n",
    "    bt(target, Counter())\n",
    "    return [list(c.elements()) for c in ans]\n",
    "\n",
    "def combination_sum(nums: list[int], target: int) -> list[list[int]]:\n",
    "    totals = []\n",
    "    for num in nums:\n",
    "        q, r = divmod(target, num)\n",
    "        if r == 0:\n",
    "            totals.append([num] * q)\n",
    "        if r in nums:\n",
    "            totals.append([num] * q + [r])\n",
    "    return totals"
   ]
  },
  {
   "cell_type": "code",
   "execution_count": 32,
   "id": "729f296a",
   "metadata": {},
   "outputs": [
    {
     "data": {
      "text/plain": [
       "[2, 5, 5, 4, 3, 3, 4, 7]"
      ]
     },
     "execution_count": 32,
     "metadata": {},
     "output_type": "execute_result"
    }
   ],
   "source": [
    "generate_nums(2, 8, 8)"
   ]
  },
  {
   "cell_type": "code",
   "execution_count": 33,
   "id": "b8a99532",
   "metadata": {},
   "outputs": [],
   "source": [
    "nums1 = [2, 3, 6, 7]\n",
    "target1 = 7\n",
    "\n",
    "nums2 = [2, 3, 5]\n",
    "target2 = 8\n",
    "\n",
    "nums3 = [2, 5, 3, 4, 7]\n",
    "target3 = 12"
   ]
  },
  {
   "cell_type": "markdown",
   "id": "557490b1",
   "metadata": {},
   "source": [
    "<pre>\n",
    "2 2 2 2 2 2\n",
    "2 2 2 2 4\n",
    "5 5 2\n",
    "5 7\n",
    "3 3 3 3\n",
    "4 4 4\n",
    "</pre>"
   ]
  },
  {
   "cell_type": "code",
   "execution_count": 35,
   "id": "b844089f",
   "metadata": {
    "scrolled": false
   },
   "outputs": [
    {
     "data": {
      "text/plain": [
       "(2, 2)"
      ]
     },
     "execution_count": 35,
     "metadata": {},
     "output_type": "execute_result"
    }
   ],
   "source": [
    "divmod(12, 5)"
   ]
  },
  {
   "cell_type": "code",
   "execution_count": 37,
   "id": "dbdaad2e",
   "metadata": {},
   "outputs": [
    {
     "data": {
      "text/plain": [
       "[[2, 2, 2, 2, 2, 2],\n",
       " [2, 2, 2, 2, 4],\n",
       " [2, 2, 2, 3, 3],\n",
       " [2, 2, 5, 3],\n",
       " [2, 2, 4, 4],\n",
       " [2, 5, 5],\n",
       " [2, 4, 3, 3],\n",
       " [2, 3, 7],\n",
       " [5, 4, 3],\n",
       " [5, 7],\n",
       " [4, 4, 4],\n",
       " [3, 3, 3, 3]]"
      ]
     },
     "execution_count": 37,
     "metadata": {},
     "output_type": "execute_result"
    }
   ],
   "source": [
    "brute_force(nums3, target3)"
   ]
  },
  {
   "cell_type": "code",
   "execution_count": null,
   "id": "b3b49342",
   "metadata": {},
   "outputs": [],
   "source": []
  }
 ],
 "metadata": {
  "kernelspec": {
   "display_name": "Python 3 (ipykernel)",
   "language": "python",
   "name": "python3"
  },
  "language_info": {
   "codemirror_mode": {
    "name": "ipython",
    "version": 3
   },
   "file_extension": ".py",
   "mimetype": "text/x-python",
   "name": "python",
   "nbconvert_exporter": "python",
   "pygments_lexer": "ipython3",
   "version": "3.11.5"
  }
 },
 "nbformat": 4,
 "nbformat_minor": 5
}
