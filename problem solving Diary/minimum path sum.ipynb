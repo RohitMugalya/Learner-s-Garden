{
 "cells": [
  {
   "cell_type": "code",
   "execution_count": 1,
   "id": "557b178f",
   "metadata": {},
   "outputs": [],
   "source": [
    "import math\n",
    "import numpy as np\n",
    "from itertools import permutations\n",
    "from collections import *\n",
    "from functools import lru_cache"
   ]
  },
  {
   "cell_type": "code",
   "execution_count": 2,
   "id": "d9ec6669",
   "metadata": {},
   "outputs": [],
   "source": [
    "def generate_matrix(m, n):\n",
    "    return np.random.randint(0, 10, size=(m, n))\n",
    "\n",
    "\n",
    "def brute_force(grid: list[list[int]]) -> int:\n",
    "    m, n = len(grid) - 1, len(grid[0]) - 1  # (m, n) = (nrow, ncolumn)\n",
    "    D, R = (1, 0), (0, 1)\n",
    "    moves = m * (D,) + (R,) * n\n",
    "    path_way = set(permutations(moves, m + n))\n",
    "    print(len(path_way))\n",
    "\n",
    "    # 'D': (1, 0) matrix[i+1][j+0]\n",
    "    # 'R': (0, 1) matrix[i+0][j+1]\n",
    "\n",
    "    path_sum = ()\n",
    "    for path in path_way:\n",
    "        i = j = 0  # Starting from top left\n",
    "        unit_sum = grid[i][j]\n",
    "        for (di, dj) in path:\n",
    "            i, j = i + di, j + dj\n",
    "            unit_sum += grid[i][j]\n",
    "        path_sum += (unit_sum,)\n",
    "\n",
    "    return min(path_sum)\n",
    "\n",
    "\n",
    "def min_path_sum(grid: list[list[int]]) -> int:\n",
    "    min_sum = []\n",
    "    m, n = len(grid), len(grid[0])\n",
    "    counts = np.zeros((m, n), dtype=int)\n",
    "    \n",
    "    def dfs(i, j, running_sum):\n",
    "        running_sum += grid[i][j]\n",
    "        \n",
    "        if (i + 1, j + 1) == (m, n):\n",
    "            min_sum.append(running_sum)\n",
    "            return\n",
    "        if i + 1 < m and j < n:\n",
    "            counts[(i + 1, j)] += 1\n",
    "            dfs(i + 1, j, running_sum)\n",
    "        if i < m and j + 1 < n:\n",
    "            counts[(i, j + 1)] += 1\n",
    "            dfs(i, j + 1, running_sum)\n",
    "    \n",
    "    dfs(0, 0, 0)\n",
    "    print(counts)\n",
    "    print(counts.sum())\n",
    "    return min(min_sum)\n",
    "\n",
    "def bfO(m, n):\n",
    "    m, n = m - 1, n - 1\n",
    "    return math.comb(m + n, n)\n",
    "\n",
    "@lru_cache\n",
    "def f(n):\n",
    "    if n == 0 or n == 1:\n",
    "        return n\n",
    "    else:\n",
    "        return f(n - 1) + f(n - 2)\n",
    "\n",
    "@lru_cache\n",
    "def g(i: int, j: int) -> int:\n",
    "    match (i, j):\n",
    "        case (0, 0):\n",
    "            return 0\n",
    "        case (_, 0) | (0, _):\n",
    "            return 1\n",
    "        case _:\n",
    "            return g(i - 1, j) + g(i, j - 1)\n",
    "\n",
    "def mpsO(m: int, n: int) -> int:\n",
    "    c = 0\n",
    "    for i in range(m):\n",
    "        for j in range(n):\n",
    "            c += g(i, j)\n",
    "    \n",
    "    return c"
   ]
  },
  {
   "cell_type": "code",
   "execution_count": 12,
   "id": "fb51bde6",
   "metadata": {},
   "outputs": [],
   "source": [
    "m, n = 4, 4\n",
    "matrix = generate_matrix(m, n)\n",
    "# print(matrix)"
   ]
  },
  {
   "cell_type": "code",
   "execution_count": 13,
   "id": "05619b46",
   "metadata": {},
   "outputs": [
    {
     "name": "stdout",
     "output_type": "stream",
     "text": [
      "[[ 0  1  1  1]\n",
      " [ 1  2  3  4]\n",
      " [ 1  3  6 10]\n",
      " [ 1  4 10 20]]\n",
      "68\n"
     ]
    },
    {
     "data": {
      "text/plain": [
       "13"
      ]
     },
     "execution_count": 13,
     "metadata": {},
     "output_type": "execute_result"
    }
   ],
   "source": [
    "min_path_sum(matrix)"
   ]
  },
  {
   "cell_type": "code",
   "execution_count": 14,
   "id": "0b8fdbd5",
   "metadata": {},
   "outputs": [
    {
     "name": "stdout",
     "output_type": "stream",
     "text": [
      "[['00' '01' '02' '03']\n",
      " ['10' '11' '12' '13']\n",
      " ['20' '21' '22' '23']\n",
      " ['30' '31' '32' '33']]\n"
     ]
    }
   ],
   "source": [
    "print(np.array([[f\"{i}{j}\" for j in range(n)] for i in range(m)]))"
   ]
  },
  {
   "cell_type": "code",
   "execution_count": 27,
   "id": "f9426412",
   "metadata": {},
   "outputs": [
    {
     "name": "stdout",
     "output_type": "stream",
     "text": [
      "brute_force: 252\n",
      "depth-first: 922\n",
      "lru_cache  : 36\n"
     ]
    }
   ],
   "source": [
    "o, p = 6, 6\n",
    "print(f\"brute_force: {bfO(o, p)}\")\n",
    "print(f\"depth-first: {mpsO(o, p)}\")\n",
    "print(f\"lru_cache  : {o * p}\")"
   ]
  },
  {
   "cell_type": "code",
   "execution_count": null,
   "id": "8c03b091",
   "metadata": {},
   "outputs": [],
   "source": []
  }
 ],
 "metadata": {
  "kernelspec": {
   "display_name": "Python 3 (ipykernel)",
   "language": "python",
   "name": "python3"
  },
  "language_info": {
   "codemirror_mode": {
    "name": "ipython",
    "version": 3
   },
   "file_extension": ".py",
   "mimetype": "text/x-python",
   "name": "python",
   "nbconvert_exporter": "python",
   "pygments_lexer": "ipython3",
   "version": "3.11.8"
  }
 },
 "nbformat": 4,
 "nbformat_minor": 5
}
