{
 "cells": [
  {
   "cell_type": "code",
   "execution_count": 37,
   "id": "1539ec7d",
   "metadata": {},
   "outputs": [],
   "source": [
    "from math import *"
   ]
  },
  {
   "cell_type": "code",
   "execution_count": 38,
   "id": "f1985a21",
   "metadata": {},
   "outputs": [],
   "source": [
    "c = 1.5\n",
    "def f(x):\n",
    "    return x\n",
    "\n",
    "def g(x):\n",
    "    return sqrt(x ** 2 + c)"
   ]
  },
  {
   "cell_type": "markdown",
   "id": "42cbc18d",
   "metadata": {},
   "source": [
    "$$ \\sqrt{x^2 + c} - x $$"
   ]
  },
  {
   "cell_type": "code",
   "execution_count": 39,
   "id": "9c7063bc",
   "metadata": {},
   "outputs": [
    {
     "data": {
      "text/plain": [
       "2.58113883008419"
      ]
     },
     "execution_count": 39,
     "metadata": {},
     "output_type": "execute_result"
    }
   ],
   "source": [
    "sqrt(2.5) + sqrt(1)"
   ]
  },
  {
   "cell_type": "code",
   "execution_count": 40,
   "id": "7384a7b3",
   "metadata": {},
   "outputs": [
    {
     "data": {
      "text/plain": [
       "4.345207879911715"
      ]
     },
     "execution_count": 40,
     "metadata": {},
     "output_type": "execute_result"
    }
   ],
   "source": [
    "sqrt(5.5) + sqrt(4)"
   ]
  },
  {
   "cell_type": "code",
   "execution_count": 41,
   "id": "b3d087b1",
   "metadata": {},
   "outputs": [
    {
     "data": {
      "text/plain": [
       "0.5811388300841898"
      ]
     },
     "execution_count": 41,
     "metadata": {},
     "output_type": "execute_result"
    }
   ],
   "source": [
    "sqrt(2.5) - sqrt(1)"
   ]
  },
  {
   "cell_type": "code",
   "execution_count": 45,
   "id": "7a4f98a8",
   "metadata": {},
   "outputs": [
    {
     "data": {
      "text/plain": [
       "2.58113883008419"
      ]
     },
     "execution_count": 45,
     "metadata": {},
     "output_type": "execute_result"
    }
   ],
   "source": [
    "a = -1\n",
    "g(a) - f(a)"
   ]
  },
  {
   "cell_type": "code",
   "execution_count": 43,
   "id": "f5c1e29d",
   "metadata": {},
   "outputs": [],
   "source": [
    "def p(x):\n",
    "    return -1 * x"
   ]
  },
  {
   "cell_type": "code",
   "execution_count": 44,
   "id": "c35d42aa",
   "metadata": {},
   "outputs": [
    {
     "data": {
      "text/plain": [
       "-5"
      ]
     },
     "execution_count": 44,
     "metadata": {},
     "output_type": "execute_result"
    }
   ],
   "source": [
    "p(5)"
   ]
  },
  {
   "cell_type": "code",
   "execution_count": null,
   "id": "9b6f5a45",
   "metadata": {},
   "outputs": [],
   "source": []
  }
 ],
 "metadata": {
  "kernelspec": {
   "display_name": "Python 3 (ipykernel)",
   "language": "python",
   "name": "python3"
  },
  "language_info": {
   "codemirror_mode": {
    "name": "ipython",
    "version": 3
   },
   "file_extension": ".py",
   "mimetype": "text/x-python",
   "name": "python",
   "nbconvert_exporter": "python",
   "pygments_lexer": "ipython3",
   "version": "3.11.5"
  }
 },
 "nbformat": 4,
 "nbformat_minor": 5
}
