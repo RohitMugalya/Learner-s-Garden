{
 "cells": [
  {
   "cell_type": "code",
   "execution_count": null,
   "id": "92406296",
   "metadata": {},
   "outputs": [],
   "source": [
    "n, d = 22, 7"
   ]
  },
  {
   "cell_type": "markdown",
   "id": "3c534696",
   "metadata": {},
   "source": [
    "<pre>\n",
    "    142857\n",
    "7 | 10\n",
    "     7\n",
    "  ----\n",
    "     30\n",
    "     28\n",
    "   ----\n",
    "      20\n",
    "      14\n",
    "  ------\n",
    "       60\n",
    "       56\n",
    "   ------\n",
    "        40\n",
    "        35\n",
    "   -------\n",
    "         50\n",
    "         49\n",
    "   --------\n",
    "          1\n",
    "</pre>"
   ]
  },
  {
   "cell_type": "code",
   "execution_count": null,
   "id": "2c326eb3",
   "metadata": {},
   "outputs": [],
   "source": [
    "divmod(1, 333)"
   ]
  },
  {
   "cell_type": "code",
   "execution_count": null,
   "id": "54974868",
   "metadata": {},
   "outputs": [],
   "source": []
  }
 ],
 "metadata": {
  "kernelspec": {
   "display_name": "Python 3 (ipykernel)",
   "language": "python",
   "name": "python3"
  },
  "language_info": {
   "codemirror_mode": {
    "name": "ipython",
    "version": 3
   },
   "file_extension": ".py",
   "mimetype": "text/x-python",
   "name": "python",
   "nbconvert_exporter": "python",
   "pygments_lexer": "ipython3",
   "version": "3.11.5"
  }
 },
 "nbformat": 4,
 "nbformat_minor": 5
}
