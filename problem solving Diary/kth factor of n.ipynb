{
 "cells": [
  {
   "cell_type": "code",
   "execution_count": 3,
   "id": "a5ef3a80",
   "metadata": {},
   "outputs": [],
   "source": [
    "from math import *"
   ]
  },
  {
   "cell_type": "code",
   "execution_count": 22,
   "id": "d76d1685",
   "metadata": {},
   "outputs": [],
   "source": [
    "def factorsof(n: int) -> list[int]:\n",
    "    return [i for i in range(1, n + 1) if n % i == 0]\n",
    "\n",
    "def qr(n: int, factors: list[int]) -> dict[int, tuple[int, int]]:\n",
    "    return {factor: divmod(n, factor) for factor in factors}\n",
    "\n",
    "def allqrs(n: int) -> dict[int, tuple[int, int]]:\n",
    "    return {i: divmod(n, i) for i in range(1, n + 1)}\n",
    "\n",
    "def display_range(n: int) -> None:\n",
    "    print(list(range(1, n + 1)))"
   ]
  },
  {
   "cell_type": "code",
   "execution_count": 9,
   "id": "10e5debc",
   "metadata": {},
   "outputs": [
    {
     "name": "stdout",
     "output_type": "stream",
     "text": [
      "[1, 5, 7, 25, 35, 175]\n",
      "{1: (175, 0), 5: (35, 0), 7: (25, 0), 25: (7, 0), 35: (5, 0), 175: (1, 0)}\n",
      "13.228756555322953\n"
     ]
    }
   ],
   "source": [
    "num = 175\n",
    "factors = factorsof(num)\n",
    "qrs = qr(num, factors)\n",
    "\n",
    "print(factors)\n",
    "print(qrs)\n",
    "print(sqrt(num))"
   ]
  },
  {
   "cell_type": "code",
   "execution_count": 12,
   "id": "5ed63f8c",
   "metadata": {},
   "outputs": [
    {
     "name": "stdout",
     "output_type": "stream",
     "text": [
      "175\n",
      "{1: (175, 0), 5: (35, 0), 7: (25, 0), 25: (7, 0), 35: (5, 0), 175: (1, 0)}\n"
     ]
    }
   ],
   "source": [
    "print(num)\n",
    "print(qrs)"
   ]
  },
  {
   "cell_type": "code",
   "execution_count": 23,
   "id": "c8360164",
   "metadata": {},
   "outputs": [
    {
     "name": "stdout",
     "output_type": "stream",
     "text": [
      "[1, 2, 3, 4, 5, 6, 7, 8, 9, 10, 11, 12, 13, 14, 15, 16, 17, 18, 19, 20, 21, 22, 23, 24]\n"
     ]
    }
   ],
   "source": [
    "display_range(24)"
   ]
  },
  {
   "cell_type": "code",
   "execution_count": 21,
   "id": "d4d5bf31",
   "metadata": {},
   "outputs": [
    {
     "data": {
      "text/plain": [
       "{1: (24, 0),\n",
       " 2: (12, 0),\n",
       " 3: (8, 0),\n",
       " 4: (6, 0),\n",
       " 6: (4, 0),\n",
       " 8: (3, 0),\n",
       " 12: (2, 0),\n",
       " 24: (1, 0)}"
      ]
     },
     "execution_count": 21,
     "metadata": {},
     "output_type": "execute_result"
    }
   ],
   "source": [
    "qr(24, factorsof(24))"
   ]
  },
  {
   "cell_type": "code",
   "execution_count": 17,
   "id": "abae016a",
   "metadata": {},
   "outputs": [
    {
     "data": {
      "text/plain": [
       "{1: (24, 0),\n",
       " 2: (12, 0),\n",
       " 3: (8, 0),\n",
       " 4: (6, 0),\n",
       " 5: (4, 4),\n",
       " 6: (4, 0),\n",
       " 7: (3, 3),\n",
       " 8: (3, 0),\n",
       " 9: (2, 6),\n",
       " 10: (2, 4),\n",
       " 11: (2, 2),\n",
       " 12: (2, 0),\n",
       " 13: (1, 11),\n",
       " 14: (1, 10),\n",
       " 15: (1, 9),\n",
       " 16: (1, 8),\n",
       " 17: (1, 7),\n",
       " 18: (1, 6),\n",
       " 19: (1, 5),\n",
       " 20: (1, 4),\n",
       " 21: (1, 3),\n",
       " 22: (1, 2),\n",
       " 23: (1, 1),\n",
       " 24: (1, 0)}"
      ]
     },
     "execution_count": 17,
     "metadata": {},
     "output_type": "execute_result"
    }
   ],
   "source": [
    "allqrs(24)"
   ]
  },
  {
   "cell_type": "code",
   "execution_count": 25,
   "id": "8b5d86ed",
   "metadata": {},
   "outputs": [
    {
     "data": {
      "text/plain": [
       "{1: (24, 0),\n",
       " 2: (12, 0),\n",
       " 3: (8, 0),\n",
       " 4: (6, 0),\n",
       " 5: (4, 4),\n",
       " 6: (4, 0),\n",
       " 7: (3, 3),\n",
       " 8: (3, 0),\n",
       " 9: (2, 6),\n",
       " 10: (2, 4),\n",
       " 11: (2, 2),\n",
       " 12: (2, 0),\n",
       " 13: (1, 11),\n",
       " 14: (1, 10),\n",
       " 15: (1, 9),\n",
       " 16: (1, 8),\n",
       " 17: (1, 7),\n",
       " 18: (1, 6),\n",
       " 19: (1, 5),\n",
       " 20: (1, 4),\n",
       " 21: (1, 3),\n",
       " 22: (1, 2),\n",
       " 23: (1, 1),\n",
       " 24: (1, 0)}"
      ]
     },
     "execution_count": 25,
     "metadata": {},
     "output_type": "execute_result"
    }
   ],
   "source": [
    "allqrs(24)"
   ]
  },
  {
   "cell_type": "code",
   "execution_count": 24,
   "id": "83168a28",
   "metadata": {
    "scrolled": false
   },
   "outputs": [
    {
     "data": {
      "text/plain": [
       "{1: (175, 0),\n",
       " 2: (87, 1),\n",
       " 3: (58, 1),\n",
       " 4: (43, 3),\n",
       " 5: (35, 0),\n",
       " 6: (29, 1),\n",
       " 7: (25, 0),\n",
       " 8: (21, 7),\n",
       " 9: (19, 4),\n",
       " 10: (17, 5),\n",
       " 11: (15, 10),\n",
       " 12: (14, 7),\n",
       " 13: (13, 6),\n",
       " 14: (12, 7),\n",
       " 15: (11, 10),\n",
       " 16: (10, 15),\n",
       " 17: (10, 5),\n",
       " 18: (9, 13),\n",
       " 19: (9, 4),\n",
       " 20: (8, 15),\n",
       " 21: (8, 7),\n",
       " 22: (7, 21),\n",
       " 23: (7, 14),\n",
       " 24: (7, 7),\n",
       " 25: (7, 0),\n",
       " 26: (6, 19),\n",
       " 27: (6, 13),\n",
       " 28: (6, 7),\n",
       " 29: (6, 1),\n",
       " 30: (5, 25),\n",
       " 31: (5, 20),\n",
       " 32: (5, 15),\n",
       " 33: (5, 10),\n",
       " 34: (5, 5),\n",
       " 35: (5, 0),\n",
       " 36: (4, 31),\n",
       " 37: (4, 27),\n",
       " 38: (4, 23),\n",
       " 39: (4, 19),\n",
       " 40: (4, 15),\n",
       " 41: (4, 11),\n",
       " 42: (4, 7),\n",
       " 43: (4, 3),\n",
       " 44: (3, 43),\n",
       " 45: (3, 40),\n",
       " 46: (3, 37),\n",
       " 47: (3, 34),\n",
       " 48: (3, 31),\n",
       " 49: (3, 28),\n",
       " 50: (3, 25),\n",
       " 51: (3, 22),\n",
       " 52: (3, 19),\n",
       " 53: (3, 16),\n",
       " 54: (3, 13),\n",
       " 55: (3, 10),\n",
       " 56: (3, 7),\n",
       " 57: (3, 4),\n",
       " 58: (3, 1),\n",
       " 59: (2, 57),\n",
       " 60: (2, 55),\n",
       " 61: (2, 53),\n",
       " 62: (2, 51),\n",
       " 63: (2, 49),\n",
       " 64: (2, 47),\n",
       " 65: (2, 45),\n",
       " 66: (2, 43),\n",
       " 67: (2, 41),\n",
       " 68: (2, 39),\n",
       " 69: (2, 37),\n",
       " 70: (2, 35),\n",
       " 71: (2, 33),\n",
       " 72: (2, 31),\n",
       " 73: (2, 29),\n",
       " 74: (2, 27),\n",
       " 75: (2, 25),\n",
       " 76: (2, 23),\n",
       " 77: (2, 21),\n",
       " 78: (2, 19),\n",
       " 79: (2, 17),\n",
       " 80: (2, 15),\n",
       " 81: (2, 13),\n",
       " 82: (2, 11),\n",
       " 83: (2, 9),\n",
       " 84: (2, 7),\n",
       " 85: (2, 5),\n",
       " 86: (2, 3),\n",
       " 87: (2, 1),\n",
       " 88: (1, 87),\n",
       " 89: (1, 86),\n",
       " 90: (1, 85),\n",
       " 91: (1, 84),\n",
       " 92: (1, 83),\n",
       " 93: (1, 82),\n",
       " 94: (1, 81),\n",
       " 95: (1, 80),\n",
       " 96: (1, 79),\n",
       " 97: (1, 78),\n",
       " 98: (1, 77),\n",
       " 99: (1, 76),\n",
       " 100: (1, 75),\n",
       " 101: (1, 74),\n",
       " 102: (1, 73),\n",
       " 103: (1, 72),\n",
       " 104: (1, 71),\n",
       " 105: (1, 70),\n",
       " 106: (1, 69),\n",
       " 107: (1, 68),\n",
       " 108: (1, 67),\n",
       " 109: (1, 66),\n",
       " 110: (1, 65),\n",
       " 111: (1, 64),\n",
       " 112: (1, 63),\n",
       " 113: (1, 62),\n",
       " 114: (1, 61),\n",
       " 115: (1, 60),\n",
       " 116: (1, 59),\n",
       " 117: (1, 58),\n",
       " 118: (1, 57),\n",
       " 119: (1, 56),\n",
       " 120: (1, 55),\n",
       " 121: (1, 54),\n",
       " 122: (1, 53),\n",
       " 123: (1, 52),\n",
       " 124: (1, 51),\n",
       " 125: (1, 50),\n",
       " 126: (1, 49),\n",
       " 127: (1, 48),\n",
       " 128: (1, 47),\n",
       " 129: (1, 46),\n",
       " 130: (1, 45),\n",
       " 131: (1, 44),\n",
       " 132: (1, 43),\n",
       " 133: (1, 42),\n",
       " 134: (1, 41),\n",
       " 135: (1, 40),\n",
       " 136: (1, 39),\n",
       " 137: (1, 38),\n",
       " 138: (1, 37),\n",
       " 139: (1, 36),\n",
       " 140: (1, 35),\n",
       " 141: (1, 34),\n",
       " 142: (1, 33),\n",
       " 143: (1, 32),\n",
       " 144: (1, 31),\n",
       " 145: (1, 30),\n",
       " 146: (1, 29),\n",
       " 147: (1, 28),\n",
       " 148: (1, 27),\n",
       " 149: (1, 26),\n",
       " 150: (1, 25),\n",
       " 151: (1, 24),\n",
       " 152: (1, 23),\n",
       " 153: (1, 22),\n",
       " 154: (1, 21),\n",
       " 155: (1, 20),\n",
       " 156: (1, 19),\n",
       " 157: (1, 18),\n",
       " 158: (1, 17),\n",
       " 159: (1, 16),\n",
       " 160: (1, 15),\n",
       " 161: (1, 14),\n",
       " 162: (1, 13),\n",
       " 163: (1, 12),\n",
       " 164: (1, 11),\n",
       " 165: (1, 10),\n",
       " 166: (1, 9),\n",
       " 167: (1, 8),\n",
       " 168: (1, 7),\n",
       " 169: (1, 6),\n",
       " 170: (1, 5),\n",
       " 171: (1, 4),\n",
       " 172: (1, 3),\n",
       " 173: (1, 2),\n",
       " 174: (1, 1),\n",
       " 175: (1, 0)}"
      ]
     },
     "execution_count": 24,
     "metadata": {},
     "output_type": "execute_result"
    }
   ],
   "source": [
    "allqrs(num)"
   ]
  },
  {
   "cell_type": "code",
   "execution_count": 32,
   "id": "75c62ea1",
   "metadata": {},
   "outputs": [
    {
     "data": {
      "text/plain": [
       "153"
      ]
     },
     "execution_count": 32,
     "metadata": {},
     "output_type": "execute_result"
    }
   ],
   "source": [
    "gcd(1024)"
   ]
  },
  {
   "cell_type": "code",
   "execution_count": 68,
   "id": "f6bae589",
   "metadata": {},
   "outputs": [
    {
     "data": {
      "text/plain": [
       "153.11288009553786"
      ]
     },
     "execution_count": 68,
     "metadata": {},
     "output_type": "execute_result"
    }
   ],
   "source": [
    "log(10_000, 1.062)"
   ]
  },
  {
   "cell_type": "code",
   "execution_count": 45,
   "id": "ffcad1cd",
   "metadata": {},
   "outputs": [
    {
     "data": {
      "text/plain": [
       "2.718281828459045"
      ]
     },
     "execution_count": 45,
     "metadata": {},
     "output_type": "execute_result"
    }
   ],
   "source": [
    "e"
   ]
  },
  {
   "cell_type": "code",
   "execution_count": null,
   "id": "06dccd93",
   "metadata": {},
   "outputs": [],
   "source": []
  }
 ],
 "metadata": {
  "kernelspec": {
   "display_name": "Python 3 (ipykernel)",
   "language": "python",
   "name": "python3"
  },
  "language_info": {
   "codemirror_mode": {
    "name": "ipython",
    "version": 3
   },
   "file_extension": ".py",
   "mimetype": "text/x-python",
   "name": "python",
   "nbconvert_exporter": "python",
   "pygments_lexer": "ipython3",
   "version": "3.11.5"
  }
 },
 "nbformat": 4,
 "nbformat_minor": 5
}
