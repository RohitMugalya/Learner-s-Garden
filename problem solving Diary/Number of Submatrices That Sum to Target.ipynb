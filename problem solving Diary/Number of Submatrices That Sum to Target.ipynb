{
 "cells": [
  {
   "cell_type": "code",
   "execution_count": 4,
   "id": "eac06f5f",
   "metadata": {},
   "outputs": [],
   "source": [
    "import numpy as np\n",
    "import matplotlib.pyplot as plt\n",
    "plt.style.use(\"dark_background\")"
   ]
  },
  {
   "cell_type": "code",
   "execution_count": 34,
   "id": "9061ac69",
   "metadata": {},
   "outputs": [],
   "source": [
    "def gen(m, n):\n",
    "    return np.arange(1, m * n + 1).reshape(m, n)\n",
    "\n",
    "def O(m, n):\n",
    "    mx = (m * (m + 1)) // 2\n",
    "    nx = (n * (n + 1)) // 2\n",
    "    return mx * nx\n",
    "\n",
    "def submats(matrix):\n",
    "    m, n = matrix.shape\n",
    "    ans = []\n",
    "    for I in range(1, m + 1):\n",
    "        for J in range(1, n + 1):\n",
    "            print(f\"Matrix {I}x{J}\")\n",
    "            for i in range(m - I + 1):\n",
    "                for j in range(n - J + 1):\n",
    "                    print(matrix[i:i + I, j:j + J])\n",
    "#                     ans.append(matrix[i:i + I, j:j + J])\n",
    "    return ans\n",
    "\n",
    "def Od(matrix):\n",
    "    m, n = matrix.shape\n",
    "    count = 0\n",
    "    for I in range(1, m + 1):\n",
    "        for J in range(1, n + 1):\n",
    "            for i in range(m - I + 1):\n",
    "                for j in range(n - J + 1):\n",
    "                    count += matrix[i:i + I, j:j + J].size\n",
    "    return count\n",
    "\n",
    "def Oe(matrix):\n",
    "    m, n = matrix.shape\n",
    "    c = 0\n",
    "    for I in range(1, m + 1):\n",
    "        for J in range(1, n + 1):\n",
    "            c += (m - I + 1) * (n - J + 1) * I * J\n",
    "    \n",
    "    return c\n",
    "\n",
    "def membership(m, n):\n",
    "    matrix = gen(m, n)\n",
    "    submatrices = submats(matrix)\n",
    "    ans = np.zeros((m, n), dtype=int)\n",
    "    for i in range(m):\n",
    "        for j in range(n):\n",
    "            for submatrix in submatrices:\n",
    "                if matrix[i, j] in submatrix:\n",
    "                    ans[i, j] += 1\n",
    "    \n",
    "    return ans"
   ]
  },
  {
   "cell_type": "code",
   "execution_count": 6,
   "id": "331991b4",
   "metadata": {},
   "outputs": [
    {
     "name": "stdout",
     "output_type": "stream",
     "text": [
      "[[1 2]\n",
      " [3 4]]\n"
     ]
    }
   ],
   "source": [
    "print(gen(2, 2))"
   ]
  },
  {
   "cell_type": "markdown",
   "id": "fcbdd004",
   "metadata": {},
   "source": [
    "<pre>\n",
    "Matrix 2x2 = 9 (submats)\n",
    "1x1 - 4\n",
    "1x2 - 2\n",
    "2x1 - 2\n",
    "2x2 - 1\n",
    "</pre>"
   ]
  },
  {
   "cell_type": "code",
   "execution_count": 7,
   "id": "2fac5fd9",
   "metadata": {},
   "outputs": [
    {
     "name": "stdout",
     "output_type": "stream",
     "text": [
      "[[1 2 3]\n",
      " [4 5 6]\n",
      " [7 8 9]]\n"
     ]
    }
   ],
   "source": [
    "print(gen(3, 3))"
   ]
  },
  {
   "cell_type": "markdown",
   "id": "66ef1700",
   "metadata": {},
   "source": [
    "<pre>\n",
    "Matrix 3x3 = 36 (submats)\n",
    "1x1 - 9\n",
    "1x2 - 6\n",
    "1x3 - 3\n",
    "2x1 - 6\n",
    "2x2 - 4\n",
    "2x3 - 2\n",
    "3x1 - 3\n",
    "3x2 - 2\n",
    "3x3 - 1\n",
    "</pre>"
   ]
  },
  {
   "cell_type": "code",
   "execution_count": 8,
   "id": "f451a11c",
   "metadata": {},
   "outputs": [
    {
     "name": "stdout",
     "output_type": "stream",
     "text": [
      "[[1 2 3]\n",
      " [4 5 6]]\n"
     ]
    }
   ],
   "source": [
    "print(gen(2, 3))"
   ]
  },
  {
   "cell_type": "markdown",
   "id": "b9cb3c2d",
   "metadata": {},
   "source": [
    "<pre>\n",
    "Matrix 2x3 = 18 (submats)\n",
    "1x1 - 6\n",
    "1x2 - 4\n",
    "1x3 - 2\n",
    "2x1 - 3\n",
    "2x2 - 2\n",
    "2x3 - 1\n",
    "</pre>"
   ]
  },
  {
   "cell_type": "code",
   "execution_count": 9,
   "id": "f9d2edee",
   "metadata": {},
   "outputs": [
    {
     "data": {
      "text/plain": [
       "36"
      ]
     },
     "execution_count": 9,
     "metadata": {},
     "output_type": "execute_result"
    }
   ],
   "source": [
    "9+6+3+6+4+2+3+2+1"
   ]
  },
  {
   "cell_type": "code",
   "execution_count": 10,
   "id": "1ccf3dab",
   "metadata": {},
   "outputs": [
    {
     "name": "stdout",
     "output_type": "stream",
     "text": [
      "[[ 1  2  3  4]\n",
      " [ 5  6  7  8]\n",
      " [ 9 10 11 12]\n",
      " [13 14 15 16]]\n"
     ]
    }
   ],
   "source": [
    "print(gen(4, 4))"
   ]
  },
  {
   "cell_type": "markdown",
   "id": "c2e8aba3",
   "metadata": {},
   "source": [
    "<pre>\n",
    "Matrix 4x4 = 100 (submats)\n",
    "1x1 - 16\n",
    "1x2 - 12\n",
    "1x3 - 8\n",
    "1x4 - 4\n",
    "2x1 - 12\n",
    "2x2 - 9\n",
    "2x3 - 6\n",
    "2x4 - 3\n",
    "3x1 - 8\n",
    "3x2 - 6\n",
    "3x3 - 4\n",
    "3x4 - 2\n",
    "4x1 - 4\n",
    "4x2 - 3\n",
    "4x3 - 2\n",
    "4x4 - 1\n",
    "</pre>"
   ]
  },
  {
   "cell_type": "code",
   "execution_count": 11,
   "id": "9839fdc2",
   "metadata": {},
   "outputs": [
    {
     "data": {
      "text/plain": [
       "100"
      ]
     },
     "execution_count": 11,
     "metadata": {},
     "output_type": "execute_result"
    }
   ],
   "source": [
    "16+12+8+4+12+9+6+3+8+6+4+2+4+3+2+1"
   ]
  },
  {
   "cell_type": "code",
   "execution_count": 12,
   "id": "505ddb79",
   "metadata": {},
   "outputs": [
    {
     "data": {
      "text/plain": [
       "81"
      ]
     },
     "execution_count": 12,
     "metadata": {},
     "output_type": "execute_result"
    }
   ],
   "source": [
    "a = 3\n",
    "(3*a)*(3*a)"
   ]
  },
  {
   "cell_type": "markdown",
   "id": "56aedc11",
   "metadata": {},
   "source": [
    "<pre>\n",
    "Matrix 3x3\n",
    "[1 2 3]     [ 9 12  9]\n",
    "[4 5 6]     [12 16 12]\n",
    "[7 8 9]     [ 9 12  9]\n",
    "</pre>"
   ]
  },
  {
   "cell_type": "code",
   "execution_count": 13,
   "id": "c894a220",
   "metadata": {},
   "outputs": [
    {
     "name": "stdout",
     "output_type": "stream",
     "text": [
      "Matrix 1x1\n",
      "[[1]]\n",
      "[[2]]\n",
      "[[3]]\n",
      "[[4]]\n",
      "[[5]]\n",
      "[[6]]\n",
      "[[7]]\n",
      "[[8]]\n",
      "[[9]]\n",
      "Matrix 1x2\n",
      "[[1 2]]\n",
      "[[2 3]]\n",
      "[[4 5]]\n",
      "[[5 6]]\n",
      "[[7 8]]\n",
      "[[8 9]]\n",
      "Matrix 1x3\n",
      "[[1 2 3]]\n",
      "[[4 5 6]]\n",
      "[[7 8 9]]\n",
      "Matrix 2x1\n",
      "[[1]\n",
      " [4]]\n",
      "[[2]\n",
      " [5]]\n",
      "[[3]\n",
      " [6]]\n",
      "[[4]\n",
      " [7]]\n",
      "[[5]\n",
      " [8]]\n",
      "[[6]\n",
      " [9]]\n",
      "Matrix 2x2\n",
      "[[1 2]\n",
      " [4 5]]\n",
      "[[2 3]\n",
      " [5 6]]\n",
      "[[4 5]\n",
      " [7 8]]\n",
      "[[5 6]\n",
      " [8 9]]\n",
      "Matrix 2x3\n",
      "[[1 2 3]\n",
      " [4 5 6]]\n",
      "[[4 5 6]\n",
      " [7 8 9]]\n",
      "Matrix 3x1\n",
      "[[1]\n",
      " [4]\n",
      " [7]]\n",
      "[[2]\n",
      " [5]\n",
      " [8]]\n",
      "[[3]\n",
      " [6]\n",
      " [9]]\n",
      "Matrix 3x2\n",
      "[[1 2]\n",
      " [4 5]\n",
      " [7 8]]\n",
      "[[2 3]\n",
      " [5 6]\n",
      " [8 9]]\n",
      "Matrix 3x3\n",
      "[[1 2 3]\n",
      " [4 5 6]\n",
      " [7 8 9]]\n",
      "\n"
     ]
    }
   ],
   "source": [
    "print(*submats(gen(3, 3)), sep='\\n')"
   ]
  },
  {
   "cell_type": "code",
   "execution_count": 14,
   "id": "934962da",
   "metadata": {},
   "outputs": [
    {
     "data": {
      "text/plain": [
       "{((1, 1), (1, 2)): 3,\n",
       " ((1, 1), (2, 3)): 5,\n",
       " ((2, 2), (1, 2)): 9,\n",
       " ((2, 2), (2, 3)): 11,\n",
       " ((3, 3), (1, 2)): 15,\n",
       " ((3, 3), (2, 3)): 17}"
      ]
     },
     "execution_count": 14,
     "metadata": {},
     "output_type": "execute_result"
    }
   ],
   "source": [
    "d = {}\n",
    "m, n = 3, 3\n",
    "tmp = gen(m, n)\n",
    "I, J = 1, 2\n",
    "for i in range(m - I + 1):\n",
    "    for j in range(n - J + 1):\n",
    "        d[((i + 1, i + I), (j + 1, j + J))] = tmp[i:i + I, j:j + J].sum()\n",
    "d"
   ]
  },
  {
   "cell_type": "markdown",
   "id": "3160c5dc",
   "metadata": {},
   "source": [
    "<pre>\n",
    "[1 2 3]\n",
    "[4 5 6]\n",
    "[7 8 9]\n",
    " </pre>"
   ]
  },
  {
   "cell_type": "markdown",
   "id": "741436c8",
   "metadata": {},
   "source": [
    "###### check with transitive property nature of start index and stop index"
   ]
  },
  {
   "cell_type": "code",
   "execution_count": 15,
   "id": "ce760010",
   "metadata": {},
   "outputs": [],
   "source": [
    "x = [1, 2, 3, 4, 5, 6]\n",
    "y = [1, 4, 10, 20, 35, 56]"
   ]
  },
  {
   "cell_type": "markdown",
   "id": "1ba2cf41",
   "metadata": {},
   "source": [
    "<pre>\n",
    "1 x 4\n",
    "2 x 3\n",
    "3 x 2\n",
    "4 x 1\n",
    "</pre>"
   ]
  },
  {
   "cell_type": "code",
   "execution_count": 16,
   "id": "9677c3fa",
   "metadata": {},
   "outputs": [],
   "source": [
    "def dis1d(nums):\n",
    "    n = len(nums)\n",
    "    for i in range(1, n + 1):\n",
    "        print(f\"SubSeq: {1, i}\")\n",
    "        for j in range(n - i + 1):\n",
    "            print(f\"{j, i + j}   {nums[j:i + j]}\")"
   ]
  },
  {
   "cell_type": "code",
   "execution_count": 17,
   "id": "8a5dd5ac",
   "metadata": {},
   "outputs": [
    {
     "name": "stdout",
     "output_type": "stream",
     "text": [
      "SubSeq: (1, 1)\n",
      "(0, 1)   [1]\n",
      "(1, 2)   [2]\n",
      "(2, 3)   [3]\n",
      "(3, 4)   [4]\n",
      "(4, 5)   [5]\n",
      "SubSeq: (1, 2)\n",
      "(0, 2)   [1, 2]\n",
      "(1, 3)   [2, 3]\n",
      "(2, 4)   [3, 4]\n",
      "(3, 5)   [4, 5]\n",
      "SubSeq: (1, 3)\n",
      "(0, 3)   [1, 2, 3]\n",
      "(1, 4)   [2, 3, 4]\n",
      "(2, 5)   [3, 4, 5]\n",
      "SubSeq: (1, 4)\n",
      "(0, 4)   [1, 2, 3, 4]\n",
      "(1, 5)   [2, 3, 4, 5]\n",
      "SubSeq: (1, 5)\n",
      "(0, 5)   [1, 2, 3, 4, 5]\n"
     ]
    }
   ],
   "source": [
    "dis1d(list(range(1, 6)))"
   ]
  },
  {
   "cell_type": "markdown",
   "id": "c3866f8e",
   "metadata": {},
   "source": [
    "<pre>\n",
    "                [1, 2, 3, 4, 5]\n",
    "</pre>"
   ]
  },
  {
   "cell_type": "code",
   "execution_count": null,
   "id": "e333df28",
   "metadata": {},
   "outputs": [],
   "source": [
    "n = 100\n",
    "(n * (n + 1)) // 2"
   ]
  },
  {
   "cell_type": "code",
   "execution_count": 23,
   "id": "3bb233d7",
   "metadata": {},
   "outputs": [
    {
     "data": {
      "text/plain": [
       "array([[1, 2, 3],\n",
       "       [4, 5, 6],\n",
       "       [7, 8, 9]])"
      ]
     },
     "execution_count": 23,
     "metadata": {},
     "output_type": "execute_result"
    }
   ],
   "source": [
    "mat1 = gen(3, 3)\n",
    "mat1"
   ]
  },
  {
   "cell_type": "code",
   "execution_count": 24,
   "id": "9b0f0ef4",
   "metadata": {},
   "outputs": [
    {
     "data": {
      "text/plain": [
       "100"
      ]
     },
     "execution_count": 24,
     "metadata": {},
     "output_type": "execute_result"
    }
   ],
   "source": [
    "O(mat1)"
   ]
  },
  {
   "cell_type": "code",
   "execution_count": null,
   "id": "fabdb68d",
   "metadata": {},
   "outputs": [],
   "source": [
    "21 - 12 - 6 - 3"
   ]
  },
  {
   "cell_type": "code",
   "execution_count": null,
   "id": "81630054",
   "metadata": {},
   "outputs": [],
   "source": [
    "12 + 6 + 3"
   ]
  },
  {
   "cell_type": "code",
   "execution_count": 19,
   "id": "859635c7",
   "metadata": {},
   "outputs": [],
   "source": [
    "mat2 = np.random.randint(-5, 6, size=(3, 3))"
   ]
  },
  {
   "cell_type": "code",
   "execution_count": 21,
   "id": "625372f8",
   "metadata": {},
   "outputs": [
    {
     "data": {
      "text/plain": [
       "36"
      ]
     },
     "execution_count": 21,
     "metadata": {},
     "output_type": "execute_result"
    }
   ],
   "source": [
    "21 + 27 - 12"
   ]
  },
  {
   "cell_type": "code",
   "execution_count": 60,
   "id": "97a827f3",
   "metadata": {},
   "outputs": [],
   "source": [
    "mat3 = gen(100, 100)"
   ]
  },
  {
   "cell_type": "code",
   "execution_count": 55,
   "id": "d389cf7f",
   "metadata": {},
   "outputs": [
    {
     "data": {
      "text/plain": [
       "True"
      ]
     },
     "execution_count": 55,
     "metadata": {},
     "output_type": "execute_result"
    }
   ],
   "source": [
    "Oe(mat3) == Od(mat3)"
   ]
  },
  {
   "cell_type": "code",
   "execution_count": 61,
   "id": "0bac9dda",
   "metadata": {},
   "outputs": [
    {
     "data": {
      "text/plain": [
       "(25502500, 29480890000, 29480890000)"
      ]
     },
     "execution_count": 61,
     "metadata": {},
     "output_type": "execute_result"
    }
   ],
   "source": [
    "O(*mat3.shape), Oe(mat3), Od(mat3)"
   ]
  },
  {
   "cell_type": "code",
   "execution_count": 59,
   "id": "83c95cc0",
   "metadata": {},
   "outputs": [
    {
     "data": {
      "text/plain": [
       "120785000"
      ]
     },
     "execution_count": 59,
     "metadata": {},
     "output_type": "execute_result"
    }
   ],
   "source": [
    "(2371600 + 44100) * 50"
   ]
  },
  {
   "cell_type": "code",
   "execution_count": null,
   "id": "463d7c52",
   "metadata": {},
   "outputs": [],
   "source": []
  }
 ],
 "metadata": {
  "kernelspec": {
   "display_name": "Python 3 (ipykernel)",
   "language": "python",
   "name": "python3"
  },
  "language_info": {
   "codemirror_mode": {
    "name": "ipython",
    "version": 3
   },
   "file_extension": ".py",
   "mimetype": "text/x-python",
   "name": "python",
   "nbconvert_exporter": "python",
   "pygments_lexer": "ipython3",
   "version": "3.10.4"
  }
 },
 "nbformat": 4,
 "nbformat_minor": 5
}
