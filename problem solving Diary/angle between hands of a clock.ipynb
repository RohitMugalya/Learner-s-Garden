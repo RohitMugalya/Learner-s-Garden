{
 "cells": [
  {
   "cell_type": "code",
   "execution_count": 71,
   "id": "dfd9cb4e",
   "metadata": {},
   "outputs": [],
   "source": [
    "def angle(h, m):\n",
    "    min_hand = m - (h%12) * 5\n",
    "    return min_hand * 6 - m/2"
   ]
  },
  {
   "cell_type": "code",
   "execution_count": 72,
   "id": "592c9ab2",
   "metadata": {},
   "outputs": [
    {
     "data": {
      "text/plain": [
       "-152.5"
      ]
     },
     "execution_count": 72,
     "metadata": {},
     "output_type": "execute_result"
    }
   ],
   "source": [
    "angle(6, 5)"
   ]
  },
  {
   "cell_type": "code",
   "execution_count": 73,
   "id": "882db605",
   "metadata": {},
   "outputs": [
    {
     "data": {
      "text/plain": [
       "-7.5"
      ]
     },
     "execution_count": 73,
     "metadata": {},
     "output_type": "execute_result"
    }
   ],
   "source": [
    "angle(3, 15)"
   ]
  },
  {
   "cell_type": "code",
   "execution_count": 74,
   "id": "5d2be109",
   "metadata": {},
   "outputs": [
    {
     "data": {
      "text/plain": [
       "324.5"
      ]
     },
     "execution_count": 74,
     "metadata": {},
     "output_type": "execute_result"
    }
   ],
   "source": [
    "angle(12, 59)"
   ]
  },
  {
   "cell_type": "code",
   "execution_count": 75,
   "id": "c0989260",
   "metadata": {},
   "outputs": [
    {
     "data": {
      "text/plain": [
       "75.0"
      ]
     },
     "execution_count": 75,
     "metadata": {},
     "output_type": "execute_result"
    }
   ],
   "source": [
    "angle(3, 30)"
   ]
  },
  {
   "cell_type": "code",
   "execution_count": null,
   "id": "37a7edac",
   "metadata": {},
   "outputs": [],
   "source": []
  },
  {
   "cell_type": "code",
   "execution_count": null,
   "id": "9d9ccb61",
   "metadata": {},
   "outputs": [],
   "source": []
  }
 ],
 "metadata": {
  "kernelspec": {
   "display_name": "Python 3 (ipykernel)",
   "language": "python",
   "name": "python3"
  },
  "language_info": {
   "codemirror_mode": {
    "name": "ipython",
    "version": 3
   },
   "file_extension": ".py",
   "mimetype": "text/x-python",
   "name": "python",
   "nbconvert_exporter": "python",
   "pygments_lexer": "ipython3",
   "version": "3.10.4"
  }
 },
 "nbformat": 4,
 "nbformat_minor": 5
}
