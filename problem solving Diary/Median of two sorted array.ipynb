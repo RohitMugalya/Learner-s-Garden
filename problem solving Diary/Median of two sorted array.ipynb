{
 "cells": [
  {
   "cell_type": "code",
   "execution_count": 5,
   "id": "f7c405e6",
   "metadata": {},
   "outputs": [],
   "source": [
    "import random"
   ]
  },
  {
   "cell_type": "code",
   "execution_count": 13,
   "id": "0decaf4c",
   "metadata": {},
   "outputs": [],
   "source": [
    "def findMedianSorted(nums1: list[int], nums2: list[int]) -> float:\n",
    "    print(f\"{nums1}    {nums2}\")\n",
    "    nums = sorted(nums1 + nums2)\n",
    "    print(f\"{nums}\")\n",
    "    n = len(nums) // 2\n",
    "    print((nums[n] + nums[~n]) / 2)\n",
    "\n",
    "def sampleTest(k, start=1, stop=9):\n",
    "    nums1 = random.sample(range(start, stop + 1), k=k)\n",
    "    nums2 = random.sample(range(start, stop + 1), k=k)\n",
    "    return sorted(nums1), sorted(nums2)\n",
    "\n",
    "def mIdx(n):\n",
    "    k = n // 2\n",
    "    return n + ~k, k"
   ]
  },
  {
   "cell_type": "code",
   "execution_count": 7,
   "id": "40844725",
   "metadata": {},
   "outputs": [
    {
     "name": "stdout",
     "output_type": "stream",
     "text": [
      "[1, 3, 8]    [2, 4, 9]\n",
      "[1, 2, 3, 4, 8, 9]\n",
      "3.5\n"
     ]
    }
   ],
   "source": [
    "n1 = [1, 3, 8]\n",
    "n2 = [2, 4, 9]\n",
    "findMedianSorted(n1, n2)"
   ]
  },
  {
   "cell_type": "code",
   "execution_count": 8,
   "id": "213aeeb5",
   "metadata": {},
   "outputs": [
    {
     "name": "stdout",
     "output_type": "stream",
     "text": [
      "[1, 2, 3]    [4, 5, 6]\n",
      "[1, 2, 3, 4, 5, 6]\n",
      "3.5\n"
     ]
    }
   ],
   "source": [
    "n1 = [1, 2, 3]\n",
    "n2 = [4, 5, 6]\n",
    "findMedianSorted(n1, n2)"
   ]
  },
  {
   "cell_type": "code",
   "execution_count": 9,
   "id": "e70ffe2b",
   "metadata": {},
   "outputs": [
    {
     "name": "stdout",
     "output_type": "stream",
     "text": [
      "[3, 4, 5, 7, 8]    [1, 2, 3, 4, 5]\n",
      "[1, 2, 3, 3, 4, 4, 5, 5, 7, 8]\n",
      "4.0\n"
     ]
    }
   ],
   "source": [
    "n1, n2 = sampleTest(5)\n",
    "findMedianSorted(n1, n2)"
   ]
  },
  {
   "cell_type": "code",
   "execution_count": 10,
   "id": "22e063a7",
   "metadata": {},
   "outputs": [
    {
     "data": {
      "text/plain": [
       "([3, 4, 5, 7, 8], [1, 2, 3, 4, 5])"
      ]
     },
     "execution_count": 10,
     "metadata": {},
     "output_type": "execute_result"
    }
   ],
   "source": [
    "n1, n2"
   ]
  },
  {
   "cell_type": "code",
   "execution_count": 16,
   "id": "f26f8510",
   "metadata": {},
   "outputs": [
    {
     "data": {
      "text/plain": [
       "False"
      ]
     },
     "execution_count": 16,
     "metadata": {},
     "output_type": "execute_result"
    }
   ],
   "source": [
    "nLeft = 0\n",
    "nRight = 0"
   ]
  },
  {
   "cell_type": "code",
   "execution_count": 19,
   "id": "9c24c589",
   "metadata": {},
   "outputs": [
    {
     "data": {
      "text/plain": [
       "(4, 5)"
      ]
     },
     "execution_count": 19,
     "metadata": {},
     "output_type": "execute_result"
    }
   ],
   "source": [
    "mIdx(10)"
   ]
  },
  {
   "cell_type": "code",
   "execution_count": 18,
   "id": "90c9ef32",
   "metadata": {},
   "outputs": [
    {
     "data": {
      "text/plain": [
       "(3, 3)"
      ]
     },
     "execution_count": 18,
     "metadata": {},
     "output_type": "execute_result"
    }
   ],
   "source": [
    "nLeft, nRight"
   ]
  },
  {
   "cell_type": "code",
   "execution_count": 20,
   "id": "60da1f26",
   "metadata": {},
   "outputs": [
    {
     "data": {
      "text/plain": [
       "[0, 1, 2, 3, 4, 4, 5, 5, 7, 8]"
      ]
     },
     "execution_count": 20,
     "metadata": {},
     "output_type": "execute_result"
    }
   ],
   "source": [
    "sorted([0, 4, 5, 7, 8] + [1, 2, 3, 4, 5])"
   ]
  },
  {
   "cell_type": "code",
   "execution_count": 22,
   "id": "f59372f9",
   "metadata": {},
   "outputs": [
    {
     "name": "stdout",
     "output_type": "stream",
     "text": [
      "[0, 4, 5, 7, 8]    [1, 2, 3, 4, 5]\n",
      "[0, 1, 2, 3, 4, 4, 5, 5, 7, 8]\n",
      "4.0\n"
     ]
    }
   ],
   "source": [
    "findMedianSorted([0, 4, 5, 7, 8], [1, 2, 3, 4, 5])"
   ]
  },
  {
   "cell_type": "code",
   "execution_count": 23,
   "id": "f30ae535",
   "metadata": {},
   "outputs": [
    {
     "data": {
      "text/plain": [
       "(4, 5)"
      ]
     },
     "execution_count": 23,
     "metadata": {},
     "output_type": "execute_result"
    }
   ],
   "source": [
    "mIdx(10)"
   ]
  },
  {
   "cell_type": "code",
   "execution_count": null,
   "id": "ce44b9a1",
   "metadata": {},
   "outputs": [],
   "source": []
  }
 ],
 "metadata": {
  "kernelspec": {
   "display_name": "Python 3 (ipykernel)",
   "language": "python",
   "name": "python3"
  },
  "language_info": {
   "codemirror_mode": {
    "name": "ipython",
    "version": 3
   },
   "file_extension": ".py",
   "mimetype": "text/x-python",
   "name": "python",
   "nbconvert_exporter": "python",
   "pygments_lexer": "ipython3",
   "version": "3.10.4"
  }
 },
 "nbformat": 4,
 "nbformat_minor": 5
}
