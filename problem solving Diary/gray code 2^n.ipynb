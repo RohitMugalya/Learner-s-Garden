{
 "cells": [
  {
   "cell_type": "raw",
   "id": "aba8514a",
   "metadata": {},
   "source": [
    "1: [0,1]\n",
    "2: [0,1,3,2]\n",
    "3: [0,1,3,2,6,7,5,4]\n",
    "4: [0,1,3,2,6,7,5,4,12,13,15,14,10,11,9,8]\n",
    "5: [0,1,3,2,6,7,5,4,12,13,15,14,10,11,9,8,24,25,27,26,30,31,29,28,20,21,23,22,18,19,17,16]"
   ]
  },
  {
   "cell_type": "code",
   "execution_count": 9,
   "id": "42a1d03c",
   "metadata": {},
   "outputs": [],
   "source": [
    "def print_bin(n: int) -> int:\n",
    "    for i in range(0, 2 ** n):    #  [0, 2^n - 1]\n",
    "        b = int(bin(i)[2:])\n",
    "        print(f\"{i}  {b:02}\")"
   ]
  },
  {
   "cell_type": "code",
   "execution_count": 10,
   "id": "8a29b49b",
   "metadata": {},
   "outputs": [
    {
     "name": "stdout",
     "output_type": "stream",
     "text": [
      "0  00\n",
      "1  01\n",
      "2  10\n",
      "3  11\n"
     ]
    }
   ],
   "source": [
    "print_bin(2)"
   ]
  },
  {
   "cell_type": "code",
   "execution_count": 13,
   "id": "3835009c",
   "metadata": {},
   "outputs": [
    {
     "data": {
      "text/plain": [
       "dict_values([2, 4, 8, 16, 32])"
      ]
     },
     "execution_count": 13,
     "metadata": {},
     "output_type": "execute_result"
    }
   ],
   "source": [
    "d = {1: [0, 1], 2: [0, 1, 3, 2], 3: [0, 1, 3, 2, 6, 7, 5, 4], 4: [0, 1, 3, 2, 6, 7, 5, 4, 12, 13, 15, 14, 10, 11, 9, 8], 5: [0, 1, 3, 2, 6, 7, 5, 4, 12, 13, 15, 14, 10, 11, 9, 8, 24, 25, 27, 26, 30, 31, 29, 28, 20, 21, 23, 22, 18, 19, 17, 16]}\n",
    "{i: len(d[i]) for i in d}.values()"
   ]
  },
  {
   "cell_type": "raw",
   "id": "20f6f6d0",
   "metadata": {},
   "source": [
    "1: [0, 1]\n",
    "2: [0, 1, 3, 2]\n",
    "3: [0, 1, 3, 2, 6, 7, 5, 4]\n",
    "4: [0, 1, 3, 2, 6, 7, 5, 4, 12, 13, 15, 14, 10, 11, 9, 8]\n",
    "5: [0, 1, 3, 2, 6, 7, 5, 4, 12, 13, 15, 14, 10, 11, 9, 8, 24, 25, 27, 26, 30, 31, 29, 28, 20, 21, 23, 22, 18, 19, 17, 16]\n",
    "\n",
    "\n",
    "\n",
    "3 6 5"
   ]
  },
  {
   "cell_type": "code",
   "execution_count": null,
   "id": "5ab33d1d",
   "metadata": {},
   "outputs": [],
   "source": []
  }
 ],
 "metadata": {
  "kernelspec": {
   "display_name": "Python 3 (ipykernel)",
   "language": "python",
   "name": "python3"
  },
  "language_info": {
   "codemirror_mode": {
    "name": "ipython",
    "version": 3
   },
   "file_extension": ".py",
   "mimetype": "text/x-python",
   "name": "python",
   "nbconvert_exporter": "python",
   "pygments_lexer": "ipython3",
   "version": "3.10.4"
  }
 },
 "nbformat": 4,
 "nbformat_minor": 5
}
