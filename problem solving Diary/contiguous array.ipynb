{
 "cells": [
  {
   "cell_type": "code",
   "execution_count": 1,
   "id": "039d64c0",
   "metadata": {},
   "outputs": [],
   "source": [
    "import numpy as np\n",
    "from collections import Counter"
   ]
  },
  {
   "cell_type": "code",
   "execution_count": 2,
   "id": "636267fa",
   "metadata": {},
   "outputs": [],
   "source": [
    "def generate_array(n):\n",
    "    return np.random.randint(0, 2, size=n).tolist()\n",
    "\n",
    "def brute_force(nums: list[int]):\n",
    "    binary = Counter(nums)\n",
    "    print(f\"0: {binary[0]}\")\n",
    "    print(f\"1: {binary[1]}\")\n",
    "    n = len(nums)\n",
    "    counts = [len(nums[j:i + j])\n",
    "              for i in range(1, n + 1)\n",
    "              for j in range(n - i + 1)\n",
    "              if nums[j:i + j].count(0) == nums[j:i + j].count(1)]\n",
    "\n",
    "    print(max(counts))"
   ]
  },
  {
   "cell_type": "code",
   "execution_count": 3,
   "id": "5f02ea2c",
   "metadata": {},
   "outputs": [
    {
     "name": "stdout",
     "output_type": "stream",
     "text": [
      "0: 9\n",
      "1: 6\n",
      "10\n"
     ]
    }
   ],
   "source": [
    "lst1 = [1, 1, 1, 0, 0, 0, 1, 1, 0, 0, 0, 0, 0, 0, 1]\n",
    "brute_force(lst1)"
   ]
  },
  {
   "cell_type": "code",
   "execution_count": 4,
   "id": "505c5cf6",
   "metadata": {},
   "outputs": [
    {
     "data": {
      "text/plain": [
       "[1, 0, 1, 0, 0, 0, 0, 1, 1, 0]"
      ]
     },
     "execution_count": 4,
     "metadata": {},
     "output_type": "execute_result"
    }
   ],
   "source": [
    "lst2 = generate_array(10)\n",
    "lst2"
   ]
  },
  {
   "cell_type": "code",
   "execution_count": 5,
   "id": "6be62f22",
   "metadata": {},
   "outputs": [
    {
     "name": "stdout",
     "output_type": "stream",
     "text": [
      "0: 6\n",
      "1: 4\n",
      "4\n"
     ]
    }
   ],
   "source": [
    "brute_force(lst2)"
   ]
  },
  {
   "cell_type": "code",
   "execution_count": 16,
   "id": "b02b0857",
   "metadata": {},
   "outputs": [
    {
     "data": {
      "text/plain": [
       "[0, 1, 1, 0, 0, 0, 0]"
      ]
     },
     "execution_count": 16,
     "metadata": {},
     "output_type": "execute_result"
    }
   ],
   "source": [
    "lst3 = [0, 1, 1, 0, 0, 0, 0]\n",
    "lst3"
   ]
  },
  {
   "cell_type": "code",
   "execution_count": 17,
   "id": "f4187a6f",
   "metadata": {},
   "outputs": [
    {
     "name": "stdout",
     "output_type": "stream",
     "text": [
      "0: 5\n",
      "1: 2\n",
      "4\n"
     ]
    }
   ],
   "source": [
    "brute_force(lst3)"
   ]
  },
  {
   "cell_type": "code",
   "execution_count": 19,
   "id": "df01ea2a",
   "metadata": {},
   "outputs": [
    {
     "name": "stdout",
     "output_type": "stream",
     "text": [
      "[0, 0, 1, 0, 0, 0, 1, 1]\n",
      "\n",
      "0: 5\n",
      "1: 3\n",
      "6\n"
     ]
    }
   ],
   "source": [
    "lst4 = [0, 0, 1, 0, 0, 0, 1, 1]\n",
    "print(lst4)\n",
    "print()\n",
    "brute_force(lst4)"
   ]
  },
  {
   "cell_type": "code",
   "execution_count": 20,
   "id": "11702c00",
   "metadata": {},
   "outputs": [
    {
     "name": "stdout",
     "output_type": "stream",
     "text": [
      "[0, 0, 1, 0, 0, 0, 0, 0]\n",
      "\n",
      "0: 7\n",
      "1: 1\n",
      "2\n"
     ]
    }
   ],
   "source": [
    "lst5 = [0, 0, 1, 0, 0, 0, 0, 0]\n",
    "print(lst5)\n",
    "print()\n",
    "brute_force(lst5)"
   ]
  },
  {
   "cell_type": "code",
   "execution_count": 21,
   "id": "dd75ef79",
   "metadata": {},
   "outputs": [
    {
     "name": "stdout",
     "output_type": "stream",
     "text": [
      "[0, 1, 0, 1, 1, 1, 0, 0, 1, 1, 0, 1, 1, 1, 1, 1, 1, 0, 1, 1, 0, 1, 1, 0, 0, 0, 1, 0, 1, 0, 0, 1, 0, 1, 1, 1, 1, 1, 1, 0, 0, 0, 0, 1, 0, 0, 0, 1, 1, 1, 0, 1, 0, 0, 1, 1, 1, 1, 1, 0, 0, 1, 1, 1, 1, 0, 0, 1, 0, 1, 1, 0, 0, 0, 0, 0, 0, 1, 0, 1, 0, 1, 1, 0, 0, 1, 1, 0, 1, 1, 1, 1, 0, 1, 1, 0, 0, 0, 1, 1]\n",
      "\n",
      "0: 44\n",
      "1: 56\n",
      "68\n"
     ]
    }
   ],
   "source": [
    "lst6 = [0,1,0,1,1,1,0,0,1,1,0,1,1,1,1,1,1,0,1,1,0,1,1,0,0,0,1,0,1,0,0,1,0,1,1,1,1,1,1,0,0,0,0,1,0,0,0,1,1,1,0,1,0,0,1,1,1,1,1,0,0,1,1,1,1,0,0,1,0,1,1,0,0,0,0,0,0,1,0,1,0,1,1,0,0,1,1,0,1,1,1,1,0,1,1,0,0,0,1,1]\n",
    "print(lst6)\n",
    "print()\n",
    "brute_force(lst6)"
   ]
  },
  {
   "cell_type": "code",
   "execution_count": 34,
   "id": "77e44341",
   "metadata": {},
   "outputs": [
    {
     "name": "stdout",
     "output_type": "stream",
     "text": [
      "[1, 1, 0, 1, 1, 1, 0, 0, 1]\n",
      "\n",
      "0: 3\n",
      "1: 6\n",
      "6\n"
     ]
    }
   ],
   "source": [
    "lst7 = [1, 1, 0, 1, 1, 1, 0, 0, 1]\n",
    "print(lst7)\n",
    "print()\n",
    "brute_force(lst7)"
   ]
  },
  {
   "cell_type": "code",
   "execution_count": null,
   "id": "7efd1374",
   "metadata": {},
   "outputs": [],
   "source": []
  }
 ],
 "metadata": {
  "kernelspec": {
   "display_name": "Python 3 (ipykernel)",
   "language": "python",
   "name": "python3"
  },
  "language_info": {
   "codemirror_mode": {
    "name": "ipython",
    "version": 3
   },
   "file_extension": ".py",
   "mimetype": "text/x-python",
   "name": "python",
   "nbconvert_exporter": "python",
   "pygments_lexer": "ipython3",
   "version": "3.11.5"
  }
 },
 "nbformat": 4,
 "nbformat_minor": 5
}
